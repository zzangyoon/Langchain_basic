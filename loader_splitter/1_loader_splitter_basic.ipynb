{
 "cells": [
  {
   "cell_type": "markdown",
   "id": "8c5d30b0",
   "metadata": {},
   "source": [
    "# 다양한 splitter 사용해보기"
   ]
  },
  {
   "cell_type": "markdown",
   "id": "a697d038",
   "metadata": {},
   "source": [
    "## 1. 문서로드"
   ]
  },
  {
   "cell_type": "code",
   "execution_count": 1,
   "id": "9ce60692",
   "metadata": {},
   "outputs": [],
   "source": [
    "from langchain_community.document_loaders import PyPDFLoader"
   ]
  },
  {
   "cell_type": "code",
   "execution_count": 2,
   "id": "ec11e646",
   "metadata": {},
   "outputs": [
    {
     "name": "stdout",
     "output_type": "stream",
     "text": [
      "문서로드 중\n"
     ]
    }
   ],
   "source": [
    "file_path = \"../data/Sustainability_report_2024_kr.pdf\"\n",
    "\n",
    "print(\"문서로드 중\")\n",
    "\n",
    "loader = PyPDFLoader(file_path)\n",
    "docs = loader.load()"
   ]
  },
  {
   "cell_type": "markdown",
   "id": "6645673b",
   "metadata": {},
   "source": [
    "## 2. token 비교"
   ]
  },
  {
   "cell_type": "code",
   "execution_count": null,
   "id": "a3af002d",
   "metadata": {},
   "outputs": [
    {
     "data": {
      "text/plain": [
       "['gpt2',\n",
       " 'r50k_base',\n",
       " 'p50k_base',\n",
       " 'p50k_edit',\n",
       " 'cl100k_base',\n",
       " 'o200k_base',\n",
       " 'o200k_harmony']"
      ]
     },
     "execution_count": 4,
     "metadata": {},
     "output_type": "execute_result"
    }
   ],
   "source": [
    "import tiktoken\n",
    "tiktoken.list_encoding_names()"
   ]
  },
  {
   "cell_type": "code",
   "execution_count": 6,
   "id": "ec7c1ea9",
   "metadata": {},
   "outputs": [],
   "source": [
    "# 어떤 모델을 쓰는가에 따라 토큰 비교\n",
    "encoding = tiktoken.encoding_for_model(\"gpt-4.1-mini\")"
   ]
  },
  {
   "cell_type": "code",
   "execution_count": 7,
   "id": "d01c228d",
   "metadata": {},
   "outputs": [
    {
     "data": {
      "text/plain": [
       "[14307, 171731, 180115, 11, 70135, 85638, 119515, 27001]"
      ]
     },
     "execution_count": 7,
     "metadata": {},
     "output_type": "execute_result"
    }
   ],
   "source": [
    "text = \"안녕하세요 여러분, 좋은 월요일입니다\"\n",
    "encoding.encode(text)"
   ]
  },
  {
   "cell_type": "code",
   "execution_count": 8,
   "id": "957af8a0",
   "metadata": {},
   "outputs": [
    {
     "data": {
      "text/plain": [
       "8"
      ]
     },
     "execution_count": 8,
     "metadata": {},
     "output_type": "execute_result"
    }
   ],
   "source": [
    "len(encoding.encode(text))"
   ]
  },
  {
   "cell_type": "markdown",
   "id": "bb372da5",
   "metadata": {},
   "source": [
    "## 3. splitter 종류 테스트"
   ]
  },
  {
   "cell_type": "code",
   "execution_count": 10,
   "id": "573438e8",
   "metadata": {},
   "outputs": [],
   "source": [
    "from langchain_core.documents import Document\n",
    "from langchain_text_splitters import CharacterTextSplitter, RecursiveCharacterTextSplitter, TokenTextSplitter"
   ]
  },
  {
   "cell_type": "code",
   "execution_count": null,
   "id": "59eecfcc",
   "metadata": {},
   "outputs": [],
   "source": [
    "char_splitter = CharacterTextSplitter(          # 말한 곳까지만 자르기\n",
    "    chunk_size = 1000,\n",
    "    chunk_overlap = 100\n",
    ")\n",
    "rec_splitter = RecursiveCharacterTextSplitter(  # 말한 앞뒤로 자르기\n",
    "    chunk_size = 1000,\n",
    "    chunk_overlap = 100\n",
    ")\n",
    "token_splitter = TokenTextSplitter(             # 댕강 자르기\n",
    "    chunk_size = 1000,\n",
    "    chunk_overlap = 100\n",
    ")"
   ]
  },
  {
   "cell_type": "code",
   "execution_count": 12,
   "id": "6fd43273",
   "metadata": {},
   "outputs": [
    {
     "data": {
      "text/plain": [
       "82"
      ]
     },
     "execution_count": 12,
     "metadata": {},
     "output_type": "execute_result"
    }
   ],
   "source": [
    "char_chunk = char_splitter.split_documents(docs)\n",
    "len(char_chunk)"
   ]
  },
  {
   "cell_type": "code",
   "execution_count": 17,
   "id": "5fa67087",
   "metadata": {},
   "outputs": [
    {
     "data": {
      "text/plain": [
       "Document(metadata={'producer': 'Adobe PDF Library 15.0', 'creator': 'Adobe InDesign 15.1 (Macintosh)', 'creationdate': '2024-11-25T11:10:32+09:00', 'moddate': '2024-11-25T11:10:46+09:00', 'trapped': '/False', 'source': '../data/Sustainability_report_2024_kr.pdf', 'total_pages': 83, 'page': 4, 'page_label': '5'}, page_content='삼성전자 지속가능경영보고서 2024\\n05\\nOur Company AppendixMateriality Assessment Facts & Figures PrinciplePlanet People\\n회사소개\\nAbout Us\\n삼성전자주식회사(이하 삼성전자)는 인재와 기술을 바탕으로 최고의 제품과 서비스를 창출하여 인류사회에 공헌하는 글로벌 초일류기업을 지향합니다. \\n이를 위해 삼성전자의 경영철학을 반영한 5가지 핵심가치 를 수립하였고, 핵심가치를 세부원칙과 행동지침 으로 구체화하여 삼성전자 임직원이 \\n지켜야 할 글로벌 행동규범(Global Code of Conduct) 을 제정하였습니다. 삼성전자는 조직문화에 5가지 핵심가치를 내재화하고 글로벌 행동규범을 \\n모든 경영활동의 기준으로 삼아 지속적으로 성장해갈 것입니다. \\n사업부문 및 글로벌 네트워크 소개\\n삼성전자는 제품 특성에 따라 DX(Device eXperience)와 DS(Device Solutions) 2개 부문으로 나뉘어 독립적으로 운영되고 있습니다. DX부문은 \\n스마트폰, 네트워크 시스템, 컴퓨터, TV, 냉장고, 세탁기, 에어컨, 의료기기 등 완제품을 생산/판매하고 있으며, DS부문은 메모리 반도체 사업, Foundry \\n사업, System LSI 사업으로 구성되어 DRAM, NAND Flash, 모바일AP 등의 반도체 부품을 생산/판매하고 있습니다. 삼성전자는 2023년 말 기준 전 \\n세계에 232개의 생산거점, 판매거점, R&D 센터, 디자인 센터를 보유하고 있습니다.\\n Our Company\\n매출\\n169조 9,923억 원\\n영업이익\\n14조 3,847억 원 네트워크\\nMobile eXperience 영상디스플레이 생활가전\\n의료기기\\n매출\\n66조 5,945억 원\\n영업이익\\n△14조 8,795억 원\\nFoundry System LSI\\n주요 사업부\\nDevice eXperienceDX\\nDS Device Solutions\\n메모리\\n※ 상기 매출과 영업이익은 2023년 실적을 기준으로, SDC, Harman을 제외하고 작성했습니다.\\n지역총괄\\n1)\\n판매거점\\n2)\\n생산거점 구매 센터\\n15 109 32 6\\n1) 내부관리 기준에 따른 지역구분  2) 판매법인, 지점 등  3) 물류법인, IP 오피스 등  4) 당사 제품 생산용 부품을 공급하는 기업 \\n임직원 267 ,860명 연구개발비 28.3조 원운영국가 76개국협력회사\\n4)\\n 2,515개\\nR&D 센터 디자인 센터 기타\\n 3)\\n합계\\n40 7 23 232')"
      ]
     },
     "execution_count": 17,
     "metadata": {},
     "output_type": "execute_result"
    }
   ],
   "source": [
    "char_chunk[4]"
   ]
  },
  {
   "cell_type": "code",
   "execution_count": 14,
   "id": "eb8594b5",
   "metadata": {},
   "outputs": [
    {
     "data": {
      "text/plain": [
       "207"
      ]
     },
     "execution_count": 14,
     "metadata": {},
     "output_type": "execute_result"
    }
   ],
   "source": [
    "rec_chunk = rec_splitter.split_documents(docs)\n",
    "len(rec_chunk)"
   ]
  },
  {
   "cell_type": "code",
   "execution_count": 19,
   "id": "989670ac",
   "metadata": {},
   "outputs": [
    {
     "data": {
      "text/plain": [
       "Document(metadata={'producer': 'Adobe PDF Library 15.0', 'creator': 'Adobe InDesign 15.1 (Macintosh)', 'creationdate': '2024-11-25T11:10:32+09:00', 'moddate': '2024-11-25T11:10:46+09:00', 'trapped': '/False', 'source': '../data/Sustainability_report_2024_kr.pdf', 'total_pages': 83, 'page': 3, 'page_label': '4'}, page_content=\"대한 관심 또한 지속 고조되고 있습니다. \\n삼성전자는 이러한 추세에 맞춰 지속가능한 미래를 위한 노력을 계속해 \\n왔습니다. 2050년 탄소중립을 통해 글로벌 기후위기 극복 노력에 \\n동참하고, 자원의 순환성을 극대화하여 순환경제 구축 에 기여하며, \\n기술혁신을 통해 환경난제 해결에 도전하는 내용의 '新환경경영전략'을 \\n2022년 9월에 발표하였습니다. \\n2030년 탄소중립을 목표로 하는 DX부문에서는 미국, 유럽, 중국에 이어 \\n한국, 베트남, 인도, 브라 질을 포함한 글로벌 주요 제조사업장의 사용 \\n전력을 재생에너지로 100% 전환하였으며, 2023년말 기준, 총 93.4%\\n의 재생에너지 전환 실적을 기록하였습니다. 또한 자원순환형 소재 확대 \\n로드맵에 맞춰, 당사가 구매한 제품 내 플라스틱 부품 25%에 재생레진을 \\n적용하였습니다. \\nDS부문에서는 2050년 탄소중립 달성을 위해 2023년 공정가스 처리시설\\n(RCS) 16대를 4개 라인에 신규 설치하고, LNG 폐열 회수 시스템을 확대 \\n적용하여 온실가스 배출 저감을 위해 노력했습니다. 또한 2030년까지 \\n용수 취수량을 2021년 수준으로 절 감하는 것을 목 표로 하고 있으며, \\n국제수자원관리동맹(AWS)으로부터 기흥/화성, 평택, 중국 시안 사업장에 \\n대해 최고 등급인 ' 플래티넘' 인증을 획득하여 수자원 관리 체계의 \\n우수성을 입증 받았습니다. 아울러, 폐기물 발생량 저감을 위해 2024년 \\n3월, 웨이퍼박스 등 9건에 대해 환경부 순환자원 인정을 추가 취득하여 \\n현재까지 총 49건을 순환자원으로 인정받았고 매년 품목을 확대해나가고 \\n있습니다.\\n사회 분야에서는 지난 2023년 2월 발표한 글로벌 인권원칙에 연계하여, \\n글로벌 고충처리 정책 을 2024년 4월 제정, 고충  접수 채널 운영과 \\n접수된 고충의 처리 원칙에 대한 기준을 수립하였고, 공급망 관리에 \\n있어서는 비제조 분야 및 리스크 분석에 따라 제조 분야 2차 협력회사로\")"
      ]
     },
     "execution_count": 19,
     "metadata": {},
     "output_type": "execute_result"
    }
   ],
   "source": [
    "rec_chunk[4]"
   ]
  },
  {
   "cell_type": "code",
   "execution_count": 15,
   "id": "949144a4",
   "metadata": {},
   "outputs": [
    {
     "data": {
      "text/plain": [
       "340"
      ]
     },
     "execution_count": 15,
     "metadata": {},
     "output_type": "execute_result"
    }
   ],
   "source": [
    "token_chunk = token_splitter.split_documents(docs)\n",
    "len(token_chunk)"
   ]
  },
  {
   "cell_type": "code",
   "execution_count": 21,
   "id": "6620cd38",
   "metadata": {},
   "outputs": [
    {
     "data": {
      "text/plain": [
       "'삼성전자 지속가능경영보고서 2024\\n04\\nOur Company AppendixMateriality Assessment Facts & Figures PrinciplePlanet People\\nCEO 메시지\\nMessage from \\nOur CEO\\n주주, 고객, 협력회사, 그리고 임직원 여러분,\\n2023년은 고금리와 인플레이션, 지정학적 이슈 등 매우 불확실한 \\n거시경제 환경과 함께, 메모리 산업 부진과 다양한 제품군에서의 경쟁 \\n심화로 삼성전자에게 매우 어려운 한 해였습니다. 이토록 대내외적으로 \\n어려운 환경에서도 지속 성장의 기반 마련을 위해 역대 최고 수준의 28.3\\n조원을 연구개발에 투자하고, 53.1조원 수준의 전략적 시설투자로 기술 \\n리더십을 강화하며 중장기 수요에 미리 대응할 수 있었던 것은 삼성전자를 \\n아껴주시는 이해관계자 여러분의 관심과 격려 덕분입니다. 다시 한 번 \\n깊이 감사 드립니다.\\n급격한 변화를 겪고 있는 경제 상황에 맞춰, 기업의 지속가능경영 \\n분야에서도 많은 변화가 일어나고 있습니다. 특히 기업의 지속가능경영 \\n활동 정보 공개는 글로벌 비재무정보 공시 제도의 확산에 맞춰, 새�'"
      ]
     },
     "execution_count": 21,
     "metadata": {},
     "output_type": "execute_result"
    }
   ],
   "source": [
    "token_chunk[3].page_content"
   ]
  },
  {
   "cell_type": "code",
   "execution_count": 22,
   "id": "fac5bf47",
   "metadata": {},
   "outputs": [],
   "source": [
    "rec_chunk[4].metadata[\"test\"] = \"항목 추가\""
   ]
  },
  {
   "cell_type": "code",
   "execution_count": 23,
   "id": "bf5c5d21",
   "metadata": {},
   "outputs": [
    {
     "data": {
      "text/plain": [
       "{'producer': 'Adobe PDF Library 15.0',\n",
       " 'creator': 'Adobe InDesign 15.1 (Macintosh)',\n",
       " 'creationdate': '2024-11-25T11:10:32+09:00',\n",
       " 'moddate': '2024-11-25T11:10:46+09:00',\n",
       " 'trapped': '/False',\n",
       " 'source': '../data/Sustainability_report_2024_kr.pdf',\n",
       " 'total_pages': 83,\n",
       " 'page': 3,\n",
       " 'page_label': '4',\n",
       " 'test': '항목 추가'}"
      ]
     },
     "execution_count": 23,
     "metadata": {},
     "output_type": "execute_result"
    }
   ],
   "source": [
    "rec_chunk[4].metadata"
   ]
  }
 ],
 "metadata": {
  "kernelspec": {
   "display_name": "Langchain_basic",
   "language": "python",
   "name": "python3"
  },
  "language_info": {
   "codemirror_mode": {
    "name": "ipython",
    "version": 3
   },
   "file_extension": ".py",
   "mimetype": "text/x-python",
   "name": "python",
   "nbconvert_exporter": "python",
   "pygments_lexer": "ipython3",
   "version": "3.11.13"
  }
 },
 "nbformat": 4,
 "nbformat_minor": 5
}
