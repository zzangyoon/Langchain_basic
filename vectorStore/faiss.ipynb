{
 "cells": [
  {
   "cell_type": "markdown",
   "id": "3b2d6103",
   "metadata": {},
   "source": [
    "# FAISS DB"
   ]
  },
  {
   "cell_type": "markdown",
   "id": "5263a3bd",
   "metadata": {},
   "source": [
    "## 1. 환경변수 로드"
   ]
  },
  {
   "cell_type": "code",
   "execution_count": 1,
   "id": "eb94e7e7",
   "metadata": {},
   "outputs": [],
   "source": [
    "from dotenv import load_dotenv"
   ]
  },
  {
   "cell_type": "code",
   "execution_count": 2,
   "id": "56a8e0b6",
   "metadata": {},
   "outputs": [
    {
     "data": {
      "text/plain": [
       "True"
      ]
     },
     "execution_count": 2,
     "metadata": {},
     "output_type": "execute_result"
    }
   ],
   "source": [
    "load_dotenv()"
   ]
  },
  {
   "cell_type": "markdown",
   "id": "7975e287",
   "metadata": {},
   "source": [
    "## 2. PDF 문서 로드"
   ]
  },
  {
   "cell_type": "code",
   "execution_count": 3,
   "id": "8d45151a",
   "metadata": {},
   "outputs": [],
   "source": [
    "from langchain_community.document_loaders import PyPDFLoader"
   ]
  },
  {
   "cell_type": "code",
   "execution_count": 4,
   "id": "74068cf9",
   "metadata": {},
   "outputs": [],
   "source": [
    "pdf_docs = PyPDFLoader(\"../data/Sustainability_report_2024_kr.pdf\").load()"
   ]
  },
  {
   "cell_type": "code",
   "execution_count": 5,
   "id": "6f5bfc07",
   "metadata": {},
   "outputs": [
    {
     "data": {
      "text/plain": [
       "83"
      ]
     },
     "execution_count": 5,
     "metadata": {},
     "output_type": "execute_result"
    }
   ],
   "source": [
    "len(pdf_docs)"
   ]
  },
  {
   "cell_type": "markdown",
   "id": "01f4e72f",
   "metadata": {},
   "source": [
    "## 3. Text Splitter"
   ]
  },
  {
   "cell_type": "code",
   "execution_count": 6,
   "id": "cce73652",
   "metadata": {},
   "outputs": [],
   "source": [
    "from langchain_text_splitters import RecursiveCharacterTextSplitter"
   ]
  },
  {
   "cell_type": "code",
   "execution_count": 7,
   "id": "7a8c0ec5",
   "metadata": {},
   "outputs": [
    {
     "data": {
      "text/plain": [
       "207"
      ]
     },
     "execution_count": 7,
     "metadata": {},
     "output_type": "execute_result"
    }
   ],
   "source": [
    "rec_splitter = RecursiveCharacterTextSplitter(\n",
    "    chunk_size = 1000,\n",
    "    chunk_overlap = 100\n",
    ")\n",
    "chunk_docs = rec_splitter.split_documents(pdf_docs)\n",
    "len(chunk_docs)"
   ]
  },
  {
   "cell_type": "code",
   "execution_count": 8,
   "id": "a14d69e3",
   "metadata": {},
   "outputs": [
    {
     "data": {
      "text/plain": [
       "Document(metadata={'producer': 'Adobe PDF Library 15.0', 'creator': 'Adobe InDesign 15.1 (Macintosh)', 'creationdate': '2024-11-25T11:10:32+09:00', 'moddate': '2024-11-25T11:10:46+09:00', 'trapped': '/False', 'source': '../data/Sustainability_report_2024_kr.pdf', 'total_pages': 83, 'page': 0, 'page_label': '1'}, page_content='A Journey Towards  \\na Sustainable Future\\n삼성전자 지속가능경영보고서 2024')"
      ]
     },
     "execution_count": 8,
     "metadata": {},
     "output_type": "execute_result"
    }
   ],
   "source": [
    "chunk_docs[0]"
   ]
  },
  {
   "cell_type": "markdown",
   "id": "667ee5f4",
   "metadata": {},
   "source": [
    "## 4. metadata 수정"
   ]
  },
  {
   "cell_type": "code",
   "execution_count": 9,
   "id": "4745b383",
   "metadata": {},
   "outputs": [],
   "source": [
    "for item in chunk_docs:\n",
    "    item.metadata = {**(item.metadata), \"class\" : \"wanted\"}   # ** : key, val 다 가져오기"
   ]
  },
  {
   "cell_type": "code",
   "execution_count": 10,
   "id": "5ed976d9",
   "metadata": {},
   "outputs": [
    {
     "data": {
      "text/plain": [
       "Document(metadata={'producer': 'Adobe PDF Library 15.0', 'creator': 'Adobe InDesign 15.1 (Macintosh)', 'creationdate': '2024-11-25T11:10:32+09:00', 'moddate': '2024-11-25T11:10:46+09:00', 'trapped': '/False', 'source': '../data/Sustainability_report_2024_kr.pdf', 'total_pages': 83, 'page': 0, 'page_label': '1', 'class': 'wanted'}, page_content='A Journey Towards  \\na Sustainable Future\\n삼성전자 지속가능경영보고서 2024')"
      ]
     },
     "execution_count": 10,
     "metadata": {},
     "output_type": "execute_result"
    }
   ],
   "source": [
    "chunk_docs[0]"
   ]
  },
  {
   "cell_type": "markdown",
   "id": "ccb81e20",
   "metadata": {},
   "source": [
    "## 5. Faiss 벡터 DB 생성"
   ]
  },
  {
   "cell_type": "markdown",
   "id": "5ba7a11e",
   "metadata": {},
   "source": [
    "```\n",
    "uv add faiss-cpu\n",
    "```"
   ]
  },
  {
   "cell_type": "code",
   "execution_count": 11,
   "id": "99ce3261",
   "metadata": {},
   "outputs": [],
   "source": [
    "from langchain_openai.embeddings import OpenAIEmbeddings\n",
    "\n",
    "embeddings = OpenAIEmbeddings(model=\"text-embedding-3-large\")"
   ]
  },
  {
   "cell_type": "code",
   "execution_count": 12,
   "id": "508f849b",
   "metadata": {},
   "outputs": [
    {
     "data": {
      "text/plain": [
       "3072"
      ]
     },
     "execution_count": 12,
     "metadata": {},
     "output_type": "execute_result"
    }
   ],
   "source": [
    "dim_size = len(embeddings.embed_query(\"안녕하세요\"))\n",
    "dim_size\n",
    "# large 모델의 차원수는 3072다"
   ]
  },
  {
   "cell_type": "code",
   "execution_count": 13,
   "id": "0c8a905a",
   "metadata": {},
   "outputs": [
    {
     "data": {
      "text/plain": [
       "Document(metadata={'producer': 'Adobe PDF Library 15.0', 'creator': 'Adobe InDesign 15.1 (Macintosh)', 'creationdate': '2024-11-25T11:10:32+09:00', 'moddate': '2024-11-25T11:10:46+09:00', 'trapped': '/False', 'source': '../data/Sustainability_report_2024_kr.pdf', 'total_pages': 83, 'page': 0, 'page_label': '1', 'class': 'wanted'}, page_content='A Journey Towards  \\na Sustainable Future\\n삼성전자 지속가능경영보고서 2024')"
      ]
     },
     "execution_count": 13,
     "metadata": {},
     "output_type": "execute_result"
    }
   ],
   "source": [
    "chunk_docs[0]"
   ]
  },
  {
   "cell_type": "code",
   "execution_count": 14,
   "id": "66191d98",
   "metadata": {},
   "outputs": [],
   "source": [
    "import faiss\n",
    "from langchain_community.vectorstores import FAISS\n",
    "from langchain_community.docstore.in_memory import InMemoryDocstore"
   ]
  },
  {
   "cell_type": "code",
   "execution_count": 15,
   "id": "160032f8",
   "metadata": {},
   "outputs": [],
   "source": [
    "db = FAISS.from_documents(\n",
    "    # 여기는 문서가 들어감\n",
    "    documents = [chunk_docs[0]],\n",
    "    embedding = embeddings\n",
    "    # , ids = [\"문서 1\"]    # -> 문서 id 지정해주고 싶을때 \n",
    ")"
   ]
  },
  {
   "cell_type": "code",
   "execution_count": 17,
   "id": "82879d1f",
   "metadata": {},
   "outputs": [
    {
     "data": {
      "text/plain": [
       "{0: '00b7e159-e204-4ecd-9b2f-50ab3fae5104'}"
      ]
     },
     "execution_count": 17,
     "metadata": {},
     "output_type": "execute_result"
    }
   ],
   "source": [
    "db.index_to_docstore_id"
   ]
  },
  {
   "cell_type": "code",
   "execution_count": 18,
   "id": "5fdc28a1",
   "metadata": {},
   "outputs": [
    {
     "data": {
      "text/plain": [
       "{'00b7e159-e204-4ecd-9b2f-50ab3fae5104': Document(id='00b7e159-e204-4ecd-9b2f-50ab3fae5104', metadata={'producer': 'Adobe PDF Library 15.0', 'creator': 'Adobe InDesign 15.1 (Macintosh)', 'creationdate': '2024-11-25T11:10:32+09:00', 'moddate': '2024-11-25T11:10:46+09:00', 'trapped': '/False', 'source': '../data/Sustainability_report_2024_kr.pdf', 'total_pages': 83, 'page': 0, 'page_label': '1', 'class': 'wanted'}, page_content='A Journey Towards  \\na Sustainable Future\\n삼성전자 지속가능경영보고서 2024')}"
      ]
     },
     "execution_count": 18,
     "metadata": {},
     "output_type": "execute_result"
    }
   ],
   "source": [
    "db.docstore.__dict__[\"_dict\"]"
   ]
  },
  {
   "cell_type": "code",
   "execution_count": 19,
   "id": "ce7ea6e8",
   "metadata": {},
   "outputs": [
    {
     "data": {
      "text/plain": [
       "[Document(id='00b7e159-e204-4ecd-9b2f-50ab3fae5104', metadata={'producer': 'Adobe PDF Library 15.0', 'creator': 'Adobe InDesign 15.1 (Macintosh)', 'creationdate': '2024-11-25T11:10:32+09:00', 'moddate': '2024-11-25T11:10:46+09:00', 'trapped': '/False', 'source': '../data/Sustainability_report_2024_kr.pdf', 'total_pages': 83, 'page': 0, 'page_label': '1', 'class': 'wanted'}, page_content='A Journey Towards  \\na Sustainable Future\\n삼성전자 지속가능경영보고서 2024')]"
      ]
     },
     "execution_count": 19,
     "metadata": {},
     "output_type": "execute_result"
    }
   ],
   "source": [
    "db.similarity_search(\"삼성\", k=5)"
   ]
  },
  {
   "cell_type": "markdown",
   "id": "56ceba9e",
   "metadata": {},
   "source": [
    "## 6. 벡터 DB 저장"
   ]
  },
  {
   "cell_type": "code",
   "execution_count": 20,
   "id": "fbdc2ea2",
   "metadata": {},
   "outputs": [],
   "source": [
    "vectorstore_db_path = \"./samsung_faiss.db\"\n",
    "index_name = \"samsung2025\"\n",
    "db.save_local(\n",
    "    folder_path = vectorstore_db_path,\n",
    "    index_name = index_name\n",
    ")"
   ]
  },
  {
   "cell_type": "markdown",
   "id": "26615809",
   "metadata": {},
   "source": [
    "## 7. 벡터 DB 로드"
   ]
  },
  {
   "cell_type": "code",
   "execution_count": 21,
   "id": "b0b4c3a8",
   "metadata": {},
   "outputs": [],
   "source": [
    "# 저장된 db 불러오기\n",
    "load_db = FAISS.load_local(\n",
    "    folder_path = vectorstore_db_path,\n",
    "    index_name = index_name,\n",
    "    embeddings = embeddings,\n",
    "    allow_dangerous_deserialization = True      # pkl 파일은 보안문제로 그냥 불러오면 에러가 남\n",
    ")"
   ]
  },
  {
   "cell_type": "code",
   "execution_count": 22,
   "id": "36005670",
   "metadata": {},
   "outputs": [
    {
     "data": {
      "text/plain": [
       "{'00b7e159-e204-4ecd-9b2f-50ab3fae5104': Document(id='00b7e159-e204-4ecd-9b2f-50ab3fae5104', metadata={'producer': 'Adobe PDF Library 15.0', 'creator': 'Adobe InDesign 15.1 (Macintosh)', 'creationdate': '2024-11-25T11:10:32+09:00', 'moddate': '2024-11-25T11:10:46+09:00', 'trapped': '/False', 'source': '../data/Sustainability_report_2024_kr.pdf', 'total_pages': 83, 'page': 0, 'page_label': '1', 'class': 'wanted'}, page_content='A Journey Towards  \\na Sustainable Future\\n삼성전자 지속가능경영보고서 2024')}"
      ]
     },
     "execution_count": 22,
     "metadata": {},
     "output_type": "execute_result"
    }
   ],
   "source": [
    "load_db.docstore.__dict__[\"_dict\"]"
   ]
  },
  {
   "cell_type": "markdown",
   "id": "eabcb550",
   "metadata": {},
   "source": [
    "## 8. 문서 추가하기"
   ]
  },
  {
   "cell_type": "code",
   "execution_count": 23,
   "id": "3376a872",
   "metadata": {},
   "outputs": [
    {
     "data": {
      "text/plain": [
       "[Document(metadata={'producer': 'Adobe PDF Library 15.0', 'creator': 'Adobe InDesign 15.1 (Macintosh)', 'creationdate': '2024-11-25T11:10:32+09:00', 'moddate': '2024-11-25T11:10:46+09:00', 'trapped': '/False', 'source': '../data/Sustainability_report_2024_kr.pdf', 'total_pages': 83, 'page': 1, 'page_label': '2', 'class': 'wanted'}, page_content='A Journey Towards  \\na Sustainable Future\\n삼성전자 지속가능경영보고서 2024\\nCEO 메시지\\n회사 소개\\n이해관계자 소통\\nOur Company\\n04\\n05\\n06\\n준법과 윤리경영\\nPrinciple\\n53\\n중대성 평가\\nMateriality Assessment\\n08\\n임직원\\n공급망\\n사회공헌\\n개인정보보호/보안\\n고객의 안전/품질\\nPeople\\n31\\n39\\n45\\n48\\n50\\n경제성과\\n사회성과\\n환경성과\\n지역별 수자원 현황   \\n사업부문별 환경성과\\nFacts & Figures\\n56\\n57\\n62\\n65\\n66\\n독립된 인증인의 인증보고서\\nScope 1, 2 온실가스 배출량 검증 의견서\\nScope 3 온실가스 배출량 검증 의견서\\nGRI Index\\nTCFD 대조표\\nSASB 대조표\\n전사차원의 기후변화 대응 협력 활동\\nAbout This Report\\nAppendix\\n70\\n71\\n72\\n74\\n77\\n79\\n81\\n82\\n[DX부문] \\n추진체계 및 주요성과\\n기후변화\\n자원순환\\n수자원 및 오염물질\\n[DS부문]  \\n추진체계 및 주요성과 \\n기후변화\\n수자원\\n폐기물\\n오염물질\\nPlanet\\n12\\n13\\n15\\n17\\n19\\n20\\n23\\n26\\n28\\n삼성전자 지속가능경영보고서 2024 02Our Company AppendixMateriality Assessment Facts & Figures PrinciplePlanet People'),\n",
       " Document(metadata={'producer': 'Adobe PDF Library 15.0', 'creator': 'Adobe InDesign 15.1 (Macintosh)', 'creationdate': '2024-11-25T11:10:32+09:00', 'moddate': '2024-11-25T11:10:46+09:00', 'trapped': '/False', 'source': '../data/Sustainability_report_2024_kr.pdf', 'total_pages': 83, 'page': 2, 'page_label': '3', 'class': 'wanted'}, page_content='Our Company\\n04    CEO 메시지\\n05    회사 소개\\xa0\\n06    이해관계자 소통\\n삼성전자 지속가능경영보고서 2024 03Our Company AppendixMateriality Assessment Facts & Figures PrinciplePlanet People'),\n",
       " Document(metadata={'producer': 'Adobe PDF Library 15.0', 'creator': 'Adobe InDesign 15.1 (Macintosh)', 'creationdate': '2024-11-25T11:10:32+09:00', 'moddate': '2024-11-25T11:10:46+09:00', 'trapped': '/False', 'source': '../data/Sustainability_report_2024_kr.pdf', 'total_pages': 83, 'page': 3, 'page_label': '4', 'class': 'wanted'}, page_content='삼성전자 지속가능경영보고서 2024\\n04\\nOur Company AppendixMateriality Assessment Facts & Figures PrinciplePlanet People\\nCEO 메시지\\nMessage from \\nOur CEO\\n주주, 고객, 협력회사, 그리고 임직원 여러분,\\n2023년은 고금리와 인플레이션, 지정학적 이슈 등 매우 불확실한 \\n거시경제 환경과 함께, 메모리 산업 부진과 다양한 제품군에서의 경쟁 \\n심화로 삼성전자에게 매우 어려운 한 해였습니다. 이토록 대내외적으로 \\n어려운 환경에서도 지속 성장의 기반 마련을 위해 역대 최고 수준의 28.3\\n조원을 연구개발에 투자하고, 53.1조원 수준의 전략적 시설투자로 기술 \\n리더십을 강화하며 중장기 수요에 미리 대응할 수 있었던 것은 삼성전자를 \\n아껴주시는 이해관계자 여러분의 관심과 격려 덕분입니다. 다시 한 번 \\n깊이 감사 드립니다.\\n급격한 변화를 겪고 있는 경제 상황에 맞춰, 기업의 지속가능경영 \\n분야에서도 많은 변화가 일어나고 있습니다. 특히 기업의 지속가능경영 \\n활동 정보 공개는 글로벌 비재무정보 공시 제도의 확산에 맞춰, 새로운 \\n국면을 맞고 있습니다. 국제회계기준재단(IFRS Foundation)이 2023년 \\n6월 지속가능성 지표를 확정한 것을 시작으로, EU의 지속가능성 보고지침\\n(CSRD)과 미국 증권거래위원회(SEC) 기후공시 기준 역시 세부 내용을 \\n순차적으로 확정하며 ESG 정보의 의무 공시 시대가 열리고 있습니다.\\n이와 함께, EU 탄소국경조정제도(CBAM)와 EU 배터리규제 등을 통한 \\n환경규제 역시 지속 강화되는 추세이고, 독일에서는 공급망의 인권과 \\n근로환경 관리를 의무화하는 공급망실사법이 2023년 발효되었으며, \\n2024년 5월 EU 공급망 실사지침(CSDDD)이 확정되는 등 인권 분야에 \\n대한 관심 또한 지속 고조되고 있습니다. \\n삼성전자는 이러한 추세에 맞춰 지속가능한 미래를 위한 노력을 계속해'),\n",
       " Document(metadata={'producer': 'Adobe PDF Library 15.0', 'creator': 'Adobe InDesign 15.1 (Macintosh)', 'creationdate': '2024-11-25T11:10:32+09:00', 'moddate': '2024-11-25T11:10:46+09:00', 'trapped': '/False', 'source': '../data/Sustainability_report_2024_kr.pdf', 'total_pages': 83, 'page': 3, 'page_label': '4', 'class': 'wanted'}, page_content=\"대한 관심 또한 지속 고조되고 있습니다. \\n삼성전자는 이러한 추세에 맞춰 지속가능한 미래를 위한 노력을 계속해 \\n왔습니다. 2050년 탄소중립을 통해 글로벌 기후위기 극복 노력에 \\n동참하고, 자원의 순환성을 극대화하여 순환경제 구축 에 기여하며, \\n기술혁신을 통해 환경난제 해결에 도전하는 내용의 '新환경경영전략'을 \\n2022년 9월에 발표하였습니다. \\n2030년 탄소중립을 목표로 하는 DX부문에서는 미국, 유럽, 중국에 이어 \\n한국, 베트남, 인도, 브라 질을 포함한 글로벌 주요 제조사업장의 사용 \\n전력을 재생에너지로 100% 전환하였으며, 2023년말 기준, 총 93.4%\\n의 재생에너지 전환 실적을 기록하였습니다. 또한 자원순환형 소재 확대 \\n로드맵에 맞춰, 당사가 구매한 제품 내 플라스틱 부품 25%에 재생레진을 \\n적용하였습니다. \\nDS부문에서는 2050년 탄소중립 달성을 위해 2023년 공정가스 처리시설\\n(RCS) 16대를 4개 라인에 신규 설치하고, LNG 폐열 회수 시스템을 확대 \\n적용하여 온실가스 배출 저감을 위해 노력했습니다. 또한 2030년까지 \\n용수 취수량을 2021년 수준으로 절 감하는 것을 목 표로 하고 있으며, \\n국제수자원관리동맹(AWS)으로부터 기흥/화성, 평택, 중국 시안 사업장에 \\n대해 최고 등급인 ' 플래티넘' 인증을 획득하여 수자원 관리 체계의 \\n우수성을 입증 받았습니다. 아울러, 폐기물 발생량 저감을 위해 2024년 \\n3월, 웨이퍼박스 등 9건에 대해 환경부 순환자원 인정을 추가 취득하여 \\n현재까지 총 49건을 순환자원으로 인정받았고 매년 품목을 확대해나가고 \\n있습니다.\\n사회 분야에서는 지난 2023년 2월 발표한 글로벌 인권원칙에 연계하여, \\n글로벌 고충처리 정책 을 2024년 4월 제정, 고충  접수 채널 운영과 \\n접수된 고충의 처리 원칙에 대한 기준을 수립하였고, 공급망 관리에 \\n있어서는 비제조 분야 및 리스크 분석에 따라 제조 분야 2차 협력회사로\"),\n",
       " Document(metadata={'producer': 'Adobe PDF Library 15.0', 'creator': 'Adobe InDesign 15.1 (Macintosh)', 'creationdate': '2024-11-25T11:10:32+09:00', 'moddate': '2024-11-25T11:10:46+09:00', 'trapped': '/False', 'source': '../data/Sustainability_report_2024_kr.pdf', 'total_pages': 83, 'page': 3, 'page_label': '4', 'class': 'wanted'}, page_content=\"접수된 고충의 처리 원칙에 대한 기준을 수립하였고, 공급망 관리에 \\n있어서는 비제조 분야 및 리스크 분석에 따라 제조 분야 2차 협력회사로 \\n근로환경 관리 범위를 확대하고 있습니다. 또한 2023년 3월 자회사 형 \\n장애인표준사업장 주식 회사 '희망별숲'을 개소하여, 발달 장애인들이 \\n삼성전자 임직원에게 제공되는 쿠키 , 머핀 등 제과 제품을 만들 고 \\n있습니다. 제과 분야를 시작으로 발달장애인들에게 안정적인 일자리를 \\n제공할 예정입니다.\\n무엇보다 올해 지속가능경영보고서는 글로벌 공시규제 프레임워크에 \\n맞춰, 당사의 주요 지속가능경영 이슈를 발 굴하고, 주요 이슈의 관리 \\n체계와 전략, 이행 활동과 현황을 충 실히 전달 하고자 구성하였으며, \\n삼성전자의 지속가능경영 웹사이트와도 긴밀히 연계되도록 하였습니다. \\n삼성전자는 환경, 사회, 경제적 리스크 와 지정학적 불확실성이 일상이 \\n되어버린 시대를 경험 하면서, 지속가능성을 삼성전자가 나아가야할 \\n방향의 흔들리지 않는 지표이자, 사업경쟁력과 기술혁신의 원동력으로 \\n삼고 있습니다. 어려움은 위대함을 키운다(Difficulty is the Nurse of \\nGreatness)는 격언처럼, 삼성전자는 지속가능성을 통해 새로운 도약을 \\n모색하고, 더욱 발전하는 모습으로 이해관계자 여러분의 기대에 부응하기 \\n위해 최선을 다하겠습니다. \\n감사합니다.\\n삼성전자주식회사\\n 대표이사 부회장\\n한종희\\n삼성전자주식회사 \\nDS부문장 부회장\\n전영현\\n Our Company\"),\n",
       " Document(metadata={'producer': 'Adobe PDF Library 15.0', 'creator': 'Adobe InDesign 15.1 (Macintosh)', 'creationdate': '2024-11-25T11:10:32+09:00', 'moddate': '2024-11-25T11:10:46+09:00', 'trapped': '/False', 'source': '../data/Sustainability_report_2024_kr.pdf', 'total_pages': 83, 'page': 4, 'page_label': '5', 'class': 'wanted'}, page_content='삼성전자 지속가능경영보고서 2024\\n05\\nOur Company AppendixMateriality Assessment Facts & Figures PrinciplePlanet People\\n회사소개\\nAbout Us\\n삼성전자주식회사(이하 삼성전자)는 인재와 기술을 바탕으로 최고의 제품과 서비스를 창출하여 인류사회에 공헌하는 글로벌 초일류기업을 지향합니다. \\n이를 위해 삼성전자의 경영철학을 반영한 5가지 핵심가치 를 수립하였고, 핵심가치를 세부원칙과 행동지침 으로 구체화하여 삼성전자 임직원이 \\n지켜야 할 글로벌 행동규범(Global Code of Conduct) 을 제정하였습니다. 삼성전자는 조직문화에 5가지 핵심가치를 내재화하고 글로벌 행동규범을 \\n모든 경영활동의 기준으로 삼아 지속적으로 성장해갈 것입니다. \\n사업부문 및 글로벌 네트워크 소개\\n삼성전자는 제품 특성에 따라 DX(Device eXperience)와 DS(Device Solutions) 2개 부문으로 나뉘어 독립적으로 운영되고 있습니다. DX부문은 \\n스마트폰, 네트워크 시스템, 컴퓨터, TV, 냉장고, 세탁기, 에어컨, 의료기기 등 완제품을 생산/판매하고 있으며, DS부문은 메모리 반도체 사업, Foundry \\n사업, System LSI 사업으로 구성되어 DRAM, NAND Flash, 모바일AP 등의 반도체 부품을 생산/판매하고 있습니다. 삼성전자는 2023년 말 기준 전 \\n세계에 232개의 생산거점, 판매거점, R&D 센터, 디자인 센터를 보유하고 있습니다.\\n Our Company\\n매출\\n169조 9,923억 원\\n영업이익\\n14조 3,847억 원 네트워크\\nMobile eXperience 영상디스플레이 생활가전\\n의료기기\\n매출\\n66조 5,945억 원\\n영업이익\\n△14조 8,795억 원\\nFoundry System LSI\\n주요 사업부\\nDevice eXperienceDX\\nDS Device Solutions\\n메모리\\n※ 상기 매출과 영업이익은 2023년 실적을 기준으로, SDC, Harman을 제외하고 작성했습니다.'),\n",
       " Document(metadata={'producer': 'Adobe PDF Library 15.0', 'creator': 'Adobe InDesign 15.1 (Macintosh)', 'creationdate': '2024-11-25T11:10:32+09:00', 'moddate': '2024-11-25T11:10:46+09:00', 'trapped': '/False', 'source': '../data/Sustainability_report_2024_kr.pdf', 'total_pages': 83, 'page': 4, 'page_label': '5', 'class': 'wanted'}, page_content='DS Device Solutions\\n메모리\\n※ 상기 매출과 영업이익은 2023년 실적을 기준으로, SDC, Harman을 제외하고 작성했습니다.\\n지역총괄\\n1)\\n판매거점\\n2)\\n생산거점 구매 센터\\n15 109 32 6\\n1) 내부관리 기준에 따른 지역구분  2) 판매법인, 지점 등  3) 물류법인, IP 오피스 등  4) 당사 제품 생산용 부품을 공급하는 기업 \\n임직원 267 ,860명 연구개발비 28.3조 원운영국가 76개국협력회사\\n4)\\n 2,515개\\nR&D 센터 디자인 센터 기타\\n 3)\\n합계\\n40 7 23 232'),\n",
       " Document(metadata={'producer': 'Adobe PDF Library 15.0', 'creator': 'Adobe InDesign 15.1 (Macintosh)', 'creationdate': '2024-11-25T11:10:32+09:00', 'moddate': '2024-11-25T11:10:46+09:00', 'trapped': '/False', 'source': '../data/Sustainability_report_2024_kr.pdf', 'total_pages': 83, 'page': 5, 'page_label': '6', 'class': 'wanted'}, page_content='삼성전자 지속가능경영보고서 2024\\n06\\nOur Company AppendixMateriality Assessment Facts & Figures PrinciplePlanet People\\n이해관계자 소통\\nStakeholder \\nEngagement\\n글로벌 기업시민으로서의 책임을 다하기 위해서는 다양한 이해관계자와의 커뮤니케이션이 필수입니다. 삼성전자는 지속가능경영 웹사이트 를 통해 \\n관련 정보를 투명하고 신속하게 공개하고 있습니다. 아울러, 이해관계자 포럼, 설문조사, 현장방문을 통한 의견 청취 등 다양한 활동을 통해 이해관계자에게 \\n지속가능경영 성과를 공유하고, 의견을 청취하며, 협력관계를 구축하기 위해 노력하고 있습니다.\\n이해관계자 중요 관심사 소통 채널 주요 활동\\n고객\\n(일반 소비자, 거래선)\\n·  제품과 서비스 품질\\n·  안전한 제품 사용\\n·  제품 전 생애주기에서의 환경적 영향\\n·  정확한 제품 정보 제공\\n·  투명한 커뮤니케이션\\n·  고객만족도 조사\\n·  컨택센터, 서비스센터\\n·  삼성전자 뉴스룸\\n· 삼성닷컴\\n·  삼성전자 반도체 웹사이트\\n·  지속가능경영 웹사이트\\n·  영업 채널\\n·  제품환경리포트\\n·  품질과 안전성 관리체계 강화\\n·  국가별 홈페이지 구축하여 제품 정보 제공\\n·  고객 VOC 청취 및 해결\\n·  사업부 및 주요 사업장에 지속가능성  \\n담당 인력 배치\\n주주 & 투자자 ·  경제 성과\\n·  리스크 관리\\n·  정보 공시\\n·  ESG 어젠다  \\n(환경, 사회, 거버넌스 등)\\n·  주주총회\\n·  Non-Deal Roadshows, 투자자 미팅\\n·  실적발표\\n·  Investors Forum\\n·  투자자 ESG 로드쇼\\n·  IR 웹사이트\\n·  경영 실적·전망 발표\\n·  주주환원 정책 수립\\n·  공시\\n· 지배구조 정보 공개\\n· 환경·사회 성과 공유\\n· 주주·투자자 의견 수렴\\n임직원 ·  안전하고 건강한 근로환경\\n·  다양성, 형평성, 포용성\\n·  교육과 경력개발\\n·  고용과 복리후생\\n·  노사관계\\n·  일하기 좋은 일터'),\n",
       " Document(metadata={'producer': 'Adobe PDF Library 15.0', 'creator': 'Adobe InDesign 15.1 (Macintosh)', 'creationdate': '2024-11-25T11:10:32+09:00', 'moddate': '2024-11-25T11:10:46+09:00', 'trapped': '/False', 'source': '../data/Sustainability_report_2024_kr.pdf', 'total_pages': 83, 'page': 5, 'page_label': '6', 'class': 'wanted'}, page_content='· 주주·투자자 의견 수렴\\n임직원 ·  안전하고 건강한 근로환경\\n·  다양성, 형평성, 포용성\\n·  교육과 경력개발\\n·  고용과 복리후생\\n·  노사관계\\n·  일하기 좋은 일터\\n·  노동조합, 노사협의회\\n·  상담센터\\n·  만족도 조사(조직건강도,  \\n업무몰입도, 직원경험)\\n·  지속가능경영 웹사이트\\n·  경영진과의 대화\\n·  삼성전자 NOW\\n·  사내 소통 채널\\n·  제보시스템(컴플라이언스, 윤리)\\n·  산업안전보건위원회\\n·  경력설계 주기 맞춤형 프로그램 운영\\n·  사업부 타운홀 행사 개최  \\n(경영현황 설명 등)\\n· 단체교섭 활동\\n· 노사관계 자문그룹 운영\\n·  신세대 직원의 경영진 멘토링\\n·  사업장 근로환경 관리\\n·  신뢰와 소통의 조직문화 개선\\n·  Employer Branding 활동\\n·  건강증진 프로그램 운영 \\n(건강강좌, 다이어트 프로그램 등)\\n협력회사 ·  상생협력\\n· 작업환경/안전보건 개선\\n·  공정거래\\n·  근로자 인권보호\\n·  온실가스 감축\\n·  글로벌 구매 통합관리 시스템(G-SRM)\\n·  핫라인, 사이버 신문고\\n·  상생협력데이/간담회\\n·  상생협력 아카데미\\n·  지속가능경영 웹사이트\\n·  자금·기술지원\\n·  인력육성/혁신 지원\\n·  온실가스 감축관리\\n· 근로환경 책임관리\\n· 고충 접수 및 해결\\n지역사회 ·  현지 채용, 지역경제 활성화 등\\n·  간접 경제효과 \\n(투자, 고용 등 파생효과)\\n·  지역사회 환경보호\\n·  기부, 봉사 등 사회공헌 활동\\n·  지역봉사센터\\n·  지속가능경영 웹사이트\\n·  사회공헌 웹사이트 ·  스마트공장 구축 등 중소기업 지원\\n·  사업장 인근 하천생태계 보전활동 실시\\n·  교육과 취업 사회공헌 프로그램 \\n(삼성 희망디딤돌, 삼성 청년 SW 아카데미 등)\\n국제기구,  \\nNGO, 협회,  \\n전문기관\\n· 인권, 환경에 대한 사회적 책임\\n· 업종 간 협력\\n·  기후 대응을 포함한  \\nUN SDGs에 대한 기여\\n·  투명하고 신속한 정보 공개\\n·  기업 간담회\\n·  NGO 미팅\\n·  이해관계자 포럼')]"
      ]
     },
     "execution_count": 23,
     "metadata": {},
     "output_type": "execute_result"
    }
   ],
   "source": [
    "chunk_docs[1:10]"
   ]
  },
  {
   "cell_type": "code",
   "execution_count": 24,
   "id": "63fbf674",
   "metadata": {},
   "outputs": [
    {
     "data": {
      "text/plain": [
       "['fbaf155d-57a2-42ff-acad-d751b24b8a05',\n",
       " 'b81653fd-755f-4d3c-8030-4817194b1f94',\n",
       " '07493c99-248d-40ad-8d73-1ec8d58727b9',\n",
       " '698affd6-258f-4f84-a837-d2d4bb6cdd43',\n",
       " 'd77b199a-d746-40f5-9e2c-313ab623765e',\n",
       " 'a33177ab-3bdd-4e1e-9ada-c88a90d21497',\n",
       " '65c9ede0-a90c-43a6-ac43-c14d2e0e68c2',\n",
       " '9295bcc7-f3b8-4aef-bc21-9de7a065e15a',\n",
       " 'ccc75c09-a338-47d7-8a57-3ef9270d7dc1']"
      ]
     },
     "execution_count": 24,
     "metadata": {},
     "output_type": "execute_result"
    }
   ],
   "source": [
    "load_db.add_documents(\n",
    "    chunk_docs[1:10]\n",
    ")"
   ]
  },
  {
   "cell_type": "code",
   "execution_count": 25,
   "id": "567fc38b",
   "metadata": {},
   "outputs": [
    {
     "data": {
      "text/plain": [
       "{0: '00b7e159-e204-4ecd-9b2f-50ab3fae5104',\n",
       " 1: 'fbaf155d-57a2-42ff-acad-d751b24b8a05',\n",
       " 2: 'b81653fd-755f-4d3c-8030-4817194b1f94',\n",
       " 3: '07493c99-248d-40ad-8d73-1ec8d58727b9',\n",
       " 4: '698affd6-258f-4f84-a837-d2d4bb6cdd43',\n",
       " 5: 'd77b199a-d746-40f5-9e2c-313ab623765e',\n",
       " 6: 'a33177ab-3bdd-4e1e-9ada-c88a90d21497',\n",
       " 7: '65c9ede0-a90c-43a6-ac43-c14d2e0e68c2',\n",
       " 8: '9295bcc7-f3b8-4aef-bc21-9de7a065e15a',\n",
       " 9: 'ccc75c09-a338-47d7-8a57-3ef9270d7dc1'}"
      ]
     },
     "execution_count": 25,
     "metadata": {},
     "output_type": "execute_result"
    }
   ],
   "source": [
    "load_db.index_to_docstore_id"
   ]
  },
  {
   "cell_type": "code",
   "execution_count": 39,
   "id": "7e0a2851",
   "metadata": {},
   "outputs": [],
   "source": [
    "# 다시 저장\n",
    "vectorstore_db_path = \"./samsung_faiss.db\"\n",
    "index_name = \"samsung2025\"\n",
    "load_db.save_local(\n",
    "    folder_path = vectorstore_db_path,\n",
    "    index_name = index_name\n",
    ")"
   ]
  },
  {
   "cell_type": "markdown",
   "id": "bebb07f1",
   "metadata": {},
   "source": [
    "## 9. 저장된 DB 다시 불러오기"
   ]
  },
  {
   "cell_type": "code",
   "execution_count": 28,
   "id": "9d752a5f",
   "metadata": {},
   "outputs": [
    {
     "data": {
      "text/plain": [
       "{0: '00b7e159-e204-4ecd-9b2f-50ab3fae5104',\n",
       " 1: 'fbaf155d-57a2-42ff-acad-d751b24b8a05',\n",
       " 2: 'b81653fd-755f-4d3c-8030-4817194b1f94',\n",
       " 3: '07493c99-248d-40ad-8d73-1ec8d58727b9',\n",
       " 4: '698affd6-258f-4f84-a837-d2d4bb6cdd43',\n",
       " 5: 'd77b199a-d746-40f5-9e2c-313ab623765e',\n",
       " 6: 'a33177ab-3bdd-4e1e-9ada-c88a90d21497',\n",
       " 7: '65c9ede0-a90c-43a6-ac43-c14d2e0e68c2',\n",
       " 8: '9295bcc7-f3b8-4aef-bc21-9de7a065e15a',\n",
       " 9: 'ccc75c09-a338-47d7-8a57-3ef9270d7dc1'}"
      ]
     },
     "execution_count": 28,
     "metadata": {},
     "output_type": "execute_result"
    }
   ],
   "source": [
    "# 저장된 db 불러오기\n",
    "updated_db = FAISS.load_local(\n",
    "    folder_path = vectorstore_db_path,\n",
    "    index_name = index_name,\n",
    "    embeddings = embeddings,\n",
    "    allow_dangerous_deserialization = True\n",
    ")\n",
    "updated_db.index_to_docstore_id"
   ]
  },
  {
   "cell_type": "code",
   "execution_count": 29,
   "id": "00787cb4",
   "metadata": {},
   "outputs": [
    {
     "data": {
      "text/plain": [
       "Document(metadata={'producer': 'Adobe PDF Library 15.0', 'creator': 'Adobe InDesign 15.1 (Macintosh)', 'creationdate': '2024-11-25T11:10:32+09:00', 'moddate': '2024-11-25T11:10:46+09:00', 'trapped': '/False', 'source': '../data/Sustainability_report_2024_kr.pdf', 'total_pages': 83, 'page': 2, 'page_label': '3', 'class': 'wanted'}, page_content='Our Company\\n04    CEO 메시지\\n05    회사 소개\\xa0\\n06    이해관계자 소통\\n삼성전자 지속가능경영보고서 2024 03Our Company AppendixMateriality Assessment Facts & Figures PrinciplePlanet People')"
      ]
     },
     "execution_count": 29,
     "metadata": {},
     "output_type": "execute_result"
    }
   ],
   "source": [
    "chunk_docs[2]"
   ]
  },
  {
   "cell_type": "markdown",
   "id": "1079ed6c",
   "metadata": {},
   "source": [
    "## 10. 직접 문서 추가하기"
   ]
  },
  {
   "cell_type": "code",
   "execution_count": 30,
   "id": "31e99c6c",
   "metadata": {},
   "outputs": [
    {
     "data": {
      "text/plain": [
       "['4f3c682b-865e-418a-b0cb-ebdeab363350',\n",
       " '4f8700d9-4fef-485c-ae18-7c598161de48']"
      ]
     },
     "execution_count": 30,
     "metadata": {},
     "output_type": "execute_result"
    }
   ],
   "source": [
    "from langchain_core.documents import Document\n",
    "\n",
    "# 직접 추가하기\n",
    "updated_db.add_documents(\n",
    "    [\n",
    "        Document(\n",
    "            page_content = \"새로운 문서는 이렇게 추가하기\",\n",
    "            metadata = {\"source\" : \"수동\"}\n",
    "        ),\n",
    "        Document(\n",
    "            page_content = \"2024년 삼성전자 주식 사지마세요\",\n",
    "            metadata = {\"source\" : \"윤택한\"}\n",
    "        )\n",
    "    ]\n",
    ")"
   ]
  },
  {
   "cell_type": "code",
   "execution_count": 31,
   "id": "8a115729",
   "metadata": {},
   "outputs": [
    {
     "data": {
      "text/plain": [
       "{0: '00b7e159-e204-4ecd-9b2f-50ab3fae5104',\n",
       " 1: 'fbaf155d-57a2-42ff-acad-d751b24b8a05',\n",
       " 2: 'b81653fd-755f-4d3c-8030-4817194b1f94',\n",
       " 3: '07493c99-248d-40ad-8d73-1ec8d58727b9',\n",
       " 4: '698affd6-258f-4f84-a837-d2d4bb6cdd43',\n",
       " 5: 'd77b199a-d746-40f5-9e2c-313ab623765e',\n",
       " 6: 'a33177ab-3bdd-4e1e-9ada-c88a90d21497',\n",
       " 7: '65c9ede0-a90c-43a6-ac43-c14d2e0e68c2',\n",
       " 8: '9295bcc7-f3b8-4aef-bc21-9de7a065e15a',\n",
       " 9: 'ccc75c09-a338-47d7-8a57-3ef9270d7dc1',\n",
       " 10: '4f3c682b-865e-418a-b0cb-ebdeab363350',\n",
       " 11: '4f8700d9-4fef-485c-ae18-7c598161de48'}"
      ]
     },
     "execution_count": 31,
     "metadata": {},
     "output_type": "execute_result"
    }
   ],
   "source": [
    "updated_db.index_to_docstore_id"
   ]
  },
  {
   "cell_type": "markdown",
   "id": "4ec68ca5",
   "metadata": {},
   "source": [
    "## 11. 문서 삭제 (ID로 삭제)"
   ]
  },
  {
   "cell_type": "code",
   "execution_count": 33,
   "id": "34bbad36",
   "metadata": {},
   "outputs": [
    {
     "data": {
      "text/plain": [
       "{0: '00b7e159-e204-4ecd-9b2f-50ab3fae5104',\n",
       " 1: 'fbaf155d-57a2-42ff-acad-d751b24b8a05',\n",
       " 2: 'b81653fd-755f-4d3c-8030-4817194b1f94',\n",
       " 3: '07493c99-248d-40ad-8d73-1ec8d58727b9',\n",
       " 4: '698affd6-258f-4f84-a837-d2d4bb6cdd43',\n",
       " 5: 'd77b199a-d746-40f5-9e2c-313ab623765e',\n",
       " 6: 'a33177ab-3bdd-4e1e-9ada-c88a90d21497',\n",
       " 7: '65c9ede0-a90c-43a6-ac43-c14d2e0e68c2',\n",
       " 8: '9295bcc7-f3b8-4aef-bc21-9de7a065e15a',\n",
       " 9: 'ccc75c09-a338-47d7-8a57-3ef9270d7dc1',\n",
       " 10: '4f8700d9-4fef-485c-ae18-7c598161de48'}"
      ]
     },
     "execution_count": 33,
     "metadata": {},
     "output_type": "execute_result"
    }
   ],
   "source": [
    "# db 삭제 (id로 지우기)\n",
    "updated_db.delete([\"4f3c682b-865e-418a-b0cb-ebdeab363350\"])\n",
    "updated_db.index_to_docstore_id"
   ]
  },
  {
   "cell_type": "code",
   "execution_count": 34,
   "id": "5304dab9",
   "metadata": {},
   "outputs": [
    {
     "data": {
      "text/plain": [
       "[Document(id='4f8700d9-4fef-485c-ae18-7c598161de48', metadata={'source': '윤택한'}, page_content='2024년 삼성전자 주식 사지마세요'),\n",
       " Document(id='a33177ab-3bdd-4e1e-9ada-c88a90d21497', metadata={'producer': 'Adobe PDF Library 15.0', 'creator': 'Adobe InDesign 15.1 (Macintosh)', 'creationdate': '2024-11-25T11:10:32+09:00', 'moddate': '2024-11-25T11:10:46+09:00', 'trapped': '/False', 'source': '../data/Sustainability_report_2024_kr.pdf', 'total_pages': 83, 'page': 4, 'page_label': '5', 'class': 'wanted'}, page_content='삼성전자 지속가능경영보고서 2024\\n05\\nOur Company AppendixMateriality Assessment Facts & Figures PrinciplePlanet People\\n회사소개\\nAbout Us\\n삼성전자주식회사(이하 삼성전자)는 인재와 기술을 바탕으로 최고의 제품과 서비스를 창출하여 인류사회에 공헌하는 글로벌 초일류기업을 지향합니다. \\n이를 위해 삼성전자의 경영철학을 반영한 5가지 핵심가치 를 수립하였고, 핵심가치를 세부원칙과 행동지침 으로 구체화하여 삼성전자 임직원이 \\n지켜야 할 글로벌 행동규범(Global Code of Conduct) 을 제정하였습니다. 삼성전자는 조직문화에 5가지 핵심가치를 내재화하고 글로벌 행동규범을 \\n모든 경영활동의 기준으로 삼아 지속적으로 성장해갈 것입니다. \\n사업부문 및 글로벌 네트워크 소개\\n삼성전자는 제품 특성에 따라 DX(Device eXperience)와 DS(Device Solutions) 2개 부문으로 나뉘어 독립적으로 운영되고 있습니다. DX부문은 \\n스마트폰, 네트워크 시스템, 컴퓨터, TV, 냉장고, 세탁기, 에어컨, 의료기기 등 완제품을 생산/판매하고 있으며, DS부문은 메모리 반도체 사업, Foundry \\n사업, System LSI 사업으로 구성되어 DRAM, NAND Flash, 모바일AP 등의 반도체 부품을 생산/판매하고 있습니다. 삼성전자는 2023년 말 기준 전 \\n세계에 232개의 생산거점, 판매거점, R&D 센터, 디자인 센터를 보유하고 있습니다.\\n Our Company\\n매출\\n169조 9,923억 원\\n영업이익\\n14조 3,847억 원 네트워크\\nMobile eXperience 영상디스플레이 생활가전\\n의료기기\\n매출\\n66조 5,945억 원\\n영업이익\\n△14조 8,795억 원\\nFoundry System LSI\\n주요 사업부\\nDevice eXperienceDX\\nDS Device Solutions\\n메모리\\n※ 상기 매출과 영업이익은 2023년 실적을 기준으로, SDC, Harman을 제외하고 작성했습니다.'),\n",
       " Document(id='b81653fd-755f-4d3c-8030-4817194b1f94', metadata={'producer': 'Adobe PDF Library 15.0', 'creator': 'Adobe InDesign 15.1 (Macintosh)', 'creationdate': '2024-11-25T11:10:32+09:00', 'moddate': '2024-11-25T11:10:46+09:00', 'trapped': '/False', 'source': '../data/Sustainability_report_2024_kr.pdf', 'total_pages': 83, 'page': 2, 'page_label': '3', 'class': 'wanted'}, page_content='Our Company\\n04    CEO 메시지\\n05    회사 소개\\xa0\\n06    이해관계자 소통\\n삼성전자 지속가능경영보고서 2024 03Our Company AppendixMateriality Assessment Facts & Figures PrinciplePlanet People'),\n",
       " Document(id='65c9ede0-a90c-43a6-ac43-c14d2e0e68c2', metadata={'producer': 'Adobe PDF Library 15.0', 'creator': 'Adobe InDesign 15.1 (Macintosh)', 'creationdate': '2024-11-25T11:10:32+09:00', 'moddate': '2024-11-25T11:10:46+09:00', 'trapped': '/False', 'source': '../data/Sustainability_report_2024_kr.pdf', 'total_pages': 83, 'page': 4, 'page_label': '5', 'class': 'wanted'}, page_content='DS Device Solutions\\n메모리\\n※ 상기 매출과 영업이익은 2023년 실적을 기준으로, SDC, Harman을 제외하고 작성했습니다.\\n지역총괄\\n1)\\n판매거점\\n2)\\n생산거점 구매 센터\\n15 109 32 6\\n1) 내부관리 기준에 따른 지역구분  2) 판매법인, 지점 등  3) 물류법인, IP 오피스 등  4) 당사 제품 생산용 부품을 공급하는 기업 \\n임직원 267 ,860명 연구개발비 28.3조 원운영국가 76개국협력회사\\n4)\\n 2,515개\\nR&D 센터 디자인 센터 기타\\n 3)\\n합계\\n40 7 23 232'),\n",
       " Document(id='d77b199a-d746-40f5-9e2c-313ab623765e', metadata={'producer': 'Adobe PDF Library 15.0', 'creator': 'Adobe InDesign 15.1 (Macintosh)', 'creationdate': '2024-11-25T11:10:32+09:00', 'moddate': '2024-11-25T11:10:46+09:00', 'trapped': '/False', 'source': '../data/Sustainability_report_2024_kr.pdf', 'total_pages': 83, 'page': 3, 'page_label': '4', 'class': 'wanted'}, page_content=\"접수된 고충의 처리 원칙에 대한 기준을 수립하였고, 공급망 관리에 \\n있어서는 비제조 분야 및 리스크 분석에 따라 제조 분야 2차 협력회사로 \\n근로환경 관리 범위를 확대하고 있습니다. 또한 2023년 3월 자회사 형 \\n장애인표준사업장 주식 회사 '희망별숲'을 개소하여, 발달 장애인들이 \\n삼성전자 임직원에게 제공되는 쿠키 , 머핀 등 제과 제품을 만들 고 \\n있습니다. 제과 분야를 시작으로 발달장애인들에게 안정적인 일자리를 \\n제공할 예정입니다.\\n무엇보다 올해 지속가능경영보고서는 글로벌 공시규제 프레임워크에 \\n맞춰, 당사의 주요 지속가능경영 이슈를 발 굴하고, 주요 이슈의 관리 \\n체계와 전략, 이행 활동과 현황을 충 실히 전달 하고자 구성하였으며, \\n삼성전자의 지속가능경영 웹사이트와도 긴밀히 연계되도록 하였습니다. \\n삼성전자는 환경, 사회, 경제적 리스크 와 지정학적 불확실성이 일상이 \\n되어버린 시대를 경험 하면서, 지속가능성을 삼성전자가 나아가야할 \\n방향의 흔들리지 않는 지표이자, 사업경쟁력과 기술혁신의 원동력으로 \\n삼고 있습니다. 어려움은 위대함을 키운다(Difficulty is the Nurse of \\nGreatness)는 격언처럼, 삼성전자는 지속가능성을 통해 새로운 도약을 \\n모색하고, 더욱 발전하는 모습으로 이해관계자 여러분의 기대에 부응하기 \\n위해 최선을 다하겠습니다. \\n감사합니다.\\n삼성전자주식회사\\n 대표이사 부회장\\n한종희\\n삼성전자주식회사 \\nDS부문장 부회장\\n전영현\\n Our Company\")]"
      ]
     },
     "execution_count": 34,
     "metadata": {},
     "output_type": "execute_result"
    }
   ],
   "source": [
    "# 유사도 검색 테스트\n",
    "updated_db.similarity_search(\"삼성전자 주식\", k=5)"
   ]
  },
  {
   "cell_type": "markdown",
   "id": "536bda55",
   "metadata": {},
   "source": [
    "## 12. 벡터 스토어 합치기\n",
    "- 물리적으로 합치기\n",
    "- 검색기만 하이브리드로 사용"
   ]
  },
  {
   "cell_type": "code",
   "execution_count": null,
   "id": "ab4f86a7",
   "metadata": {},
   "outputs": [],
   "source": [
    "# 2024년 데이터를 앞에서 10개 -> db1\n",
    "# 2025년 데이터를 11 ~ 20 -> db2\n",
    "# 이 두 벡터 스토어를 합쳐서 -> db3"
   ]
  },
  {
   "cell_type": "code",
   "execution_count": 35,
   "id": "9d36b98f",
   "metadata": {},
   "outputs": [],
   "source": [
    "db1 = FAISS.from_documents(\n",
    "    chunk_docs[:10],\n",
    "    embedding=embeddings\n",
    ")\n",
    "\n",
    "db2 = FAISS.from_documents(\n",
    "    chunk_docs[10:20],\n",
    "    embedding=embeddings\n",
    ")"
   ]
  },
  {
   "cell_type": "markdown",
   "id": "7b3dc21c",
   "metadata": {},
   "source": [
    "### 1) db1 에 db2를 병합"
   ]
  },
  {
   "cell_type": "code",
   "execution_count": 36,
   "id": "6443e893",
   "metadata": {},
   "outputs": [
    {
     "data": {
      "text/plain": [
       "{0: '894108a2-ba80-4c5f-b855-a684a1da6be5',\n",
       " 1: '1753c475-0a75-41b4-97f1-9eb6a5ef4c28',\n",
       " 2: '55454206-136d-46b5-aedf-575bcb986037',\n",
       " 3: '3ca5e547-0a4a-4aee-8f47-393813e90e02',\n",
       " 4: 'e0b4a52f-b6ef-4d49-8312-2f17883a04bc',\n",
       " 5: 'c1fd41ee-f39e-4d61-8caa-5a766b4d4fa9',\n",
       " 6: '66f20aab-64de-4b3c-b23b-0e2c5bc9ac8c',\n",
       " 7: '6b23f615-e337-4fed-a338-881089833ac0',\n",
       " 8: '884fa242-3894-4be9-9f44-ea2fc4fe82e1',\n",
       " 9: 'de100397-d02d-4b50-86a2-d1233d21c308',\n",
       " 10: '3f86c40c-5daa-49ba-aa80-51b26cc236dd',\n",
       " 11: 'b28829ac-a9f9-4c0a-9c11-b721034d4374',\n",
       " 12: '1ad1217d-9c86-42f7-ae2a-e3959eabfc30',\n",
       " 13: '4633088e-768a-4a38-8a44-fa4cf60b0fd2',\n",
       " 14: '0734c22f-71fb-4144-8107-dce750e7a45c',\n",
       " 15: '4b751fb4-0042-4837-9215-88c61beab39a',\n",
       " 16: '6d8f32f3-c03b-47ba-ab3a-9507b6c3e5b3',\n",
       " 17: '3d211443-3307-413a-b201-340d5b343bb4',\n",
       " 18: '339b3b0f-9db9-4948-890c-e83f48585b44',\n",
       " 19: 'fe54f205-41d2-4f17-b914-a468d9d57ceb'}"
      ]
     },
     "execution_count": 36,
     "metadata": {},
     "output_type": "execute_result"
    }
   ],
   "source": [
    "db1.merge_from(\n",
    "    target=db2\n",
    ")\n",
    "db1.index_to_docstore_id"
   ]
  },
  {
   "cell_type": "markdown",
   "id": "ae82c108",
   "metadata": {},
   "source": [
    "### 2) 새로운 db에 두 db를 병합"
   ]
  },
  {
   "cell_type": "code",
   "execution_count": 37,
   "id": "9a9ededa",
   "metadata": {},
   "outputs": [],
   "source": [
    "# 만약 전혀 다른 db3에 만들고 싶다\n",
    "db3 = FAISS(\n",
    "    docstore = InMemoryDocstore(),\n",
    "    index_to_docstore_id={},\n",
    "    embedding_function=embeddings,\n",
    "    index = faiss.IndexFlatL2(dim_size)\n",
    ")"
   ]
  },
  {
   "cell_type": "code",
   "execution_count": 38,
   "id": "462171d1",
   "metadata": {},
   "outputs": [
    {
     "data": {
      "text/plain": [
       "{0: '3f86c40c-5daa-49ba-aa80-51b26cc236dd',\n",
       " 1: 'b28829ac-a9f9-4c0a-9c11-b721034d4374',\n",
       " 2: '1ad1217d-9c86-42f7-ae2a-e3959eabfc30',\n",
       " 3: '4633088e-768a-4a38-8a44-fa4cf60b0fd2',\n",
       " 4: '0734c22f-71fb-4144-8107-dce750e7a45c',\n",
       " 5: '4b751fb4-0042-4837-9215-88c61beab39a',\n",
       " 6: '6d8f32f3-c03b-47ba-ab3a-9507b6c3e5b3',\n",
       " 7: '3d211443-3307-413a-b201-340d5b343bb4',\n",
       " 8: '339b3b0f-9db9-4948-890c-e83f48585b44',\n",
       " 9: 'fe54f205-41d2-4f17-b914-a468d9d57ceb'}"
      ]
     },
     "execution_count": 38,
     "metadata": {},
     "output_type": "execute_result"
    }
   ],
   "source": [
    "db3.merge_from(\n",
    "    target=db2\n",
    ")\n",
    "db2.index_to_docstore_id"
   ]
  }
 ],
 "metadata": {
  "kernelspec": {
   "display_name": "Langchain_basic",
   "language": "python",
   "name": "python3"
  },
  "language_info": {
   "codemirror_mode": {
    "name": "ipython",
    "version": 3
   },
   "file_extension": ".py",
   "mimetype": "text/x-python",
   "name": "python",
   "nbconvert_exporter": "python",
   "pygments_lexer": "ipython3",
   "version": "3.11.13"
  }
 },
 "nbformat": 4,
 "nbformat_minor": 5
}
