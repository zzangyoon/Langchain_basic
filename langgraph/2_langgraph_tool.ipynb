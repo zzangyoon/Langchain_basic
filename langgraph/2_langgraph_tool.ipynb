{
 "cells": [
  {
   "cell_type": "markdown",
   "id": "d8732b4d",
   "metadata": {},
   "source": [
    "# Langgraph에 tool 추가하기"
   ]
  },
  {
   "cell_type": "code",
   "execution_count": 1,
   "id": "276c8cee",
   "metadata": {},
   "outputs": [
    {
     "data": {
      "text/plain": [
       "True"
      ]
     },
     "execution_count": 1,
     "metadata": {},
     "output_type": "execute_result"
    }
   ],
   "source": [
    "from dotenv import load_dotenv\n",
    "load_dotenv()"
   ]
  },
  {
   "cell_type": "code",
   "execution_count": 4,
   "id": "78654d0c",
   "metadata": {},
   "outputs": [],
   "source": [
    "from typing import Annotated, TypedDict\n",
    "from langgraph.graph import StateGraph, START, END\n",
    "from langgraph.graph.message import add_messages\n",
    "from langchain_openai import ChatOpenAI\n",
    "\n",
    "# 도구\n",
    "from langgraph.prebuilt.tool_node import ToolNode, tools_condition"
   ]
  },
  {
   "cell_type": "code",
   "execution_count": 5,
   "id": "c278f260",
   "metadata": {},
   "outputs": [],
   "source": [
    "from langchain_tavily import TavilySearch"
   ]
  },
  {
   "cell_type": "code",
   "execution_count": null,
   "id": "f1d2895e",
   "metadata": {},
   "outputs": [],
   "source": [
    "# 1. tool 세팅\n",
    "# 2. State 정의\n",
    "# 3. LLM + tool 연결\n",
    "# 4. chatbot 노드 정의\n",
    "# 5. 그래프 초기화 & 노드 추가\n",
    "# 6. 도구 노드 생성\n",
    "# 7-1. 조건부 엣지 설정\n",
    "# 7-2. 전체 엣지 연결 (나머지 부분 연결)\n",
    "# 8. 그래프 컴파일"
   ]
  },
  {
   "cell_type": "code",
   "execution_count": 6,
   "id": "4efe51f2",
   "metadata": {},
   "outputs": [],
   "source": [
    "# 1. tool 세팅\n",
    "search_tool = TavilySearch(max_results = 5)\n",
    "tools = [search_tool]\n",
    "\n",
    "# 2. State 정의\n",
    "class State(TypedDict):\n",
    "    messages : Annotated[list, add_messages]\n",
    "\n",
    "# 3. LLM + tool 연결\n",
    "model = ChatOpenAI(\n",
    "    model = \"gpt-4.1-mini\",\n",
    "    temperature = 0\n",
    ")\n",
    "llm_with_tool = model.bind_tools(tools)\n",
    "\n",
    "# 4. chatbot 노드 정의\n",
    "def agent_chatbot(state : State):\n",
    "    answer = llm_with_tool.invoke(state[\"messages\"])\n",
    "    return {\"messages\" : [answer]}\n",
    "\n",
    "# 5. 그래프 초기화 & 노드 추가\n",
    "graph_builder = StateGraph(State)\n",
    "graph_builder.add_node(\"chatbot\", agent_chatbot)\n",
    "\n",
    "# 6. 도구 노드 생성\n",
    "tool_node = ToolNode(tools=tools)\n",
    "graph_builder.add_node(\"tools\", tool_node)\n",
    "\n",
    "# 7-1. 조건부 엣지 설정\n",
    "graph_builder.add_conditional_edges(\n",
    "    source = \"chatbot\",\n",
    "    path = tools_condition,\n",
    "    path_map = {\"tools\" : \"tools\", END : END}\n",
    ")\n",
    "\n",
    "# 7-2. 전체 엣지 연결 (나머지 부분 연결하는 것)\n",
    "graph_builder.add_edge(\"tools\", \"chatbot\")\n",
    "graph_builder.add_edge(START, \"chatbot\")\n",
    "\n",
    "# 8. 그래프 컴파일\n",
    "graph = graph_builder.compile()"
   ]
  },
  {
   "cell_type": "code",
   "execution_count": 7,
   "id": "268b72b3",
   "metadata": {},
   "outputs": [
    {
     "data": {
      "image/png": "[encoded data removed]",
      "text/plain": [
       "<langgraph.graph.state.CompiledStateGraph object at 0x0000027313215A50>"
      ]
     },
     "execution_count": 7,
     "metadata": {},
     "output_type": "execute_result"
    }
   ],
   "source": [
    "graph"
   ]
  },
  {
   "cell_type": "code",
   "execution_count": 10,
   "id": "4d5b8466",
   "metadata": {},
   "outputs": [
    {
     "name": "stdout",
     "output_type": "stream",
     "text": [
      "------------------------------ messages ------------------------------\n",
      "================================\u001b[1m Human Message \u001b[0m=================================\n",
      "\n",
      "2025년 10월 석촌역에서 축제 하는거 알아? 우선 그 축제부터 찾고, 이후에 세부내용 웹서치해서 다시 알려줘\n",
      "------------------------------ messages ------------------------------\n",
      "==================================\u001b[1m Ai Message \u001b[0m==================================\n",
      "Tool Calls:\n",
      "  tavily_search (call_I6bF2cyeF5IqSsowhtPmyh6e)\n",
      " Call ID: call_I6bF2cyeF5IqSsowhtPmyh6e\n",
      "  Args:\n",
      "    query: 2025년 10월 석촌역 축제\n",
      "------------------------------ messages ------------------------------\n",
      "=================================\u001b[1m Tool Message \u001b[0m=================================\n",
      "Name: tavily_search\n",
      "\n",
      "{\"query\": \"2025년 10월 석촌역 축제\", \"follow_up_questions\": null, \"answer\": null, \"images\": [], \"results\": [{\"url\": \"https://www.tiktok.com/discover/10%EC%9B%94-%EC%84%9D%EC%B4%8C%ED%98%B8%EC%88%98-%EC%B6%95%EC%A0%9C-2025%EB%85%84\", \"title\": \"10월 석촌호수 축제 2025년 - TikTok\", \"content\": \"5일 뒤 시작되는 석촌호수 빛축제 석촌호수에서 열리는 가을, 겨울 대표축제 루미나리에가 10/25~2/28 동안 열린대! 보기만 해도 두근두근 설레는\", \"score\": 0.80089486, \"raw_content\": null}, {\"url\": \"https://hethylife.com/entry/%EC%84%9C%EC%9A%B8-%EC%B6%95%EC%A0%9C-%EC%A0%95%EB%B3%B4-%EC%84%9D%EC%B4%8C%ED%98%B8%EC%88%98%EC%9D%98-%EA%B0%80%EC%9D%84%EA%B3%BC-%EA%B2%A8%EC%9A%B8%EA%B7%B8%EB%A6%AC%EA%B3%A0-%EB%A3%A8%EB%AF%B8%EB%82%98%EB%A6%AC%EC%97%90\", \"title\": \"서울 축제 정보: 석촌호수의 가을과 겨울,그리고 루미나리에\", \"content\": \"이번 축제는 2024년 10월 25일부터 2025년 2월 28일까지 진행되며, 주제는 'Dream, Universe & Love'입니다. 루미나리에 축제정보\", \"score\": 0.7272211, \"raw_content\": null}, {\"url\": \"https://www.instagram.com/p/DPS5ytOgeCN/\", \"title\": \"낭만으로 깊어가는 가을 밤의 축제“ 2025 송파낭만페스타   10월 11 ...\", \"content\": \"” 낭만으로 깊어가는 가을 밤의 축제“ 2025 송파낭만페스타 10월 11일(토) 11:00~19:30 서울놀이마당 ※우천으로 기존 석촌호수 서호 수변무대에서\", \"score\": 0.72019166, \"raw_content\": null}, {\"url\": \"https://www.threads.com/@_tripgoing/post/DHACWRRTefC/%EC%84%9C%EC%9A%B8%EC%9D%98-%EB%8C%80%ED%91%9C%EC%A0%81%EC%9D%B8-%EB%B2%9A%EA%BD%83-%EB%AA%85%EC%86%8C%EC%9D%B8-%EC%84%9D%EC%B4%8C%ED%98%B8%EC%88%98%EC%97%90%EC%84%9C-2025%EB%85%84-%EB%B2%9A%EA%BD%83%EC%B6%95%EC%A0%9C%EA%B0%80-%EC%98%A4%EB%8A%94-4%EC%9B%94-3%EC%9D%BC%EB%AA%A9%EB%B6%80%ED%84%B0-6%EC%9D%BC%EC%9D%BC%EA%B9%8C%EC%A7%80-4%EC%9D%BC%EA%B0%84-%EC%A7%84%ED%96%89%EB%90%A9%EB%8B%88%EB%8B%A4-%EB%8B%A4%EC%B1%84%EB%A1%9C%EC%9A%B4-%EB%AC%B8%ED%99%94%EC%98%88%EC%88%A0-%EA%B3%B5%EC%97%B0%EA%B3%BC-%EC%B2%B4%ED%97%98-?hl=ko\", \"title\": \"서울의 대표적인 벚꽃 명소인 석촌호수에서 2025년 벚꽃축제가 오는 4 ...\", \"content\": \"서울의 대표적인 벚꽃 명소인 석촌호수에서 2025년 벚꽃축제가 오는 4월 3일(목)부터 6일(일)까지 4일간 진행됩니다. 다채로운 문화예술 공연과 체험\", \"score\": 0.6002124, \"raw_content\": null}, {\"url\": \"https://blog.naver.com/ruddy_moon/223667756950\", \"title\": \"석촌호수 루미나리에 빛축제 야경 잠실로 데이트갈래? : 네이버 블로그\", \"content\": \"​ · 2024년 10월 25일부터 · 2025년 2월 28일까지 진행 · 잠실 석촌호수 루미나리에는 · 서울의 대표적인 빛축제 · ​ · 석촌호수 루미나리에는 조명으로 · 건축물\", \"score\": 0.52334785, \"raw_content\": null}], \"response_time\": 0.0, \"request_id\": \"48799704-3e90-4c68-93d9-e823c954d7ca\"}\n",
      "------------------------------ messages ------------------------------\n",
      "==================================\u001b[1m Ai Message \u001b[0m==================================\n",
      "\n",
      "2025년 10월 석촌역 근처 석촌호수에서 \"루미나리에 빛축제\"가 열립니다. 이 축제는 2024년 10월 25일부터 2025년 2월 28일까지 진행되며, 가을과 겨울을 대표하는 빛 축제입니다. 축제 주제는 'Dream, Universe & Love'로, 조명으로 꾸며진 아름다운 경관을 즐길 수 있습니다.\n",
      "\n",
      "더 자세한 세부 내용도 찾아볼까요?\n",
      "Tool Calls:\n",
      "  tavily_search (call_DO94BC5FwasIEq6bjekvvzaL)\n",
      " Call ID: call_DO94BC5FwasIEq6bjekvvzaL\n",
      "  Args:\n",
      "    query: 2025년 석촌호수 루미나리에 빛축제 세부내용\n",
      "------------------------------ messages ------------------------------\n",
      "=================================\u001b[1m Tool Message \u001b[0m=================================\n",
      "Name: tavily_search\n",
      "\n",
      "{\"query\": \"2025년 석촌호수 루미나리에 빛축제 세부내용\", \"follow_up_questions\": null, \"answer\": null, \"images\": [], \"results\": [{\"url\": \"https://blog.naver.com/mirinsil/223637782279\", \"title\": \"2024 2025 잠실 석촌호수 빛축제 루미나리에 야경 산책 : 네이버 블로그\", \"content\": \"행사장소. 석촌호수 (서울 송파구 잠실동) ; 행사기간. 2024.10.25(금)~2025.02.28(금) ; 운영시간. 점등시간: 17:30~22:30 ; 지하철. 2호선, 8호선 잠실역 2\", \"score\": 0.82728493, \"raw_content\": null}, {\"url\": \"https://www.instagram.com/reel/DEWyBFNtG0u/\", \"title\": \"빛으로 새롭게, 예술을 더하다『 석촌호수 루미나리에 빛축제 』 빛의 ...\", \"content\": \"도심 속에서 빛나는 겨울밤의 낭만을 느끼고, 특별한 추억을 남길 수 있는 기회를 놓치지 마세요. 🗓️ 일정 : 2024. 10. 25. ~ 2025. 02. 28. ⏰ 점등시간 :\", \"score\": 0.7992077, \"raw_content\": null}, {\"url\": \"https://www.chosun.com/special/special_section/2024/10/28/KCJMZKBCTZGPXDEAXR6HXKWDIA/\", \"title\": \"\\\"호수에 별이 내린다\\\"... 송파구, 석촌호수 루미나리에 축제 개최\", \"content\": \"송파구(구청장 서강석)가 석촌호수 일대에서 빛 축제인 '호수의 가을과 겨울 그리고 루미나리에'를 개최한다. 축제는 내년 2월 28일까지 이어진다.\", \"score\": 0.6824261, \"raw_content\": null}, {\"url\": \"https://songpa.newstool.co.kr/pdf/songpa_202410.pdf\", \"title\": \"[PDF] 호수의 가을과 겨울 그리고 루미나리에 - Dream, Universe & Love\", \"content\": \"•일 시 10월 26일(토) ~ 27일(일) 12:00~20:00. •장 소 석촌호수 동호 수변무대 인근 길목. •내 용 야광팔찌 만들기, 네온페이스페인팅 등. 야경을 즐기며\", \"score\": 0.6680367, \"raw_content\": null}, {\"url\": \"https://www.instagram.com/p/DBi9zg8S3Rr/\", \"title\": \"호수의 가을과 겨울 그리고 루미나리에   Dream, Universe ... - Instagram\", \"content\": \"... 석촌호수를 빛과 계절로 물들이는 루미나리에 축제가 시작됐습니다✨ ​ 10월 25일(금)~2025년 ... ✨호수의 가을과 겨울 그리고 루미나리에✨ Dream\", \"score\": 0.6625569, \"raw_content\": null}], \"response_time\": 0.0, \"request_id\": \"be411268-e47c-4b6e-92b0-b29dd11a6660\"}\n",
      "------------------------------ messages ------------------------------\n",
      "==================================\u001b[1m Ai Message \u001b[0m==================================\n",
      "\n",
      "2025년 10월 25일부터 2025년 2월 28일까지 석촌호수에서 \"루미나리에 빛축제\"가 열립니다. 주요 세부 내용은 다음과 같습니다:\n",
      "\n",
      "- 장소: 석촌호수 (서울 송파구 잠실동)\n",
      "- 점등 시간: 오후 5시 30분부터 오후 10시 30분까지\n",
      "- 축제 주제: \"Dream, Universe & Love\"\n",
      "- 행사 기간 동안 야광팔찌 만들기, 네온 페이스 페인팅 등 다양한 체험 프로그램이 진행됩니다.\n",
      "- 축제는 가을과 겨울의 낭만적인 빛과 예술을 즐길 수 있는 행사로, 도심 속에서 특별한 추억을 만들 수 있는 기회입니다.\n",
      "\n",
      "필요하면 더 구체적인 일정이나 프로그램 정보도 찾아드릴 수 있습니다.\n"
     ]
    }
   ],
   "source": [
    "question = \"2025년 10월 석촌역에서 축제 하는거 알아? 우선 그 축제부터 찾고, 이후에 세부내용 웹서치해서 다시 알려줘\"\n",
    "\n",
    "for evt in graph.stream({\"messages\" : question}, stream_mode = \"values\"):\n",
    "    for key, value in evt.items():\n",
    "        print(\"-\"*30, key, \"-\"*30)\n",
    "        value[-1].pretty_print()"
   ]
  }
 ],
 "metadata": {
  "kernelspec": {
   "display_name": "Langchain_basic",
   "language": "python",
   "name": "python3"
  },
  "language_info": {
   "codemirror_mode": {
    "name": "ipython",
    "version": 3
   },
   "file_extension": ".py",
   "mimetype": "text/x-python",
   "name": "python",
   "nbconvert_exporter": "python",
   "pygments_lexer": "ipython3",
   "version": "3.11.13"
  }
 },
 "nbformat": 4,
 "nbformat_minor": 5
}
