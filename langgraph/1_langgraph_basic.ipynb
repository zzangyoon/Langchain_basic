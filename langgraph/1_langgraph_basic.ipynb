{
 "cells": [
  {
   "cell_type": "markdown",
   "id": "1f942b20",
   "metadata": {},
   "source": [
    "# 단순 챗봇을 Langgraph로 만들기"
   ]
  },
  {
   "cell_type": "code",
   "execution_count": 1,
   "id": "b47393b8",
   "metadata": {},
   "outputs": [
    {
     "data": {
      "text/plain": [
       "True"
      ]
     },
     "execution_count": 1,
     "metadata": {},
     "output_type": "execute_result"
    }
   ],
   "source": [
    "from dotenv import load_dotenv\n",
    "load_dotenv()"
   ]
  },
  {
   "cell_type": "markdown",
   "id": "51e03192",
   "metadata": {},
   "source": [
    "## 1. 상태를 정의하기"
   ]
  },
  {
   "cell_type": "markdown",
   "id": "0bacb965",
   "metadata": {},
   "source": [
    "- state 정의\n",
    "- 이름이나 대화내용 설정"
   ]
  },
  {
   "cell_type": "markdown",
   "id": "adf2b3f5",
   "metadata": {},
   "source": [
    "```\n",
    "uv add langgraph\n",
    "```"
   ]
  },
  {
   "cell_type": "code",
   "execution_count": 2,
   "id": "610cff48",
   "metadata": {},
   "outputs": [],
   "source": [
    "from typing import Annotated, TypedDict\n",
    "from langgraph.graph import StateGraph, START, END\n",
    "from langgraph.graph.message import add_messages"
   ]
  },
  {
   "cell_type": "code",
   "execution_count": null,
   "id": "0981ce43",
   "metadata": {},
   "outputs": [],
   "source": [
    "# [대화내용] = [] -> 단계가 진행될때마다 대화내용.append(ai 답변, human 답변, 툴 사용내용)"
   ]
  },
  {
   "cell_type": "code",
   "execution_count": null,
   "id": "8360b31a",
   "metadata": {},
   "outputs": [],
   "source": [
    "# 지금까지 나눴던 대화 내용\n",
    "class BasicState(TypedDict):\n",
    "    messages : Annotated[list, add_messages]"
   ]
  },
  {
   "cell_type": "markdown",
   "id": "de744399",
   "metadata": {},
   "source": [
    "## 2. 상태에 기반한 노드 정의"
   ]
  },
  {
   "cell_type": "code",
   "execution_count": 5,
   "id": "2a932ec6",
   "metadata": {},
   "outputs": [],
   "source": [
    "from langchain_openai import ChatOpenAI\n",
    "\n",
    "# 모델\n",
    "model = ChatOpenAI(\n",
    "    model = \"gpt-4.1-mini\",\n",
    "    temperature = 0\n",
    ")\n",
    "\n",
    "# 기본 함수 정의 (대화내용 다루는 함수)\n",
    "# BasicState : 지금까지 나눴던 대화 내용 -> chat() : 대화내용 다루는 함수 -> 다시 BasicState에 저장\n",
    "def chat(state: BasicState):\n",
    "    return {\"messages\" : [model.invoke(state[\"messages\"])]}"
   ]
  },
  {
   "cell_type": "markdown",
   "id": "9e12746b",
   "metadata": {},
   "source": [
    "## 3. 그래프 정의 및 노드 추가"
   ]
  },
  {
   "cell_type": "code",
   "execution_count": 4,
   "id": "10e9c2d9",
   "metadata": {},
   "outputs": [
    {
     "data": {
      "text/plain": [
       "{'nodes': {},\n",
       " 'edges': set(),\n",
       " 'branches': defaultdict(dict, {}),\n",
       " 'schemas': {__main__.BasicState: {'messages': <langgraph.channels.binop.BinaryOperatorAggregate at 0x14c1de19440>}},\n",
       " 'channels': {'messages': <langgraph.channels.binop.BinaryOperatorAggregate at 0x14c1de19440>},\n",
       " 'managed': {},\n",
       " 'compiled': False,\n",
       " 'waiting_edges': set(),\n",
       " 'state_schema': __main__.BasicState,\n",
       " 'input_schema': __main__.BasicState,\n",
       " 'output_schema': __main__.BasicState,\n",
       " 'context_schema': None}"
      ]
     },
     "execution_count": 4,
     "metadata": {},
     "output_type": "execute_result"
    }
   ],
   "source": [
    "# 그래프 생성해보기\n",
    "graph_builder = StateGraph(BasicState)\n",
    "graph_builder.__dict__"
   ]
  },
  {
   "cell_type": "code",
   "execution_count": 6,
   "id": "37e49109",
   "metadata": {},
   "outputs": [
    {
     "data": {
      "text/plain": [
       "{'nodes': {'graphChatbot': StateNodeSpec(runnable=graphChatbot(tags=None, recurse=True, explode_args=False, func_accepts={}), metadata=None, input_schema=<class '__main__.BasicState'>, retry_policy=None, cache_policy=None, ends=(), defer=False)},\n",
       " 'edges': set(),\n",
       " 'branches': defaultdict(dict, {}),\n",
       " 'schemas': {__main__.BasicState: {'messages': <langgraph.channels.binop.BinaryOperatorAggregate at 0x14c1de19440>}},\n",
       " 'channels': {'messages': <langgraph.channels.binop.BinaryOperatorAggregate at 0x14c1de19440>},\n",
       " 'managed': {},\n",
       " 'compiled': False,\n",
       " 'waiting_edges': set(),\n",
       " 'state_schema': __main__.BasicState,\n",
       " 'input_schema': __main__.BasicState,\n",
       " 'output_schema': __main__.BasicState,\n",
       " 'context_schema': None}"
      ]
     },
     "execution_count": 6,
     "metadata": {},
     "output_type": "execute_result"
    }
   ],
   "source": [
    "graph_builder.add_node(\"graphChatbot\", chat)\n",
    "graph_builder.__dict__"
   ]
  },
  {
   "cell_type": "markdown",
   "id": "3502cff1",
   "metadata": {},
   "source": [
    "## 4. 엣지 추가하기"
   ]
  },
  {
   "cell_type": "code",
   "execution_count": 7,
   "id": "65541fe9",
   "metadata": {},
   "outputs": [
    {
     "data": {
      "text/plain": [
       "{'nodes': {'graphChatbot': StateNodeSpec(runnable=graphChatbot(tags=None, recurse=True, explode_args=False, func_accepts={}), metadata=None, input_schema=<class '__main__.BasicState'>, retry_policy=None, cache_policy=None, ends=(), defer=False)},\n",
       " 'edges': {('__start__', 'graphChatbot')},\n",
       " 'branches': defaultdict(dict, {}),\n",
       " 'schemas': {__main__.BasicState: {'messages': <langgraph.channels.binop.BinaryOperatorAggregate at 0x14c1de19440>}},\n",
       " 'channels': {'messages': <langgraph.channels.binop.BinaryOperatorAggregate at 0x14c1de19440>},\n",
       " 'managed': {},\n",
       " 'compiled': False,\n",
       " 'waiting_edges': set(),\n",
       " 'state_schema': __main__.BasicState,\n",
       " 'input_schema': __main__.BasicState,\n",
       " 'output_schema': __main__.BasicState,\n",
       " 'context_schema': None}"
      ]
     },
     "execution_count": 7,
     "metadata": {},
     "output_type": "execute_result"
    }
   ],
   "source": [
    "graph_builder.add_edge(START, \"graphChatbot\")\n",
    "graph_builder.__dict__"
   ]
  },
  {
   "cell_type": "code",
   "execution_count": 8,
   "id": "90029c12",
   "metadata": {},
   "outputs": [
    {
     "data": {
      "text/plain": [
       "{'nodes': {'graphChatbot': StateNodeSpec(runnable=graphChatbot(tags=None, recurse=True, explode_args=False, func_accepts={}), metadata=None, input_schema=<class '__main__.BasicState'>, retry_policy=None, cache_policy=None, ends=(), defer=False)},\n",
       " 'edges': {('__start__', 'graphChatbot'), ('graphChatbot', '__end__')},\n",
       " 'branches': defaultdict(dict, {}),\n",
       " 'schemas': {__main__.BasicState: {'messages': <langgraph.channels.binop.BinaryOperatorAggregate at 0x14c1de19440>}},\n",
       " 'channels': {'messages': <langgraph.channels.binop.BinaryOperatorAggregate at 0x14c1de19440>},\n",
       " 'managed': {},\n",
       " 'compiled': False,\n",
       " 'waiting_edges': set(),\n",
       " 'state_schema': __main__.BasicState,\n",
       " 'input_schema': __main__.BasicState,\n",
       " 'output_schema': __main__.BasicState,\n",
       " 'context_schema': None}"
      ]
     },
     "execution_count": 8,
     "metadata": {},
     "output_type": "execute_result"
    }
   ],
   "source": [
    "graph_builder.add_edge(\"graphChatbot\", END)\n",
    "graph_builder.__dict__"
   ]
  },
  {
   "cell_type": "markdown",
   "id": "68f6080d",
   "metadata": {},
   "source": [
    "## 5. 그림으로 보기"
   ]
  },
  {
   "cell_type": "code",
   "execution_count": 9,
   "id": "48902988",
   "metadata": {},
   "outputs": [],
   "source": [
    "graph = graph_builder.compile()"
   ]
  },
  {
   "cell_type": "code",
   "execution_count": 10,
   "id": "1226cd10",
   "metadata": {},
   "outputs": [
    {
     "data": {
      "image/png": "[encoded data removed]",
      "text/plain": [
       "<langgraph.graph.state.CompiledStateGraph object at 0x0000014C1DE1BA50>"
      ]
     },
     "execution_count": 10,
     "metadata": {},
     "output_type": "execute_result"
    }
   ],
   "source": [
    "graph"
   ]
  },
  {
   "cell_type": "code",
   "execution_count": 11,
   "id": "71cc0759",
   "metadata": {},
   "outputs": [],
   "source": [
    "question = \"오늘 석촌역에서 하는 행사가 뭐야?\"\n",
    "result = graph.invoke({\"messages\" : [(\"user\", question)]})"
   ]
  },
  {
   "cell_type": "code",
   "execution_count": 12,
   "id": "99dcc89d",
   "metadata": {},
   "outputs": [
    {
     "name": "stdout",
     "output_type": "stream",
     "text": [
      "{'messages': [HumanMessage(content='오늘 석촌역에서 하는 행사가 뭐야?', additional_kwargs={}, response_metadata={}, id='16be7e3d-f95b-4d8c-8548-32b0676606ce'), AIMessage(content='죄송하지만 오늘 석촌역에서 어떤 행사가 있는지에 대한 실시간 정보는 제공해드리기 어렵습니다. 석촌역 인근의 행사 정보를 확인하시려면 서울시 공식 홈페이지나 석촌역 인근 상가, 지역 커뮤니티, 또는 SNS를 참고해 보시는 것을 추천드립니다. 도움이 필요하시면 다른 질문도 언제든지 말씀해 주세요!', additional_kwargs={'refusal': None}, response_metadata={'token_usage': {'completion_tokens': 85, 'prompt_tokens': 19, 'total_tokens': 104, 'completion_tokens_details': {'accepted_prediction_tokens': 0, 'audio_tokens': 0, 'reasoning_tokens': 0, 'rejected_prediction_tokens': 0}, 'prompt_tokens_details': {'audio_tokens': 0, 'cached_tokens': 0}}, 'model_name': 'gpt-4.1-mini-2025-04-14', 'system_fingerprint': 'fp_c064fdde7c', 'id': 'chatcmpl-CRXPi0K5M98piydxnCkpGHpUKIU3R', 'service_tier': 'default', 'finish_reason': 'stop', 'logprobs': None}, id='run--e7d4e08d-90e1-4bd8-96cc-68fe5af4ecd1-0', usage_metadata={'input_tokens': 19, 'output_tokens': 85, 'total_tokens': 104, 'input_token_details': {'audio': 0, 'cache_read': 0}, 'output_token_details': {'audio': 0, 'reasoning': 0}})]}\n"
     ]
    }
   ],
   "source": [
    "print(result)"
   ]
  },
  {
   "cell_type": "code",
   "execution_count": 13,
   "id": "71ec5c8c",
   "metadata": {},
   "outputs": [
    {
     "name": "stdout",
     "output_type": "stream",
     "text": [
      "오늘 석촌역에서 하는 행사가 뭐야?\n",
      "--------------------------------------------------\n",
      "죄송하지만 오늘 석촌역에서 어떤 행사가 있는지에 대한 실시간 정보는 제공해드리기 어렵습니다. 석촌역 인근의 행사 정보를 확인하시려면 서울시 공식 홈페이지나 석촌역 인근 상가, 지역 커뮤니티, 또는 SNS를 참고해 보시는 것을 추천드립니다. 도움이 필요하시면 다른 질문도 언제든지 말씀해 주세요!\n",
      "--------------------------------------------------\n"
     ]
    }
   ],
   "source": [
    "for item in result[\"messages\"]:\n",
    "    print(item.content)\n",
    "    print(\"-\"*50)"
   ]
  },
  {
   "cell_type": "code",
   "execution_count": 14,
   "id": "f5390676",
   "metadata": {},
   "outputs": [
    {
     "name": "stdout",
     "output_type": "stream",
     "text": [
      "너는 아는 것이 뭐가 있니?\n",
      "--------------------------------------------------\n",
      "안녕하세요! 저는 다양한 주제에 대해 도움을 드릴 수 있는 인공지능 언어 모델이에요. 예를 들어, 언어 번역, 글쓰기, 코딩, 과학, 역사, 문화, 일상 생활 조언 등 여러 분야에 대해 질문하시면 답변해 드릴 수 있어요. 궁금한 것이 있으면 언제든지 물어보세요!\n",
      "--------------------------------------------------\n"
     ]
    }
   ],
   "source": [
    "question = \"너는 아는 것이 뭐가 있니?\"\n",
    "result = graph.invoke({\"messages\" : [(\"user\", question)]})\n",
    "\n",
    "for item in result[\"messages\"]:\n",
    "    print(item.content)\n",
    "    print(\"-\"*50)"
   ]
  }
 ],
 "metadata": {
  "kernelspec": {
   "display_name": "Langchain_basic",
   "language": "python",
   "name": "python3"
  },
  "language_info": {
   "codemirror_mode": {
    "name": "ipython",
    "version": 3
   },
   "file_extension": ".py",
   "mimetype": "text/x-python",
   "name": "python",
   "nbconvert_exporter": "python",
   "pygments_lexer": "ipython3",
   "version": "3.11.13"
  }
 },
 "nbformat": 4,
 "nbformat_minor": 5
}
