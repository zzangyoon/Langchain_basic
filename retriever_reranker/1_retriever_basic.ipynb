{
 "cells": [
  {
   "cell_type": "markdown",
   "id": "ab3ddaf7",
   "metadata": {},
   "source": [
    "```\n",
    "uv add rich\n",
    "```"
   ]
  },
  {
   "cell_type": "code",
   "execution_count": 1,
   "id": "efb92c0a",
   "metadata": {},
   "outputs": [
    {
     "data": {
      "text/plain": [
       "True"
      ]
     },
     "execution_count": 1,
     "metadata": {},
     "output_type": "execute_result"
    }
   ],
   "source": [
    "from dotenv import load_dotenv\n",
    "load_dotenv()"
   ]
  },
  {
   "cell_type": "code",
   "execution_count": 10,
   "id": "6519df24",
   "metadata": {},
   "outputs": [],
   "source": [
    "# 출력 예쁘게 하기\n",
    "from rich.console import Console\n",
    "from rich.table import Table\n",
    "\n",
    "console = Console()\n",
    "\n",
    "def rich_docs(docs, max_len=140, title=\"Retriever Results\"):\n",
    "    table = Table(title=title)\n",
    "    table.add_column(\"#\", justify=\"right\")\n",
    "    table.add_column(\"Source\")\n",
    "    table.add_column(\"Page\", justify=\"right\")\n",
    "    table.add_column(\"Preview\")\n",
    "\n",
    "    for i, d in enumerate(docs, 1):\n",
    "        m = d.metadata or {}\n",
    "        src = (m.get(\"source\",\"\") or \"\").split(\"/\")[-1]\n",
    "        page = str(m.get(\"page_label\", m.get(\"page\",0)+1))\n",
    "        text = (d.page_content or \"\").strip().replace(\"\\n\", \" \")\n",
    "        table.add_row(str(i), src, page, (text[:max_len] + (\"…\" if len(text) > max_len else \"\")))\n",
    "\n",
    "    console.print(table)"
   ]
  },
  {
   "cell_type": "markdown",
   "id": "facf1c39",
   "metadata": {},
   "source": [
    "## retriever 설정값\n",
    "- 일반 RAG 기본값 : similarity or mmr\n",
    "- 중복이 많을 경우 : mmr\n",
    "- 그 외 필터링이 필요한 경우 : search_kwargs 에 다양한 옵션값을 넣어주면 된다"
   ]
  },
  {
   "cell_type": "markdown",
   "id": "7f79156e",
   "metadata": {},
   "source": [
    "## advanced_retriever\n",
    "- 길이가 길 경우 : compressed_retriever -> 필요할 때 Parent-Child\n",
    "- 용어가 중요할 경우 : hybrid (vec + bm25(keyword))\n",
    "- 정확도 극대화 : similarity -> reranker -> reorder"
   ]
  },
  {
   "cell_type": "code",
   "execution_count": 2,
   "id": "b02699d3",
   "metadata": {},
   "outputs": [],
   "source": [
    "from langchain_openai import OpenAIEmbeddings, ChatOpenAI\n",
    "from langchain_chroma import Chroma"
   ]
  },
  {
   "cell_type": "code",
   "execution_count": 3,
   "id": "921cac5c",
   "metadata": {},
   "outputs": [
    {
     "data": {
      "text/plain": [
       "444"
      ]
     },
     "execution_count": 3,
     "metadata": {},
     "output_type": "execute_result"
    }
   ],
   "source": [
    "emb = OpenAIEmbeddings(model = \"text-embedding-3-small\")\n",
    "db_path = \"../vectorStore/chroma_store\"\n",
    "col_name = \"samsung_all\"\n",
    "vecStore = Chroma(\n",
    "    persist_directory = db_path,\n",
    "    collection_name = col_name,\n",
    "    embedding_function = emb\n",
    ")\n",
    "vecStore._collection.count()"
   ]
  },
  {
   "cell_type": "code",
   "execution_count": 4,
   "id": "7cc34c4c",
   "metadata": {},
   "outputs": [
    {
     "name": "stdout",
     "output_type": "stream",
     "text": [
      "1536\n"
     ]
    }
   ],
   "source": [
    "dim_size = emb.embed_query(\"안녕하세요\")\n",
    "print(len(dim_size))"
   ]
  },
  {
   "cell_type": "code",
   "execution_count": null,
   "id": "a4b623b2",
   "metadata": {},
   "outputs": [],
   "source": [
    "dim_size"
   ]
  },
  {
   "cell_type": "markdown",
   "id": "c842710f",
   "metadata": {},
   "source": [
    "## 1. 벡터 기반 검색기 (유사도 / mmr / score_threshold / filter)"
   ]
  },
  {
   "cell_type": "markdown",
   "id": "60fa2c9e",
   "metadata": {},
   "source": [
    "### 1) 유사도 기반"
   ]
  },
  {
   "cell_type": "code",
   "execution_count": 16,
   "id": "0b5ca9a6",
   "metadata": {},
   "outputs": [
    {
     "data": {
      "text/plain": [
       "[Document(id='samsung_2025::5fad0853-0b42-41fb-a504-331453fbc26b', metadata={'creator': 'Adobe InDesign 15.1 (Macintosh)', 'page': 85, 'producer': 'Adobe PDF Library 15.0', 'trapped': '/False', 'total_pages': 87, 'moddate': '2025-09-04T16:51:11+09:00', 'page_label': '86', 'source': '../data/Samsung_Electronics_Sustainability_Report_2025_KOR.pdf', 'creationdate': '2025-07-10T16:11:16+09:00'}, page_content='·  삼성전자주식회사 지속가능경영 웹사이트   \\nhttp://www.samsung.com/sec/sustainability/main\\n·  삼성전자주식회사 IR 웹사이트   \\nhttp://www.samsung.com/sec/ir\\n·  삼성전자주식회사 뉴스룸   \\nhttp://news.samsung.com/kr   \\nhttp://news.samsung.com/global\\n담당 부서\\n· 삼성전자주식회사 지속가능경영추진센터\\n· 주소: 16677 경기도 수원시 영통구 삼성로 129(매탄동)\\n· 이메일: sustainability.sec@samsung.com\\n참고 자료\\n·  사업 보고서 \\n·  기업지배구조 보고서 \\n·  삼성전자 책임광물 관리 보고서 \\n·  행동규범 \\n·  행동규범 가이드라인 \\n미래 예측 진술 공지\\n삼성전자주식회사의 지속가능경영보고서에서 삼성전자의 지속가능경영 목표 및  전략과 관련된 \\n것을 포함하여 이 루어진 모 든 특정 내용은 관련법상 미래  예측 진술에 해 당할 수 있습니다. 이 \\n지속가능경영보고서에서는 향후 상황 및 지속가능경영 성과에 대한 삼성전자의 현재 견해를 반영하는 \\n미래 예측 진술이 포함되어 있습니다. 이와 같은 내용은 위험과 불확실성을 포함하고 있습니다.\\n어떠한 사실이 현 재 또는 과거 시점에만 국한되는 것 이 아니라 미래에도 유관한 경 우 미래 예측 \\n진술로 볼 수 있습니다. 예를 들어, 삼성전자의 전망, 지침, 그 외 특정 과거 혹은 현재의 사실과 직접적 \\n연관성이 있지 않은 정보 등을 포함합니다. 경우에 따라 \"may,\" \"will,\" \"could,\" \"should,\" \"forecasts,\" \\n\"expects, \" \"intends,\" \"plans,\" “aims to ”, “goals,” “trying to, ” \"anticipates, \" \"projects, \" \\n\"outlook,\" \"believes,\" \"estimates,\" \"predicts,\" \"potential,\" \"continue,\" \"preliminary,\" “추진”,'),\n",
       " Document(id='samsung_2024::a2b24b3a-2961-4c95-8fdd-045b27e8aed0', metadata={'page_label': '82', 'total_pages': 83, 'source': '../data/Sustainability_report_2024_kr.pdf', 'producer': 'Adobe PDF Library 15.0', 'creationdate': '2024-11-25T11:10:32+09:00', 'moddate': '2024-11-25T11:10:46+09:00', 'creator': 'Adobe InDesign 15.1 (Macintosh)', 'trapped': '/False', 'page': 81}, page_content='비록 삼성전자주식회사는 지속가능경영보고서의 미래 예측 진술이 시의성 있고 합리적인 정보, 가정 \\n및 믿음에 기반한다고 판단하지만, 이러한 미래 예측 진술(그리고 이를 이루는 정보, 가정 및 믿음)은 \\n다양한 요인, 리스크, 불확실성의 영향권에 있으므로 실제 결과가 경영진의 기대 및 계획과 상이하게 \\n나타날 수 있습니다.\\n미래 예측 진술은 어 떠한 경우에도 해 당 진술이 이 루어진 그 시점에 한하여 유관하며, 삼성전자는 \\n새로운 정보, 미래의 사건 등으로 인해 미래 예측 진술을 업데이트 할 의무를 지지 않습니다.'),\n",
       " Document(id='samsung_2024::9f02cdc9-aae4-4f73-8cf8-ed16e0dcafd8', metadata={'page': 81, 'creationdate': '2024-11-25T11:10:32+09:00', 'source': '../data/Sustainability_report_2024_kr.pdf', 'moddate': '2024-11-25T11:10:46+09:00', 'creator': 'Adobe InDesign 15.1 (Macintosh)', 'total_pages': 83, 'page_label': '82', 'producer': 'Adobe PDF Library 15.0', 'trapped': '/False'}, page_content='ISAE3000을 적용했습니다.\\n관련 정보\\n·  삼성전자주식회사 대표 홈페이지 \\n http://www.samsung.com/sec\\n·  삼성전자주식회사 지속가능경영 웹사이트  \\n http://www.samsung.com/sec/sustainability/main\\n·  삼성전자주식회사 IR 홈페이지 \\n http://www.samsung.com/sec/ir\\n·  삼성전자주식회사 뉴스룸 \\n http://news.samsung.com/kr \\n http://news.samsung.com/global\\n담당 부서\\n· 삼성전자주식회사 지속가능경영추진센터\\n· 주소 : 16677 경기도 수원시 영통구 삼성로 129(매탄동)\\n· 이메일 : csr.partner@samsung.com\\n참고 자료\\n·  사업 보고서 \\n·  기업지배구조 보고서 \\n·  삼성전자 책임광물 관리 보고서 \\n·  CDP 보고서 \\n·  행동규범 \\n·  행동규범 가이드라인 \\n미래 예측 진술 공지\\n삼성전자주 식회사의 지속가능경영보고서에서 삼성전자의 ESG 목 표 및 전략과 관련된 것을 \\n포함하여 이루 어진 모든  특정 내용은 관련법상 미래 예 측 진술에 해당 할 수 있습니다. 이 \\n지속가능경영보고서에서는 향후 성황 및 ESG 성과에 대한 삼성전자의 현재 견해를 반영하는 미래 \\n예측 진술이 포함되어 있습니다. 이와 같은 내용은 위험과 불확실성을 포함하고 있습니다.\\n어떠한 사실이 현재 또는 과거 시 점에만 국한되는 것이 아니 라 미래에도 유 관한 경우 미래 예 측 \\n진술로 볼 수 있습니다. 예 를 들어, 삼성전자의 전망, 지침, 그  외 특정 과거 혹 은 현재의 사실과 \\n직접적 연관성이 있지 않은 정보 등을 포함합니다. 경우에 따라 \"may,\" \"will,\" \"could,\" \"should,\" \\n\"forecasts,\" \"expects,\" \"intends,\" \"plans,\" “aims to”, “goals,” “trying to,” \"anticipates,\" \"projects,\"'),\n",
       " Document(id='samsung_2025::9c718589-8a6e-4633-b6c0-349f4988ad0e', metadata={'moddate': '2025-09-04T16:51:11+09:00', 'creationdate': '2025-07-10T16:11:16+09:00', 'creator': 'Adobe InDesign 15.1 (Macintosh)', 'page_label': '86', 'producer': 'Adobe PDF Library 15.0', 'source': '../data/Samsung_Electronics_Sustainability_Report_2025_KOR.pdf', 'total_pages': 87, 'page': 85, 'trapped': '/False'}, page_content='삼성전자 지속가능경영보고서 2025\\n86\\n삼성전자주식회사는 경제·사회·환경적 가치 창출 성과를 다양한 이해관계자와 투명하게 소통하기 위해 2025년 열여덟 번째 지속가능경영보고서를 발간합니다.\\n작성 기준\\n본 보고서는 지속가능경영 보고 기준인 GRI(Global Reporting Initiative) \\nStandard 2021에 따라 작성했습니다. 또한 글로벌 지속가능경영 \\n표준과 이니셔티브인 UN SDGs(Sustainable Development Goals) \\n와 TCFD(Task Force on Climate -related Financial Disclosures), \\nSASB(Sustainability Accounting Standards Board)의 지표를 \\n반영했습니다.\\n보고 범위\\n국내와 해 외 모든 사업장과 공급망을 포함합니다. 재무성과는 K-IFRS \\n연결기준으로 작성했으며, 사업장 환경 성과는 국내 외 33개 생산 거점 \\n뿐만 아니라 판매/연구소 등을 포함 하여 수집한 데이터를 기준으로 \\n작성했습니다. 삼성전자의 본 점소재지는 경기도 수원시 영통구 삼성로 \\n129(매탄동)에 위치해 있습니다.\\n보고 기간\\n2024년 1월1일부터 2024년 12월 31일까지의 경제·사회·환경적 성과와 \\n활동을 담고 있으며, 일부 성과에 대해서는 2025년 6월 까지의 정보를 \\n포함하고 있습니다. 정량성과는 연도별 추이 분 석이 가능하도록 최근  \\n3개년 수치를 포함하고 있습니다.\\n보고 주기\\n매년(지난해 보고서 발간 시기: 2024년 6월)\\n보고서 인증\\n보고서 작성 프로세스와 게재된 정보에 대한 신뢰 확보를 위해 독립된 인증 \\n기관인 안진회계법인이 제3자 검증을 수 행했습니다. 검증기준은 ISAE \\n3000을 적용했습니다.\\n관련 정보\\n·  삼성전자주식회사 대표 웹사이트  \\nhttp://www.samsung.com/sec\\n·  삼성전자주식회사 지속가능경영 웹사이트   \\nhttp://www.samsung.com/sec/sustainability/main'),\n",
       " Document(id='samsung_2025::29ebc1a0-991f-44d1-aaf0-438b333cc7df', metadata={'trapped': '/False', 'page': 85, 'creationdate': '2025-07-10T16:11:16+09:00', 'source': '../data/Samsung_Electronics_Sustainability_Report_2025_KOR.pdf', 'producer': 'Adobe PDF Library 15.0', 'moddate': '2025-09-04T16:51:11+09:00', 'page_label': '86', 'total_pages': 87, 'creator': 'Adobe InDesign 15.1 (Macintosh)'}, page_content='비록 삼성전자주식회사는 지속가능경영보고서의 미래 예측 진술이 시의성 있고 합리적인 정보, 가정 \\n및 믿음에 기반한다고 판단하지만, 이러한 미래 예측 진술(그리고 이를 이루는 정보, 가정 및 믿음)은 \\n다양한 요인, 리스크, 불확실성의 영향권에 있으므로 실제 결과가 경영진의 기대 및 계획과 상이하게 \\n나타날 수 있습니다.\\n미래 예측 진술은 어떠한 경우에도 해당 진술이 이 루어진 그 시점에 한하여 유관하며, 삼성전자는 \\n새로운 정보, 미래의 사건 등으로 인해 미래 예측 진술을 업데이트 할 의무를 지지 않습니다.\\nAbout This Report\\nOur Company AppendixFacts & Figures PrinciplePlanet People')]"
      ]
     },
     "execution_count": 16,
     "metadata": {},
     "output_type": "execute_result"
    }
   ],
   "source": [
    "question = \"삼성의 지속 가능성에 대해 알려줘\"\n",
    "\n",
    "ret_similarity = vecStore.as_retriever(\n",
    "    search_type = \"similarity\",\n",
    "    search_kwargs = {\"k\" : 5}\n",
    ")\n",
    "result = ret_similarity.invoke(question)\n",
    "result"
   ]
  },
  {
   "cell_type": "code",
   "execution_count": 17,
   "id": "62b645a1",
   "metadata": {},
   "outputs": [
    {
     "data": {
      "text/html": [
       "<pre style=\"white-space:pre;overflow-x:auto;line-height:normal;font-family:Menlo,'DejaVu Sans Mono',consolas,'Courier New',monospace\"><span style=\"font-style: italic\">                                              유사도 기반 탑 5개 확인                                              </span>\n",
       "┏━━━┳━━━━━━━━━━━━━━━━━━━━━━━━━━━━━━━━━━━━━━━━━━━━━━━━━━┳━━━━━━┳━━━━━━━━━━━━━━━━━━━━━━━━━━━━━━━━━━━━━━━━━━━━━━━━━━━┓\n",
       "┃<span style=\"font-weight: bold\"> # </span>┃<span style=\"font-weight: bold\"> Source                                           </span>┃<span style=\"font-weight: bold\"> Page </span>┃<span style=\"font-weight: bold\"> Preview                                           </span>┃\n",
       "┡━━━╇━━━━━━━━━━━━━━━━━━━━━━━━━━━━━━━━━━━━━━━━━━━━━━━━━━╇━━━━━━╇━━━━━━━━━━━━━━━━━━━━━━━━━━━━━━━━━━━━━━━━━━━━━━━━━━━┩\n",
       "│ 1 │ Samsung_Electronics_Sustainability_Report_2025_… │   86 │ ·  삼성전자주식회사 지속가능경영 웹사이트         │\n",
       "│   │                                                  │      │ http://www.samsung.com/sec/sustainability/main ·  │\n",
       "│   │                                                  │      │ 삼성전자주식회사 IR 웹사이트                      │\n",
       "│   │                                                  │      │ http://www.samsung.com/sec/ir ·  삼성전자주식회 … │\n",
       "│   │                                                  │      │ 뉴…                                               │\n",
       "│ 2 │ Sustainability_report_2024_kr.pdf                │   82 │ 비록 삼성전자주식회사는 지속가능경영보고서의 미 … │\n",
       "│   │                                                  │      │ 예측 진술이 시의성 있고 합리적인 정보, 가정  및   │\n",
       "│   │                                                  │      │ 믿음에 기반한다고 판단하지만, 이러한 미래 예측    │\n",
       "│   │                                                  │      │ 진술(그리고 이를 이루는 정보, 가정 및 믿음)은     │\n",
       "│   │                                                  │      │ 다양한 요인, 리스크, 불확실성의 영향권에          │\n",
       "│   │                                                  │      │ 있으므로…                                         │\n",
       "│ 3 │ Sustainability_report_2024_kr.pdf                │   82 │ ISAE3000을 적용했습니다. 관련 정보 ·              │\n",
       "│   │                                                  │      │ 삼성전자주식회사 대표 홈페이지                    │\n",
       "│   │                                                  │      │ http://www.samsung.com/sec ·  삼성전자주식회사    │\n",
       "│   │                                                  │      │ 지속가능경영 웹사이트                             │\n",
       "│   │                                                  │      │ http://www.samsung.com/sec/sustainabilit…         │\n",
       "│ 4 │ Samsung_Electronics_Sustainability_Report_2025_… │   86 │ 삼성전자 지속가능경영보고서 2025 86               │\n",
       "│   │                                                  │      │ 삼성전자주식회사는 경제·사회·환경적 가치 창출     │\n",
       "│   │                                                  │      │ 성과를 다양한 이해관계자와 투명하게 소통하기 위 … │\n",
       "│   │                                                  │      │ 2025년 열여덟 번째 지속가능경영보고서를           │\n",
       "│   │                                                  │      │ 발간합니다. 작성 기준 본 보고서는 지속가능경영    │\n",
       "│   │                                                  │      │ 보고 기준인 GRI(G…                                │\n",
       "│ 5 │ Samsung_Electronics_Sustainability_Report_2025_… │   86 │ 비록 삼성전자주식회사는 지속가능경영보고서의 미 … │\n",
       "│   │                                                  │      │ 예측 진술이 시의성 있고 합리적인 정보, 가정  및   │\n",
       "│   │                                                  │      │ 믿음에 기반한다고 판단하지만, 이러한 미래 예측    │\n",
       "│   │                                                  │      │ 진술(그리고 이를 이루는 정보, 가정 및 믿음)은     │\n",
       "│   │                                                  │      │ 다양한 요인, 리스크, 불확실성의 영향권에          │\n",
       "│   │                                                  │      │ 있으므로…                                         │\n",
       "└───┴──────────────────────────────────────────────────┴──────┴───────────────────────────────────────────────────┘\n",
       "</pre>\n"
      ],
      "text/plain": [
       "\u001b[3m                                              유사도 기반 탑 5개 확인                                              \u001b[0m\n",
       "┏━━━┳━━━━━━━━━━━━━━━━━━━━━━━━━━━━━━━━━━━━━━━━━━━━━━━━━━┳━━━━━━┳━━━━━━━━━━━━━━━━━━━━━━━━━━━━━━━━━━━━━━━━━━━━━━━━━━━┓\n",
       "┃\u001b[1m \u001b[0m\u001b[1m#\u001b[0m\u001b[1m \u001b[0m┃\u001b[1m \u001b[0m\u001b[1mSource                                          \u001b[0m\u001b[1m \u001b[0m┃\u001b[1m \u001b[0m\u001b[1mPage\u001b[0m\u001b[1m \u001b[0m┃\u001b[1m \u001b[0m\u001b[1mPreview                                          \u001b[0m\u001b[1m \u001b[0m┃\n",
       "┡━━━╇━━━━━━━━━━━━━━━━━━━━━━━━━━━━━━━━━━━━━━━━━━━━━━━━━━╇━━━━━━╇━━━━━━━━━━━━━━━━━━━━━━━━━━━━━━━━━━━━━━━━━━━━━━━━━━━┩\n",
       "│ 1 │ Samsung_Electronics_Sustainability_Report_2025_… │   86 │ ·  삼성전자주식회사 지속가능경영 웹사이트         │\n",
       "│   │                                                  │      │ http://www.samsung.com/sec/sustainability/main ·  │\n",
       "│   │                                                  │      │ 삼성전자주식회사 IR 웹사이트                      │\n",
       "│   │                                                  │      │ http://www.samsung.com/sec/ir ·  삼성전자주식회 … │\n",
       "│   │                                                  │      │ 뉴…                                               │\n",
       "│ 2 │ Sustainability_report_2024_kr.pdf                │   82 │ 비록 삼성전자주식회사는 지속가능경영보고서의 미 … │\n",
       "│   │                                                  │      │ 예측 진술이 시의성 있고 합리적인 정보, 가정  및   │\n",
       "│   │                                                  │      │ 믿음에 기반한다고 판단하지만, 이러한 미래 예측    │\n",
       "│   │                                                  │      │ 진술(그리고 이를 이루는 정보, 가정 및 믿음)은     │\n",
       "│   │                                                  │      │ 다양한 요인, 리스크, 불확실성의 영향권에          │\n",
       "│   │                                                  │      │ 있으므로…                                         │\n",
       "│ 3 │ Sustainability_report_2024_kr.pdf                │   82 │ ISAE3000을 적용했습니다. 관련 정보 ·              │\n",
       "│   │                                                  │      │ 삼성전자주식회사 대표 홈페이지                    │\n",
       "│   │                                                  │      │ http://www.samsung.com/sec ·  삼성전자주식회사    │\n",
       "│   │                                                  │      │ 지속가능경영 웹사이트                             │\n",
       "│   │                                                  │      │ http://www.samsung.com/sec/sustainabilit…         │\n",
       "│ 4 │ Samsung_Electronics_Sustainability_Report_2025_… │   86 │ 삼성전자 지속가능경영보고서 2025 86               │\n",
       "│   │                                                  │      │ 삼성전자주식회사는 경제·사회·환경적 가치 창출     │\n",
       "│   │                                                  │      │ 성과를 다양한 이해관계자와 투명하게 소통하기 위 … │\n",
       "│   │                                                  │      │ 2025년 열여덟 번째 지속가능경영보고서를           │\n",
       "│   │                                                  │      │ 발간합니다. 작성 기준 본 보고서는 지속가능경영    │\n",
       "│   │                                                  │      │ 보고 기준인 GRI(G…                                │\n",
       "│ 5 │ Samsung_Electronics_Sustainability_Report_2025_… │   86 │ 비록 삼성전자주식회사는 지속가능경영보고서의 미 … │\n",
       "│   │                                                  │      │ 예측 진술이 시의성 있고 합리적인 정보, 가정  및   │\n",
       "│   │                                                  │      │ 믿음에 기반한다고 판단하지만, 이러한 미래 예측    │\n",
       "│   │                                                  │      │ 진술(그리고 이를 이루는 정보, 가정 및 믿음)은     │\n",
       "│   │                                                  │      │ 다양한 요인, 리스크, 불확실성의 영향권에          │\n",
       "│   │                                                  │      │ 있으므로…                                         │\n",
       "└───┴──────────────────────────────────────────────────┴──────┴───────────────────────────────────────────────────┘\n"
      ]
     },
     "metadata": {},
     "output_type": "display_data"
    }
   ],
   "source": [
    "rich_docs(result, title=\"유사도 기반 탑 5개 확인\")"
   ]
  },
  {
   "cell_type": "markdown",
   "id": "aa930ef8",
   "metadata": {},
   "source": [
    "### 2) mmr"
   ]
  },
  {
   "cell_type": "code",
   "execution_count": 12,
   "id": "53642900",
   "metadata": {},
   "outputs": [
    {
     "data": {
      "text/plain": [
       "[Document(id='samsung_2025::5fad0853-0b42-41fb-a504-331453fbc26b', metadata={'trapped': '/False', 'page': 85, 'source': '../data/Samsung_Electronics_Sustainability_Report_2025_KOR.pdf', 'page_label': '86', 'producer': 'Adobe PDF Library 15.0', 'creationdate': '2025-07-10T16:11:16+09:00', 'creator': 'Adobe InDesign 15.1 (Macintosh)', 'moddate': '2025-09-04T16:51:11+09:00', 'total_pages': 87}, page_content='·  삼성전자주식회사 지속가능경영 웹사이트   \\nhttp://www.samsung.com/sec/sustainability/main\\n·  삼성전자주식회사 IR 웹사이트   \\nhttp://www.samsung.com/sec/ir\\n·  삼성전자주식회사 뉴스룸   \\nhttp://news.samsung.com/kr   \\nhttp://news.samsung.com/global\\n담당 부서\\n· 삼성전자주식회사 지속가능경영추진센터\\n· 주소: 16677 경기도 수원시 영통구 삼성로 129(매탄동)\\n· 이메일: sustainability.sec@samsung.com\\n참고 자료\\n·  사업 보고서 \\n·  기업지배구조 보고서 \\n·  삼성전자 책임광물 관리 보고서 \\n·  행동규범 \\n·  행동규범 가이드라인 \\n미래 예측 진술 공지\\n삼성전자주식회사의 지속가능경영보고서에서 삼성전자의 지속가능경영 목표 및  전략과 관련된 \\n것을 포함하여 이 루어진 모 든 특정 내용은 관련법상 미래  예측 진술에 해 당할 수 있습니다. 이 \\n지속가능경영보고서에서는 향후 상황 및 지속가능경영 성과에 대한 삼성전자의 현재 견해를 반영하는 \\n미래 예측 진술이 포함되어 있습니다. 이와 같은 내용은 위험과 불확실성을 포함하고 있습니다.\\n어떠한 사실이 현 재 또는 과거 시점에만 국한되는 것 이 아니라 미래에도 유관한 경 우 미래 예측 \\n진술로 볼 수 있습니다. 예를 들어, 삼성전자의 전망, 지침, 그 외 특정 과거 혹은 현재의 사실과 직접적 \\n연관성이 있지 않은 정보 등을 포함합니다. 경우에 따라 \"may,\" \"will,\" \"could,\" \"should,\" \"forecasts,\" \\n\"expects, \" \"intends,\" \"plans,\" “aims to ”, “goals,” “trying to, ” \"anticipates, \" \"projects, \" \\n\"outlook,\" \"believes,\" \"estimates,\" \"predicts,\" \"potential,\" \"continue,\" \"preliminary,\" “추진”,'),\n",
       " Document(id='samsung_2025::7d51b73c-22eb-4a84-8f4f-be1304cb270a', metadata={'creator': 'Adobe InDesign 15.1 (Macintosh)', 'moddate': '2025-09-04T16:51:11+09:00', 'total_pages': 87, 'page_label': '1', 'source': '../data/Samsung_Electronics_Sustainability_Report_2025_KOR.pdf', 'creationdate': '2025-07-10T16:11:16+09:00', 'producer': 'Adobe PDF Library 15.0', 'trapped': '/False', 'page': 0}, page_content='삼성전자 지속가능경영보고서 2025\\nA Journey  Towards \\n a Sustainable Future\\nA Journey  Towards\\n a Sustainable Future'),\n",
       " Document(id='samsung_2025::2e384629-fead-48f4-833b-76a59fdaf95b', metadata={'creator': 'Adobe InDesign 15.1 (Macintosh)', 'page': 45, 'producer': 'Adobe PDF Library 15.0', 'page_label': '46', 'trapped': '/False', 'creationdate': '2025-07-10T16:11:16+09:00', 'source': '../data/Samsung_Electronics_Sustainability_Report_2025_KOR.pdf', 'moddate': '2025-09-04T16:51:11+09:00', 'total_pages': 87}, page_content='삼성전자 지속가능경영보고서 2025\\n46\\n주요 평가 항목\\n책임있는 구매관행\\n거래 기본 계약서 체결\\n삼성전자는 협력회사와의 거래 기본 계약서에 온실가스 관리를 포함한 협력회사 행동규범 준수 의무를 명시함으로써 \\n협력회사 지속가능경영 기반 강화를 위해 노력하고 있습니다. 특히 해외 사업장에서 활용하는 글로벌 계약서는 현지 \\n협력회사 담당자들이 보다 쉽게 이해할 수 있도록 영어, 중국어, 베트남어, 포르투갈어 등 다양한 언어로 제공되며, \\n아동근로 방지, 강제노동 금지, 법정 최저임금 준수 등을 요구하는 현지 법률을 준수하여 작성되었습니다.\\n시스템 기반 리스크 관리\\n삼성전자는 자연재해, 부정부실, 지속가능성 등 다양한 공급망 리스크 항목을 정의하였으며, 구매 통합 시스템을 \\n기반으로 리스크를 사전에 식별·관리하고 있습니다.\\n자연재해 리스크  삼성전자는 글로벌 주요 재해 정보 시스템\\n1)\\n과 연계하여 자연재해 발생 즉시 정보를 입수하는 \\n대응체계를 갖추고 있습니다. 재해가 발생하면 시스템에 등록된 협력회사 위치 정보를 활용하여 공급망 영향도를 \\n분석하고 이를 구매 담당자에게 자동으로 전달합니다.\\n1)  글로벌 재해 경보 및 조정 시스템(GDACS, Global Disaster Alert and Coordination System), 미국지질조사국(USGS, United States Geological \\nSurvey)\\n부정부실 리스크  삼성전자는 부정부실의 가능성이 있는 비정상적 업무 프로세스를 시스템으로 원천 차단하여 \\n투명하게 업무를 수행하며, 공정거래와 하도급 관련 법규 준수 여부를 정기적으로 현장점검하고 모니터링합니다.\\n지속가능성 리스크  삼성전자는 협력회사 재무현황, 노동인권, 환경, 안전보건, 책임광물·유해물질 사용 여부 등을 \\n정기적으로 모니터링하고 시스템으로 관리합니다.\\n하위 공급망 관리\\n지속적으로 증가하는 공급망 변동성과 불 확실성에 대응하기 위하여 삼성전자는 1 차 협력회사뿐 아니라 주요'),\n",
       " Document(id='samsung_2025::7faef93b-b16e-45c0-926f-724acffb9526', metadata={'moddate': '2025-09-04T16:51:11+09:00', 'creationdate': '2025-07-10T16:11:16+09:00', 'total_pages': 87, 'source': '../data/Samsung_Electronics_Sustainability_Report_2025_KOR.pdf', 'producer': 'Adobe PDF Library 15.0', 'page': 75, 'trapped': '/False', 'creator': 'Adobe InDesign 15.1 (Macintosh)', 'page_label': '76'}, page_content='삼성전자 지속가능경영보고서 2025\\n76\\n독립된 인증인의 인증보고서\\nOur Company AppendixFacts & Figures PrinciplePlanet People'),\n",
       " Document(id='samsung_2024::79f7cc88-6f99-493a-89fa-bfb7a54483aa', metadata={'creator': 'Adobe InDesign 15.1 (Macintosh)', 'page': 22, 'producer': 'Adobe PDF Library 15.0', 'total_pages': 83, 'creationdate': '2024-11-25T11:10:32+09:00', 'moddate': '2024-11-25T11:10:46+09:00', 'trapped': '/False', 'page_label': '23', 'source': '../data/Sustainability_report_2024_kr.pdf'}, page_content='삼성전자 지속가능경영보고서 2024\\n23\\nOur Company AppendixMateriality Assessment Facts & Figures PrinciplePlanet People\\n추진방향\\n국내 반도체 라인 증설에 따라 2030년 DS부문 제조사업장에 필요한 \\n공업용수는 2021년 대비 지속 증가할 것으로 전망합니다. 이에 2030년 \\n취수량을 2021년 수준으로 절감하는 것을 목표로 수립하고 폐수 재이용 \\n시스템 구축, 하수처리수 재이용 활성화를 위한 협약  체결 등 다양한 \\n활동을 수행하고 있습니다. 앞으로도 DS부문은 국내뿐만 아니라 글로벌 \\n제조사업장에서 수자원 영향을 최소화할 수 있도록 노력하겠습니다. \\n리스크 관리\\nDS부문은 수자원을 포함한 ESG 리스크 식별을 위해 ESG 리스크 관리 \\n체계를 구축했습니다. 이를 기반으로 대외 동향 모니터링 및 리스크 평가 \\n과정을 거쳐 식별된 중점관리 리스크는 경영진에게 보고되며 최종적으로 \\n지속가능경영 전략에 반영될 예정입니다.\\n수자원\\nWater\\n Planet / DS 부문\\n사업장 물 스트레스 레벨\\n한국(기흥/화성/평택/천안/온양) Medium-High\\n중국(시안/쑤저우) Extremely high\\n중국(톈진) Medium-High\\n미국(오스틴/테일러) Medium-High\\n용수 절감 \\n‧ 제조 용수 사용량 감축을 위한 제조 공정 최적화\\n‧ 유휴 및 휴면 설비 용수 공급 중단\\n‧ 설비 용수 사용 시간 조절\\n‧ 설비 운전 효율 향상을 위한 공정 개선\\n생태 보전\\n‧ 깨끗하게 처리한 물을 하천에 방류하여 하천유지 유량 확보 \\n‧ 수질 개선 및 생물다양성 확대 기여\\n용수 재이용 확대\\n재이용 시스템 구축\\n‧  폐수 재이용 시스템 및 신규기술 개발 투자를 통한 공업용수  \\n재활용률 극대화\\n‧ 폐수 농도별 단계적 기술 적용\\n‧ 초순수 제조 과정에서 발생하는 농축수 재활용\\n‧ 멤브레인 기술 기반 용수 재이용 기술 연구‧개발\\n외부 재이용수 활용\\n‧ 하수처리수 재이용 활성화 위한 협약 체결로 용수 공급원 확대')]"
      ]
     },
     "execution_count": 12,
     "metadata": {},
     "output_type": "execute_result"
    }
   ],
   "source": [
    "question = \"삼성의 지속 가능성에 대해 알려줘\"\n",
    "\n",
    "ret_mmr = vecStore.as_retriever(\n",
    "    search_type = \"mmr\",\n",
    "    search_kwargs = {\"k\": 5, \n",
    "                     \"fetch_k\": 20,\n",
    "                     \"lambda_mult\" : 0.5    # 1에 가까울수록 유사도가 큼 / 0에 가까울수록 중복 최소화&다양하게\n",
    "                     }\n",
    ")\n",
    "result_mmr = ret_mmr.invoke(question)\n",
    "result_mmr"
   ]
  },
  {
   "cell_type": "code",
   "execution_count": 13,
   "id": "f60dfdfd",
   "metadata": {},
   "outputs": [
    {
     "data": {
      "text/html": [
       "<pre style=\"white-space:pre;overflow-x:auto;line-height:normal;font-family:Menlo,'DejaVu Sans Mono',consolas,'Courier New',monospace\"><span style=\"font-style: italic\">                                                 mmr로 중복 최소화                                                 </span>\n",
       "┏━━━┳━━━━━━━━━━━━━━━━━━━━━━━━━━━━━━━━━━━━━━━━━━━━━━━━━━┳━━━━━━┳━━━━━━━━━━━━━━━━━━━━━━━━━━━━━━━━━━━━━━━━━━━━━━━━━━━┓\n",
       "┃<span style=\"font-weight: bold\"> # </span>┃<span style=\"font-weight: bold\"> Source                                           </span>┃<span style=\"font-weight: bold\"> Page </span>┃<span style=\"font-weight: bold\"> Preview                                           </span>┃\n",
       "┡━━━╇━━━━━━━━━━━━━━━━━━━━━━━━━━━━━━━━━━━━━━━━━━━━━━━━━━╇━━━━━━╇━━━━━━━━━━━━━━━━━━━━━━━━━━━━━━━━━━━━━━━━━━━━━━━━━━━┩\n",
       "│ 1 │ Samsung_Electronics_Sustainability_Report_2025_… │   86 │ ·  삼성전자주식회사 지속가능경영 웹사이트         │\n",
       "│   │                                                  │      │ http://www.samsung.com/sec/sustainability/main ·  │\n",
       "│   │                                                  │      │ 삼성전자주식회사 IR 웹사이트                      │\n",
       "│   │                                                  │      │ http://www.samsung.com/sec/ir ·  삼성전자주식회 … │\n",
       "│   │                                                  │      │ 뉴…                                               │\n",
       "│ 2 │ Samsung_Electronics_Sustainability_Report_2025_… │    1 │ 삼성전자 지속가능경영보고서 2025 A Journey        │\n",
       "│   │                                                  │      │ Towards   a Sustainable Future A Journey  Towards │\n",
       "│   │                                                  │      │ a Sustainable Future                              │\n",
       "│ 3 │ Samsung_Electronics_Sustainability_Report_2025_… │   46 │ 삼성전자 지속가능경영보고서 2025 46 주요 평가     │\n",
       "│   │                                                  │      │ 항목 책임있는 구매관행 거래 기본 계약서 체결      │\n",
       "│   │                                                  │      │ 삼성전자는 협력회사와의 거래 기본 계약서에        │\n",
       "│   │                                                  │      │ 온실가스 관리를 포함한 협력회사 행동규범 준수     │\n",
       "│   │                                                  │      │ 의무를 명시함으로써  협력회사 지속가능경영 기반   │\n",
       "│   │                                                  │      │ 강화를 위해 노…                                   │\n",
       "│ 4 │ Samsung_Electronics_Sustainability_Report_2025_… │   76 │ 삼성전자 지속가능경영보고서 2025 76 독립된        │\n",
       "│   │                                                  │      │ 인증인의 인증보고서 Our Company AppendixFacts &amp;   │\n",
       "│   │                                                  │      │ Figures PrinciplePlanet People                    │\n",
       "│ 5 │ Sustainability_report_2024_kr.pdf                │   23 │ 삼성전자 지속가능경영보고서 2024 23 Our Company   │\n",
       "│   │                                                  │      │ AppendixMateriality Assessment Facts &amp; Figures    │\n",
       "│   │                                                  │      │ PrinciplePlanet People 추진방향 국내 반도체 라인  │\n",
       "│   │                                                  │      │ 증설에 따라 2030년 DS부문 제조…                   │\n",
       "└───┴──────────────────────────────────────────────────┴──────┴───────────────────────────────────────────────────┘\n",
       "</pre>\n"
      ],
      "text/plain": [
       "\u001b[3m                                                 mmr로 중복 최소화                                                 \u001b[0m\n",
       "┏━━━┳━━━━━━━━━━━━━━━━━━━━━━━━━━━━━━━━━━━━━━━━━━━━━━━━━━┳━━━━━━┳━━━━━━━━━━━━━━━━━━━━━━━━━━━━━━━━━━━━━━━━━━━━━━━━━━━┓\n",
       "┃\u001b[1m \u001b[0m\u001b[1m#\u001b[0m\u001b[1m \u001b[0m┃\u001b[1m \u001b[0m\u001b[1mSource                                          \u001b[0m\u001b[1m \u001b[0m┃\u001b[1m \u001b[0m\u001b[1mPage\u001b[0m\u001b[1m \u001b[0m┃\u001b[1m \u001b[0m\u001b[1mPreview                                          \u001b[0m\u001b[1m \u001b[0m┃\n",
       "┡━━━╇━━━━━━━━━━━━━━━━━━━━━━━━━━━━━━━━━━━━━━━━━━━━━━━━━━╇━━━━━━╇━━━━━━━━━━━━━━━━━━━━━━━━━━━━━━━━━━━━━━━━━━━━━━━━━━━┩\n",
       "│ 1 │ Samsung_Electronics_Sustainability_Report_2025_… │   86 │ ·  삼성전자주식회사 지속가능경영 웹사이트         │\n",
       "│   │                                                  │      │ http://www.samsung.com/sec/sustainability/main ·  │\n",
       "│   │                                                  │      │ 삼성전자주식회사 IR 웹사이트                      │\n",
       "│   │                                                  │      │ http://www.samsung.com/sec/ir ·  삼성전자주식회 … │\n",
       "│   │                                                  │      │ 뉴…                                               │\n",
       "│ 2 │ Samsung_Electronics_Sustainability_Report_2025_… │    1 │ 삼성전자 지속가능경영보고서 2025 A Journey        │\n",
       "│   │                                                  │      │ Towards   a Sustainable Future A Journey  Towards │\n",
       "│   │                                                  │      │ a Sustainable Future                              │\n",
       "│ 3 │ Samsung_Electronics_Sustainability_Report_2025_… │   46 │ 삼성전자 지속가능경영보고서 2025 46 주요 평가     │\n",
       "│   │                                                  │      │ 항목 책임있는 구매관행 거래 기본 계약서 체결      │\n",
       "│   │                                                  │      │ 삼성전자는 협력회사와의 거래 기본 계약서에        │\n",
       "│   │                                                  │      │ 온실가스 관리를 포함한 협력회사 행동규범 준수     │\n",
       "│   │                                                  │      │ 의무를 명시함으로써  협력회사 지속가능경영 기반   │\n",
       "│   │                                                  │      │ 강화를 위해 노…                                   │\n",
       "│ 4 │ Samsung_Electronics_Sustainability_Report_2025_… │   76 │ 삼성전자 지속가능경영보고서 2025 76 독립된        │\n",
       "│   │                                                  │      │ 인증인의 인증보고서 Our Company AppendixFacts &   │\n",
       "│   │                                                  │      │ Figures PrinciplePlanet People                    │\n",
       "│ 5 │ Sustainability_report_2024_kr.pdf                │   23 │ 삼성전자 지속가능경영보고서 2024 23 Our Company   │\n",
       "│   │                                                  │      │ AppendixMateriality Assessment Facts & Figures    │\n",
       "│   │                                                  │      │ PrinciplePlanet People 추진방향 국내 반도체 라인  │\n",
       "│   │                                                  │      │ 증설에 따라 2030년 DS부문 제조…                   │\n",
       "└───┴──────────────────────────────────────────────────┴──────┴───────────────────────────────────────────────────┘\n"
      ]
     },
     "metadata": {},
     "output_type": "display_data"
    }
   ],
   "source": [
    "rich_docs(result_mmr, title=\"mmr로 중복 최소화\")"
   ]
  },
  {
   "cell_type": "markdown",
   "id": "4b480902",
   "metadata": {},
   "source": [
    "### 3) score로 제어 - threshold 값 지정"
   ]
  },
  {
   "cell_type": "code",
   "execution_count": 19,
   "id": "d6436ebe",
   "metadata": {},
   "outputs": [
    {
     "data": {
      "text/html": [
       "<pre style=\"white-space:pre;overflow-x:auto;line-height:normal;font-family:Menlo,'DejaVu Sans Mono',consolas,'Courier New',monospace\"><span style=\"font-style: italic\">                                                   score로 확인                                                    </span>\n",
       "┏━━━┳━━━━━━━━━━━━━━━━━━━━━━━━━━━━━━━━━━━━━━━━━━━━━━━━━━┳━━━━━━┳━━━━━━━━━━━━━━━━━━━━━━━━━━━━━━━━━━━━━━━━━━━━━━━━━━━┓\n",
       "┃<span style=\"font-weight: bold\"> # </span>┃<span style=\"font-weight: bold\"> Source                                           </span>┃<span style=\"font-weight: bold\"> Page </span>┃<span style=\"font-weight: bold\"> Preview                                           </span>┃\n",
       "┡━━━╇━━━━━━━━━━━━━━━━━━━━━━━━━━━━━━━━━━━━━━━━━━━━━━━━━━╇━━━━━━╇━━━━━━━━━━━━━━━━━━━━━━━━━━━━━━━━━━━━━━━━━━━━━━━━━━━┩\n",
       "│ 1 │ Samsung_Electronics_Sustainability_Report_2025_… │   86 │ ·  삼성전자주식회사 지속가능경영 웹사이트         │\n",
       "│   │                                                  │      │ http://www.samsung.com/sec/sustainability/main ·  │\n",
       "│   │                                                  │      │ 삼성전자주식회사 IR 웹사이트                      │\n",
       "│   │                                                  │      │ http://www.samsung.com/sec/ir ·  삼성전자주식회 … │\n",
       "│   │                                                  │      │ 뉴…                                               │\n",
       "└───┴──────────────────────────────────────────────────┴──────┴───────────────────────────────────────────────────┘\n",
       "</pre>\n"
      ],
      "text/plain": [
       "\u001b[3m                                                   score로 확인                                                    \u001b[0m\n",
       "┏━━━┳━━━━━━━━━━━━━━━━━━━━━━━━━━━━━━━━━━━━━━━━━━━━━━━━━━┳━━━━━━┳━━━━━━━━━━━━━━━━━━━━━━━━━━━━━━━━━━━━━━━━━━━━━━━━━━━┓\n",
       "┃\u001b[1m \u001b[0m\u001b[1m#\u001b[0m\u001b[1m \u001b[0m┃\u001b[1m \u001b[0m\u001b[1mSource                                          \u001b[0m\u001b[1m \u001b[0m┃\u001b[1m \u001b[0m\u001b[1mPage\u001b[0m\u001b[1m \u001b[0m┃\u001b[1m \u001b[0m\u001b[1mPreview                                          \u001b[0m\u001b[1m \u001b[0m┃\n",
       "┡━━━╇━━━━━━━━━━━━━━━━━━━━━━━━━━━━━━━━━━━━━━━━━━━━━━━━━━╇━━━━━━╇━━━━━━━━━━━━━━━━━━━━━━━━━━━━━━━━━━━━━━━━━━━━━━━━━━━┩\n",
       "│ 1 │ Samsung_Electronics_Sustainability_Report_2025_… │   86 │ ·  삼성전자주식회사 지속가능경영 웹사이트         │\n",
       "│   │                                                  │      │ http://www.samsung.com/sec/sustainability/main ·  │\n",
       "│   │                                                  │      │ 삼성전자주식회사 IR 웹사이트                      │\n",
       "│   │                                                  │      │ http://www.samsung.com/sec/ir ·  삼성전자주식회 … │\n",
       "│   │                                                  │      │ 뉴…                                               │\n",
       "└───┴──────────────────────────────────────────────────┴──────┴───────────────────────────────────────────────────┘\n"
      ]
     },
     "metadata": {},
     "output_type": "display_data"
    }
   ],
   "source": [
    "ret_score = vecStore.as_retriever(\n",
    "    search_type = \"similarity_score_threshold\",\n",
    "    search_kwargs = {\"score_threshold\" : 0.4,\n",
    "                     \"k\" : 8}\n",
    ")\n",
    "result_score = ret_score.invoke(question)\n",
    "rich_docs(result_score, title = \"score로 확인\")"
   ]
  },
  {
   "cell_type": "markdown",
   "id": "616c699a",
   "metadata": {},
   "source": [
    "### 4) filter"
   ]
  },
  {
   "cell_type": "code",
   "execution_count": 20,
   "id": "66325330",
   "metadata": {},
   "outputs": [
    {
     "data": {
      "text/plain": [
       "{'ids': ['samsung_2024::5a1d4e9f-14ac-41fa-92f4-e77d78ac89ed'],\n",
       " 'embeddings': None,\n",
       " 'documents': ['A Journey Towards  \\na Sustainable Future\\n삼성전자 지속가능경영보고서 2024'],\n",
       " 'uris': None,\n",
       " 'included': ['metadatas', 'documents'],\n",
       " 'data': None,\n",
       " 'metadatas': [{'moddate': '2024-11-25T11:10:46+09:00',\n",
       "   'producer': 'Adobe PDF Library 15.0',\n",
       "   'page': 0,\n",
       "   'page_label': '1',\n",
       "   'creator': 'Adobe InDesign 15.1 (Macintosh)',\n",
       "   'trapped': '/False',\n",
       "   'creationdate': '2024-11-25T11:10:32+09:00',\n",
       "   'source': '../data/Sustainability_report_2024_kr.pdf',\n",
       "   'total_pages': 83}]}"
      ]
     },
     "execution_count": 20,
     "metadata": {},
     "output_type": "execute_result"
    }
   ],
   "source": [
    "vecStore._collection.get(limit=1)"
   ]
  },
  {
   "cell_type": "code",
   "execution_count": 22,
   "id": "55b614ea",
   "metadata": {},
   "outputs": [
    {
     "data": {
      "text/html": [
       "<pre style=\"white-space:pre;overflow-x:auto;line-height:normal;font-family:Menlo,'DejaVu Sans Mono',consolas,'Courier New',monospace\"><span style=\"font-style: italic\">                                                   filter로 확인                                                   </span>\n",
       "┏━━━┳━━━━━━━━━━━━━━━━━━━━━━━━━━━━━━━━━━━┳━━━━━━┳━━━━━━━━━━━━━━━━━━━━━━━━━━━━━━━━━━━━━━━━━━━━━━━━━━━━━━━━━━━━━━━━━━┓\n",
       "┃<span style=\"font-weight: bold\"> # </span>┃<span style=\"font-weight: bold\"> Source                            </span>┃<span style=\"font-weight: bold\"> Page </span>┃<span style=\"font-weight: bold\"> Preview                                                          </span>┃\n",
       "┡━━━╇━━━━━━━━━━━━━━━━━━━━━━━━━━━━━━━━━━━╇━━━━━━╇━━━━━━━━━━━━━━━━━━━━━━━━━━━━━━━━━━━━━━━━━━━━━━━━━━━━━━━━━━━━━━━━━━┩\n",
       "│ 1 │ Sustainability_report_2024_kr.pdf │   82 │ 비록 삼성전자주식회사는 지속가능경영보고서의 미래 예측 진술이    │\n",
       "│   │                                   │      │ 시의성 있고 합리적인 정보, 가정  및 믿음에 기반한다고            │\n",
       "│   │                                   │      │ 판단하지만, 이러한 미래 예측 진술(그리고 이를 이루는 정보, 가정  │\n",
       "│   │                                   │      │ 및 믿음)은  다양한 요인, 리스크, 불확실성의 영향권에 있으므로…   │\n",
       "│ 2 │ Sustainability_report_2024_kr.pdf │   82 │ ISAE3000을 적용했습니다. 관련 정보 ·  삼성전자주식회사 대표      │\n",
       "│   │                                   │      │ 홈페이지   http://www.samsung.com/sec ·  삼성전자주식회사        │\n",
       "│   │                                   │      │ 지속가능경영 웹사이트                                            │\n",
       "│   │                                   │      │ http://www.samsung.com/sec/sustainabilit…                        │\n",
       "│ 3 │ Sustainability_report_2024_kr.pdf │   55 │ 삼성전자 지속가능경영보고서 2024 55Our Company                   │\n",
       "│   │                                   │      │ AppendixMateriality Assessment Facts &amp; Figures PrinciplePlanet   │\n",
       "│   │                                   │      │ People Facts &amp; Figures 56     경제성과 57     사…                │\n",
       "│ 4 │ Sustainability_report_2024_kr.pdf │   30 │ 삼성전자 지속가능경영보고서 2024 30Our Company                   │\n",
       "│   │                                   │      │ AppendixMateriality Assessment Facts &amp; Figures PrinciplePlanet   │\n",
       "│   │                                   │      │ People 사회적 책임을 다하며 미래로 함께 나아갑니다. People 31 …  │\n",
       "│ 5 │ Sustainability_report_2024_kr.pdf │    4 │ 삼성전자 지속가능경영보고서 2024 04 Our Company                  │\n",
       "│   │                                   │      │ AppendixMateriality Assessment Facts &amp; Figures PrinciplePlanet   │\n",
       "│   │                                   │      │ People CEO 메시지 Message from  Our CEO 주주, 고…                │\n",
       "│ 6 │ Sustainability_report_2024_kr.pdf │   82 │ \"outlook,\" \"believes,\" \"estimates,\" \"predicts,\" \"potential,\"     │\n",
       "│   │                                   │      │ \"continue,\" \" preliminary,\"   “추진”, “목표”, “전략”, “예정”과   │\n",
       "│   │                                   │      │ 같은 용어로 미래 예측 진술을 식별할 수 있습…                     │\n",
       "│ 7 │ Sustainability_report_2024_kr.pdf │   82 │ 삼성전자 지속가능경영보고서 2024 82 Our Company                  │\n",
       "│   │                                   │      │ AppendixMateriality Assessment Facts &amp; Figures PrinciplePlanet   │\n",
       "│   │                                   │      │ People About This Report 삼성전자주식회사는 경제·사회·환…        │\n",
       "│ 8 │ Sustainability_report_2024_kr.pdf │   52 │ 삼성전자 지속가능경영보고서 2024 52Our Company                   │\n",
       "│   │                                   │      │ AppendixMateriality Assessment Facts &amp; Figures PrinciplePlanet   │\n",
       "│   │                                   │      │ People 지속가능한 미래를 위해 책임경영을 실천합니다. Principle … │\n",
       "└───┴───────────────────────────────────┴──────┴──────────────────────────────────────────────────────────────────┘\n",
       "</pre>\n"
      ],
      "text/plain": [
       "\u001b[3m                                                   filter로 확인                                                   \u001b[0m\n",
       "┏━━━┳━━━━━━━━━━━━━━━━━━━━━━━━━━━━━━━━━━━┳━━━━━━┳━━━━━━━━━━━━━━━━━━━━━━━━━━━━━━━━━━━━━━━━━━━━━━━━━━━━━━━━━━━━━━━━━━┓\n",
       "┃\u001b[1m \u001b[0m\u001b[1m#\u001b[0m\u001b[1m \u001b[0m┃\u001b[1m \u001b[0m\u001b[1mSource                           \u001b[0m\u001b[1m \u001b[0m┃\u001b[1m \u001b[0m\u001b[1mPage\u001b[0m\u001b[1m \u001b[0m┃\u001b[1m \u001b[0m\u001b[1mPreview                                                         \u001b[0m\u001b[1m \u001b[0m┃\n",
       "┡━━━╇━━━━━━━━━━━━━━━━━━━━━━━━━━━━━━━━━━━╇━━━━━━╇━━━━━━━━━━━━━━━━━━━━━━━━━━━━━━━━━━━━━━━━━━━━━━━━━━━━━━━━━━━━━━━━━━┩\n",
       "│ 1 │ Sustainability_report_2024_kr.pdf │   82 │ 비록 삼성전자주식회사는 지속가능경영보고서의 미래 예측 진술이    │\n",
       "│   │                                   │      │ 시의성 있고 합리적인 정보, 가정  및 믿음에 기반한다고            │\n",
       "│   │                                   │      │ 판단하지만, 이러한 미래 예측 진술(그리고 이를 이루는 정보, 가정  │\n",
       "│   │                                   │      │ 및 믿음)은  다양한 요인, 리스크, 불확실성의 영향권에 있으므로…   │\n",
       "│ 2 │ Sustainability_report_2024_kr.pdf │   82 │ ISAE3000을 적용했습니다. 관련 정보 ·  삼성전자주식회사 대표      │\n",
       "│   │                                   │      │ 홈페이지   http://www.samsung.com/sec ·  삼성전자주식회사        │\n",
       "│   │                                   │      │ 지속가능경영 웹사이트                                            │\n",
       "│   │                                   │      │ http://www.samsung.com/sec/sustainabilit…                        │\n",
       "│ 3 │ Sustainability_report_2024_kr.pdf │   55 │ 삼성전자 지속가능경영보고서 2024 55Our Company                   │\n",
       "│   │                                   │      │ AppendixMateriality Assessment Facts & Figures PrinciplePlanet   │\n",
       "│   │                                   │      │ People Facts & Figures 56     경제성과 57     사…                │\n",
       "│ 4 │ Sustainability_report_2024_kr.pdf │   30 │ 삼성전자 지속가능경영보고서 2024 30Our Company                   │\n",
       "│   │                                   │      │ AppendixMateriality Assessment Facts & Figures PrinciplePlanet   │\n",
       "│   │                                   │      │ People 사회적 책임을 다하며 미래로 함께 나아갑니다. People 31 …  │\n",
       "│ 5 │ Sustainability_report_2024_kr.pdf │    4 │ 삼성전자 지속가능경영보고서 2024 04 Our Company                  │\n",
       "│   │                                   │      │ AppendixMateriality Assessment Facts & Figures PrinciplePlanet   │\n",
       "│   │                                   │      │ People CEO 메시지 Message from  Our CEO 주주, 고…                │\n",
       "│ 6 │ Sustainability_report_2024_kr.pdf │   82 │ \"outlook,\" \"believes,\" \"estimates,\" \"predicts,\" \"potential,\"     │\n",
       "│   │                                   │      │ \"continue,\" \" preliminary,\"   “추진”, “목표”, “전략”, “예정”과   │\n",
       "│   │                                   │      │ 같은 용어로 미래 예측 진술을 식별할 수 있습…                     │\n",
       "│ 7 │ Sustainability_report_2024_kr.pdf │   82 │ 삼성전자 지속가능경영보고서 2024 82 Our Company                  │\n",
       "│   │                                   │      │ AppendixMateriality Assessment Facts & Figures PrinciplePlanet   │\n",
       "│   │                                   │      │ People About This Report 삼성전자주식회사는 경제·사회·환…        │\n",
       "│ 8 │ Sustainability_report_2024_kr.pdf │   52 │ 삼성전자 지속가능경영보고서 2024 52Our Company                   │\n",
       "│   │                                   │      │ AppendixMateriality Assessment Facts & Figures PrinciplePlanet   │\n",
       "│   │                                   │      │ People 지속가능한 미래를 위해 책임경영을 실천합니다. Principle … │\n",
       "└───┴───────────────────────────────────┴──────┴──────────────────────────────────────────────────────────────────┘\n"
      ]
     },
     "metadata": {},
     "output_type": "display_data"
    }
   ],
   "source": [
    "ret_filter = vecStore.as_retriever(\n",
    "    search_type = \"similarity_score_threshold\",\n",
    "    search_kwargs = {\"score_threshold\" : 0.2,\n",
    "                     \"k\" : 8,\n",
    "                     \"filter\": {\"source\": \"../data/Sustainability_report_2024_kr.pdf\"}\n",
    "                    }\n",
    ")\n",
    "result_filter = ret_filter.invoke(question)\n",
    "rich_docs(result_filter, title = \"filter로 확인\")"
   ]
  }
 ],
 "metadata": {
  "kernelspec": {
   "display_name": "Langchain_basic",
   "language": "python",
   "name": "python3"
  },
  "language_info": {
   "codemirror_mode": {
    "name": "ipython",
    "version": 3
   },
   "file_extension": ".py",
   "mimetype": "text/x-python",
   "name": "python",
   "nbconvert_exporter": "python",
   "pygments_lexer": "ipython3",
   "version": "3.11.13"
  }
 },
 "nbformat": 4,
 "nbformat_minor": 5
}
