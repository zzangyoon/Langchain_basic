{
 "cells": [
  {
   "cell_type": "code",
   "execution_count": 1,
   "id": "2854de60",
   "metadata": {},
   "outputs": [],
   "source": [
    "# 출력 예쁘게 하기\n",
    "from rich.console import Console\n",
    "from rich.table import Table\n",
    "\n",
    "console = Console()\n",
    "\n",
    "def rich_docs(docs, max_len=140, title=\"Retriever Results\"):\n",
    "    table = Table(title=title)\n",
    "    table.add_column(\"#\", justify=\"right\")\n",
    "    table.add_column(\"Source\")\n",
    "    table.add_column(\"Page\", justify=\"right\")\n",
    "    table.add_column(\"Preview\")\n",
    "\n",
    "    for i, d in enumerate(docs, 1):\n",
    "        m = d.metadata or {}\n",
    "        src = (m.get(\"source\",\"\") or \"\").split(\"/\")[-1]\n",
    "        page = str(m.get(\"page_label\", m.get(\"page\",0)+1))\n",
    "        text = (d.page_content or \"\").strip().replace(\"\\n\", \" \")\n",
    "        table.add_row(str(i), src, page, (text[:max_len] + (\"…\" if len(text) > max_len else \"\")))\n",
    "\n",
    "    console.print(table)"
   ]
  },
  {
   "cell_type": "markdown",
   "id": "8f378b9c",
   "metadata": {},
   "source": [
    "## 1. 문서 로드"
   ]
  },
  {
   "cell_type": "code",
   "execution_count": 4,
   "id": "404b0743",
   "metadata": {},
   "outputs": [
    {
     "name": "stdout",
     "output_type": "stream",
     "text": [
      "문서로드 중\n"
     ]
    },
    {
     "data": {
      "text/plain": [
       "[Document(metadata={'producer': 'Adobe PDF Library 15.0', 'creator': 'Adobe InDesign 15.1 (Macintosh)', 'creationdate': '2025-07-10T16:11:16+09:00', 'moddate': '2025-09-04T16:51:11+09:00', 'trapped': '/False', 'source': '../data/Samsung_Electronics_Sustainability_Report_2025_KOR.pdf', 'total_pages': 87, 'page': 0, 'page_label': '1'}, page_content='삼성전자 지속가능경영보고서 2025\\nA Journey  Towards \\n a Sustainable Future\\nA Journey  Towards\\n a Sustainable Future'),\n",
       " Document(metadata={'producer': 'Adobe PDF Library 15.0', 'creator': 'Adobe InDesign 15.1 (Macintosh)', 'creationdate': '2025-07-10T16:11:16+09:00', 'moddate': '2025-09-04T16:51:11+09:00', 'trapped': '/False', 'source': '../data/Samsung_Electronics_Sustainability_Report_2025_KOR.pdf', 'total_pages': 87, 'page': 1, 'page_label': '2'}, page_content='삼성전자 지속가능경영보고서 2025 02AppendixFacts & Figures PrinciplePlanet PeopleOur Company삼성전자 지속가능경영보고서 2025 02\\nA Journey  Towards \\n a Sustainable Future\\nA Journey  Towards \\n a Sustainable Future\\n삼성전자 지속가능경영보고서 2025\\nCEO 메시지\\n회사소개\\n기업 지배구조\\n중대성 평가\\n이해관계자 소통\\n준법과 윤리경영\\n[DX부문] \\n추진체계와 주요성과 \\n기후변화 \\n자원순환\\n수자원\\n오염물질\\n경제성과\\n사회성과\\n환경성과 \\n사업부문별 환경성과 \\n[DS부문] \\n추진체계와 주요성과 \\n기후변화 \\n자원순환\\n수자원\\n오염물질\\n독립된 인증인의 인증보고서\\nScope 1, 2 온실가스 배출량 검증 의견서 \\nScope 3 온실가스 배출량 검증 의견서 \\nGRI Index\\nTCFD 대조표\\nSASB 대조표\\nAbout This Report \\n임직원\\n공급망\\n사회공헌\\n개인정보보호와 보안\\n제품 품질과 안전\\nOur Company\\nPrinciple\\nPlanet\\nFacts & Figures Appendix \\nPeople\\n04\\n05\\n06\\n07\\n09\\n59\\n11\\n12\\n16\\n18\\n20\\n62\\n63\\n68\\n72\\n21\\n22\\n27\\n29\\n32\\n76\\n77\\n78\\n80\\n82\\n84\\n86\\n35\\n45\\n51\\n53\\n55'),\n",
       " Document(metadata={'producer': 'Adobe PDF Library 15.0', 'creator': 'Adobe InDesign 15.1 (Macintosh)', 'creationdate': '2025-07-10T16:11:16+09:00', 'moddate': '2025-09-04T16:51:11+09:00', 'trapped': '/False', 'source': '../data/Samsung_Electronics_Sustainability_Report_2025_KOR.pdf', 'total_pages': 87, 'page': 2, 'page_label': '3'}, page_content='삼성전자 지속가능경영보고서 2025\\n03\\nOur Company AppendixFacts & Figures PrinciplePlanet People\\nOur Company\\nCEO 메시지\\n회사소개\\n기업 지배구조\\n중대성 평가\\n이해관계자 소통\\n04\\n05\\n06\\n07\\n09'),\n",
       " Document(metadata={'producer': 'Adobe PDF Library 15.0', 'creator': 'Adobe InDesign 15.1 (Macintosh)', 'creationdate': '2025-07-10T16:11:16+09:00', 'moddate': '2025-09-04T16:51:11+09:00', 'trapped': '/False', 'source': '../data/Samsung_Electronics_Sustainability_Report_2025_KOR.pdf', 'total_pages': 87, 'page': 3, 'page_label': '4'}, page_content=\"삼성전자 지속가능경영보고서 2025\\n04\\nOur Company AppendixFacts & Figures PrinciplePlanet People\\n주주, 고객, 협력회사, 그리고 임직원 여러분,\\n2024년은 글로벌 지정학적 리스크와 AI 기술의 성장 등 급격한 산업의 \\n변화를 겪은 한 해였습니다. 산업계 전반에 걸친 경쟁은 한층 더 \\n치열해지고 있으며, 새로운 기술은 사업 전반에 큰 변화를 요구하고 \\n있습니다. \\n삼성전자는 이러한 환경에서도 전년 대비 16%의 매출 증가와 5배에 \\n달하는 영업이익을 기록했습니다. 전략적 시설투자와 연구개발 강화 등 \\n지속 성장의 기반을 다지는 데에도 집중했습니다.\\n다양한 분야의 이해관계자 여러분께서 삼성전자의 이러한 노력을 \\n인정하고 성원해 주신 결과, 삼성전자의 브랜드 가치는 인터브랜드 평가 \\n기준 사상 첫 1,000억 달러를 돌파하며 5년 연속 글로벌 5위로 평가 \\n받았습니다. 진심으로 감사드립니다.\\n급변하는 경영 환경과 사회∙경제적 리스크에 대응하기 위한 확실한 \\n해법은 기본에 충실한 경영과 지속가능한 성장 기반 마련에 있습니다. \\n삼성전자는 이러한 믿음을 바탕으로 사업경쟁력과 기술혁신의 원동력을 \\n제고하기 위해 사회 전반에서 다양한 활동을 지속하고 있습니다.\\n환경 분야에 대해 먼저 말씀드립니다. 삼성전자는 2022년 9월 발표한 '新\\n환경경영전략'을 기반으로 탄소중립 달성, 자원순환 극대화, 그리고 기술 \\n혁신을 통한 환경 난제 해결을 위해 노력하고 있습니다.\\nDX(Device eXperience)부문은 2030년 탄소중립 달성을 목표로 2024\\n년 말 기준 전체 에너지의 93.4%가 재생에너지로 전환되었고, 대표 \\n제품 모델에는 고효율 에너지 기술을 적용해 2019년 대비 평균 31.5%\\n의 소비전력을 절감했습니다. 제품에 사용되는 플라스틱 부품의 31%에 \\n재활용 소재를 적용하는 성과를 이뤘습니다.\\nDS(Device Solutions)부문은 2050년 탄소중립 달성을 목표로 \\n공정가스 통합 처리시설(RCS, Regenerative Catalytic System)\\n에 투자를 지속하고 있습니다. DS부문의 국내 전 제조사업장은 \\n국제수자원관리동맹(AWS, Alliance for Water Stewardship)으로부터 \\n최고 등급인 플 래티넘을 획득했습니다. 글로벌 환경안전 인증기관 UL \\nSolutions로부터 전 사업장을 통합한 폐기물 매립 제로(Zero Waste to \\nLandfill) 검증을 진행하였으며, 최고 등급을 부여받았습니다.\\n첨단 기술의 도 입에 따른 에너지 수요의 증가는 지속가능한 성장에 \\n새로운 도전 과제가 되고 있습니다. 특히 AI 기술의 급속한 발전과 IT \\n산업의 성장으로 데이터 센터 등에서 에너지 소비와 탄소 배출이 크 게 \\n증가하고 있습니다. 삼성전자는 탄소 발자국 감 축과 무탄소 에너지 \\n사용을 요구하는 고객 들의 요구에 맞춰  친환경 에너지 활용 방 안을 \\n모색하는 등 다양한 노력을 기울이고 있습니다.\\n사회 분야에서는 안전사고 예방 체계를 강화하기 위해 2030년 중대재해 \\nZero와 LTIR(Lost-Time Injuries Rate) Global Top Tier 달성을 \\n목표로 안전보건 관리 범위를 확대하고 있습니다. 2024년에는 DX부문 \\n제조사업장 19곳에 대해 '노동인권 리스크 평가(Business & Human \\nRights Benchmark)'를 실시하고 관련 리포트를 발행했습니다. \\n공급망 분야에서는 상생협력 강화를 위해 2024년 2차 협력회사 대상 제 \\n3자 점검을 33개사로 확대했으며, 2025년에는 글로벌 공급망 규 제 \\n대응을 위해 보다 강화된 통합 실사 정책을 도입할 계획입니다. \\n사회공헌 분야에서는 2024년 '삼성 청년SW·AI아카데미'에 375억 원을 \\n지원해 2,200 명의 청년 소 프트웨어 인재를 양성했으며, 2025년에는 \\n마이스터고 졸업생에게까지 교육기회를 확대할 예정입니다. \\n또한 자립 준비 청년들의 주 거안정과 미래준비를 지원하는 '삼성 \\n희망디딤돌' 활동은 2024년에 충북과 대전센터를 신규로 개소하여 총 \\n14,362명을 지원하였으며, 2025년에는 인천센터를 추가로 설립하여 더 \\n많은 청년들을 지원할 예정입니다.\\n지난해에 이 어 올해 지속가능경영보고서도 글로벌 공시 규 제 \\n프레임워크에 맞춰 발 행됐 습니다. 2024년 한 해 동안 회사의  \\n지속가능경영 관리체계, 전략, 이 행 활동, 성과 등을 충실 히 담았으며, \\n지속가능경영 웹사이트와도 더욱 긴밀히 연계되도록 구성했습니다.\\n삼성전자는 불확실성의 시대에 재도 약의 기반을 다지기 위해 지속 \\n노력하고 있습니다. '인재와 기술을 바탕으로 최고의 제품과 서비스를 \\n창출하여 인류사회에 공헌한다'는 경영철학에 입각해 기술 리더십으로 \\n재도약의 기반을 다지고 새로운 영 역에서 미래 성장동력을 확보해 \\n나가겠습니다.\\n삼성전자는 이해관계자 여러분의 소중한 의견에 늘 귀를 기울이고 있으며, \\n앞으로도 지속가능한 성장 기반을 마련하는 데 최선을 다하겠습니다.\\n감사합니다.\\nCEO 메시지\\nMessage from Our CEO\\n삼성전자 주식회사  \\n대표이사 부회장 \\n전영현\"),\n",
       " Document(metadata={'producer': 'Adobe PDF Library 15.0', 'creator': 'Adobe InDesign 15.1 (Macintosh)', 'creationdate': '2025-07-10T16:11:16+09:00', 'moddate': '2025-09-04T16:51:11+09:00', 'trapped': '/False', 'source': '../data/Samsung_Electronics_Sustainability_Report_2025_KOR.pdf', 'total_pages': 87, 'page': 4, 'page_label': '5'}, page_content='삼성전자 지속가능경영보고서 2025\\n05\\nOur Company AppendixFacts & Figures PrinciplePlanet People\\n회사소개\\nAbout Us\\n삼성전자주식회사(이하 삼성전자)는 인재와 기술을 기반으로 최고의 제품과 서비스를 창출함으로써 인류사회에 기여하는 글로벌 초일류 기업을 지향합니다. 이를 위해 삼성전자가 지켜나갈 약속인 5가지 경영원칙 을 세부원칙과 \\n행동지침으로 구체화하고, 삼성전자 임직원이 지켜야 할 행동규범 으로 제정하여 모든 경영활동의 기준으로 삼고 있습니다. 앞으로도 삼성전자는 조직문화에 5가지 핵심가치 를 내재화하여 지속적으로 성장해갈 것입니다.\\n사업부문 및 글로벌 네트워크 소개\\n삼성전자는 제품 특성에 따라 DX(Device eXperience)와 DS(Device Solutions) 2개 부문으로 나뉘어 독립적으로 운영되고 있습니다. DX부문은 스마트폰, 네트워크 시스템, 컴퓨터, TV, 냉장고, 세탁기, 에어컨, 의료기기 등 완제품을 \\n생산·판매하고 있으며, DS부문은 메모리 사업, Foundry 사업, System LSI 사업으로 구성되어 DRAM, NAND Flash, 모바일AP 등의 반도체 부품을 생산·판매합니다. 삼성전자는 2024년 말 기준 전 세계에 240개의 생산거점, \\n판매거점, R&D 센터, 디자인 센터 등을 보유하고 있습니다.\\n매출\\n174조 8,877억 원\\n영업이익\\n12조 4,399억 원\\n네트워크\\nMobile eXperience 영상디스플레이\\n생활가전 의료기기\\n주요 사업부\\nDevice eXperience\\nDX DS\\nDevice Solutions\\n※ 상기 매출과 영업이익은 2024년 실적 기준이며, SDC, Harman의 실적은 제외된 것입니다.\\n1) 내부관리 기준에 따른 지역구분   2) 판매법인, 지점 등   3) 물류법인, IP 오피스 등   4) 당사 제품 생산용 부품을 공급하는 기업\\n임직원 262,647명 연구개발비 35.0조 원운영국가 76개국협력회사\\n4)\\n 2,503개\\n지역총괄\\n1)\\n판매거점\\n2)\\n생산거점 구매 센터\\n15 109 33 6\\nR&D 센터 디자인 센터 기타\\n3)\\n합계\\n40 7 30 240\\n매출\\n111조 660억 원\\n영업이익\\n15조 945억 원\\nFoundry System LSI\\n주요 사업부\\n메모리')]"
      ]
     },
     "execution_count": 4,
     "metadata": {},
     "output_type": "execute_result"
    }
   ],
   "source": [
    "from langchain_community.document_loaders import PyPDFLoader\n",
    "\n",
    "file_path = \"../data/Samsung_Electronics_Sustainability_Report_2025_KOR.pdf\"\n",
    "\n",
    "print(\"문서로드 중\")\n",
    "\n",
    "loader = PyPDFLoader(file_path)\n",
    "docs = loader.load()\n",
    "docs[:5]"
   ]
  },
  {
   "cell_type": "markdown",
   "id": "f32931c5",
   "metadata": {},
   "source": [
    "## 2. splitter"
   ]
  },
  {
   "cell_type": "code",
   "execution_count": 5,
   "id": "eb425092",
   "metadata": {},
   "outputs": [
    {
     "data": {
      "text/plain": [
       "237"
      ]
     },
     "execution_count": 5,
     "metadata": {},
     "output_type": "execute_result"
    }
   ],
   "source": [
    "from langchain_text_splitters import RecursiveCharacterTextSplitter\n",
    "splitter = RecursiveCharacterTextSplitter(\n",
    "    chunk_size = 1000,\n",
    "    chunk_overlap = 100\n",
    ")\n",
    "chunk = splitter.split_documents(docs)\n",
    "len(chunk)"
   ]
  },
  {
   "cell_type": "code",
   "execution_count": 6,
   "id": "08410c3c",
   "metadata": {},
   "outputs": [
    {
     "data": {
      "text/plain": [
       "[Document(metadata={'producer': 'Adobe PDF Library 15.0', 'creator': 'Adobe InDesign 15.1 (Macintosh)', 'creationdate': '2025-07-10T16:11:16+09:00', 'moddate': '2025-09-04T16:51:11+09:00', 'trapped': '/False', 'source': '../data/Samsung_Electronics_Sustainability_Report_2025_KOR.pdf', 'total_pages': 87, 'page': 3, 'page_label': '4'}, page_content=\"사회공헌 분야에서는 2024년 '삼성 청년SW·AI아카데미'에 375억 원을 \\n지원해 2,200 명의 청년 소 프트웨어 인재를 양성했으며, 2025년에는 \\n마이스터고 졸업생에게까지 교육기회를 확대할 예정입니다. \\n또한 자립 준비 청년들의 주 거안정과 미래준비를 지원하는 '삼성 \\n희망디딤돌' 활동은 2024년에 충북과 대전센터를 신규로 개소하여 총 \\n14,362명을 지원하였으며, 2025년에는 인천센터를 추가로 설립하여 더 \\n많은 청년들을 지원할 예정입니다.\\n지난해에 이 어 올해 지속가능경영보고서도 글로벌 공시 규 제 \\n프레임워크에 맞춰 발 행됐 습니다. 2024년 한 해 동안 회사의  \\n지속가능경영 관리체계, 전략, 이 행 활동, 성과 등을 충실 히 담았으며, \\n지속가능경영 웹사이트와도 더욱 긴밀히 연계되도록 구성했습니다.\\n삼성전자는 불확실성의 시대에 재도 약의 기반을 다지기 위해 지속 \\n노력하고 있습니다. '인재와 기술을 바탕으로 최고의 제품과 서비스를 \\n창출하여 인류사회에 공헌한다'는 경영철학에 입각해 기술 리더십으로 \\n재도약의 기반을 다지고 새로운 영 역에서 미래 성장동력을 확보해 \\n나가겠습니다.\\n삼성전자는 이해관계자 여러분의 소중한 의견에 늘 귀를 기울이고 있으며, \\n앞으로도 지속가능한 성장 기반을 마련하는 데 최선을 다하겠습니다.\\n감사합니다.\\nCEO 메시지\\nMessage from Our CEO\\n삼성전자 주식회사  \\n대표이사 부회장 \\n전영현\"),\n",
       " Document(metadata={'producer': 'Adobe PDF Library 15.0', 'creator': 'Adobe InDesign 15.1 (Macintosh)', 'creationdate': '2025-07-10T16:11:16+09:00', 'moddate': '2025-09-04T16:51:11+09:00', 'trapped': '/False', 'source': '../data/Samsung_Electronics_Sustainability_Report_2025_KOR.pdf', 'total_pages': 87, 'page': 4, 'page_label': '5'}, page_content='삼성전자 지속가능경영보고서 2025\\n05\\nOur Company AppendixFacts & Figures PrinciplePlanet People\\n회사소개\\nAbout Us\\n삼성전자주식회사(이하 삼성전자)는 인재와 기술을 기반으로 최고의 제품과 서비스를 창출함으로써 인류사회에 기여하는 글로벌 초일류 기업을 지향합니다. 이를 위해 삼성전자가 지켜나갈 약속인 5가지 경영원칙 을 세부원칙과 \\n행동지침으로 구체화하고, 삼성전자 임직원이 지켜야 할 행동규범 으로 제정하여 모든 경영활동의 기준으로 삼고 있습니다. 앞으로도 삼성전자는 조직문화에 5가지 핵심가치 를 내재화하여 지속적으로 성장해갈 것입니다.\\n사업부문 및 글로벌 네트워크 소개\\n삼성전자는 제품 특성에 따라 DX(Device eXperience)와 DS(Device Solutions) 2개 부문으로 나뉘어 독립적으로 운영되고 있습니다. DX부문은 스마트폰, 네트워크 시스템, 컴퓨터, TV, 냉장고, 세탁기, 에어컨, 의료기기 등 완제품을 \\n생산·판매하고 있으며, DS부문은 메모리 사업, Foundry 사업, System LSI 사업으로 구성되어 DRAM, NAND Flash, 모바일AP 등의 반도체 부품을 생산·판매합니다. 삼성전자는 2024년 말 기준 전 세계에 240개의 생산거점, \\n판매거점, R&D 센터, 디자인 센터 등을 보유하고 있습니다.\\n매출\\n174조 8,877억 원\\n영업이익\\n12조 4,399억 원\\n네트워크\\nMobile eXperience 영상디스플레이\\n생활가전 의료기기\\n주요 사업부\\nDevice eXperience\\nDX DS\\nDevice Solutions\\n※ 상기 매출과 영업이익은 2024년 실적 기준이며, SDC, Harman의 실적은 제외된 것입니다.\\n1) 내부관리 기준에 따른 지역구분   2) 판매법인, 지점 등   3) 물류법인, IP 오피스 등   4) 당사 제품 생산용 부품을 공급하는 기업\\n임직원 262,647명 연구개발비 35.0조 원운영국가 76개국협력회사\\n4)\\n 2,503개\\n지역총괄\\n1)')]"
      ]
     },
     "execution_count": 6,
     "metadata": {},
     "output_type": "execute_result"
    }
   ],
   "source": [
    "chunk[5:7]"
   ]
  },
  {
   "cell_type": "markdown",
   "id": "7c9f0969",
   "metadata": {},
   "source": [
    "## 3. vectorDB 저장 및 불러오기"
   ]
  },
  {
   "cell_type": "code",
   "execution_count": 2,
   "id": "e518d443",
   "metadata": {},
   "outputs": [],
   "source": [
    "from langchain_openai import OpenAIEmbeddings, ChatOpenAI\n",
    "from langchain_chroma import Chroma"
   ]
  },
  {
   "cell_type": "code",
   "execution_count": null,
   "id": "02c92f0f",
   "metadata": {},
   "outputs": [],
   "source": [
    "# 벡터 저장소 만들기 위한 변수 설정\n",
    "embedding = OpenAIEmbeddings(model = \"text-embedding-3-small\")\n",
    "persist_directory = \"../vectorStore/samsung_2025_db\"\n",
    "collection_name = \"samsung2025\""
   ]
  },
  {
   "cell_type": "code",
   "execution_count": null,
   "id": "9a89b010",
   "metadata": {},
   "outputs": [],
   "source": [
    "# 처음 실행시 벡터 저장소 만들기\n",
    "# vectorStore = Chroma.from_documents(\n",
    "#     documents = chunk,\n",
    "#     collection_name = collection_name,\n",
    "#     persist_directory = persist_directory,\n",
    "#     embedding = embedding\n",
    "# )"
   ]
  },
  {
   "cell_type": "code",
   "execution_count": 10,
   "id": "9b842ef5",
   "metadata": {},
   "outputs": [],
   "source": [
    "# 벡터 저장소 불러오기\n",
    "load_vectorStore = Chroma(\n",
    "    persist_directory = persist_directory,\n",
    "    collection_name = collection_name,\n",
    "    embedding_function = embedding\n",
    ")"
   ]
  },
  {
   "cell_type": "markdown",
   "id": "f1000e1c",
   "metadata": {},
   "source": [
    "## 4. Retriever"
   ]
  },
  {
   "cell_type": "markdown",
   "id": "2f251a0b",
   "metadata": {},
   "source": [
    "### 1) 키워드기반 + 기본검색기 = 하이브리드(Ensemble)"
   ]
  },
  {
   "cell_type": "markdown",
   "id": "60c010fe",
   "metadata": {},
   "source": [
    "- 일반 retriever : 벡터 기반\n",
    "- bm25 : 키워드 기반"
   ]
  },
  {
   "cell_type": "markdown",
   "id": "8070e630",
   "metadata": {},
   "source": [
    "```\n",
    "uv add rank-bm25\n",
    "```"
   ]
  },
  {
   "cell_type": "code",
   "execution_count": 22,
   "id": "4db281a1",
   "metadata": {},
   "outputs": [],
   "source": [
    "# 유사도 기반\n",
    "ret_similarity = load_vectorStore.as_retriever(\n",
    "    search_type = \"similarity\",\n",
    "    search_kwargs = {\"k\" : 5}\n",
    ")"
   ]
  },
  {
   "cell_type": "code",
   "execution_count": 11,
   "id": "2cfc8dd8",
   "metadata": {},
   "outputs": [],
   "source": [
    "# 번외 : 메타데이터가 궁금\n",
    "db_docs = load_vectorStore._collection.get(include=[\"documents\", \"metadatas\"])"
   ]
  },
  {
   "cell_type": "code",
   "execution_count": 16,
   "id": "a790607c",
   "metadata": {},
   "outputs": [
    {
     "data": {
      "text/plain": [
       "['삼성전자 지속가능경영보고서 2025\\nA Journey  Towards \\n a Sustainable Future\\nA Journey  Towards\\n a Sustainable Future',\n",
       " '삼성전자 지속가능경영보고서 2025 02AppendixFacts & Figures PrinciplePlanet PeopleOur Company삼성전자 지속가능경영보고서 2025 02\\nA Journey  Towards \\n a Sustainable Future\\nA Journey  Towards \\n a Sustainable Future\\n삼성전자 지속가능경영보고서 2025\\nCEO 메시지\\n회사소개\\n기업 지배구조\\n중대성 평가\\n이해관계자 소통\\n준법과 윤리경영\\n[DX부문] \\n추진체계와 주요성과 \\n기후변화 \\n자원순환\\n수자원\\n오염물질\\n경제성과\\n사회성과\\n환경성과 \\n사업부문별 환경성과 \\n[DS부문] \\n추진체계와 주요성과 \\n기후변화 \\n자원순환\\n수자원\\n오염물질\\n독립된 인증인의 인증보고서\\nScope 1, 2 온실가스 배출량 검증 의견서 \\nScope 3 온실가스 배출량 검증 의견서 \\nGRI Index\\nTCFD 대조표\\nSASB 대조표\\nAbout This Report \\n임직원\\n공급망\\n사회공헌\\n개인정보보호와 보안\\n제품 품질과 안전\\nOur Company\\nPrinciple\\nPlanet\\nFacts & Figures Appendix \\nPeople\\n04\\n05\\n06\\n07\\n09\\n59\\n11\\n12\\n16\\n18\\n20\\n62\\n63\\n68\\n72\\n21\\n22\\n27\\n29\\n32\\n76\\n77\\n78\\n80\\n82\\n84\\n86\\n35\\n45\\n51\\n53\\n55',\n",
       " '삼성전자 지속가능경영보고서 2025\\n03\\nOur Company AppendixFacts & Figures PrinciplePlanet People\\nOur Company\\nCEO 메시지\\n회사소개\\n기업 지배구조\\n중대성 평가\\n이해관계자 소통\\n04\\n05\\n06\\n07\\n09']"
      ]
     },
     "execution_count": 16,
     "metadata": {},
     "output_type": "execute_result"
    }
   ],
   "source": [
    "db_docs[\"documents\"][:3]"
   ]
  },
  {
   "cell_type": "code",
   "execution_count": 15,
   "id": "999fd8da",
   "metadata": {},
   "outputs": [
    {
     "data": {
      "text/plain": [
       "[{'creationdate': '2025-07-10T16:11:16+09:00',\n",
       "  'trapped': '/False',\n",
       "  'total_pages': 87,\n",
       "  'page': 0,\n",
       "  'source': '../data/Samsung_Electronics_Sustainability_Report_2025_KOR.pdf',\n",
       "  'moddate': '2025-09-04T16:51:11+09:00',\n",
       "  'creator': 'Adobe InDesign 15.1 (Macintosh)',\n",
       "  'page_label': '1',\n",
       "  'producer': 'Adobe PDF Library 15.0'}]"
      ]
     },
     "execution_count": 15,
     "metadata": {},
     "output_type": "execute_result"
    }
   ],
   "source": [
    "db_docs[\"metadatas\"][:1]"
   ]
  },
  {
   "cell_type": "code",
   "execution_count": 17,
   "id": "fe3b406c",
   "metadata": {},
   "outputs": [],
   "source": [
    "from langchain_community.retrievers import BM25Retriever\n",
    "from langchain.retrievers import EnsembleRetriever"
   ]
  },
  {
   "cell_type": "code",
   "execution_count": 18,
   "id": "abd54264",
   "metadata": {},
   "outputs": [
    {
     "data": {
      "text/plain": [
       "[Document(metadata={'creationdate': '2025-07-10T16:11:16+09:00', 'trapped': '/False', 'total_pages': 87, 'page': 0, 'source': '../data/Samsung_Electronics_Sustainability_Report_2025_KOR.pdf', 'moddate': '2025-09-04T16:51:11+09:00', 'creator': 'Adobe InDesign 15.1 (Macintosh)', 'page_label': '1', 'producer': 'Adobe PDF Library 15.0'}, page_content='삼성전자 지속가능경영보고서 2025\\nA Journey  Towards \\n a Sustainable Future\\nA Journey  Towards\\n a Sustainable Future'),\n",
       " Document(metadata={'page_label': '2', 'source': '../data/Samsung_Electronics_Sustainability_Report_2025_KOR.pdf', 'page': 1, 'creationdate': '2025-07-10T16:11:16+09:00', 'trapped': '/False', 'moddate': '2025-09-04T16:51:11+09:00', 'creator': 'Adobe InDesign 15.1 (Macintosh)', 'total_pages': 87, 'producer': 'Adobe PDF Library 15.0'}, page_content='삼성전자 지속가능경영보고서 2025 02AppendixFacts & Figures PrinciplePlanet PeopleOur Company삼성전자 지속가능경영보고서 2025 02\\nA Journey  Towards \\n a Sustainable Future\\nA Journey  Towards \\n a Sustainable Future\\n삼성전자 지속가능경영보고서 2025\\nCEO 메시지\\n회사소개\\n기업 지배구조\\n중대성 평가\\n이해관계자 소통\\n준법과 윤리경영\\n[DX부문] \\n추진체계와 주요성과 \\n기후변화 \\n자원순환\\n수자원\\n오염물질\\n경제성과\\n사회성과\\n환경성과 \\n사업부문별 환경성과 \\n[DS부문] \\n추진체계와 주요성과 \\n기후변화 \\n자원순환\\n수자원\\n오염물질\\n독립된 인증인의 인증보고서\\nScope 1, 2 온실가스 배출량 검증 의견서 \\nScope 3 온실가스 배출량 검증 의견서 \\nGRI Index\\nTCFD 대조표\\nSASB 대조표\\nAbout This Report \\n임직원\\n공급망\\n사회공헌\\n개인정보보호와 보안\\n제품 품질과 안전\\nOur Company\\nPrinciple\\nPlanet\\nFacts & Figures Appendix \\nPeople\\n04\\n05\\n06\\n07\\n09\\n59\\n11\\n12\\n16\\n18\\n20\\n62\\n63\\n68\\n72\\n21\\n22\\n27\\n29\\n32\\n76\\n77\\n78\\n80\\n82\\n84\\n86\\n35\\n45\\n51\\n53\\n55'),\n",
       " Document(metadata={'creator': 'Adobe InDesign 15.1 (Macintosh)', 'page_label': '3', 'total_pages': 87, 'source': '../data/Samsung_Electronics_Sustainability_Report_2025_KOR.pdf', 'moddate': '2025-09-04T16:51:11+09:00', 'page': 2, 'trapped': '/False', 'creationdate': '2025-07-10T16:11:16+09:00', 'producer': 'Adobe PDF Library 15.0'}, page_content='삼성전자 지속가능경영보고서 2025\\n03\\nOur Company AppendixFacts & Figures PrinciplePlanet People\\nOur Company\\nCEO 메시지\\n회사소개\\n기업 지배구조\\n중대성 평가\\n이해관계자 소통\\n04\\n05\\n06\\n07\\n09')]"
      ]
     },
     "execution_count": 18,
     "metadata": {},
     "output_type": "execute_result"
    }
   ],
   "source": [
    "# 사실은 chunk 를 쓰면 되지만\n",
    "# 우리는 vectorStore를 처음에 만들고, 더이상 똑같은걸 다시 만들지 않을 것이므로\n",
    "# load_vectorStore._collection 으로 가져와서 chunk 같은 Document 리스트를 만들어야 함\n",
    "from langchain_core.documents import Document\n",
    "bm_doc = []\n",
    "for content, meta in zip(db_docs[\"documents\"], db_docs[\"metadatas\"]):\n",
    "    bm_doc.append(Document(page_content=content, metadata=meta))\n",
    "\n",
    "bm_doc[:3]"
   ]
  },
  {
   "cell_type": "code",
   "execution_count": 20,
   "id": "793d336d",
   "metadata": {},
   "outputs": [],
   "source": [
    "bm25 = BM25Retriever.from_documents(bm_doc)    # 키워드 기반 검색기\n",
    "bm25.k = 5"
   ]
  },
  {
   "cell_type": "code",
   "execution_count": 25,
   "id": "e61aad17",
   "metadata": {},
   "outputs": [],
   "source": [
    "# 벡터 검색기 + bm25 = 하이브리드 검색기 완성\n",
    "ret_hybrid = EnsembleRetriever(\n",
    "    retrievers = [ret_similarity, bm25],\n",
    "    weights = [0.5, 0.5]\n",
    ")"
   ]
  },
  {
   "cell_type": "code",
   "execution_count": 28,
   "id": "b2c55667",
   "metadata": {},
   "outputs": [
    {
     "data": {
      "text/plain": [
       "[Document(id='f7c5dfd6-3ca9-4c9b-920c-d9b4472b9ccb', metadata={'producer': 'Adobe PDF Library 15.0', 'creationdate': '2025-07-10T16:11:16+09:00', 'creator': 'Adobe InDesign 15.1 (Macintosh)', 'page_label': '86', 'source': '../data/Samsung_Electronics_Sustainability_Report_2025_KOR.pdf', 'trapped': '/False', 'total_pages': 87, 'page': 85, 'moddate': '2025-09-04T16:51:11+09:00'}, page_content='삼성전자 지속가능경영보고서 2025\\n86\\n삼성전자주식회사는 경제·사회·환경적 가치 창출 성과를 다양한 이해관계자와 투명하게 소통하기 위해 2025년 열여덟 번째 지속가능경영보고서를 발간합니다.\\n작성 기준\\n본 보고서는 지속가능경영 보고 기준인 GRI(Global Reporting Initiative) \\nStandard 2021에 따라 작성했습니다. 또한 글로벌 지속가능경영 \\n표준과 이니셔티브인 UN SDGs(Sustainable Development Goals) \\n와 TCFD(Task Force on Climate -related Financial Disclosures), \\nSASB(Sustainability Accounting Standards Board)의 지표를 \\n반영했습니다.\\n보고 범위\\n국내와 해 외 모든 사업장과 공급망을 포함합니다. 재무성과는 K-IFRS \\n연결기준으로 작성했으며, 사업장 환경 성과는 국내 외 33개 생산 거점 \\n뿐만 아니라 판매/연구소 등을 포함 하여 수집한 데이터를 기준으로 \\n작성했습니다. 삼성전자의 본 점소재지는 경기도 수원시 영통구 삼성로 \\n129(매탄동)에 위치해 있습니다.\\n보고 기간\\n2024년 1월1일부터 2024년 12월 31일까지의 경제·사회·환경적 성과와 \\n활동을 담고 있으며, 일부 성과에 대해서는 2025년 6월 까지의 정보를 \\n포함하고 있습니다. 정량성과는 연도별 추이 분 석이 가능하도록 최근  \\n3개년 수치를 포함하고 있습니다.\\n보고 주기\\n매년(지난해 보고서 발간 시기: 2024년 6월)\\n보고서 인증\\n보고서 작성 프로세스와 게재된 정보에 대한 신뢰 확보를 위해 독립된 인증 \\n기관인 안진회계법인이 제3자 검증을 수 행했습니다. 검증기준은 ISAE \\n3000을 적용했습니다.\\n관련 정보\\n·  삼성전자주식회사 대표 웹사이트  \\nhttp://www.samsung.com/sec\\n·  삼성전자주식회사 지속가능경영 웹사이트   \\nhttp://www.samsung.com/sec/sustainability/main'),\n",
       " Document(id='621b44a0-2be9-4351-9c80-8421be67fdac', metadata={'producer': 'Adobe PDF Library 15.0', 'page': 0, 'source': '../data/Samsung_Electronics_Sustainability_Report_2025_KOR.pdf', 'creator': 'Adobe InDesign 15.1 (Macintosh)', 'total_pages': 87, 'creationdate': '2025-07-10T16:11:16+09:00', 'moddate': '2025-09-04T16:51:11+09:00', 'trapped': '/False', 'page_label': '1'}, page_content='삼성전자 지속가능경영보고서 2025\\nA Journey  Towards \\n a Sustainable Future\\nA Journey  Towards\\n a Sustainable Future'),\n",
       " Document(id='e6c4955f-9165-4f4e-b489-289cbd3d8473', metadata={'trapped': '/False', 'creator': 'Adobe InDesign 15.1 (Macintosh)', 'total_pages': 87, 'page': 3, 'source': '../data/Samsung_Electronics_Sustainability_Report_2025_KOR.pdf', 'page_label': '4', 'creationdate': '2025-07-10T16:11:16+09:00', 'moddate': '2025-09-04T16:51:11+09:00', 'producer': 'Adobe PDF Library 15.0'}, page_content=\"삼성전자 지속가능경영보고서 2025\\n04\\nOur Company AppendixFacts & Figures PrinciplePlanet People\\n주주, 고객, 협력회사, 그리고 임직원 여러분,\\n2024년은 글로벌 지정학적 리스크와 AI 기술의 성장 등 급격한 산업의 \\n변화를 겪은 한 해였습니다. 산업계 전반에 걸친 경쟁은 한층 더 \\n치열해지고 있으며, 새로운 기술은 사업 전반에 큰 변화를 요구하고 \\n있습니다. \\n삼성전자는 이러한 환경에서도 전년 대비 16%의 매출 증가와 5배에 \\n달하는 영업이익을 기록했습니다. 전략적 시설투자와 연구개발 강화 등 \\n지속 성장의 기반을 다지는 데에도 집중했습니다.\\n다양한 분야의 이해관계자 여러분께서 삼성전자의 이러한 노력을 \\n인정하고 성원해 주신 결과, 삼성전자의 브랜드 가치는 인터브랜드 평가 \\n기준 사상 첫 1,000억 달러를 돌파하며 5년 연속 글로벌 5위로 평가 \\n받았습니다. 진심으로 감사드립니다.\\n급변하는 경영 환경과 사회∙경제적 리스크에 대응하기 위한 확실한 \\n해법은 기본에 충실한 경영과 지속가능한 성장 기반 마련에 있습니다. \\n삼성전자는 이러한 믿음을 바탕으로 사업경쟁력과 기술혁신의 원동력을 \\n제고하기 위해 사회 전반에서 다양한 활동을 지속하고 있습니다.\\n환경 분야에 대해 먼저 말씀드립니다. 삼성전자는 2022년 9월 발표한 '新\\n환경경영전략'을 기반으로 탄소중립 달성, 자원순환 극대화, 그리고 기술 \\n혁신을 통한 환경 난제 해결을 위해 노력하고 있습니다.\\nDX(Device eXperience)부문은 2030년 탄소중립 달성을 목표로 2024\\n년 말 기준 전체 에너지의 93.4%가 재생에너지로 전환되었고, 대표 \\n제품 모델에는 고효율 에너지 기술을 적용해 2019년 대비 평균 31.5%\\n의 소비전력을 절감했습니다. 제품에 사용되는 플라스틱 부품의 31%에 \\n재활용 소재를 적용하는 성과를 이뤘습니다.\\nDS(Device Solutions)부문은 2050년 탄소중립 달성을 목표로\"),\n",
       " Document(metadata={'page': 5, 'creationdate': '2025-07-10T16:11:16+09:00', 'trapped': '/False', 'page_label': '6', 'creator': 'Adobe InDesign 15.1 (Macintosh)', 'producer': 'Adobe PDF Library 15.0', 'total_pages': 87, 'source': '../data/Samsung_Electronics_Sustainability_Report_2025_KOR.pdf', 'moddate': '2025-09-04T16:51:11+09:00'}, page_content='삼성전자 지속가능경영보고서 2025\\n06\\nOur Company AppendixFacts & Figures PrinciplePlanet People\\n주요 분야별 협의회 \\n환경     [DX부문] 환경안전 회의, ESG공시TF \\n[DS부문]  탄소감축위원회, 환경보전위원회,\\n재이용확대위원회 \\n사회     노동인권협의회, 개인정보보호 운영위원회, \\n보안현안협의회, 품질혁신위원회 등\\n기업 지배구조 \\nCorporate Governance\\n이사회 구성\\n삼성전자의 이사회는 주주총회에서 선임한 이사로 구성되며 회사 업무의 \\n중요사항을 결의합니다. 삼성전자는 DX, DS부문장과 주요 경영진이 \\n사내이사로 이사회에 참여하여 책임경영을 실천하고, 각 분야의 전문가인 \\n사외이사가 객관적인 시각으로 경영진을 견제하는 균형 잡힌 거버넌스 \\n체제를 마련하였습니다. 2025년 3월 말 기준 이사회는 사내이사 3인\\n(전영현, 노태문, 송재혁)과 사외이사 6인(신제윤, 김준성, 허은녕, 유명희, \\n조혜경, 이혁재)으로 구성되 어 있습니다. 이사회는 독립성과 투 명성 \\n제고를 위하여 이사회 의장을 대표이사와 분리해 신제윤 사 외이사를 \\n의장으로 선임하였습니다.\\n삼성전자는 이사 선임 시 전문분야, 성별, 국적 등의 다양성을 고려하고 \\n있습니다. 특히 사 외이사는 재 무, 법 률, IT(로 봇·AI·반도체), 리스크 \\n관리, 공공부문과 지속가능경영 분야 등에 관한 전문지 식이나 경험이 \\n풍부한 인물로 선정하며, 이를 위해 BSM(Board Skills Matrix) 을 \\n작성, 활용합니다. 또한 이사회의 성별 다양성이 균 형잡힌 의사결정 등 \\n이사회 활동에 미 치는 긍정적 영향을 고려하여 여성 사 외이사 2인을 \\n선임하였습니다.\\n지속가능경영 추진 체계\\n삼성전자의 지속가능경영 활동은 최 고 의사결정기구인 이사회가 \\n감독하고 있습니다.\\n삼성전자는 2021년 7월 지속가능경영을 추진하고 주주가치를 제고하기 \\n위해 기존의 거버넌스위원회를 확대 개편해 이사회 산하 지속가능경영'),\n",
       " Document(id='cbd5e420-c65c-4c10-b890-a52054c80bca', metadata={'producer': 'Adobe PDF Library 15.0', 'creationdate': '2025-07-10T16:11:16+09:00', 'moddate': '2025-09-04T16:51:11+09:00', 'trapped': '/False', 'creator': 'Adobe InDesign 15.1 (Macintosh)', 'page': 76, 'source': '../data/Samsung_Electronics_Sustainability_Report_2025_KOR.pdf', 'total_pages': 87, 'page_label': '77'}, page_content='삼성전자 지속가능경영보고서 2025\\n77\\nScope 1, 2 온실가스 배출량 검증 의견서\\nOur Company AppendixFacts & Figures PrinciplePlanet People'),\n",
       " Document(metadata={'page': 85, 'source': '../data/Samsung_Electronics_Sustainability_Report_2025_KOR.pdf', 'trapped': '/False', 'page_label': '86', 'creationdate': '2025-07-10T16:11:16+09:00', 'moddate': '2025-09-04T16:51:11+09:00', 'total_pages': 87, 'producer': 'Adobe PDF Library 15.0', 'creator': 'Adobe InDesign 15.1 (Macintosh)'}, page_content='·  삼성전자주식회사 지속가능경영 웹사이트   \\nhttp://www.samsung.com/sec/sustainability/main\\n·  삼성전자주식회사 IR 웹사이트   \\nhttp://www.samsung.com/sec/ir\\n·  삼성전자주식회사 뉴스룸   \\nhttp://news.samsung.com/kr   \\nhttp://news.samsung.com/global\\n담당 부서\\n· 삼성전자주식회사 지속가능경영추진센터\\n· 주소: 16677 경기도 수원시 영통구 삼성로 129(매탄동)\\n· 이메일: sustainability.sec@samsung.com\\n참고 자료\\n·  사업 보고서 \\n·  기업지배구조 보고서 \\n·  삼성전자 책임광물 관리 보고서 \\n·  행동규범 \\n·  행동규범 가이드라인 \\n미래 예측 진술 공지\\n삼성전자주식회사의 지속가능경영보고서에서 삼성전자의 지속가능경영 목표 및  전략과 관련된 \\n것을 포함하여 이 루어진 모 든 특정 내용은 관련법상 미래  예측 진술에 해 당할 수 있습니다. 이 \\n지속가능경영보고서에서는 향후 상황 및 지속가능경영 성과에 대한 삼성전자의 현재 견해를 반영하는 \\n미래 예측 진술이 포함되어 있습니다. 이와 같은 내용은 위험과 불확실성을 포함하고 있습니다.\\n어떠한 사실이 현 재 또는 과거 시점에만 국한되는 것 이 아니라 미래에도 유관한 경 우 미래 예측 \\n진술로 볼 수 있습니다. 예를 들어, 삼성전자의 전망, 지침, 그 외 특정 과거 혹은 현재의 사실과 직접적 \\n연관성이 있지 않은 정보 등을 포함합니다. 경우에 따라 \"may,\" \"will,\" \"could,\" \"should,\" \"forecasts,\" \\n\"expects, \" \"intends,\" \"plans,\" “aims to ”, “goals,” “trying to, ” \"anticipates, \" \"projects, \" \\n\"outlook,\" \"believes,\" \"estimates,\" \"predicts,\" \"potential,\" \"continue,\" \"preliminary,\" “추진”,'),\n",
       " Document(metadata={'trapped': '/False', 'page_label': '42', 'page': 41, 'creator': 'Adobe InDesign 15.1 (Macintosh)', 'producer': 'Adobe PDF Library 15.0', 'source': '../data/Samsung_Electronics_Sustainability_Report_2025_KOR.pdf', 'creationdate': '2025-07-10T16:11:16+09:00', 'moddate': '2025-09-04T16:51:11+09:00', 'total_pages': 87}, page_content='삼성전자 지속가능경영보고서 2025\\n42\\n여성인력 활용 강화\\n여성 리더십 목표제 운영\\n삼성전자는 여성 임원의 비중을 2022년 6.9% 대비 2030년 까지 2배 \\n이상 확대하고자 하는 목표를 가지고 여성 리더의 양적·질적 확대를 위해 \\n노력합니다. 이를 위해 채용, 평가, 퇴직까지 전 단계에 걸쳐 여성인력 \\n비중을 체계적으로 관리합니다. 또한 우수한 여성인력이 리더로 성장할 \\n수 있도록 지원하는 차세대 여성 리더 워크숍과 여성 임원 간 네트워킹 \\n프로그램 등을 운영하고 있습니다.\\n인재양성\\nTalent Pipeline 관리\\n삼성전자는 급변하는 국내외 경영환경 속에서 기술 우위를 점하기 위해 \\n사내 인재 Talent Pipeline을 구축·관리합니다. 회사의 사업 현황과 미래 \\n핵심 기술분야를 면밀히 분석하여 분야별 중장기 인력 수요를 사전에 \\n예측하며, 우수 인력 확보를 위해 신규 채용, 내부 양성 등 다양한 경로로 \\n우수인재 Pool을 확보하고 있습니다.\\n임직원 주도의 성장문화 구축\\n삼성전자의 임직원 들은 매년 2회 STaR(Samsung Talent Revie w) \\nWeek 기간 동안 본인에게 필요한 교육을 스스로 신 청할 수 있습니다. \\n직무별·역할별 맞춤형 프로그램을 제공하며, 특히 본인 직무에 한정된 \\n교육을 수강하 던 형태에서 벗어나 각 개인이 필요하다고 생 각하면 타 \\n직무 과정도 신 청할 수 있습니다. 2025년 1학기에는 825개의 과정이 \\n개설되었으며 임직원의 49%가 STaR Week에 참여하였습니다.\\nSEU  삼성전자 DX부문은 업 무를 수 행하며 전문성을 키 우고 지속 \\n성장하고자 하는 임직원의 요구에 부응하기 위하여 각  직 무별로 \\n흩어져있던 교육조직을 하나로 통합한 SEU를 출범하였습니다. SEU는 \\n3개 아카데미, 12개 School에서 시간선택제, 계약직 포함 전 임직원을 \\n대상으로 직무와 리더십 향상 교육을 지원하며, 임직원 주도 성장문화 \\n정착, 현업과 밀착된 실용적 교육 구축, 직무·분야간 융복합 등을 위하여'),\n",
       " Document(id='9c8cbca7-0229-474a-8894-bfc65455411f', metadata={'page_label': '76', 'source': '../data/Samsung_Electronics_Sustainability_Report_2025_KOR.pdf', 'moddate': '2025-09-04T16:51:11+09:00', 'page': 75, 'trapped': '/False', 'creator': 'Adobe InDesign 15.1 (Macintosh)', 'total_pages': 87, 'creationdate': '2025-07-10T16:11:16+09:00', 'producer': 'Adobe PDF Library 15.0'}, page_content='삼성전자 지속가능경영보고서 2025\\n76\\n독립된 인증인의 인증보고서\\nOur Company AppendixFacts & Figures PrinciplePlanet People'),\n",
       " Document(metadata={'trapped': '/False', 'creationdate': '2025-07-10T16:11:16+09:00', 'source': '../data/Samsung_Electronics_Sustainability_Report_2025_KOR.pdf', 'producer': 'Adobe PDF Library 15.0', 'moddate': '2025-09-04T16:51:11+09:00', 'total_pages': 87, 'page': 39, 'page_label': '40', 'creator': 'Adobe InDesign 15.1 (Macintosh)'}, page_content='삼성전자 지속가능경영보고서 2025\\n40\\n활동\\n결사의 자유와 단체교섭 보장\\n결사의 자 유는 근로자가 노동조합을 결성하 거나 가 입할 수 있는 \\n권리입니다. 단체교섭은 사용자와 노동조합이 건 설적인 논의를 통해 \\n근로조건을 확립하고 근로자의 기회균등을 보장하며, 건전한 노사관계의 \\n토대를 마련하기 위한 수단 중 하나입니다.\\n삼성전자는 노동조합과 기타 모든 형태의 임직원 대표 활동을 존중합니다. \\n노동조합 가 입, 단체교섭 요구, 단 체행동 참여 등을 이유 로 직원을 \\n차별하거나, 보복하거나, 괴롭히는 등 기타 불리한 영향을 받지 않도록 \\n보장합니다.\\n삼성전자는 노사 간 상호 신뢰와 열린 자세를 토대로 단체교섭에 임하며, \\n각 사업장과 지 역 노동 관 행을 고 려하여 성실 히 논의하고 문제를 \\n해결합니다.\\n또한 이사회 산하에 외부 전문가 4명으로 구성된 노사관계 자문그룹을 \\n운영하고 있습니다. 자문위원들은 삼성전자의 노사관계 현안을 검토하고 \\n경영진과 People팀 임원들에게 노사관계 관 행에 대한 중장기 제 언을 \\n전달합니다. \\n삼성전자는 노동조합(한국)과의 교섭을 통해 2025년 3월 임 금·\\n단체협약을 체결하였으며, 협 약 내용에 따 라 근로조건을 개 선하고 \\n노동조합 활동 인프라를 확대하는 등 협력적 노사관계를 구축하기 위해 \\n노력하고 있습니다.\\n적절한 생활 수준을 누릴 권리\\n생활임 금 지급은 근 로자의 적절한 생활 수준을 보장하고 불 평등을 \\n해소하며 근로시간 등 다른 근로조건에 대한 문제를 해결하는 방법 중 \\n하나입니다. 생활임금은 일반적으로 주당 표준 근로시간 기준 근로자와 \\n그 가족이 적절한 생활 수준을 유지할 수 있는 충분한 소득으로 이해되고 \\n있습니다.\\n삼성전자는 임직원에게 적절한 생활 수준을 제공하기 위해 노력하며, \\n이는 근로자와 근로자 가족의 기본적인 필요를 충족시키는 수준의 보수를 \\n제공하는 것을 의미합니다.\\n삼성전자는 2018년 BSR(Business f or Social Responsibility)과')]"
      ]
     },
     "execution_count": 28,
     "metadata": {},
     "output_type": "execute_result"
    }
   ],
   "source": [
    "question = \"삼성전자의 2025년 전망은?\"\n",
    "result = ret_hybrid.invoke(question)\n",
    "result"
   ]
  },
  {
   "cell_type": "code",
   "execution_count": null,
   "id": "bcc15aec",
   "metadata": {},
   "outputs": [],
   "source": [
    "rich_docs(result, title = \"삼성전자 전망\")"
   ]
  },
  {
   "cell_type": "markdown",
   "id": "39f30ab3",
   "metadata": {},
   "source": [
    "### 2-1) 압축 검색기 ( Compression Retriever)"
   ]
  },
  {
   "cell_type": "markdown",
   "id": "c001ef84",
   "metadata": {},
   "source": [
    "- 검색된 문서가 길 때 -> llm을 이용해서 내용을 압축해보기\n",
    "- 문서 내용이 너무 파편화 되어 있는 경우 -> 압축 진행 -> 찌꺼기가 제거됨 (띄어쓰기나 태그, 이모티콘 등)\n",
    "- 문제점 : 비용문제 -> 각 문서별로 전부 압축을 진행해서 사용하기 때문"
   ]
  },
  {
   "cell_type": "code",
   "execution_count": 30,
   "id": "48f82e7d",
   "metadata": {},
   "outputs": [],
   "source": [
    "from langchain.retrievers import ContextualCompressionRetriever\n",
    "from langchain.retrievers.document_compressors import LLMChainExtractor, LLMChainFilter\n",
    "from langchain_openai import ChatOpenAI\n",
    "\n",
    "model = ChatOpenAI(\n",
    "    model_name = \"gpt-4.1-mini\",\n",
    "    temperature=0\n",
    ")"
   ]
  },
  {
   "cell_type": "code",
   "execution_count": 31,
   "id": "7cc97765",
   "metadata": {},
   "outputs": [],
   "source": [
    "# 압축기 생성\n",
    "compressor = LLMChainExtractor.from_llm(model)\n",
    "\n",
    "# 압축 검색기 생성 = 유사도 검색 -> 문서 내용 압축\n",
    "comp_retriever = ContextualCompressionRetriever(\n",
    "    base_retriever = ret_similarity,\n",
    "    base_compressor = compressor\n",
    ")"
   ]
  },
  {
   "cell_type": "code",
   "execution_count": 32,
   "id": "b9d3c468",
   "metadata": {},
   "outputs": [
    {
     "data": {
      "text/plain": [
       "[Document(metadata={'creationdate': '2025-07-10T16:11:16+09:00', 'producer': 'Adobe PDF Library 15.0', 'creator': 'Adobe InDesign 15.1 (Macintosh)', 'page': 3, 'total_pages': 87, 'source': '../data/Samsung_Electronics_Sustainability_Report_2025_KOR.pdf', 'page_label': '4', 'moddate': '2025-09-04T16:51:11+09:00', 'trapped': '/False'}, page_content=\"삼성전자는 2022년 9월 발표한 '新환경경영전략'을 기반으로 탄소중립 달성, 자원순환 극대화, 그리고 기술 혁신을 통한 환경 난제 해결을 위해 노력하고 있습니다.  \\nDX(Device eXperience)부문은 2030년 탄소중립 달성을 목표로  \\nDS(Device Solutions)부문은 2050년 탄소중립 달성을 목표로\"),\n",
       " Document(metadata={'page_label': '86', 'source': '../data/Samsung_Electronics_Sustainability_Report_2025_KOR.pdf', 'producer': 'Adobe PDF Library 15.0', 'page': 85, 'trapped': '/False', 'creator': 'Adobe InDesign 15.1 (Macintosh)', 'moddate': '2025-09-04T16:51:11+09:00', 'creationdate': '2025-07-10T16:11:16+09:00', 'total_pages': 87}, page_content='삼성전자 지속가능경영보고서 2025  \\n작성 기준  \\n본 보고서는 지속가능경영 보고 기준인 GRI(Global Reporting Initiative)  \\nStandard 2021에 따라 작성했습니다.  \\n\\n보고 기간  \\n2024년 1월1일부터 2024년 12월 31일까지의 경제·사회·환경적 성과와  \\n활동을 담고 있으며, 일부 성과에 대해서는 2025년 6월 까지의 정보를  \\n포함하고 있습니다.'),\n",
       " Document(metadata={'trapped': '/False', 'source': '../data/Samsung_Electronics_Sustainability_Report_2025_KOR.pdf', 'producer': 'Adobe PDF Library 15.0', 'creationdate': '2025-07-10T16:11:16+09:00', 'page_label': '1', 'creator': 'Adobe InDesign 15.1 (Macintosh)', 'page': 0, 'total_pages': 87, 'moddate': '2025-09-04T16:51:11+09:00'}, page_content='삼성전자 지속가능경영보고서 2025'),\n",
       " Document(metadata={'source': '../data/Samsung_Electronics_Sustainability_Report_2025_KOR.pdf', 'producer': 'Adobe PDF Library 15.0', 'page': 2, 'trapped': '/False', 'creationdate': '2025-07-10T16:11:16+09:00', 'page_label': '3', 'creator': 'Adobe InDesign 15.1 (Macintosh)', 'total_pages': 87, 'moddate': '2025-09-04T16:51:11+09:00'}, page_content='삼성전자 지속가능경영보고서 2025'),\n",
       " Document(metadata={'creationdate': '2025-07-10T16:11:16+09:00', 'source': '../data/Samsung_Electronics_Sustainability_Report_2025_KOR.pdf', 'producer': 'Adobe PDF Library 15.0', 'page': 4, 'creator': 'Adobe InDesign 15.1 (Macintosh)', 'trapped': '/False', 'moddate': '2025-09-04T16:51:11+09:00', 'total_pages': 87, 'page_label': '5'}, page_content='삼성전자 지속가능경영보고서 2025\\n05\\nOur Company AppendixFacts & Figures PrinciplePlanet People\\n회사소개\\nAbout Us\\n삼성전자주식회사(이하 삼성전자)는 인재와 기술을 기반으로 최고의 제품과 서비스를 창출함으로써 인류사회에 기여하는 글로벌 초일류 기업을 지향합니다. 이를 위해 삼성전자가 지켜나갈 약속인 5가지 경영원칙 을 세부원칙과 \\n행동지침으로 구체화하고, 삼성전자 임직원이 지켜야 할 행동규범 으로 제정하여 모든 경영활동의 기준으로 삼고 있습니다. 앞으로도 삼성전자는 조직문화에 5가지 핵심가치 를 내재화하여 지속적으로 성장해갈 것입니다.')]"
      ]
     },
     "execution_count": 32,
     "metadata": {},
     "output_type": "execute_result"
    }
   ],
   "source": [
    "question = \"삼성전자의 목표와 기준 년도만 간단히 알려줘\"\n",
    "comp_result = comp_retriever.invoke(question)\n",
    "comp_result"
   ]
  },
  {
   "cell_type": "code",
   "execution_count": 33,
   "id": "7bf72cb1",
   "metadata": {},
   "outputs": [
    {
     "data": {
      "text/html": [
       "<pre style=\"white-space:pre;overflow-x:auto;line-height:normal;font-family:Menlo,'DejaVu Sans Mono',consolas,'Courier New',monospace\"><span style=\"font-style: italic\">                                            삼성전자의 목표와 기준 년도                                            </span>\n",
       "┏━━━┳━━━━━━━━━━━━━━━━━━━━━━━━━━━━━━━━━━━━━━━━━━━━━━━━━━┳━━━━━━┳━━━━━━━━━━━━━━━━━━━━━━━━━━━━━━━━━━━━━━━━━━━━━━━━━━━┓\n",
       "┃<span style=\"font-weight: bold\"> # </span>┃<span style=\"font-weight: bold\"> Source                                           </span>┃<span style=\"font-weight: bold\"> Page </span>┃<span style=\"font-weight: bold\"> Preview                                           </span>┃\n",
       "┡━━━╇━━━━━━━━━━━━━━━━━━━━━━━━━━━━━━━━━━━━━━━━━━━━━━━━━━╇━━━━━━╇━━━━━━━━━━━━━━━━━━━━━━━━━━━━━━━━━━━━━━━━━━━━━━━━━━━┩\n",
       "│ 1 │ Samsung_Electronics_Sustainability_Report_2025_… │    4 │ 삼성전자는 2022년 9월 발표한 '新환경경영전략'을   │\n",
       "│   │                                                  │      │ 기반으로 탄소중립 달성, 자원순환 극대화, 그리고   │\n",
       "│   │                                                  │      │ 기술 혁신을 통한 환경 난제 해결을 위해 노력하고   │\n",
       "│   │                                                  │      │ 있습니다.   DX(Device eXperience)부문은 2030년    │\n",
       "│   │                                                  │      │ 탄소중립 달성을 목표로   …                        │\n",
       "│ 2 │ Samsung_Electronics_Sustainability_Report_2025_… │   86 │ 삼성전자 지속가능경영보고서 2025   작성 기준    … │\n",
       "│   │                                                  │      │ 보고서는 지속가능경영 보고 기준인 GRI(Global      │\n",
       "│   │                                                  │      │ Reporting Initiative)   Standard 2021에 따라      │\n",
       "│   │                                                  │      │ 작성했습니다.    보고 기간   2024년 1월1일부터    │\n",
       "│   │                                                  │      │ 2024…                                             │\n",
       "│ 3 │ Samsung_Electronics_Sustainability_Report_2025_… │    1 │ 삼성전자 지속가능경영보고서 2025                  │\n",
       "│ 4 │ Samsung_Electronics_Sustainability_Report_2025_… │    3 │ 삼성전자 지속가능경영보고서 2025                  │\n",
       "│ 5 │ Samsung_Electronics_Sustainability_Report_2025_… │    5 │ 삼성전자 지속가능경영보고서 2025 05 Our Company   │\n",
       "│   │                                                  │      │ AppendixFacts &amp; Figures PrinciplePlanet People    │\n",
       "│   │                                                  │      │ 회사소개 About Us 삼성전자주식회사(이하           │\n",
       "│   │                                                  │      │ 삼성전자)는 인재와 기술을 기반으로 최고의 제품과  │\n",
       "│   │                                                  │      │ 서비스를…                                         │\n",
       "└───┴──────────────────────────────────────────────────┴──────┴───────────────────────────────────────────────────┘\n",
       "</pre>\n"
      ],
      "text/plain": [
       "\u001b[3m                                            삼성전자의 목표와 기준 년도                                            \u001b[0m\n",
       "┏━━━┳━━━━━━━━━━━━━━━━━━━━━━━━━━━━━━━━━━━━━━━━━━━━━━━━━━┳━━━━━━┳━━━━━━━━━━━━━━━━━━━━━━━━━━━━━━━━━━━━━━━━━━━━━━━━━━━┓\n",
       "┃\u001b[1m \u001b[0m\u001b[1m#\u001b[0m\u001b[1m \u001b[0m┃\u001b[1m \u001b[0m\u001b[1mSource                                          \u001b[0m\u001b[1m \u001b[0m┃\u001b[1m \u001b[0m\u001b[1mPage\u001b[0m\u001b[1m \u001b[0m┃\u001b[1m \u001b[0m\u001b[1mPreview                                          \u001b[0m\u001b[1m \u001b[0m┃\n",
       "┡━━━╇━━━━━━━━━━━━━━━━━━━━━━━━━━━━━━━━━━━━━━━━━━━━━━━━━━╇━━━━━━╇━━━━━━━━━━━━━━━━━━━━━━━━━━━━━━━━━━━━━━━━━━━━━━━━━━━┩\n",
       "│ 1 │ Samsung_Electronics_Sustainability_Report_2025_… │    4 │ 삼성전자는 2022년 9월 발표한 '新환경경영전략'을   │\n",
       "│   │                                                  │      │ 기반으로 탄소중립 달성, 자원순환 극대화, 그리고   │\n",
       "│   │                                                  │      │ 기술 혁신을 통한 환경 난제 해결을 위해 노력하고   │\n",
       "│   │                                                  │      │ 있습니다.   DX(Device eXperience)부문은 2030년    │\n",
       "│   │                                                  │      │ 탄소중립 달성을 목표로   …                        │\n",
       "│ 2 │ Samsung_Electronics_Sustainability_Report_2025_… │   86 │ 삼성전자 지속가능경영보고서 2025   작성 기준    … │\n",
       "│   │                                                  │      │ 보고서는 지속가능경영 보고 기준인 GRI(Global      │\n",
       "│   │                                                  │      │ Reporting Initiative)   Standard 2021에 따라      │\n",
       "│   │                                                  │      │ 작성했습니다.    보고 기간   2024년 1월1일부터    │\n",
       "│   │                                                  │      │ 2024…                                             │\n",
       "│ 3 │ Samsung_Electronics_Sustainability_Report_2025_… │    1 │ 삼성전자 지속가능경영보고서 2025                  │\n",
       "│ 4 │ Samsung_Electronics_Sustainability_Report_2025_… │    3 │ 삼성전자 지속가능경영보고서 2025                  │\n",
       "│ 5 │ Samsung_Electronics_Sustainability_Report_2025_… │    5 │ 삼성전자 지속가능경영보고서 2025 05 Our Company   │\n",
       "│   │                                                  │      │ AppendixFacts & Figures PrinciplePlanet People    │\n",
       "│   │                                                  │      │ 회사소개 About Us 삼성전자주식회사(이하           │\n",
       "│   │                                                  │      │ 삼성전자)는 인재와 기술을 기반으로 최고의 제품과  │\n",
       "│   │                                                  │      │ 서비스를…                                         │\n",
       "└───┴──────────────────────────────────────────────────┴──────┴───────────────────────────────────────────────────┘\n"
      ]
     },
     "metadata": {},
     "output_type": "display_data"
    }
   ],
   "source": [
    "rich_docs(comp_result, title=\"삼성전자의 목표와 기준 년도\")"
   ]
  },
  {
   "cell_type": "markdown",
   "id": "db92ca5b",
   "metadata": {},
   "source": [
    "### 2-2) 임베딩 기반 경량 압축 (비용 X)\n",
    "- 잘 사용하진 않음\n",
    "- 두개를 다 사용하고 싶을 때 (ex. 유사도 + 필터 / mmr + 필터)"
   ]
  },
  {
   "cell_type": "code",
   "execution_count": 35,
   "id": "a43f2fb5",
   "metadata": {},
   "outputs": [],
   "source": [
    "from langchain.retrievers.document_compressors import EmbeddingsFilter\n",
    "\n",
    "emb_filter = EmbeddingsFilter(\n",
    "    embeddings = embedding,\n",
    "    similarity_threshold = 0.2\n",
    ")\n",
    "comp_embed = ContextualCompressionRetriever(\n",
    "    base_retriever = ret_similarity,\n",
    "    base_compressor = emb_filter\n",
    ")\n",
    "comp_embed_result = comp_embed.invoke(question)"
   ]
  },
  {
   "cell_type": "code",
   "execution_count": 36,
   "id": "c5ed51b7",
   "metadata": {},
   "outputs": [
    {
     "data": {
      "text/html": [
       "<pre style=\"white-space:pre;overflow-x:auto;line-height:normal;font-family:Menlo,'DejaVu Sans Mono',consolas,'Courier New',monospace\"><span style=\"font-style: italic\">                                               임베딩 기반 필터기법                                                </span>\n",
       "┏━━━┳━━━━━━━━━━━━━━━━━━━━━━━━━━━━━━━━━━━━━━━━━━━━━━━━━━┳━━━━━━┳━━━━━━━━━━━━━━━━━━━━━━━━━━━━━━━━━━━━━━━━━━━━━━━━━━━┓\n",
       "┃<span style=\"font-weight: bold\"> # </span>┃<span style=\"font-weight: bold\"> Source                                           </span>┃<span style=\"font-weight: bold\"> Page </span>┃<span style=\"font-weight: bold\"> Preview                                           </span>┃\n",
       "┡━━━╇━━━━━━━━━━━━━━━━━━━━━━━━━━━━━━━━━━━━━━━━━━━━━━━━━━╇━━━━━━╇━━━━━━━━━━━━━━━━━━━━━━━━━━━━━━━━━━━━━━━━━━━━━━━━━━━┩\n",
       "│ 1 │ Samsung_Electronics_Sustainability_Report_2025_… │    4 │ 삼성전자 지속가능경영보고서 2025 04 Our Company   │\n",
       "│   │                                                  │      │ AppendixFacts &amp; Figures PrinciplePlanet People    │\n",
       "│   │                                                  │      │ 주주, 고객, 협력회사, 그리고 임직원 여러분,       │\n",
       "│   │                                                  │      │ 2024년은 글로벌 지정학적 리스크와 AI 기술의 성장  │\n",
       "│   │                                                  │      │ …                                                 │\n",
       "│ 2 │ Samsung_Electronics_Sustainability_Report_2025_… │   86 │ 삼성전자 지속가능경영보고서 2025 86               │\n",
       "│   │                                                  │      │ 삼성전자주식회사는 경제·사회·환경적 가치 창출     │\n",
       "│   │                                                  │      │ 성과를 다양한 이해관계자와 투명하게 소통하기 위 … │\n",
       "│   │                                                  │      │ 2025년 열여덟 번째 지속가능경영보고서를           │\n",
       "│   │                                                  │      │ 발간합니다. 작성 기준 본 보고서는 지속가능경영    │\n",
       "│   │                                                  │      │ 보고 기준인 GRI(G…                                │\n",
       "│ 3 │ Samsung_Electronics_Sustainability_Report_2025_… │    1 │ 삼성전자 지속가능경영보고서 2025 A Journey        │\n",
       "│   │                                                  │      │ Towards   a Sustainable Future A Journey  Towards │\n",
       "│   │                                                  │      │ a Sustainable Future                              │\n",
       "│ 4 │ Samsung_Electronics_Sustainability_Report_2025_… │    3 │ 삼성전자 지속가능경영보고서 2025 03 Our Company   │\n",
       "│   │                                                  │      │ AppendixFacts &amp; Figures PrinciplePlanet People    │\n",
       "│   │                                                  │      │ Our Company CEO 메시지 회사소개 기업 지배구조     │\n",
       "│   │                                                  │      │ 중대성 평가 이해관계자 소통 04 05 06 …            │\n",
       "│ 5 │ Samsung_Electronics_Sustainability_Report_2025_… │    5 │ 삼성전자 지속가능경영보고서 2025 05 Our Company   │\n",
       "│   │                                                  │      │ AppendixFacts &amp; Figures PrinciplePlanet People    │\n",
       "│   │                                                  │      │ 회사소개 About Us 삼성전자주식회사(이하           │\n",
       "│   │                                                  │      │ 삼성전자)는 인재와 기술을 기반으로 최고의 제품과  │\n",
       "│   │                                                  │      │ 서비스를…                                         │\n",
       "└───┴──────────────────────────────────────────────────┴──────┴───────────────────────────────────────────────────┘\n",
       "</pre>\n"
      ],
      "text/plain": [
       "\u001b[3m                                               임베딩 기반 필터기법                                                \u001b[0m\n",
       "┏━━━┳━━━━━━━━━━━━━━━━━━━━━━━━━━━━━━━━━━━━━━━━━━━━━━━━━━┳━━━━━━┳━━━━━━━━━━━━━━━━━━━━━━━━━━━━━━━━━━━━━━━━━━━━━━━━━━━┓\n",
       "┃\u001b[1m \u001b[0m\u001b[1m#\u001b[0m\u001b[1m \u001b[0m┃\u001b[1m \u001b[0m\u001b[1mSource                                          \u001b[0m\u001b[1m \u001b[0m┃\u001b[1m \u001b[0m\u001b[1mPage\u001b[0m\u001b[1m \u001b[0m┃\u001b[1m \u001b[0m\u001b[1mPreview                                          \u001b[0m\u001b[1m \u001b[0m┃\n",
       "┡━━━╇━━━━━━━━━━━━━━━━━━━━━━━━━━━━━━━━━━━━━━━━━━━━━━━━━━╇━━━━━━╇━━━━━━━━━━━━━━━━━━━━━━━━━━━━━━━━━━━━━━━━━━━━━━━━━━━┩\n",
       "│ 1 │ Samsung_Electronics_Sustainability_Report_2025_… │    4 │ 삼성전자 지속가능경영보고서 2025 04 Our Company   │\n",
       "│   │                                                  │      │ AppendixFacts & Figures PrinciplePlanet People    │\n",
       "│   │                                                  │      │ 주주, 고객, 협력회사, 그리고 임직원 여러분,       │\n",
       "│   │                                                  │      │ 2024년은 글로벌 지정학적 리스크와 AI 기술의 성장  │\n",
       "│   │                                                  │      │ …                                                 │\n",
       "│ 2 │ Samsung_Electronics_Sustainability_Report_2025_… │   86 │ 삼성전자 지속가능경영보고서 2025 86               │\n",
       "│   │                                                  │      │ 삼성전자주식회사는 경제·사회·환경적 가치 창출     │\n",
       "│   │                                                  │      │ 성과를 다양한 이해관계자와 투명하게 소통하기 위 … │\n",
       "│   │                                                  │      │ 2025년 열여덟 번째 지속가능경영보고서를           │\n",
       "│   │                                                  │      │ 발간합니다. 작성 기준 본 보고서는 지속가능경영    │\n",
       "│   │                                                  │      │ 보고 기준인 GRI(G…                                │\n",
       "│ 3 │ Samsung_Electronics_Sustainability_Report_2025_… │    1 │ 삼성전자 지속가능경영보고서 2025 A Journey        │\n",
       "│   │                                                  │      │ Towards   a Sustainable Future A Journey  Towards │\n",
       "│   │                                                  │      │ a Sustainable Future                              │\n",
       "│ 4 │ Samsung_Electronics_Sustainability_Report_2025_… │    3 │ 삼성전자 지속가능경영보고서 2025 03 Our Company   │\n",
       "│   │                                                  │      │ AppendixFacts & Figures PrinciplePlanet People    │\n",
       "│   │                                                  │      │ Our Company CEO 메시지 회사소개 기업 지배구조     │\n",
       "│   │                                                  │      │ 중대성 평가 이해관계자 소통 04 05 06 …            │\n",
       "│ 5 │ Samsung_Electronics_Sustainability_Report_2025_… │    5 │ 삼성전자 지속가능경영보고서 2025 05 Our Company   │\n",
       "│   │                                                  │      │ AppendixFacts & Figures PrinciplePlanet People    │\n",
       "│   │                                                  │      │ 회사소개 About Us 삼성전자주식회사(이하           │\n",
       "│   │                                                  │      │ 삼성전자)는 인재와 기술을 기반으로 최고의 제품과  │\n",
       "│   │                                                  │      │ 서비스를…                                         │\n",
       "└───┴──────────────────────────────────────────────────┴──────┴───────────────────────────────────────────────────┘\n"
      ]
     },
     "metadata": {},
     "output_type": "display_data"
    }
   ],
   "source": [
    "rich_docs(comp_embed_result, title=\"임베딩 기반 필터기법\")"
   ]
  },
  {
   "cell_type": "markdown",
   "id": "23f5f988",
   "metadata": {},
   "source": [
    "## 5. Reranker"
   ]
  },
  {
   "cell_type": "markdown",
   "id": "6902a334",
   "metadata": {},
   "source": [
    "```\n",
    "uv add sentence-transformers\n",
    "uv add langchain_huggingface\n",
    "```"
   ]
  },
  {
   "cell_type": "markdown",
   "id": "558cdcc2",
   "metadata": {},
   "source": [
    "- 우선 검색기로 후보군 추출 (ex. 10-30개)"
   ]
  },
  {
   "cell_type": "code",
   "execution_count": null,
   "id": "f1070bd8",
   "metadata": {},
   "outputs": [],
   "source": [
    "# 1. 유사도 기반으로 10개 추출\n",
    "ret_similarity = load_vectorStore.as_retriever(\n",
    "    search_type = \"similarity\",\n",
    "    search_kwargs = {\"k\" : 10}\n",
    ")\n",
    "question = \"삼성과 현대 중에서 어느 기업이 더 나아?\"\n",
    "ret_similarity_result = ret_similarity.invoke(question)\n",
    "rich_docs(ret_similarity_result, title=\"두 기업 비교\")"
   ]
  },
  {
   "cell_type": "markdown",
   "id": "9e5cc0c2",
   "metadata": {},
   "source": [
    "```\n",
    "uv add hf_xet\n",
    "```"
   ]
  },
  {
   "cell_type": "code",
   "execution_count": 38,
   "id": "2f4b8f9f",
   "metadata": {},
   "outputs": [],
   "source": [
    "from langchain_community.cross_encoders.huggingface import HuggingFaceCrossEncoder\n",
    "from langchain.retrievers.document_compressors import CrossEncoderReranker"
   ]
  },
  {
   "cell_type": "code",
   "execution_count": null,
   "id": "b3b34f58",
   "metadata": {},
   "outputs": [],
   "source": [
    "# huggingFace model 가져오기\n",
    "hf_ce = HuggingFaceCrossEncoder(\n",
    "    model_name = \"cross-encoder/ms-marco-MiniLM-L6-v2\",\n",
    "    model_kwargs = {\n",
    "        \"device\" : \"cuda\",\n",
    "        \"max_length\" : 512\n",
    "    }\n",
    ")"
   ]
  },
  {
   "cell_type": "code",
   "execution_count": 41,
   "id": "4bca549a",
   "metadata": {},
   "outputs": [
    {
     "data": {
      "text/html": [
       "<pre style=\"white-space:pre;overflow-x:auto;line-height:normal;font-family:Menlo,'DejaVu Sans Mono',consolas,'Courier New',monospace\"><span style=\"font-style: italic\">                                                    리랭크 결과                                                    </span>\n",
       "┏━━━━┳━━━━━━━━━━━━━━━━━━━━━━━━━━━━━━━━━━━━━━━━━━━━━━━━━━┳━━━━━━┳━━━━━━━━━━━━━━━━━━━━━━━━━━━━━━━━━━━━━━━━━━━━━━━━━━┓\n",
       "┃<span style=\"font-weight: bold\">  # </span>┃<span style=\"font-weight: bold\"> Source                                           </span>┃<span style=\"font-weight: bold\"> Page </span>┃<span style=\"font-weight: bold\"> Preview                                          </span>┃\n",
       "┡━━━━╇━━━━━━━━━━━━━━━━━━━━━━━━━━━━━━━━━━━━━━━━━━━━━━━━━━╇━━━━━━╇━━━━━━━━━━━━━━━━━━━━━━━━━━━━━━━━━━━━━━━━━━━━━━━━━━┩\n",
       "│  1 │ Samsung_Electronics_Sustainability_Report_2025_… │   45 │ 삼성전자 지속가능경영보고서 2025 45 협력회사     │\n",
       "│    │                                                  │      │ 행동규범 삼성전자는 제품과 서비스를 제공하는     │\n",
       "│    │                                                  │      │ 모든 협력회사에 노동인권, 환경, 안전보건, 윤리   │\n",
       "│    │                                                  │      │ 분야를 포함하는 현지 법규와    RBA(Responsible   │\n",
       "│    │                                                  │      │ Business Alliance) 1)  행…                       │\n",
       "│  2 │ Samsung_Electronics_Sustainability_Report_2025_… │   46 │ 정기적으로 모니터링하고 시스템으로 관리합니다.   │\n",
       "│    │                                                  │      │ 하위 공급망 관리 지속적으로 증가하는 공급망      │\n",
       "│    │                                                  │      │ 변동성과 불 확실성에 대응하기 위하여 삼성전자는  │\n",
       "│    │                                                  │      │ 1 차 협력회사뿐 아니라 주요  품목을 공급하는     │\n",
       "│    │                                                  │      │ 하위 협력회사에 대한 정보 관리를 점진적으로      │\n",
       "│    │                                                  │      │ 확대하고 있습니다.…                              │\n",
       "│  3 │ Samsung_Electronics_Sustainability_Report_2025_… │   45 │ 협력회사를 지원하고 교육합니다.  협력회사의      │\n",
       "│    │                                                  │      │ 지속가능경영 관리 수준 향상을 위한 실사와 개     │\n",
       "│    │                                                  │      │ 선조치 이행, 정보공개 등의 성과는 해 당 부서의   │\n",
       "│    │                                                  │      │ 경영진과 실무자들의 KPI로 반영되며 목표 달성은   │\n",
       "│    │                                                  │      │ 급여, 인센티브 등 보상과 연계됩니다. 추진 방향   │\n",
       "│    │                                                  │      │ 삼성전자…                                        │\n",
       "│  4 │ Samsung_Electronics_Sustainability_Report_2025_… │    5 │ 삼성전자 지속가능경영보고서 2025 05 Our Company  │\n",
       "│    │                                                  │      │ AppendixFacts &amp; Figures PrinciplePlanet People   │\n",
       "│    │                                                  │      │ 회사소개 About Us 삼성전자주식회사(이하          │\n",
       "│    │                                                  │      │ 삼성전자)는 인재와 기술을 기반으로 최고의 제품 … │\n",
       "│    │                                                  │      │ 서비스를…                                        │\n",
       "│  5 │ Samsung_Electronics_Sustainability_Report_2025_… │   54 │ 삼성전자 지속가능경영보고서 2025 54 Bespoke AI   │\n",
       "│    │                                                  │      │ 로봇청소기 보안 인증 획득 2024년에는 Bespoke AI  │\n",
       "│    │                                                  │      │ 스팀 로봇청소기가 KISA 개인정보보호중심설계      │\n",
       "│    │                                                  │      │ (PbD, Privacy by Design) 인증과 KISA IoT 보안    │\n",
       "│    │                                                  │      │ 인증 중 …                                        │\n",
       "│  6 │ Samsung_Electronics_Sustainability_Report_2025_… │    4 │ 삼성전자 지속가능경영보고서 2025 04 Our Company  │\n",
       "│    │                                                  │      │ AppendixFacts &amp; Figures PrinciplePlanet People   │\n",
       "│    │                                                  │      │ 주주, 고객, 협력회사, 그리고 임직원 여러분,      │\n",
       "│    │                                                  │      │ 2024년은 글로벌 지정학적 리스크와 AI 기술의 성 … │\n",
       "│    │                                                  │      │ …                                                │\n",
       "│  7 │ Samsung_Electronics_Sustainability_Report_2025_… │   50 │ 삼성전자 지속가능경영보고서 2025 50 안전보건     │\n",
       "│    │                                                  │      │ 삼성전자는 DX부문의 Global EHS실장, DS부문의     │\n",
       "│    │                                                  │      │ 글로벌 제조&amp;인프라  총괄장인 CSO(Chief Safety    │\n",
       "│    │                                                  │      │ Officer)를 중심으로 2030년까지 상주  협력회사    │\n",
       "│    │                                                  │      │ 안전보건 역량과 관리체계 …                       │\n",
       "│  8 │ Samsung_Electronics_Sustainability_Report_2025_… │    4 │ 재활용 소재를 적용하는 성과를 이뤘습니다.        │\n",
       "│    │                                                  │      │ DS(Device Solutions)부문은 2050년 탄소중립       │\n",
       "│    │                                                  │      │ 달성을 목표로  공정가스 통합 처리시설(RCS,       │\n",
       "│    │                                                  │      │ Regenerative Catalytic System) 에 투자를         │\n",
       "│    │                                                  │      │ 지속하고 있습니다. DS부문의 …                    │\n",
       "│  9 │ Samsung_Electronics_Sustainability_Report_2025_… │   61 │ 삼성전자 지속가능경영보고서 2025 61 Facts &amp;      │\n",
       "│    │                                                  │      │ Figures  경제성과 사회성과 환경성과   사업부문 … │\n",
       "│    │                                                  │      │ 환경성과  62 63 68 72 Our Company AppendixFacts  │\n",
       "│    │                                                  │      │ &amp; Figures PrinciplePlanet People                 │\n",
       "│ 10 │ Samsung_Electronics_Sustainability_Report_2025_… │    3 │ 삼성전자 지속가능경영보고서 2025 03 Our Company  │\n",
       "│    │                                                  │      │ AppendixFacts &amp; Figures PrinciplePlanet People   │\n",
       "│    │                                                  │      │ Our Company CEO 메시지 회사소개 기업 지배구조    │\n",
       "│    │                                                  │      │ 중대성 평가 이해관계자 소통 04 05 06 …           │\n",
       "└────┴──────────────────────────────────────────────────┴──────┴──────────────────────────────────────────────────┘\n",
       "</pre>\n"
      ],
      "text/plain": [
       "\u001b[3m                                                    리랭크 결과                                                    \u001b[0m\n",
       "┏━━━━┳━━━━━━━━━━━━━━━━━━━━━━━━━━━━━━━━━━━━━━━━━━━━━━━━━━┳━━━━━━┳━━━━━━━━━━━━━━━━━━━━━━━━━━━━━━━━━━━━━━━━━━━━━━━━━━┓\n",
       "┃\u001b[1m \u001b[0m\u001b[1m #\u001b[0m\u001b[1m \u001b[0m┃\u001b[1m \u001b[0m\u001b[1mSource                                          \u001b[0m\u001b[1m \u001b[0m┃\u001b[1m \u001b[0m\u001b[1mPage\u001b[0m\u001b[1m \u001b[0m┃\u001b[1m \u001b[0m\u001b[1mPreview                                         \u001b[0m\u001b[1m \u001b[0m┃\n",
       "┡━━━━╇━━━━━━━━━━━━━━━━━━━━━━━━━━━━━━━━━━━━━━━━━━━━━━━━━━╇━━━━━━╇━━━━━━━━━━━━━━━━━━━━━━━━━━━━━━━━━━━━━━━━━━━━━━━━━━┩\n",
       "│  1 │ Samsung_Electronics_Sustainability_Report_2025_… │   45 │ 삼성전자 지속가능경영보고서 2025 45 협력회사     │\n",
       "│    │                                                  │      │ 행동규범 삼성전자는 제품과 서비스를 제공하는     │\n",
       "│    │                                                  │      │ 모든 협력회사에 노동인권, 환경, 안전보건, 윤리   │\n",
       "│    │                                                  │      │ 분야를 포함하는 현지 법규와    RBA(Responsible   │\n",
       "│    │                                                  │      │ Business Alliance) 1)  행…                       │\n",
       "│  2 │ Samsung_Electronics_Sustainability_Report_2025_… │   46 │ 정기적으로 모니터링하고 시스템으로 관리합니다.   │\n",
       "│    │                                                  │      │ 하위 공급망 관리 지속적으로 증가하는 공급망      │\n",
       "│    │                                                  │      │ 변동성과 불 확실성에 대응하기 위하여 삼성전자는  │\n",
       "│    │                                                  │      │ 1 차 협력회사뿐 아니라 주요  품목을 공급하는     │\n",
       "│    │                                                  │      │ 하위 협력회사에 대한 정보 관리를 점진적으로      │\n",
       "│    │                                                  │      │ 확대하고 있습니다.…                              │\n",
       "│  3 │ Samsung_Electronics_Sustainability_Report_2025_… │   45 │ 협력회사를 지원하고 교육합니다.  협력회사의      │\n",
       "│    │                                                  │      │ 지속가능경영 관리 수준 향상을 위한 실사와 개     │\n",
       "│    │                                                  │      │ 선조치 이행, 정보공개 등의 성과는 해 당 부서의   │\n",
       "│    │                                                  │      │ 경영진과 실무자들의 KPI로 반영되며 목표 달성은   │\n",
       "│    │                                                  │      │ 급여, 인센티브 등 보상과 연계됩니다. 추진 방향   │\n",
       "│    │                                                  │      │ 삼성전자…                                        │\n",
       "│  4 │ Samsung_Electronics_Sustainability_Report_2025_… │    5 │ 삼성전자 지속가능경영보고서 2025 05 Our Company  │\n",
       "│    │                                                  │      │ AppendixFacts & Figures PrinciplePlanet People   │\n",
       "│    │                                                  │      │ 회사소개 About Us 삼성전자주식회사(이하          │\n",
       "│    │                                                  │      │ 삼성전자)는 인재와 기술을 기반으로 최고의 제품 … │\n",
       "│    │                                                  │      │ 서비스를…                                        │\n",
       "│  5 │ Samsung_Electronics_Sustainability_Report_2025_… │   54 │ 삼성전자 지속가능경영보고서 2025 54 Bespoke AI   │\n",
       "│    │                                                  │      │ 로봇청소기 보안 인증 획득 2024년에는 Bespoke AI  │\n",
       "│    │                                                  │      │ 스팀 로봇청소기가 KISA 개인정보보호중심설계      │\n",
       "│    │                                                  │      │ (PbD, Privacy by Design) 인증과 KISA IoT 보안    │\n",
       "│    │                                                  │      │ 인증 중 …                                        │\n",
       "│  6 │ Samsung_Electronics_Sustainability_Report_2025_… │    4 │ 삼성전자 지속가능경영보고서 2025 04 Our Company  │\n",
       "│    │                                                  │      │ AppendixFacts & Figures PrinciplePlanet People   │\n",
       "│    │                                                  │      │ 주주, 고객, 협력회사, 그리고 임직원 여러분,      │\n",
       "│    │                                                  │      │ 2024년은 글로벌 지정학적 리스크와 AI 기술의 성 … │\n",
       "│    │                                                  │      │ …                                                │\n",
       "│  7 │ Samsung_Electronics_Sustainability_Report_2025_… │   50 │ 삼성전자 지속가능경영보고서 2025 50 안전보건     │\n",
       "│    │                                                  │      │ 삼성전자는 DX부문의 Global EHS실장, DS부문의     │\n",
       "│    │                                                  │      │ 글로벌 제조&인프라  총괄장인 CSO(Chief Safety    │\n",
       "│    │                                                  │      │ Officer)를 중심으로 2030년까지 상주  협력회사    │\n",
       "│    │                                                  │      │ 안전보건 역량과 관리체계 …                       │\n",
       "│  8 │ Samsung_Electronics_Sustainability_Report_2025_… │    4 │ 재활용 소재를 적용하는 성과를 이뤘습니다.        │\n",
       "│    │                                                  │      │ DS(Device Solutions)부문은 2050년 탄소중립       │\n",
       "│    │                                                  │      │ 달성을 목표로  공정가스 통합 처리시설(RCS,       │\n",
       "│    │                                                  │      │ Regenerative Catalytic System) 에 투자를         │\n",
       "│    │                                                  │      │ 지속하고 있습니다. DS부문의 …                    │\n",
       "│  9 │ Samsung_Electronics_Sustainability_Report_2025_… │   61 │ 삼성전자 지속가능경영보고서 2025 61 Facts &      │\n",
       "│    │                                                  │      │ Figures  경제성과 사회성과 환경성과   사업부문 … │\n",
       "│    │                                                  │      │ 환경성과  62 63 68 72 Our Company AppendixFacts  │\n",
       "│    │                                                  │      │ & Figures PrinciplePlanet People                 │\n",
       "│ 10 │ Samsung_Electronics_Sustainability_Report_2025_… │    3 │ 삼성전자 지속가능경영보고서 2025 03 Our Company  │\n",
       "│    │                                                  │      │ AppendixFacts & Figures PrinciplePlanet People   │\n",
       "│    │                                                  │      │ Our Company CEO 메시지 회사소개 기업 지배구조    │\n",
       "│    │                                                  │      │ 중대성 평가 이해관계자 소통 04 05 06 …           │\n",
       "└────┴──────────────────────────────────────────────────┴──────┴──────────────────────────────────────────────────┘\n"
      ]
     },
     "metadata": {},
     "output_type": "display_data"
    }
   ],
   "source": [
    "# 리랭크\n",
    "compressor = CrossEncoderReranker(\n",
    "    model = hf_ce,\n",
    "    top_n = 10\n",
    ")\n",
    "\n",
    "reranker_retriever = ContextualCompressionRetriever(\n",
    "    base_retriever = ret_similarity,\n",
    "    base_compressor = compressor\n",
    ")\n",
    "\n",
    "reranker_result = reranker_retriever.invoke(question)\n",
    "rich_docs(reranker_result, title = \"리랭크 결과\")"
   ]
  },
  {
   "cell_type": "markdown",
   "id": "423f2046",
   "metadata": {},
   "source": [
    "## 6. Reorder"
   ]
  },
  {
   "cell_type": "markdown",
   "id": "3e71001b",
   "metadata": {},
   "source": [
    "- 리랭크와 같이 사용\n",
    "- 리랭크에서는 맥락(내용의 흐름) 고려 X"
   ]
  },
  {
   "cell_type": "code",
   "execution_count": 42,
   "id": "4e3f6c66",
   "metadata": {},
   "outputs": [
    {
     "data": {
      "text/html": [
       "<pre style=\"white-space:pre;overflow-x:auto;line-height:normal;font-family:Menlo,'DejaVu Sans Mono',consolas,'Courier New',monospace\"><span style=\"font-style: italic\">                                                    리오더 결과                                                    </span>\n",
       "┏━━━━┳━━━━━━━━━━━━━━━━━━━━━━━━━━━━━━━━━━━━━━━━━━━━━━━━━━┳━━━━━━┳━━━━━━━━━━━━━━━━━━━━━━━━━━━━━━━━━━━━━━━━━━━━━━━━━━┓\n",
       "┃<span style=\"font-weight: bold\">  # </span>┃<span style=\"font-weight: bold\"> Source                                           </span>┃<span style=\"font-weight: bold\"> Page </span>┃<span style=\"font-weight: bold\"> Preview                                          </span>┃\n",
       "┡━━━━╇━━━━━━━━━━━━━━━━━━━━━━━━━━━━━━━━━━━━━━━━━━━━━━━━━━╇━━━━━━╇━━━━━━━━━━━━━━━━━━━━━━━━━━━━━━━━━━━━━━━━━━━━━━━━━━┩\n",
       "│  1 │ Samsung_Electronics_Sustainability_Report_2025_… │   46 │ 정기적으로 모니터링하고 시스템으로 관리합니다.   │\n",
       "│    │                                                  │      │ 하위 공급망 관리 지속적으로 증가하는 공급망      │\n",
       "│    │                                                  │      │ 변동성과 불 확실성에 대응하기 위하여 삼성전자는  │\n",
       "│    │                                                  │      │ 1 차 협력회사뿐 아니라 주요  품목을 공급하는     │\n",
       "│    │                                                  │      │ 하위 협력회사에 대한 정보 관리를 점진적으로      │\n",
       "│    │                                                  │      │ 확대하고 있습니다.…                              │\n",
       "│  2 │ Samsung_Electronics_Sustainability_Report_2025_… │    5 │ 삼성전자 지속가능경영보고서 2025 05 Our Company  │\n",
       "│    │                                                  │      │ AppendixFacts &amp; Figures PrinciplePlanet People   │\n",
       "│    │                                                  │      │ 회사소개 About Us 삼성전자주식회사(이하          │\n",
       "│    │                                                  │      │ 삼성전자)는 인재와 기술을 기반으로 최고의 제품 … │\n",
       "│    │                                                  │      │ 서비스를…                                        │\n",
       "│  3 │ Samsung_Electronics_Sustainability_Report_2025_… │    4 │ 삼성전자 지속가능경영보고서 2025 04 Our Company  │\n",
       "│    │                                                  │      │ AppendixFacts &amp; Figures PrinciplePlanet People   │\n",
       "│    │                                                  │      │ 주주, 고객, 협력회사, 그리고 임직원 여러분,      │\n",
       "│    │                                                  │      │ 2024년은 글로벌 지정학적 리스크와 AI 기술의 성 … │\n",
       "│    │                                                  │      │ …                                                │\n",
       "│  4 │ Samsung_Electronics_Sustainability_Report_2025_… │    4 │ 재활용 소재를 적용하는 성과를 이뤘습니다.        │\n",
       "│    │                                                  │      │ DS(Device Solutions)부문은 2050년 탄소중립       │\n",
       "│    │                                                  │      │ 달성을 목표로  공정가스 통합 처리시설(RCS,       │\n",
       "│    │                                                  │      │ Regenerative Catalytic System) 에 투자를         │\n",
       "│    │                                                  │      │ 지속하고 있습니다. DS부문의 …                    │\n",
       "│  5 │ Samsung_Electronics_Sustainability_Report_2025_… │    3 │ 삼성전자 지속가능경영보고서 2025 03 Our Company  │\n",
       "│    │                                                  │      │ AppendixFacts &amp; Figures PrinciplePlanet People   │\n",
       "│    │                                                  │      │ Our Company CEO 메시지 회사소개 기업 지배구조    │\n",
       "│    │                                                  │      │ 중대성 평가 이해관계자 소통 04 05 06 …           │\n",
       "│  6 │ Samsung_Electronics_Sustainability_Report_2025_… │   61 │ 삼성전자 지속가능경영보고서 2025 61 Facts &amp;      │\n",
       "│    │                                                  │      │ Figures  경제성과 사회성과 환경성과   사업부문 … │\n",
       "│    │                                                  │      │ 환경성과  62 63 68 72 Our Company AppendixFacts  │\n",
       "│    │                                                  │      │ &amp; Figures PrinciplePlanet People                 │\n",
       "│  7 │ Samsung_Electronics_Sustainability_Report_2025_… │   50 │ 삼성전자 지속가능경영보고서 2025 50 안전보건     │\n",
       "│    │                                                  │      │ 삼성전자는 DX부문의 Global EHS실장, DS부문의     │\n",
       "│    │                                                  │      │ 글로벌 제조&amp;인프라  총괄장인 CSO(Chief Safety    │\n",
       "│    │                                                  │      │ Officer)를 중심으로 2030년까지 상주  협력회사    │\n",
       "│    │                                                  │      │ 안전보건 역량과 관리체계 …                       │\n",
       "│  8 │ Samsung_Electronics_Sustainability_Report_2025_… │   54 │ 삼성전자 지속가능경영보고서 2025 54 Bespoke AI   │\n",
       "│    │                                                  │      │ 로봇청소기 보안 인증 획득 2024년에는 Bespoke AI  │\n",
       "│    │                                                  │      │ 스팀 로봇청소기가 KISA 개인정보보호중심설계      │\n",
       "│    │                                                  │      │ (PbD, Privacy by Design) 인증과 KISA IoT 보안    │\n",
       "│    │                                                  │      │ 인증 중 …                                        │\n",
       "│  9 │ Samsung_Electronics_Sustainability_Report_2025_… │   45 │ 협력회사를 지원하고 교육합니다.  협력회사의      │\n",
       "│    │                                                  │      │ 지속가능경영 관리 수준 향상을 위한 실사와 개     │\n",
       "│    │                                                  │      │ 선조치 이행, 정보공개 등의 성과는 해 당 부서의   │\n",
       "│    │                                                  │      │ 경영진과 실무자들의 KPI로 반영되며 목표 달성은   │\n",
       "│    │                                                  │      │ 급여, 인센티브 등 보상과 연계됩니다. 추진 방향   │\n",
       "│    │                                                  │      │ 삼성전자…                                        │\n",
       "│ 10 │ Samsung_Electronics_Sustainability_Report_2025_… │   45 │ 삼성전자 지속가능경영보고서 2025 45 협력회사     │\n",
       "│    │                                                  │      │ 행동규범 삼성전자는 제품과 서비스를 제공하는     │\n",
       "│    │                                                  │      │ 모든 협력회사에 노동인권, 환경, 안전보건, 윤리   │\n",
       "│    │                                                  │      │ 분야를 포함하는 현지 법규와    RBA(Responsible   │\n",
       "│    │                                                  │      │ Business Alliance) 1)  행…                       │\n",
       "└────┴──────────────────────────────────────────────────┴──────┴──────────────────────────────────────────────────┘\n",
       "</pre>\n"
      ],
      "text/plain": [
       "\u001b[3m                                                    리오더 결과                                                    \u001b[0m\n",
       "┏━━━━┳━━━━━━━━━━━━━━━━━━━━━━━━━━━━━━━━━━━━━━━━━━━━━━━━━━┳━━━━━━┳━━━━━━━━━━━━━━━━━━━━━━━━━━━━━━━━━━━━━━━━━━━━━━━━━━┓\n",
       "┃\u001b[1m \u001b[0m\u001b[1m #\u001b[0m\u001b[1m \u001b[0m┃\u001b[1m \u001b[0m\u001b[1mSource                                          \u001b[0m\u001b[1m \u001b[0m┃\u001b[1m \u001b[0m\u001b[1mPage\u001b[0m\u001b[1m \u001b[0m┃\u001b[1m \u001b[0m\u001b[1mPreview                                         \u001b[0m\u001b[1m \u001b[0m┃\n",
       "┡━━━━╇━━━━━━━━━━━━━━━━━━━━━━━━━━━━━━━━━━━━━━━━━━━━━━━━━━╇━━━━━━╇━━━━━━━━━━━━━━━━━━━━━━━━━━━━━━━━━━━━━━━━━━━━━━━━━━┩\n",
       "│  1 │ Samsung_Electronics_Sustainability_Report_2025_… │   46 │ 정기적으로 모니터링하고 시스템으로 관리합니다.   │\n",
       "│    │                                                  │      │ 하위 공급망 관리 지속적으로 증가하는 공급망      │\n",
       "│    │                                                  │      │ 변동성과 불 확실성에 대응하기 위하여 삼성전자는  │\n",
       "│    │                                                  │      │ 1 차 협력회사뿐 아니라 주요  품목을 공급하는     │\n",
       "│    │                                                  │      │ 하위 협력회사에 대한 정보 관리를 점진적으로      │\n",
       "│    │                                                  │      │ 확대하고 있습니다.…                              │\n",
       "│  2 │ Samsung_Electronics_Sustainability_Report_2025_… │    5 │ 삼성전자 지속가능경영보고서 2025 05 Our Company  │\n",
       "│    │                                                  │      │ AppendixFacts & Figures PrinciplePlanet People   │\n",
       "│    │                                                  │      │ 회사소개 About Us 삼성전자주식회사(이하          │\n",
       "│    │                                                  │      │ 삼성전자)는 인재와 기술을 기반으로 최고의 제품 … │\n",
       "│    │                                                  │      │ 서비스를…                                        │\n",
       "│  3 │ Samsung_Electronics_Sustainability_Report_2025_… │    4 │ 삼성전자 지속가능경영보고서 2025 04 Our Company  │\n",
       "│    │                                                  │      │ AppendixFacts & Figures PrinciplePlanet People   │\n",
       "│    │                                                  │      │ 주주, 고객, 협력회사, 그리고 임직원 여러분,      │\n",
       "│    │                                                  │      │ 2024년은 글로벌 지정학적 리스크와 AI 기술의 성 … │\n",
       "│    │                                                  │      │ …                                                │\n",
       "│  4 │ Samsung_Electronics_Sustainability_Report_2025_… │    4 │ 재활용 소재를 적용하는 성과를 이뤘습니다.        │\n",
       "│    │                                                  │      │ DS(Device Solutions)부문은 2050년 탄소중립       │\n",
       "│    │                                                  │      │ 달성을 목표로  공정가스 통합 처리시설(RCS,       │\n",
       "│    │                                                  │      │ Regenerative Catalytic System) 에 투자를         │\n",
       "│    │                                                  │      │ 지속하고 있습니다. DS부문의 …                    │\n",
       "│  5 │ Samsung_Electronics_Sustainability_Report_2025_… │    3 │ 삼성전자 지속가능경영보고서 2025 03 Our Company  │\n",
       "│    │                                                  │      │ AppendixFacts & Figures PrinciplePlanet People   │\n",
       "│    │                                                  │      │ Our Company CEO 메시지 회사소개 기업 지배구조    │\n",
       "│    │                                                  │      │ 중대성 평가 이해관계자 소통 04 05 06 …           │\n",
       "│  6 │ Samsung_Electronics_Sustainability_Report_2025_… │   61 │ 삼성전자 지속가능경영보고서 2025 61 Facts &      │\n",
       "│    │                                                  │      │ Figures  경제성과 사회성과 환경성과   사업부문 … │\n",
       "│    │                                                  │      │ 환경성과  62 63 68 72 Our Company AppendixFacts  │\n",
       "│    │                                                  │      │ & Figures PrinciplePlanet People                 │\n",
       "│  7 │ Samsung_Electronics_Sustainability_Report_2025_… │   50 │ 삼성전자 지속가능경영보고서 2025 50 안전보건     │\n",
       "│    │                                                  │      │ 삼성전자는 DX부문의 Global EHS실장, DS부문의     │\n",
       "│    │                                                  │      │ 글로벌 제조&인프라  총괄장인 CSO(Chief Safety    │\n",
       "│    │                                                  │      │ Officer)를 중심으로 2030년까지 상주  협력회사    │\n",
       "│    │                                                  │      │ 안전보건 역량과 관리체계 …                       │\n",
       "│  8 │ Samsung_Electronics_Sustainability_Report_2025_… │   54 │ 삼성전자 지속가능경영보고서 2025 54 Bespoke AI   │\n",
       "│    │                                                  │      │ 로봇청소기 보안 인증 획득 2024년에는 Bespoke AI  │\n",
       "│    │                                                  │      │ 스팀 로봇청소기가 KISA 개인정보보호중심설계      │\n",
       "│    │                                                  │      │ (PbD, Privacy by Design) 인증과 KISA IoT 보안    │\n",
       "│    │                                                  │      │ 인증 중 …                                        │\n",
       "│  9 │ Samsung_Electronics_Sustainability_Report_2025_… │   45 │ 협력회사를 지원하고 교육합니다.  협력회사의      │\n",
       "│    │                                                  │      │ 지속가능경영 관리 수준 향상을 위한 실사와 개     │\n",
       "│    │                                                  │      │ 선조치 이행, 정보공개 등의 성과는 해 당 부서의   │\n",
       "│    │                                                  │      │ 경영진과 실무자들의 KPI로 반영되며 목표 달성은   │\n",
       "│    │                                                  │      │ 급여, 인센티브 등 보상과 연계됩니다. 추진 방향   │\n",
       "│    │                                                  │      │ 삼성전자…                                        │\n",
       "│ 10 │ Samsung_Electronics_Sustainability_Report_2025_… │   45 │ 삼성전자 지속가능경영보고서 2025 45 협력회사     │\n",
       "│    │                                                  │      │ 행동규범 삼성전자는 제품과 서비스를 제공하는     │\n",
       "│    │                                                  │      │ 모든 협력회사에 노동인권, 환경, 안전보건, 윤리   │\n",
       "│    │                                                  │      │ 분야를 포함하는 현지 법규와    RBA(Responsible   │\n",
       "│    │                                                  │      │ Business Alliance) 1)  행…                       │\n",
       "└────┴──────────────────────────────────────────────────┴──────┴──────────────────────────────────────────────────┘\n"
      ]
     },
     "metadata": {},
     "output_type": "display_data"
    }
   ],
   "source": [
    "from langchain_community.document_transformers import LongContextReorder\n",
    "\n",
    "reorder = LongContextReorder()\n",
    "reordered_result = reorder.transform_documents(reranker_result)\n",
    "\n",
    "rich_docs(reordered_result, title=\"리오더 결과\")"
   ]
  }
 ],
 "metadata": {
  "kernelspec": {
   "display_name": "Langchain_basic",
   "language": "python",
   "name": "python3"
  },
  "language_info": {
   "codemirror_mode": {
    "name": "ipython",
    "version": 3
   },
   "file_extension": ".py",
   "mimetype": "text/x-python",
   "name": "python",
   "nbconvert_exporter": "python",
   "pygments_lexer": "ipython3",
   "version": "3.11.13"
  }
 },
 "nbformat": 4,
 "nbformat_minor": 5
}
