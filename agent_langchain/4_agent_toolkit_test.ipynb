{
 "cells": [
  {
   "cell_type": "code",
   "execution_count": 1,
   "id": "9a08a971",
   "metadata": {},
   "outputs": [
    {
     "data": {
      "text/plain": [
       "True"
      ]
     },
     "execution_count": 1,
     "metadata": {},
     "output_type": "execute_result"
    }
   ],
   "source": [
    "from dotenv import load_dotenv\n",
    "load_dotenv()"
   ]
  },
  {
   "cell_type": "code",
   "execution_count": 2,
   "id": "bb1c919a",
   "metadata": {},
   "outputs": [],
   "source": [
    "from langchain_openai import ChatOpenAI\n",
    "from langchain.agents import create_openai_tools_agent, AgentExecutor\n",
    "from langchain_core.prompts import ChatPromptTemplate, MessagesPlaceholder\n",
    "from typing import List, Dict, Optional"
   ]
  },
  {
   "cell_type": "code",
   "execution_count": 3,
   "id": "0c1f5296",
   "metadata": {},
   "outputs": [
    {
     "data": {
      "text/plain": [
       "[AddToDoTool(), ViewToDoTool(), DeleteTodoTool(), CompleteTodoTool()]"
      ]
     },
     "execution_count": 3,
     "metadata": {},
     "output_type": "execute_result"
    }
   ],
   "source": [
    "# 1. 만든 툴킷 가져오기\n",
    "from dolmary_schedule_toolkit import DolmaryScheduleToolkit\n",
    "\n",
    "toolkits = DolmaryScheduleToolkit()\n",
    "tools = toolkits.get_tools()\n",
    "tools"
   ]
  },
  {
   "cell_type": "code",
   "execution_count": 4,
   "id": "3fc3bdd1",
   "metadata": {},
   "outputs": [],
   "source": [
    "# 2. 모델 설정\n",
    "model = ChatOpenAI(\n",
    "    model = \"gpt-4.1-mini\",\n",
    "    temperature = 0\n",
    ")\n",
    "\n",
    "# 3. 프롬프트 설정\n",
    "prompt = ChatPromptTemplate.from_messages(\n",
    "    [\n",
    "        (\"system\", \"너는 돌마리 스케줄을 관리하는 AI 비서야. 주어지는 도구를 잘 활용해서 사용자의 요청에 잘 응답하도록 해\"),\n",
    "        MessagesPlaceholder(variable_name = \"history\"),     # (\"placeholder\", \"{history}\"),\n",
    "        (\"human\", \"{question}\"),\n",
    "        (\"placeholder\", \"{agent_scratchpad}\")\n",
    "    ]\n",
    ")\n",
    "\n",
    "# 4. agent 생성\n",
    "agent = create_openai_tools_agent(\n",
    "    model,\n",
    "    tools,\n",
    "    prompt\n",
    ")\n",
    "\n",
    "executor = AgentExecutor(\n",
    "    agent = agent,\n",
    "    tools = tools,\n",
    "    verbose = True\n",
    ")"
   ]
  },
  {
   "cell_type": "code",
   "execution_count": 5,
   "id": "40e8bfc1",
   "metadata": {},
   "outputs": [],
   "source": [
    "from typing import Dict\n",
    "from langchain_core.chat_history import InMemoryChatMessageHistory\n",
    "from langchain_community.chat_message_histories import ChatMessageHistory\n",
    "from langchain_core.runnables.history import RunnableWithMessageHistory\n",
    "\n",
    "# 대화내용 저장소 만들기\n",
    "stores : Dict[str, InMemoryChatMessageHistory] = {}\n",
    "\n",
    "def get_store(session_id : str):\n",
    "    if session_id not in stores:\n",
    "        stores[session_id] = InMemoryChatMessageHistory()\n",
    "    return stores[session_id]\n",
    "\n",
    "agent_history = RunnableWithMessageHistory(\n",
    "    executor,\n",
    "    lambda session_id: get_store(session_id),\n",
    "    input_messages_key = \"question\",\n",
    "    history_messages_key = \"history\"\n",
    ")"
   ]
  },
  {
   "cell_type": "code",
   "execution_count": 6,
   "id": "38c992fb",
   "metadata": {},
   "outputs": [
    {
     "name": "stdout",
     "output_type": "stream",
     "text": [
      "\n",
      "\n",
      "\u001b[1m> Entering new AgentExecutor chain...\u001b[0m\n",
      "\u001b[32;1m\u001b[1;3m\n",
      "Invoking: `add_toDo` with `{'item': '12시 30분에 파워댄스 운동회 일정'}`\n",
      "\n",
      "\n",
      "\u001b[0m\u001b[36;1m\u001b[1;3m12시 30분에 파워댄스 운동회 일정이 돌마리 할일 스케줄에 등록되었습니다\u001b[0m\u001b[32;1m\u001b[1;3m오늘 12시 30분에 파워댄스 운동회 일정이 돌마리 스케줄에 등록되었습니다. 다른 일정도 도와드릴까요?\u001b[0m\n",
      "\n",
      "\u001b[1m> Finished chain.\u001b[0m\n"
     ]
    },
    {
     "data": {
      "text/plain": [
       "{'question': '오늘 돌마리 운동회 12시 30분에 파워댄스 일정 등록해줘',\n",
       " 'history': [],\n",
       " 'output': '오늘 12시 30분에 파워댄스 운동회 일정이 돌마리 스케줄에 등록되었습니다. 다른 일정도 도와드릴까요?'}"
      ]
     },
     "execution_count": 6,
     "metadata": {},
     "output_type": "execute_result"
    }
   ],
   "source": [
    "cfg = {\"configurable\" : {\"session_id\" : \"user-123\"}}\n",
    "agent_history.invoke({\n",
    "    \"question\" : \"오늘 돌마리 운동회 12시 30분에 파워댄스 일정 등록해줘\"\n",
    "}, config = cfg)"
   ]
  },
  {
   "cell_type": "code",
   "execution_count": 7,
   "id": "994e739e",
   "metadata": {},
   "outputs": [
    {
     "name": "stdout",
     "output_type": "stream",
     "text": [
      "\n",
      "\n",
      "\u001b[1m> Entering new AgentExecutor chain...\u001b[0m\n",
      "\u001b[32;1m\u001b[1;3m\n",
      "Invoking: `view_toDos` with `{}`\n",
      "\n",
      "\n",
      "\u001b[0m\u001b[33;1m\u001b[1;3m할일 목록은 : 12시 30분에 파워댄스 운동회 일정\n",
      "입니다\u001b[0m\u001b[32;1m\u001b[1;3m현재 돌마리 스케줄에는 \"12시 30분에 파워댄스 운동회 일정\"이 등록되어 있습니다. 다른 일정 관리가 필요하신가요?\u001b[0m\n",
      "\n",
      "\u001b[1m> Finished chain.\u001b[0m\n"
     ]
    },
    {
     "data": {
      "text/plain": [
       "{'question': '돌마리 스케줄 전체 보여줘',\n",
       " 'history': [HumanMessage(content='오늘 돌마리 운동회 12시 30분에 파워댄스 일정 등록해줘', additional_kwargs={}, response_metadata={}),\n",
       "  AIMessage(content='오늘 12시 30분에 파워댄스 운동회 일정이 돌마리 스케줄에 등록되었습니다. 다른 일정도 도와드릴까요?', additional_kwargs={}, response_metadata={})],\n",
       " 'output': '현재 돌마리 스케줄에는 \"12시 30분에 파워댄스 운동회 일정\"이 등록되어 있습니다. 다른 일정 관리가 필요하신가요?'}"
      ]
     },
     "execution_count": 7,
     "metadata": {},
     "output_type": "execute_result"
    }
   ],
   "source": [
    "cfg = {\"configurable\" : {\"session_id\" : \"user-123\"}}\n",
    "agent_history.invoke({\n",
    "    \"question\" : \"돌마리 스케줄 전체 보여줘\"\n",
    "}, config = cfg)"
   ]
  },
  {
   "cell_type": "code",
   "execution_count": 8,
   "id": "fa418452",
   "metadata": {},
   "outputs": [
    {
     "data": {
      "text/plain": [
       "[AddToDoTool(), ViewToDoTool(), DeleteTodoTool(), CompleteTodoTool()]"
      ]
     },
     "execution_count": 8,
     "metadata": {},
     "output_type": "execute_result"
    }
   ],
   "source": [
    "from dolmary_schedule_toolkit.toolkit import DolmaryScheduleToolkit\n",
    "\n",
    "toolkits2 = DolmaryScheduleToolkit()\n",
    "tools2 = toolkits2.get_tools()\n",
    "tools2"
   ]
  },
  {
   "cell_type": "code",
   "execution_count": 7,
   "id": "3d0d8f5b",
   "metadata": {},
   "outputs": [
    {
     "name": "stdout",
     "output_type": "stream",
     "text": [
      "\n",
      "\n",
      "\u001b[1m> Entering new AgentExecutor chain...\u001b[0m\n",
      "\u001b[32;1m\u001b[1;3m\n",
      "Invoking: `delete_toDo` with `{'item': '운동회 12시 30분 파워댄스'}`\n",
      "\n",
      "\n",
      "\u001b[0m\u001b[38;5;200m\u001b[1;3m운동회 12시 30분 파워댄스이 돌마리 스케줄에서 삭제되었습니다\u001b[0m\u001b[32;1m\u001b[1;3m오늘 돌마리 운동회 파워댄스 일정이 삭제되었습니다. 다른 일정 관리가 필요하시면 말씀해 주세요.\u001b[0m\n",
      "\n",
      "\u001b[1m> Finished chain.\u001b[0m\n"
     ]
    },
    {
     "data": {
      "text/plain": [
       "{'question': '오늘 돌마리 운동회 파워댄스 일정 삭제해줘',\n",
       " 'history': [HumanMessage(content='오늘 돌마리 운동회 12시 30분에 파워댄스 일정 등록해줘', additional_kwargs={}, response_metadata={}),\n",
       "  AIMessage(content='오늘 돌마리 운동회 12시 30분에 파워댄스 일정이 등록되었습니다. 더 도와드릴 일이 있을까요?', additional_kwargs={}, response_metadata={}),\n",
       "  HumanMessage(content='돌마리 스케줄 전체 보여줘', additional_kwargs={}, response_metadata={}),\n",
       "  AIMessage(content='현재 돌마리 스케줄에는 \"운동회 12시 30분 파워댄스\" 일정이 등록되어 있습니다. 다른 일정도 확인하거나 추가할까요?', additional_kwargs={}, response_metadata={})],\n",
       " 'output': '오늘 돌마리 운동회 파워댄스 일정이 삭제되었습니다. 다른 일정 관리가 필요하시면 말씀해 주세요.'}"
      ]
     },
     "execution_count": 7,
     "metadata": {},
     "output_type": "execute_result"
    }
   ],
   "source": [
    "cfg = {\"configurable\" : {\"session_id\" : \"user-123\"}}\n",
    "agent_history.invoke({\n",
    "    \"question\" : \"오늘 돌마리 운동회 파워댄스 일정 삭제해줘\"\n",
    "}, config = cfg)"
   ]
  },
  {
   "cell_type": "code",
   "execution_count": 9,
   "id": "a4d5f4f1",
   "metadata": {},
   "outputs": [
    {
     "name": "stdout",
     "output_type": "stream",
     "text": [
      "\n",
      "\n",
      "\u001b[1m> Entering new AgentExecutor chain...\u001b[0m\n",
      "\u001b[32;1m\u001b[1;3m\n",
      "Invoking: `complete_toDo` with `{'item': '12시 30분에 파워댄스 운동회 일정'}`\n",
      "\n",
      "\n",
      "\u001b[0m\u001b[36;1m\u001b[1;3m'12시 30분에 파워댄스 운동회 일정' 항목을 완료 처리했습니다.\u001b[0m\u001b[32;1m\u001b[1;3m오늘 돌마리 운동회 파워댄스 일정을 완료 상태로 표시했습니다. 다른 일정도 도와드릴까요?\u001b[0m\n",
      "\n",
      "\u001b[1m> Finished chain.\u001b[0m\n"
     ]
    },
    {
     "data": {
      "text/plain": [
       "{'question': '오늘 돌마리 운동회 파워댄스 일정 완료상태로 표시해줘',\n",
       " 'history': [HumanMessage(content='오늘 돌마리 운동회 12시 30분에 파워댄스 일정 등록해줘', additional_kwargs={}, response_metadata={}),\n",
       "  AIMessage(content='오늘 12시 30분에 파워댄스 운동회 일정이 돌마리 스케줄에 등록되었습니다. 다른 일정도 도와드릴까요?', additional_kwargs={}, response_metadata={}),\n",
       "  HumanMessage(content='돌마리 스케줄 전체 보여줘', additional_kwargs={}, response_metadata={}),\n",
       "  AIMessage(content='현재 돌마리 스케줄에는 \"12시 30분에 파워댄스 운동회 일정\"이 등록되어 있습니다. 다른 일정 관리가 필요하신가요?', additional_kwargs={}, response_metadata={})],\n",
       " 'output': '오늘 돌마리 운동회 파워댄스 일정을 완료 상태로 표시했습니다. 다른 일정도 도와드릴까요?'}"
      ]
     },
     "execution_count": 9,
     "metadata": {},
     "output_type": "execute_result"
    }
   ],
   "source": [
    "cfg = {\"configurable\" : {\"session_id\" : \"user-123\"}}\n",
    "agent_history.invoke({\n",
    "    \"question\" : \"오늘 돌마리 운동회 파워댄스 일정 완료상태로 표시해줘\"\n",
    "}, config = cfg)"
   ]
  },
  {
   "cell_type": "code",
   "execution_count": 10,
   "id": "df81c57f",
   "metadata": {},
   "outputs": [
    {
     "name": "stdout",
     "output_type": "stream",
     "text": [
      "\n",
      "\n",
      "\u001b[1m> Entering new AgentExecutor chain...\u001b[0m\n",
      "\u001b[32;1m\u001b[1;3m\n",
      "Invoking: `view_toDos` with `{}`\n",
      "\n",
      "\n",
      "\u001b[0m\u001b[33;1m\u001b[1;3m할일 목록은 : 12시 30분에 파워댄스 운동회 일정 [완료]\n",
      "입니다\u001b[0m\u001b[32;1m\u001b[1;3m현재 돌마리 스케줄에는 \"12시 30분에 파워댄스 운동회 일정\"이 완료 상태로 등록되어 있습니다. 다른 일정도 확인하거나 관리할까요?\u001b[0m\n",
      "\n",
      "\u001b[1m> Finished chain.\u001b[0m\n"
     ]
    },
    {
     "data": {
      "text/plain": [
       "{'question': '돌마리 스케줄 전체 보여줘',\n",
       " 'history': [HumanMessage(content='오늘 돌마리 운동회 12시 30분에 파워댄스 일정 등록해줘', additional_kwargs={}, response_metadata={}),\n",
       "  AIMessage(content='오늘 12시 30분에 파워댄스 운동회 일정이 돌마리 스케줄에 등록되었습니다. 다른 일정도 도와드릴까요?', additional_kwargs={}, response_metadata={}),\n",
       "  HumanMessage(content='돌마리 스케줄 전체 보여줘', additional_kwargs={}, response_metadata={}),\n",
       "  AIMessage(content='현재 돌마리 스케줄에는 \"12시 30분에 파워댄스 운동회 일정\"이 등록되어 있습니다. 다른 일정 관리가 필요하신가요?', additional_kwargs={}, response_metadata={}),\n",
       "  HumanMessage(content='오늘 돌마리 운동회 파워댄스 일정 완료상태로 표시해줘', additional_kwargs={}, response_metadata={}),\n",
       "  AIMessage(content='오늘 돌마리 운동회 파워댄스 일정을 완료 상태로 표시했습니다. 다른 일정도 도와드릴까요?', additional_kwargs={}, response_metadata={})],\n",
       " 'output': '현재 돌마리 스케줄에는 \"12시 30분에 파워댄스 운동회 일정\"이 완료 상태로 등록되어 있습니다. 다른 일정도 확인하거나 관리할까요?'}"
      ]
     },
     "execution_count": 10,
     "metadata": {},
     "output_type": "execute_result"
    }
   ],
   "source": [
    "cfg = {\"configurable\" : {\"session_id\" : \"user-123\"}}\n",
    "agent_history.invoke({\n",
    "    \"question\" : \"돌마리 스케줄 전체 보여줘\"\n",
    "}, config = cfg)"
   ]
  }
 ],
 "metadata": {
  "kernelspec": {
   "display_name": "Langchain_basic",
   "language": "python",
   "name": "python3"
  },
  "language_info": {
   "codemirror_mode": {
    "name": "ipython",
    "version": 3
   },
   "file_extension": ".py",
   "mimetype": "text/x-python",
   "name": "python",
   "nbconvert_exporter": "python",
   "pygments_lexer": "ipython3",
   "version": "3.11.13"
  }
 },
 "nbformat": 4,
 "nbformat_minor": 5
}
