{
 "cells": [
  {
   "cell_type": "markdown",
   "id": "7a9d65f9",
   "metadata": {},
   "source": [
    "## 파이썬 데코레이터"
   ]
  },
  {
   "cell_type": "markdown",
   "id": "ccda6d11",
   "metadata": {},
   "source": [
    "- 함수나 메서드를 감싸서(wrap) 그 동작을 확장하거나 수정할 수 있는 문법\n",
    "- 로깅, 권한검사, 실행시간 측정 등 추가 기능 -> 전체 다 바꾸지 않고 쉽게 기능을 추가할 수 있음"
   ]
  },
  {
   "cell_type": "markdown",
   "id": "1b98eaae",
   "metadata": {},
   "source": [
    "- 함수는 객체이므로 -> 변수에 저장 가능\n",
    "- 함수를 다른 함수에 인자로 전달, 그 함수에 새 함수 반환 가능"
   ]
  },
  {
   "cell_type": "code",
   "execution_count": 1,
   "id": "5134c421",
   "metadata": {},
   "outputs": [
    {
     "data": {
      "text/plain": [
       "'안녕하세요 공명님'"
      ]
     },
     "execution_count": 1,
     "metadata": {},
     "output_type": "execute_result"
    }
   ],
   "source": [
    "def greet(name):\n",
    "    return f\"안녕하세요 {name}님\"\n",
    "\n",
    "greet(\"공명\")"
   ]
  },
  {
   "cell_type": "code",
   "execution_count": 2,
   "id": "4927ccae",
   "metadata": {},
   "outputs": [
    {
     "name": "stdout",
     "output_type": "stream",
     "text": [
      "안녕하세요 최우식님\n"
     ]
    }
   ],
   "source": [
    "say = greet\n",
    "print(say(\"최우식\"))"
   ]
  },
  {
   "cell_type": "code",
   "execution_count": 3,
   "id": "d121b5ea",
   "metadata": {},
   "outputs": [],
   "source": [
    "def call_func(func, arg):\n",
    "    return func(arg)"
   ]
  },
  {
   "cell_type": "code",
   "execution_count": 5,
   "id": "b6278775",
   "metadata": {},
   "outputs": [
    {
     "data": {
      "text/plain": [
       "'안녕하세요 공명님'"
      ]
     },
     "execution_count": 5,
     "metadata": {},
     "output_type": "execute_result"
    }
   ],
   "source": [
    "call_func(greet, \"공명\")"
   ]
  },
  {
   "cell_type": "code",
   "execution_count": 6,
   "id": "f957e8b9",
   "metadata": {},
   "outputs": [],
   "source": [
    "def my_decorator(func):\n",
    "    def wrapper():\n",
    "        print(\"함수 실행전\")\n",
    "        func()\n",
    "        print(\"함수 실행후\")\n",
    "    return wrapper"
   ]
  },
  {
   "cell_type": "code",
   "execution_count": 7,
   "id": "9efcbe81",
   "metadata": {},
   "outputs": [
    {
     "name": "stdout",
     "output_type": "stream",
     "text": [
      "함수 실행전\n",
      "안녕하세요\n",
      "함수 실행후\n"
     ]
    }
   ],
   "source": [
    "@my_decorator\n",
    "def say_hello():\n",
    "    print(\"안녕하세요\")\n",
    "say_hello()"
   ]
  },
  {
   "cell_type": "code",
   "execution_count": 8,
   "id": "9dc2af56",
   "metadata": {},
   "outputs": [],
   "source": [
    "def my_decorator(func):\n",
    "    def wrapper(*args, **kwargs):\n",
    "        print(\"함수 실행전\")\n",
    "        result = func(*args, **kwargs)\n",
    "        print(\"함수 실행후\")\n",
    "        return result\n",
    "    return wrapper"
   ]
  },
  {
   "cell_type": "code",
   "execution_count": 9,
   "id": "7558245f",
   "metadata": {},
   "outputs": [],
   "source": [
    "@my_decorator\n",
    "def hello_custom(name, greeting=\"반가워요\"):\n",
    "    print(name, \"님\", greeting)"
   ]
  },
  {
   "cell_type": "code",
   "execution_count": 10,
   "id": "2d0d4b16",
   "metadata": {},
   "outputs": [
    {
     "name": "stdout",
     "output_type": "stream",
     "text": [
      "함수 실행전\n",
      "영희 님 반가워요\n",
      "함수 실행후\n"
     ]
    }
   ],
   "source": [
    "hello_custom(\"영희\")"
   ]
  }
 ],
 "metadata": {
  "kernelspec": {
   "display_name": "Langchain_basic",
   "language": "python",
   "name": "python3"
  },
  "language_info": {
   "codemirror_mode": {
    "name": "ipython",
    "version": 3
   },
   "file_extension": ".py",
   "mimetype": "text/x-python",
   "name": "python",
   "nbconvert_exporter": "python",
   "pygments_lexer": "ipython3",
   "version": "3.11.13"
  }
 },
 "nbformat": 4,
 "nbformat_minor": 5
}
