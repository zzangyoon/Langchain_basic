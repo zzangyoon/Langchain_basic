{
 "cells": [
  {
   "cell_type": "code",
   "execution_count": 2,
   "id": "d48fe2a5",
   "metadata": {},
   "outputs": [],
   "source": [
    "from dotenv import load_dotenv\n",
    "load_dotenv()\n",
    "\n",
    "from langchain_core.tools import tool"
   ]
  },
  {
   "cell_type": "code",
   "execution_count": 3,
   "id": "92cdd35e",
   "metadata": {},
   "outputs": [],
   "source": [
    "@tool\n",
    "def add_function(a: float, b: float) -> float:\n",
    "    \"\"\"Adds two numbers together\"\"\"\n",
    "\n",
    "    return a + b"
   ]
  },
  {
   "cell_type": "code",
   "execution_count": 8,
   "id": "ea0238e4",
   "metadata": {},
   "outputs": [],
   "source": [
    "@tool\n",
    "def multiply_function(a: float, b: float) -> float:\n",
    "    \"\"\"Multiply two numbers together\"\"\"\n",
    "\n",
    "    return a * b"
   ]
  },
  {
   "cell_type": "code",
   "execution_count": 4,
   "id": "8fd2ae49",
   "metadata": {},
   "outputs": [],
   "source": [
    "from langchain_openai import ChatOpenAI\n",
    "from langchain.agents import create_openai_tools_agent, AgentExecutor\n",
    "from langchain_core.prompts import ChatPromptTemplate"
   ]
  },
  {
   "cell_type": "code",
   "execution_count": 11,
   "id": "ea674c4d",
   "metadata": {},
   "outputs": [],
   "source": [
    "SYSTEM_PROMPT = \"\"\"\n",
    "    너는 아주 유용한 어시스턴트야. 적절한 도구를 사용해서 대답하도록해\n",
    "\"\"\"\n",
    "\n",
    "# 1. 모델 설정\n",
    "llm = ChatOpenAI(\n",
    "    model = \"gpt-4.1-mini\",\n",
    "    temperature = 0\n",
    ")\n",
    "\n",
    "# 2. 도구 생성\n",
    "tool = [add_function, multiply_function]\n",
    "\n",
    "\n",
    "# 3. 프롬프트 설정\n",
    "prompt = ChatPromptTemplate.from_messages([\n",
    "    (\"system\", SYSTEM_PROMPT),\n",
    "    (\"human\", \"{input}\"),\n",
    "    (\"placeholder\", \"{agent_scratchpad}\")\n",
    "])\n",
    "\n",
    "# 4. 단일 에이전트 생성\n",
    "agent = create_openai_tools_agent(\n",
    "    llm = llm,\n",
    "    tools = tool,\n",
    "    prompt = prompt\n",
    ")\n",
    "\n",
    "# 5. executor 설정\n",
    "executor = AgentExecutor(\n",
    "    agent = agent,\n",
    "    tools = tool,\n",
    "    verbose = True\n",
    ")"
   ]
  },
  {
   "cell_type": "code",
   "execution_count": 10,
   "id": "89e71ee4",
   "metadata": {},
   "outputs": [
    {
     "name": "stdout",
     "output_type": "stream",
     "text": [
      "\n",
      "\n",
      "\u001b[1m> Entering new AgentExecutor chain...\u001b[0m\n",
      "\u001b[32;1m\u001b[1;3m\n",
      "Invoking: `add_function` with `{'a': 5, 'b': 2}`\n",
      "\n",
      "\n",
      "\u001b[0m\u001b[36;1m\u001b[1;3m7.0\u001b[0m\u001b[32;1m\u001b[1;3m5 + 2는 7이에요.\u001b[0m\n",
      "\n",
      "\u001b[1m> Finished chain.\u001b[0m\n",
      "{'input': '5 + 2는 뭐야?', 'output': '5 + 2는 7이에요.'}\n"
     ]
    }
   ],
   "source": [
    "result = executor.invoke({\"input\" : \"5 + 2는 뭐야?\"})\n",
    "print(result)"
   ]
  },
  {
   "cell_type": "code",
   "execution_count": 12,
   "id": "e5e6e3bc",
   "metadata": {},
   "outputs": [
    {
     "name": "stdout",
     "output_type": "stream",
     "text": [
      "\n",
      "\n",
      "\u001b[1m> Entering new AgentExecutor chain...\u001b[0m\n",
      "\u001b[32;1m\u001b[1;3m\n",
      "Invoking: `multiply_function` with `{'a': 5, 'b': 2}`\n",
      "\n",
      "\n",
      "\u001b[0m\u001b[33;1m\u001b[1;3m10.0\u001b[0m\u001b[32;1m\u001b[1;3m5 * 2는 10이에요.\u001b[0m\n",
      "\n",
      "\u001b[1m> Finished chain.\u001b[0m\n",
      "{'input': '5 * 2는 뭐야?', 'output': '5 * 2는 10이에요.'}\n"
     ]
    }
   ],
   "source": [
    "result = executor.invoke({\"input\" : \"5 * 2는 뭐야?\"})\n",
    "print(result)"
   ]
  },
  {
   "cell_type": "code",
   "execution_count": 13,
   "id": "527b93c7",
   "metadata": {},
   "outputs": [
    {
     "name": "stdout",
     "output_type": "stream",
     "text": [
      "\n",
      "\n",
      "\u001b[1m> Entering new AgentExecutor chain...\u001b[0m\n",
      "\u001b[32;1m\u001b[1;3m\n",
      "Invoking: `add_function` with `{'a': 5, 'b': 2}`\n",
      "\n",
      "\n",
      "\u001b[0m\u001b[36;1m\u001b[1;3m7.0\u001b[0m\u001b[32;1m\u001b[1;3m\n",
      "Invoking: `add_function` with `{'a': 7, 'b': 3}`\n",
      "\n",
      "\n",
      "\u001b[0m\u001b[36;1m\u001b[1;3m10.0\u001b[0m\u001b[32;1m\u001b[1;3m5 + 2 + 3 는 10 입니다.\u001b[0m\n",
      "\n",
      "\u001b[1m> Finished chain.\u001b[0m\n",
      "{'input': '5 + 2 + 3 는 뭐야?', 'output': '5 + 2 + 3 는 10 입니다.'}\n"
     ]
    }
   ],
   "source": [
    "result = executor.invoke({\"input\" : \"5 + 2 + 3 는 뭐야?\"})\n",
    "print(result)"
   ]
  },
  {
   "cell_type": "code",
   "execution_count": 14,
   "id": "e1a020db",
   "metadata": {},
   "outputs": [
    {
     "name": "stdout",
     "output_type": "stream",
     "text": [
      "\n",
      "\n",
      "\u001b[1m> Entering new AgentExecutor chain...\u001b[0m\n",
      "\u001b[32;1m\u001b[1;3m죄송하지만, 이전 대화 내용을 기억하지 못합니다. 다시 말씀해 주시겠어요?\u001b[0m\n",
      "\n",
      "\u001b[1m> Finished chain.\u001b[0m\n"
     ]
    },
    {
     "data": {
      "text/plain": [
       "{'input': '아까 내가 뭐라고 했지?',\n",
       " 'output': '죄송하지만, 이전 대화 내용을 기억하지 못합니다. 다시 말씀해 주시겠어요?'}"
      ]
     },
     "execution_count": 14,
     "metadata": {},
     "output_type": "execute_result"
    }
   ],
   "source": [
    "executor.invoke({\"input\" : \"아까 내가 뭐라고 했지?\"})"
   ]
  },
  {
   "cell_type": "code",
   "execution_count": 23,
   "id": "bf63c925",
   "metadata": {},
   "outputs": [],
   "source": [
    "SYSTEM_PROMPT = \"\"\"\n",
    "    너는 아주 유용한 어시스턴트야. 적절한 도구를 사용해서 대답하도록해\n",
    "\"\"\"\n",
    "\n",
    "# 1. 모델 설정\n",
    "llm = ChatOpenAI(\n",
    "    model = \"gpt-4.1-mini\",\n",
    "    temperature = 0\n",
    ")\n",
    "\n",
    "# 2. 도구 생성\n",
    "tool = [add_function, multiply_function]\n",
    "\n",
    "\n",
    "# 3. 프롬프트 설정\n",
    "prompt = ChatPromptTemplate.from_messages([\n",
    "    (\"system\", SYSTEM_PROMPT),\n",
    "    (\"placeholder\", \"{history}\"),\n",
    "    (\"human\", \"{question}\"),\n",
    "    (\"placeholder\", \"{agent_scratchpad}\")\n",
    "])\n",
    "\n",
    "# 4. 단일 에이전트 생성\n",
    "agent = create_openai_tools_agent(\n",
    "    llm = llm,\n",
    "    tools = tool,\n",
    "    prompt = prompt\n",
    ")\n",
    "\n",
    "# 5. executor 설정\n",
    "executor = AgentExecutor(\n",
    "    agent = agent,\n",
    "    tools = tool,\n",
    "    verbose = True\n",
    ")"
   ]
  },
  {
   "cell_type": "code",
   "execution_count": 16,
   "id": "4965f536",
   "metadata": {},
   "outputs": [],
   "source": [
    "from langchain_community.chat_message_histories import ChatMessageHistory\n",
    "from langchain_core.runnables.history import RunnableWithMessageHistory"
   ]
  },
  {
   "cell_type": "code",
   "execution_count": 24,
   "id": "7a16010f",
   "metadata": {},
   "outputs": [],
   "source": [
    "from typing import Dict\n",
    "from langchain_core.chat_history import InMemoryChatMessageHistory\n",
    "\n",
    "stores : Dict[str, InMemoryChatMessageHistory] = {}\n",
    "\n",
    "def get_store(session_id : str):\n",
    "    if session_id not in stores:\n",
    "        stores[session_id] = InMemoryChatMessageHistory()\n",
    "    return stores[session_id]\n",
    "\n",
    "agent_history = RunnableWithMessageHistory(\n",
    "    executor,\n",
    "    lambda session_id: get_store(session_id),\n",
    "    input_messages_key = \"question\",\n",
    "    history_messages_key = \"history\"\n",
    ")"
   ]
  },
  {
   "cell_type": "code",
   "execution_count": 28,
   "id": "f2e785fc",
   "metadata": {},
   "outputs": [
    {
     "data": {
      "text/plain": [
       "{'user-123': InMemoryChatMessageHistory(messages=[HumanMessage(content='5 + 2는?', additional_kwargs={}, response_metadata={}), AIMessage(content='5 + 2는 7입니다.', additional_kwargs={}, response_metadata={})])}"
      ]
     },
     "execution_count": 28,
     "metadata": {},
     "output_type": "execute_result"
    }
   ],
   "source": [
    "stores"
   ]
  },
  {
   "cell_type": "code",
   "execution_count": 27,
   "id": "dfc966a3",
   "metadata": {},
   "outputs": [
    {
     "name": "stdout",
     "output_type": "stream",
     "text": [
      "\n",
      "\n",
      "\u001b[1m> Entering new AgentExecutor chain...\u001b[0m\n",
      "\u001b[32;1m\u001b[1;3m\n",
      "Invoking: `add_function` with `{'a': 5, 'b': 2}`\n",
      "\n",
      "\n",
      "\u001b[0m\u001b[36;1m\u001b[1;3m7.0\u001b[0m\u001b[32;1m\u001b[1;3m5 + 2는 7입니다.\u001b[0m\n",
      "\n",
      "\u001b[1m> Finished chain.\u001b[0m\n"
     ]
    },
    {
     "data": {
      "text/plain": [
       "{'question': '5 + 2는?', 'history': [], 'output': '5 + 2는 7입니다.'}"
      ]
     },
     "execution_count": 27,
     "metadata": {},
     "output_type": "execute_result"
    }
   ],
   "source": [
    "cfg = {\"configurable\" : {\"session_id\" : \"user-123\"}}\n",
    "agent_history.invoke({\n",
    "    \"question\" : \"5 + 2는?\"\n",
    "}, config = cfg)"
   ]
  },
  {
   "cell_type": "code",
   "execution_count": 30,
   "id": "81b7806e",
   "metadata": {},
   "outputs": [
    {
     "name": "stdout",
     "output_type": "stream",
     "text": [
      "\n",
      "\n",
      "\u001b[1m> Entering new AgentExecutor chain...\u001b[0m\n",
      "\u001b[32;1m\u001b[1;3m아까 사용자가 \"5 + 2는?\"이라고 물어보셨고, 저는 \"5 + 2는 7입니다.\"라고 대답했습니다.\u001b[0m\n",
      "\n",
      "\u001b[1m> Finished chain.\u001b[0m\n"
     ]
    },
    {
     "data": {
      "text/plain": [
       "{'question': '아까 내가 뭐라고 했더라?',\n",
       " 'history': [HumanMessage(content='5 + 2는?', additional_kwargs={}, response_metadata={}),\n",
       "  AIMessage(content='5 + 2는 7입니다.', additional_kwargs={}, response_metadata={})],\n",
       " 'output': '아까 사용자가 \"5 + 2는?\"이라고 물어보셨고, 저는 \"5 + 2는 7입니다.\"라고 대답했습니다.'}"
      ]
     },
     "execution_count": 30,
     "metadata": {},
     "output_type": "execute_result"
    }
   ],
   "source": [
    "cfg = {\"configurable\" : {\"session_id\" : \"user-123\"}}\n",
    "agent_history.invoke({\n",
    "    \"question\" : \"아까 내가 뭐라고 했더라?\"\n",
    "}, config = cfg)"
   ]
  }
 ],
 "metadata": {
  "kernelspec": {
   "display_name": "Langchain_basic",
   "language": "python",
   "name": "python3"
  },
  "language_info": {
   "codemirror_mode": {
    "name": "ipython",
    "version": 3
   },
   "file_extension": ".py",
   "mimetype": "text/x-python",
   "name": "python",
   "nbconvert_exporter": "python",
   "pygments_lexer": "ipython3",
   "version": "3.11.13"
  }
 },
 "nbformat": 4,
 "nbformat_minor": 5
}
