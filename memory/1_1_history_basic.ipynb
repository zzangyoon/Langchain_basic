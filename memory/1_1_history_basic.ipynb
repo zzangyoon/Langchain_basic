{
 "cells": [
  {
   "cell_type": "code",
   "execution_count": 1,
   "id": "c02a16c7",
   "metadata": {},
   "outputs": [],
   "source": [
    "from dotenv import load_dotenv\n",
    "load_dotenv()\n",
    "\n",
    "import os\n",
    "project_name = \"wanted_2nd_langchain_outputparser_basic\"\n",
    "os.environ[\"LANGSMITH_PROJECT\"] = project_name"
   ]
  },
  {
   "cell_type": "code",
   "execution_count": 2,
   "id": "6b33ba85",
   "metadata": {},
   "outputs": [],
   "source": [
    "from langchain_openai import ChatOpenAI\n",
    "from langchain_core.prompts import ChatPromptTemplate\n",
    "\n",
    "model = ChatOpenAI(\n",
    "    temperature=0.1,\n",
    "    model=\"gpt-4.1-mini\",\n",
    "    verbose=True\n",
    ")"
   ]
  },
  {
   "cell_type": "code",
   "execution_count": 3,
   "id": "44ff6802",
   "metadata": {},
   "outputs": [],
   "source": [
    "from typing import Dict\n",
    "from langchain_core.chat_history import InMemoryChatMessageHistory\n",
    "from langchain_core.runnables.history import RunnableWithMessageHistory\n",
    "from langchain_core.prompts import ChatPromptTemplate, MessagesPlaceholder\n",
    "from langchain_core.output_parsers import StrOutputParser"
   ]
  },
  {
   "cell_type": "markdown",
   "id": "db6f8f3c",
   "metadata": {},
   "source": [
    "## 1. 프롬프트에 history 자리를 확보"
   ]
  },
  {
   "cell_type": "code",
   "execution_count": 4,
   "id": "d45222d2",
   "metadata": {},
   "outputs": [
    {
     "data": {
      "text/plain": [
       "ChatPromptTemplate(input_variables=['history', 'question'], input_types={'history': list[typing.Annotated[typing.Union[typing.Annotated[langchain_core.messages.ai.AIMessage, Tag(tag='ai')], typing.Annotated[langchain_core.messages.human.HumanMessage, Tag(tag='human')], typing.Annotated[langchain_core.messages.chat.ChatMessage, Tag(tag='chat')], typing.Annotated[langchain_core.messages.system.SystemMessage, Tag(tag='system')], typing.Annotated[langchain_core.messages.function.FunctionMessage, Tag(tag='function')], typing.Annotated[langchain_core.messages.tool.ToolMessage, Tag(tag='tool')], typing.Annotated[langchain_core.messages.ai.AIMessageChunk, Tag(tag='AIMessageChunk')], typing.Annotated[langchain_core.messages.human.HumanMessageChunk, Tag(tag='HumanMessageChunk')], typing.Annotated[langchain_core.messages.chat.ChatMessageChunk, Tag(tag='ChatMessageChunk')], typing.Annotated[langchain_core.messages.system.SystemMessageChunk, Tag(tag='SystemMessageChunk')], typing.Annotated[langchain_core.messages.function.FunctionMessageChunk, Tag(tag='FunctionMessageChunk')], typing.Annotated[langchain_core.messages.tool.ToolMessageChunk, Tag(tag='ToolMessageChunk')]], FieldInfo(annotation=NoneType, required=True, discriminator=Discriminator(discriminator=<function _get_type at 0x0000021DFC17F380>, custom_error_type=None, custom_error_message=None, custom_error_context=None))]]}, partial_variables={}, messages=[SystemMessagePromptTemplate(prompt=PromptTemplate(input_variables=[], input_types={}, partial_variables={}, template='너는 AI 도우미야. 간략하게 그냥 응답하도록 해'), additional_kwargs={}), MessagesPlaceholder(variable_name='history'), HumanMessagePromptTemplate(prompt=PromptTemplate(input_variables=['question'], input_types={}, partial_variables={}, template='{question}'), additional_kwargs={})])"
      ]
     },
     "execution_count": 4,
     "metadata": {},
     "output_type": "execute_result"
    }
   ],
   "source": [
    "# 1. 프롬프트에 history 자리를 확보\n",
    "prompt = ChatPromptTemplate.from_messages([\n",
    "    (\"system\", \"너는 AI 도우미야. 간략하게 그냥 응답하도록 해\"),\n",
    "    MessagesPlaceholder(variable_name = \"history\"),\n",
    "    (\"user\", \"{question}\")\n",
    "])\n",
    "prompt"
   ]
  },
  {
   "cell_type": "code",
   "execution_count": 5,
   "id": "46d45a42",
   "metadata": {},
   "outputs": [],
   "source": [
    "chain = prompt | model | StrOutputParser()"
   ]
  },
  {
   "cell_type": "markdown",
   "id": "532b5ce0",
   "metadata": {},
   "source": [
    "## 2. 대화내용 저장소 만들기"
   ]
  },
  {
   "cell_type": "code",
   "execution_count": 6,
   "id": "29197c96",
   "metadata": {},
   "outputs": [],
   "source": [
    "stores : Dict[str, InMemoryChatMessageHistory] = {}\n",
    "def get_store(session_id : str):\n",
    "    if session_id not in stores:    # 새 대화창일 경우\n",
    "        stores[session_id] = InMemoryChatMessageHistory()\n",
    "    return stores[session_id]"
   ]
  },
  {
   "cell_type": "markdown",
   "id": "2291a9b8",
   "metadata": {},
   "source": [
    "## 3. 히스토리와 래핑"
   ]
  },
  {
   "cell_type": "code",
   "execution_count": 7,
   "id": "e169bc3e",
   "metadata": {},
   "outputs": [],
   "source": [
    "with_history = RunnableWithMessageHistory(\n",
    "    chain,\n",
    "    lambda session_id: get_store(session_id),\n",
    "    input_messages_key = \"question\",\n",
    "    history_messages_key = \"history\"\n",
    ")"
   ]
  },
  {
   "cell_type": "code",
   "execution_count": 8,
   "id": "211d130c",
   "metadata": {},
   "outputs": [
    {
     "name": "stdout",
     "output_type": "stream",
     "text": [
      "갤럭시 좋은 선택이야!\n"
     ]
    }
   ],
   "source": [
    "cfg = {\"configurable\" : {\"session_id\" : \"user-123\"}}        # 이 값으로 대화를 이어나감\n",
    "result = with_history.invoke({\"question\" : \"내가 좋아하는 폰은 갤럭시야\"}, config = cfg)\n",
    "print(result)"
   ]
  },
  {
   "cell_type": "code",
   "execution_count": 9,
   "id": "3065aee8",
   "metadata": {},
   "outputs": [
    {
     "name": "stdout",
     "output_type": "stream",
     "text": [
      "갤럭시 장점: 뛰어난 디스플레이, 강력한 성능, 다양한 카메라 기능, 확장 가능한 저장공간, 삼성 생태계와의 호환성.\n"
     ]
    }
   ],
   "source": [
    "result = with_history.invoke({\"question\" : \"그 장점만 요약해봐\"}, config = cfg)\n",
    "print(result)"
   ]
  },
  {
   "cell_type": "code",
   "execution_count": 10,
   "id": "aa4873d5",
   "metadata": {},
   "outputs": [
    {
     "name": "stdout",
     "output_type": "stream",
     "text": [
      "사용자 취향에 따라 다르지만, 갤럭시는 커스터마이징과 확장성에서 강점이 있어요.\n"
     ]
    }
   ],
   "source": [
    "result = with_history.invoke({\"question\" : \"아이폰보다 좋아?\"}, config = cfg)\n",
    "print(result)"
   ]
  },
  {
   "cell_type": "code",
   "execution_count": 11,
   "id": "f2004552",
   "metadata": {},
   "outputs": [
    {
     "name": "stdout",
     "output_type": "stream",
     "text": [
      "저는 중립적이라 개인적인 견해는 없어요.\n"
     ]
    }
   ],
   "source": [
    "result = with_history.invoke({\"question\" : \"너의 개인적인 견해를 말해\"}, config = cfg)\n",
    "print(result)"
   ]
  },
  {
   "cell_type": "code",
   "execution_count": 13,
   "id": "317de959",
   "metadata": {},
   "outputs": [
    {
     "data": {
      "text/plain": [
       "[HumanMessage(content='내가 좋아하는 폰은 갤럭시야', additional_kwargs={}, response_metadata={}),\n",
       " AIMessage(content='갤럭시 좋은 선택이야!', additional_kwargs={}, response_metadata={}),\n",
       " HumanMessage(content='그 장점만 요약해봐', additional_kwargs={}, response_metadata={}),\n",
       " AIMessage(content='갤럭시 장점: 뛰어난 디스플레이, 강력한 성능, 다양한 카메라 기능, 확장 가능한 저장공간, 삼성 생태계와의 호환성.', additional_kwargs={}, response_metadata={}),\n",
       " HumanMessage(content='아이폰보다 좋아?', additional_kwargs={}, response_metadata={}),\n",
       " AIMessage(content='사용자 취향에 따라 다르지만, 갤럭시는 커스터마이징과 확장성에서 강점이 있어요.', additional_kwargs={}, response_metadata={}),\n",
       " HumanMessage(content='너의 개인적인 견해를 말해', additional_kwargs={}, response_metadata={}),\n",
       " AIMessage(content='저는 중립적이라 개인적인 견해는 없어요.', additional_kwargs={}, response_metadata={})]"
      ]
     },
     "execution_count": 13,
     "metadata": {},
     "output_type": "execute_result"
    }
   ],
   "source": [
    "stores[\"user-123\"].messages"
   ]
  }
 ],
 "metadata": {
  "kernelspec": {
   "display_name": "Langchain_basic",
   "language": "python",
   "name": "python3"
  },
  "language_info": {
   "codemirror_mode": {
    "name": "ipython",
    "version": 3
   },
   "file_extension": ".py",
   "mimetype": "text/x-python",
   "name": "python",
   "nbconvert_exporter": "python",
   "pygments_lexer": "ipython3",
   "version": "3.11.13"
  }
 },
 "nbformat": 4,
 "nbformat_minor": 5
}
