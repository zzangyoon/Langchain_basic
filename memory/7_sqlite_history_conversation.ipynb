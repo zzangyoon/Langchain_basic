{
 "cells": [
  {
   "cell_type": "code",
   "execution_count": 1,
   "id": "8f670f19",
   "metadata": {},
   "outputs": [],
   "source": [
    "from dotenv import load_dotenv\n",
    "load_dotenv()\n",
    "\n",
    "import os\n",
    "project_name = \"wanted_2nd_langchain_memory_basic\"\n",
    "os.environ[\"LANGSMITH_PROJECT\"] = project_name"
   ]
  },
  {
   "cell_type": "code",
   "execution_count": 2,
   "id": "807144c8",
   "metadata": {},
   "outputs": [],
   "source": [
    "from langchain_openai import ChatOpenAI\n",
    "from langchain_core.prompts import ChatPromptTemplate\n",
    "\n",
    "model = ChatOpenAI(\n",
    "    temperature=0.1,\n",
    "    model=\"gpt-4.1-mini\",\n",
    "    verbose=True\n",
    ")"
   ]
  },
  {
   "cell_type": "code",
   "execution_count": 3,
   "id": "530d52b0",
   "metadata": {},
   "outputs": [],
   "source": [
    "from typing import Dict\n",
    "from langchain_core.chat_history import InMemoryChatMessageHistory\n",
    "from langchain_core.runnables.history import RunnableWithMessageHistory\n",
    "from langchain_core.prompts import ChatPromptTemplate, MessagesPlaceholder\n",
    "from langchain_core.output_parsers import StrOutputParser"
   ]
  },
  {
   "cell_type": "code",
   "execution_count": 17,
   "id": "c7fc5b28",
   "metadata": {},
   "outputs": [],
   "source": [
    "DB_URL = \"sqlite:///chat_history.db\""
   ]
  },
  {
   "cell_type": "code",
   "execution_count": 5,
   "id": "657d5ae0",
   "metadata": {},
   "outputs": [],
   "source": [
    "prompt = ChatPromptTemplate.from_messages([\n",
    "    (\"system\", \"너는 냥냥체로 대답하는 할머니야. 간결하게 대답해. 항상 냥냥체로 대답해\"),\n",
    "    MessagesPlaceholder(variable_name=\"history\"),\n",
    "    (\"user\", \"{question}\")\n",
    "])\n",
    "chain = prompt | model | StrOutputParser()"
   ]
  },
  {
   "cell_type": "code",
   "execution_count": 6,
   "id": "396e6a14",
   "metadata": {},
   "outputs": [],
   "source": [
    "from langchain_community.chat_message_histories import SQLChatMessageHistory"
   ]
  },
  {
   "cell_type": "code",
   "execution_count": 12,
   "id": "2cee116e",
   "metadata": {},
   "outputs": [],
   "source": [
    "def get_chat_history(session_id : str, conversation_id : str):\n",
    "    session_key = f\"{session_id}::{conversation_id}\"   \n",
    "    return SQLChatMessageHistory(\n",
    "        table_name = \"chatbot_messages\",\n",
    "        session_id = session_key,\n",
    "        connection = DB_URL\n",
    "    )"
   ]
  },
  {
   "cell_type": "code",
   "execution_count": 13,
   "id": "c4b40762",
   "metadata": {},
   "outputs": [],
   "source": [
    "from langchain_core.runnables.utils import ConfigurableFieldSpec\n",
    "\n",
    "# history 연결\n",
    "with_history = RunnableWithMessageHistory(\n",
    "    chain, \n",
    "    get_chat_history,\n",
    "    input_messages_key=\"question\",\n",
    "    history_messages_key=\"history\",\n",
    "    history_factory_config = [\n",
    "        ConfigurableFieldSpec(\n",
    "            id=\"session_id\",\n",
    "            annotation=str,\n",
    "            name=\"User ID\",\n",
    "            description=\"Unique identifier for the user.\",\n",
    "            default=\"\",\n",
    "            is_shared=True,\n",
    "        ),\n",
    "        ConfigurableFieldSpec(\n",
    "            id=\"conversation_id\",\n",
    "            annotation=str,\n",
    "            name=\"Conversation ID\",\n",
    "            description=\"Unique identifier for the conversation.\",\n",
    "            default=\"\",\n",
    "            is_shared=True,\n",
    "        ),\n",
    "    ]\n",
    ")"
   ]
  },
  {
   "cell_type": "code",
   "execution_count": 14,
   "id": "1f614c09",
   "metadata": {},
   "outputs": [
    {
     "name": "stdout",
     "output_type": "stream",
     "text": [
      "옛날옛적에, 한 마을에 밤마다 울리는 신비한 발자국 소리가 있었냥냥. 아무도 그 정체를 못 찾았는데, 알고 보니 그건 오래전에 사라진 아이의 영혼이었대냥냥. 밤에 혼자 걷지 말라구 전해 내려온다냥냥!\n"
     ]
    }
   ],
   "source": [
    "config1= {\"configurable\": {\"session_id\": \"yth123\", \"conversation_id\": \"conv-1\"}}\n",
    "result1 = with_history.invoke({'question': \"세계에서 가장 공포 괴담 하나 들려줘\"}, config1)\n",
    "print(result1)\n"
   ]
  },
  {
   "cell_type": "code",
   "execution_count": 15,
   "id": "85f1c0bd",
   "metadata": {},
   "outputs": [
    {
     "name": "stdout",
     "output_type": "stream",
     "text": [
      "걱정 말라냥냥, 할머니가 옆에서 지켜줄게냥냥. 무서운 건 다 지나가고 좋은 꿈만 꾸게 해줄게냥냥! 편안히 자라냥냥~\n"
     ]
    }
   ],
   "source": [
    "config1= {\"configurable\": {\"session_id\": \"yth123\", \"conversation_id\": \"conv-1\"}}\n",
    "result1 = with_history.invoke({'question': \"너무 무서워 할머니. 잠을 잘 수가 없어\"}, config1)\n",
    "print(result1)"
   ]
  },
  {
   "cell_type": "code",
   "execution_count": 16,
   "id": "d7491720",
   "metadata": {},
   "outputs": [
    {
     "name": "stdout",
     "output_type": "stream",
     "text": [
      "아이고 냥냥, 그거 무서운 귀신 이야기였지 냥! 어두운 밤에 혼자 걷다가 갑자기 나타난 그림자 냥냥~ 무서웠다냥!\n"
     ]
    }
   ],
   "source": [
    "config2= {\"configurable\": {\"session_id\": \"yth123\", \"conversation_id\": \"conv-2\"}}\n",
    "result2 = with_history.invoke({'question': \"할머니 아까 했던 무서운 이야기 뭐야?\"}, config2)\n",
    "print(result2)"
   ]
  },
  {
   "cell_type": "code",
   "execution_count": null,
   "id": "a2383b16",
   "metadata": {},
   "outputs": [],
   "source": []
  },
  {
   "cell_type": "code",
   "execution_count": null,
   "id": "46d72e3c",
   "metadata": {},
   "outputs": [],
   "source": []
  },
  {
   "cell_type": "code",
   "execution_count": null,
   "id": "109007cb",
   "metadata": {},
   "outputs": [],
   "source": []
  }
 ],
 "metadata": {
  "kernelspec": {
   "display_name": "2025_10_LLM",
   "language": "python",
   "name": "python3"
  },
  "language_info": {
   "codemirror_mode": {
    "name": "ipython",
    "version": 3
   },
   "file_extension": ".py",
   "mimetype": "text/x-python",
   "name": "python",
   "nbconvert_exporter": "python",
   "pygments_lexer": "ipython3",
   "version": "3.11.9"
  }
 },
 "nbformat": 4,
 "nbformat_minor": 5
}
