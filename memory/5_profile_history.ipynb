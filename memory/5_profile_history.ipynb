{
 "cells": [
  {
   "cell_type": "code",
   "execution_count": 1,
   "id": "d557d2ab",
   "metadata": {},
   "outputs": [],
   "source": [
    "from dotenv import load_dotenv\n",
    "load_dotenv()\n",
    "\n",
    "import os\n",
    "project_name = \"wanted_2nd_langchain_memory_basic\"\n",
    "os.environ[\"LANGSMITH_PROJECT\"] = project_name"
   ]
  },
  {
   "cell_type": "code",
   "execution_count": 2,
   "id": "fb4e4fce",
   "metadata": {},
   "outputs": [],
   "source": [
    "from langchain_openai import ChatOpenAI\n",
    "from langchain_core.prompts import ChatPromptTemplate\n",
    "\n",
    "model = ChatOpenAI(\n",
    "    temperature=0.1,\n",
    "    model=\"gpt-4.1-mini\",\n",
    "    verbose=True\n",
    ")"
   ]
  },
  {
   "cell_type": "code",
   "execution_count": 3,
   "id": "411901ad",
   "metadata": {},
   "outputs": [],
   "source": [
    "from typing import Dict\n",
    "from langchain_core.chat_history import InMemoryChatMessageHistory\n",
    "from langchain_core.runnables.history import RunnableWithMessageHistory\n",
    "from langchain_core.prompts import ChatPromptTemplate, MessagesPlaceholder\n",
    "from langchain_core.output_parsers import StrOutputParser"
   ]
  },
  {
   "cell_type": "code",
   "execution_count": 4,
   "id": "2376e53d",
   "metadata": {},
   "outputs": [],
   "source": [
    "# 이런 식으로 프로필을 저장할 수도 있다 - 나중에 db 저장해야 할수도 있다\n",
    "profiles : Dict[str, str] = {}\n",
    "\n",
    "def get_profile(session_id: str) -> dict:\n",
    "    return profiles.setdefault(session_id, \n",
    "                               {\"name\": None,\n",
    "                                \"tone\" : \"neutral\",                    \n",
    "                                }\n",
    "                               )"
   ]
  },
  {
   "cell_type": "code",
   "execution_count": null,
   "id": "f0a77d90",
   "metadata": {},
   "outputs": [],
   "source": [
    "def update_profile_from_text(session_id : str, text : str):\n",
    "    profile = get_profile(session_id)\n",
    "\n",
    "    if \"제 이름은\" in text:\n",
    "        profile['name'] = "
   ]
  },
  {
   "cell_type": "code",
   "execution_count": null,
   "id": "7e45c458",
   "metadata": {},
   "outputs": [],
   "source": [
    "# 채팅으로 \n",
    "# 안녕하세요 챗봇님, 내이름은 윤택한 나이가 28, 남자에요\n",
    "# 지금 상황에 오늘 추석연휴가 시작될 예정이고, ....\n",
    "# -> 추출을 해서 -> profile 따로 저장해놓는 것 \n",
    "# pydantic으로 \n",
    "class Profile:\n",
    "    name : str\n",
    "    age : int\n",
    "    gender : str"
   ]
  },
  {
   "cell_type": "code",
   "execution_count": null,
   "id": "5150e16c",
   "metadata": {},
   "outputs": [],
   "source": []
  }
 ],
 "metadata": {
  "kernelspec": {
   "display_name": "2025_10_LLM",
   "language": "python",
   "name": "python3"
  },
  "language_info": {
   "codemirror_mode": {
    "name": "ipython",
    "version": 3
   },
   "file_extension": ".py",
   "mimetype": "text/x-python",
   "name": "python",
   "nbconvert_exporter": "python",
   "pygments_lexer": "ipython3",
   "version": "3.11.9"
  }
 },
 "nbformat": 4,
 "nbformat_minor": 5
}
