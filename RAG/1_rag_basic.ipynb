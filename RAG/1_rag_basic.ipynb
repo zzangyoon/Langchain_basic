{
 "cells": [
  {
   "cell_type": "markdown",
   "id": "5a17adad",
   "metadata": {},
   "source": [
    "# RAG 흐름 익히기"
   ]
  },
  {
   "cell_type": "code",
   "execution_count": 1,
   "id": "1853b0c9",
   "metadata": {},
   "outputs": [],
   "source": [
    "from langchain_community.document_loaders import PyPDFLoader\n",
    "from langchain_text_splitters import RecursiveCharacterTextSplitter\n",
    "from langchain_openai import OpenAIEmbeddings, ChatOpenAI\n",
    "from langchain_community.vectorstores import Chroma\n",
    "from langchain_core.runnables import RunnablePassthrough, RunnableLambda\n",
    "from langchain_core.prompts import ChatPromptTemplate\n",
    "from langchain_core.output_parsers import StrOutputParser"
   ]
  },
  {
   "cell_type": "markdown",
   "id": "5101fc7d",
   "metadata": {},
   "source": [
    "## 1. 문서 로드"
   ]
  },
  {
   "cell_type": "markdown",
   "id": "1c0cd138",
   "metadata": {},
   "source": [
    "```\n",
    "uv add pypdf\n",
    "```"
   ]
  },
  {
   "cell_type": "code",
   "execution_count": 3,
   "id": "baa45c0d",
   "metadata": {},
   "outputs": [
    {
     "name": "stdout",
     "output_type": "stream",
     "text": [
      "문서로드 중\n"
     ]
    }
   ],
   "source": [
    "file_path = \"../data/Sustainability_report_2024_kr.pdf\"\n",
    "\n",
    "print(\"문서로드 중\")\n",
    "\n",
    "loader = PyPDFLoader(file_path)\n",
    "docs = loader.load()"
   ]
  },
  {
   "cell_type": "code",
   "execution_count": 5,
   "id": "7c301fd4",
   "metadata": {},
   "outputs": [
    {
     "data": {
      "text/plain": [
       "83"
      ]
     },
     "execution_count": 5,
     "metadata": {},
     "output_type": "execute_result"
    }
   ],
   "source": [
    "len(docs)"
   ]
  },
  {
   "cell_type": "code",
   "execution_count": 10,
   "id": "16a70e65",
   "metadata": {},
   "outputs": [
    {
     "data": {
      "text/plain": [
       "Document(metadata={'producer': 'Adobe PDF Library 15.0', 'creator': 'Adobe InDesign 15.1 (Macintosh)', 'creationdate': '2024-11-25T11:10:32+09:00', 'moddate': '2024-11-25T11:10:46+09:00', 'trapped': '/False', 'source': '../data/Sustainability_report_2024_kr.pdf', 'total_pages': 83, 'page': 1, 'page_label': '2'}, page_content='A Journey Towards  \\na Sustainable Future\\n삼성전자 지속가능경영보고서 2024\\nCEO 메시지\\n회사 소개\\n이해관계자 소통\\nOur Company\\n04\\n05\\n06\\n준법과 윤리경영\\nPrinciple\\n53\\n중대성 평가\\nMateriality Assessment\\n08\\n임직원\\n공급망\\n사회공헌\\n개인정보보호/보안\\n고객의 안전/품질\\nPeople\\n31\\n39\\n45\\n48\\n50\\n경제성과\\n사회성과\\n환경성과\\n지역별 수자원 현황   \\n사업부문별 환경성과\\nFacts & Figures\\n56\\n57\\n62\\n65\\n66\\n독립된 인증인의 인증보고서\\nScope 1, 2 온실가스 배출량 검증 의견서\\nScope 3 온실가스 배출량 검증 의견서\\nGRI Index\\nTCFD 대조표\\nSASB 대조표\\n전사차원의 기후변화 대응 협력 활동\\nAbout This Report\\nAppendix\\n70\\n71\\n72\\n74\\n77\\n79\\n81\\n82\\n[DX부문] \\n추진체계 및 주요성과\\n기후변화\\n자원순환\\n수자원 및 오염물질\\n[DS부문]  \\n추진체계 및 주요성과 \\n기후변화\\n수자원\\n폐기물\\n오염물질\\nPlanet\\n12\\n13\\n15\\n17\\n19\\n20\\n23\\n26\\n28\\n삼성전자 지속가능경영보고서 2024 02Our Company AppendixMateriality Assessment Facts & Figures PrinciplePlanet People')"
      ]
     },
     "execution_count": 10,
     "metadata": {},
     "output_type": "execute_result"
    }
   ],
   "source": [
    "docs[:10][1]"
   ]
  },
  {
   "cell_type": "markdown",
   "id": "e93e1505",
   "metadata": {},
   "source": [
    "## 2. 텍스트 스플리터(Chunking)"
   ]
  },
  {
   "cell_type": "code",
   "execution_count": 11,
   "id": "43599c73",
   "metadata": {},
   "outputs": [
    {
     "name": "stdout",
     "output_type": "stream",
     "text": [
      "207  : 전체 잘린 chunk 사이즈\n"
     ]
    }
   ],
   "source": [
    "splitter = RecursiveCharacterTextSplitter(\n",
    "    chunk_size = 1000,\n",
    "    chunk_overlap = 100,        # 누락될 가능성을 생각해 overlap 해서 자른다\n",
    "    separators = [\"\\n\\n\", \"\\n\", \" \", \"\"]    # separator를 넣어주지 않아도 알아서 해줌 / 마크다운문서에서는 '#'으로 separator 쓰기도 함\n",
    ")\n",
    "\n",
    "chunks = splitter.split_documents(docs)\n",
    "print(len(chunks), \" : 전체 잘린 chunk 사이즈\")"
   ]
  },
  {
   "cell_type": "code",
   "execution_count": 13,
   "id": "29946899",
   "metadata": {},
   "outputs": [
    {
     "name": "stdout",
     "output_type": "stream",
     "text": [
      "· 업종 간 협력\n",
      "·  기후 대응을 포함한  \n",
      "UN SDGs에 대한 기여\n",
      "·  투명하고 신속한 정보 공개\n",
      "·  기업 간담회\n",
      "·  NGO 미팅\n",
      "·  이해관계자 포럼\n",
      "·  시민사회 - 경영진 간담회\n",
      "·  노동인권 이해관계자 워크샵\n",
      "·  지속가능경영 웹사이트\n",
      "· 산업협회\n",
      "·  글로벌 NGO 대상 의견 수렴\n",
      "·  RBA\n",
      "1)\n",
      ", RMI\n",
      "2)\n",
      ", BSR\n",
      "3)\n",
      " 활동\n",
      "1) Responsible Business Alliance\n",
      "2) Responsible Minerals Initiative\n",
      "3) Business for Social Responsibility\n",
      "·  UNGC\n",
      "1)\n",
      "·  ACEC\n",
      "2)\n",
      ", SCC\n",
      "3)\n",
      " 활동\n",
      "1) United Nations Global Compact\n",
      "2) Asia Clean Energy Coalition\n",
      "3) Semiconductor Climate Consortium\n",
      "정부 ·  간접 경제효과(투자, 고용 등 파생효과)\n",
      "·  공정거래\n",
      "·  안전·보건\n",
      "·  컴플라이언스\n",
      "·  기업윤리\n",
      "·  정책 간담회\n",
      "·  국회\n",
      "·  정책수립 공청회\n",
      "·  정책자문기구\n",
      "·  지속가능경영 웹사이트\n",
      "·  정부와 협업하여 중소기업 지원 프로그램 운영 ·  정부와 협업하여 벤처투자 창구 설립·운영\n",
      "언론 ·  주요 제품/사업 실적 및 전략\n",
      "·  투자, R&D, M&A,  \n",
      "신사업 등 미래 성장 전략 \n",
      "·  탄소중립 등 ESG 추진 성과\n",
      "·  인/노사, 환경안전, 특허,  \n",
      "제품·서비스 품질 등\n",
      "·  보도자료\n",
      "·  지속가능경영 웹사이트\n",
      "·  삼성전자 반도체 뉴스룸\n",
      "·  삼성전자 뉴스룸\n",
      "· 미디어 간담회\n",
      "·  글로벌 IT 전시회·신제품 발표 취재지원\n",
      "·  미디어데이 개최\n",
      "·  기자회견\n",
      "·  인터뷰\n",
      "·  기획홍보\n",
      " Our Company\n"
     ]
    }
   ],
   "source": [
    "print(chunks[10].page_content)"
   ]
  },
  {
   "cell_type": "markdown",
   "id": "d796fcfa",
   "metadata": {},
   "source": [
    "## 3. 임베딩 생성 & chromadb 저장"
   ]
  },
  {
   "cell_type": "code",
   "execution_count": 14,
   "id": "352f9ab4",
   "metadata": {},
   "outputs": [
    {
     "name": "stdout",
     "output_type": "stream",
     "text": [
      "벡터 저장소 저장 완료\n"
     ]
    }
   ],
   "source": [
    "db_path = \"../vectorStore/chromadb_rag_basic\"\n",
    "\n",
    "embedding = OpenAIEmbeddings(model=\"text-embedding-3-small\")\n",
    "\n",
    "vectorStore = Chroma.from_documents(\n",
    "    documents = chunks,\n",
    "    embedding = embedding,\n",
    "    persist_directory = db_path,\n",
    "    collection_name = \"samsung_2024\"\n",
    ")\n",
    "\n",
    "print(\"벡터 저장소 저장 완료\")"
   ]
  },
  {
   "cell_type": "markdown",
   "id": "41db0a02",
   "metadata": {},
   "source": [
    "## 4. 검색기 구성 (Retriever)"
   ]
  },
  {
   "cell_type": "markdown",
   "id": "1278022e",
   "metadata": {},
   "source": [
    "- 유사도로 문서기반 질문"
   ]
  },
  {
   "cell_type": "code",
   "execution_count": 15,
   "id": "f6b654c9",
   "metadata": {},
   "outputs": [
    {
     "data": {
      "text/plain": [
       "[Document(metadata={'moddate': '2024-11-25T11:10:46+09:00', 'page': 3, 'source': '../data/Sustainability_report_2024_kr.pdf', 'page_label': '4', 'producer': 'Adobe PDF Library 15.0', 'creator': 'Adobe InDesign 15.1 (Macintosh)', 'creationdate': '2024-11-25T11:10:32+09:00', 'total_pages': 83, 'trapped': '/False'}, page_content='삼성전자 지속가능경영보고서 2024\\n04\\nOur Company AppendixMateriality Assessment Facts & Figures PrinciplePlanet People\\nCEO 메시지\\nMessage from \\nOur CEO\\n주주, 고객, 협력회사, 그리고 임직원 여러분,\\n2023년은 고금리와 인플레이션, 지정학적 이슈 등 매우 불확실한 \\n거시경제 환경과 함께, 메모리 산업 부진과 다양한 제품군에서의 경쟁 \\n심화로 삼성전자에게 매우 어려운 한 해였습니다. 이토록 대내외적으로 \\n어려운 환경에서도 지속 성장의 기반 마련을 위해 역대 최고 수준의 28.3\\n조원을 연구개발에 투자하고, 53.1조원 수준의 전략적 시설투자로 기술 \\n리더십을 강화하며 중장기 수요에 미리 대응할 수 있었던 것은 삼성전자를 \\n아껴주시는 이해관계자 여러분의 관심과 격려 덕분입니다. 다시 한 번 \\n깊이 감사 드립니다.\\n급격한 변화를 겪고 있는 경제 상황에 맞춰, 기업의 지속가능경영 \\n분야에서도 많은 변화가 일어나고 있습니다. 특히 기업의 지속가능경영 \\n활동 정보 공개는 글로벌 비재무정보 공시 제도의 확산에 맞춰, 새로운 \\n국면을 맞고 있습니다. 국제회계기준재단(IFRS Foundation)이 2023년 \\n6월 지속가능성 지표를 확정한 것을 시작으로, EU의 지속가능성 보고지침\\n(CSRD)과 미국 증권거래위원회(SEC) 기후공시 기준 역시 세부 내용을 \\n순차적으로 확정하며 ESG 정보의 의무 공시 시대가 열리고 있습니다.\\n이와 함께, EU 탄소국경조정제도(CBAM)와 EU 배터리규제 등을 통한 \\n환경규제 역시 지속 강화되는 추세이고, 독일에서는 공급망의 인권과 \\n근로환경 관리를 의무화하는 공급망실사법이 2023년 발효되었으며, \\n2024년 5월 EU 공급망 실사지침(CSDDD)이 확정되는 등 인권 분야에 \\n대한 관심 또한 지속 고조되고 있습니다. \\n삼성전자는 이러한 추세에 맞춰 지속가능한 미래를 위한 노력을 계속해'),\n",
       " Document(metadata={'page': 0, 'page_label': '1', 'creationdate': '2024-11-25T11:10:32+09:00', 'trapped': '/False', 'source': '../data/Sustainability_report_2024_kr.pdf', 'moddate': '2024-11-25T11:10:46+09:00', 'producer': 'Adobe PDF Library 15.0', 'creator': 'Adobe InDesign 15.1 (Macintosh)', 'total_pages': 83}, page_content='A Journey Towards  \\na Sustainable Future\\n삼성전자 지속가능경영보고서 2024'),\n",
       " Document(metadata={'creationdate': '2024-11-25T11:10:32+09:00', 'creator': 'Adobe InDesign 15.1 (Macintosh)', 'trapped': '/False', 'page_label': '60', 'total_pages': 83, 'source': '../data/Sustainability_report_2024_kr.pdf', 'moddate': '2024-11-25T11:10:46+09:00', 'page': 59, 'producer': 'Adobe PDF Library 15.0'}, page_content='삼성전자 지속가능경영보고서 2024\\n60\\nOur Company AppendixMateriality Assessment Facts & Figures PrinciplePlanet People\\n경력개발 2021년 2022년 2023년\\n임직원 교육 횟수\\n합계 만건 818 914  950 \\n해외 만건 366 407  487 \\n국내 만건 452 508  463 \\n인당 평균 교육시간\\n인당 평균 교육시간\\n1)\\n시간 54.9 60.1  66.9 \\n해외 시간 45.7 52.1  58.2 \\n국내 시간 6 7. 7 70.5  7 7. 5  \\n성별 평균 교육시간\\n남성 시간 58.2 61.1  66.0 \\n여성 시간 48.2 58.3  68.6 \\n고용형태별 평균 교육시간\\n정규직 시간 54.8 60.5  67 .3 \\n비정규직\\n2)\\n시간 43.8 40.3  42.4 \\n교육비\\n총 교육비\\n3)\\n억 원 1,321 1,853  2,090 \\n인당 교육비\\n4)\\n천 원 1,188 1,571  1 ,731 \\n매출액 대비 교육비 비율\\n5)\\n% 0.05 0.07  0.08 \\n인건비 대비 교육비 비율\\n6)\\n% 0.8 0.5  0.5 \\n경력컨설팅센터를 통한 재취업\\n7)\\n재취업 지원자 건 7,940  8,246  8,838 \\n재취업자 건 6,982 7 ,286  7 ,653 \\n재취업률 % 8 7.9 88.4  86.6 \\n1) 인당 평균 교육시간 : 온라인 교육+집합교육 기준\\n2) 비정규직(고용형태별 평균 교육시간) : Contractor + Apprentice \\n3) 총 교육비 : 국내 기준\\n4) 인당 교육비 : 총 교육비÷국내 총 임직원 수\\n5) 매출액 대비 교육비 비율 : 총 교육비÷연결기준 매출액\\n6) 인건비 대비 교육비 비율 : 총 교육비÷본사 임직원 급여 \\n7)   경력컨설팅센터를 통한 재취업 : 2001년부터 누적 기준\\n지속가능한 공급망 2021년 2022년 2023년\\n글로벌 네트워크\\n글로벌 협력회사 수\\n1)\\n 개사 2,129 2,131  2,515 \\n협력회사 종합평가\\n평가 받은 협력회사 비율\\n2)'),\n",
       " Document(metadata={'trapped': '/False', 'creationdate': '2024-11-25T11:10:32+09:00', 'creator': 'Adobe InDesign 15.1 (Macintosh)', 'page': 12, 'total_pages': 83, 'page_label': '13', 'moddate': '2024-11-25T11:10:46+09:00', 'producer': 'Adobe PDF Library 15.0', 'source': '../data/Sustainability_report_2024_kr.pdf'}, page_content='기회요인으로 예상하며, 기온 상승  및 수자원 고갈  등과 같 은 물리적 \\n영향을 장기적 리스크로 예상하고 있습니다.\\n1) Nationally Determined Contribution\\n기후변화 리스크/기회\\n활동\\n온실가스 직접배출 감축\\nDX부문은 사업장의 에너지 효율화, 에너지 절감, 에너지 전환 활동을 통해 \\n자체 배출량을 최소화하는 것을 최우선 과제로 추진하고, 자체 감축활동을 \\n통해 줄일 수 없는 배출량을 상쇄하기 위한 온실가스 감축사업을 발굴/\\n수행합니다. 또한 글로벌 제조법인을 대상으로 전년 에너지 사용량 대비 \\n감축 목표를 설정\\n1)\\n하고 에너지 사용 절감활동을 지속하고 있습니다.\\n2023년은 인도와 인도네시아에서의 산림 농업과 맹그로브 조성 사업을 \\n발굴하여 총 25 만톤의 외부감축  배출권을 확보하였습니다. 특히, \\n쿡스토브, 산림 농업 확대 등과 같 이 온실가스 감축뿐만 아니라  인근 \\n지역주민들의 삶의 질 향상과 소득증대 등에도 기여할 수 있는 감축사업에 \\n중점적으로 참여하고 있습니다. 앞 으로도 자체 감축 활동을 지속하고 \\n탄소중립 목표 달성을 위해 외부 온실가스 감축사업을 지속 발굴해 나갈 \\n예정입니다. 뿐만 아니라 2027년까지 국내 업무용 차량을 무공해차(전기/\\n수소차)로 100% 전환할 계획입니다.\\n1) 2024년, 전년 에너지 사용량 대비 10% 감축 목표\\n온실가스 직접배출 감축 중장기 로드맵\\n‧ 고효율 설비 교체, IoT 시스템 적용 등 자동화 통한 온실가스 감축\\n‧ 냉난방 설비 운영 최적화를 통한 에너지 절감\\n‧ 글로벌 감축사업 전문기관과 협력\\n‧ 조림 사업, 맹그로브 조성 사업을 통한 외부감축 배출권 확보\\n‧ LNG 사용 효율화 등을 통한 사업장 에너지 사용 절감\\n‧ DX부문 탄소중립 달성(Scope 1, 2)\\n2023 \\n \\n2024 \\n2030\\n직접배출 감축 활동\\n온실가스 직접배출 감축\\n‧  고효율 설비 교체 및 제조공정 효율화 등 \\n에너지 절감 활동\\n‧  잔여 배출량 감축을 위한 온실가스 \\n감축사업 발굴 및 추진')]"
      ]
     },
     "execution_count": 15,
     "metadata": {},
     "output_type": "execute_result"
    }
   ],
   "source": [
    "retriever = vectorStore.as_retriever()\n",
    "result = retriever.invoke(\"이 보고서에서 2024년 주요 지속 가능 경영 목표가 무엇인가요?\")\n",
    "result"
   ]
  },
  {
   "cell_type": "code",
   "execution_count": 16,
   "id": "d39a7be9",
   "metadata": {},
   "outputs": [
    {
     "name": "stdout",
     "output_type": "stream",
     "text": [
      "삼성전자 지속가능경영보고서 2024\n",
      "04\n",
      "Our Company AppendixMateria\n",
      "--------------------------------------------------\n",
      "A Journey Towards  \n",
      "a Sustainable Future\n",
      "삼성전자 지속가능\n",
      "--------------------------------------------------\n",
      "삼성전자 지속가능경영보고서 2024\n",
      "60\n",
      "Our Company AppendixMateria\n",
      "--------------------------------------------------\n",
      "기회요인으로 예상하며, 기온 상승  및 수자원 고갈  등과 같 은 물리적 \n",
      "영향을 장기적 \n",
      "--------------------------------------------------\n"
     ]
    }
   ],
   "source": [
    "for item in result:\n",
    "    print(item.page_content[:50])\n",
    "    print(\"-\"*50)"
   ]
  },
  {
   "cell_type": "markdown",
   "id": "de039b7d",
   "metadata": {},
   "source": [
    "## 5. 기본 체인 만들기"
   ]
  },
  {
   "cell_type": "code",
   "execution_count": 17,
   "id": "a513e4ce",
   "metadata": {},
   "outputs": [],
   "source": [
    "# 1. 프롬프트\n",
    "rag_prompt = ChatPromptTemplate.from_messages([\n",
    "    (\"system\", \n",
    "     \"\"\"\n",
    "     주어진 컨텍스트만 근거로 간결하고 정확하게 대답해라\n",
    "     컨텍스트에 없으면 문서에 \"근거 없음\"이라고 말해라\n",
    "     \n",
    "     [컨텍스트]\n",
    "     {context}\n",
    "     \"\"\"),\n",
    "     (\"human\", \"{question}\")\n",
    "])\n",
    "\n",
    "# 2. 모델 선택\n",
    "model = ChatOpenAI(\n",
    "    model = \"gpt-4.1-mini\",\n",
    "    temperature = 0\n",
    ")\n",
    "\n",
    "# 3. outputparser 선택\n",
    "outputparser = StrOutputParser()\n",
    "\n",
    "# 4. chain 생성\n",
    "chain = rag_prompt | model | outputparser"
   ]
  },
  {
   "cell_type": "markdown",
   "id": "67ae6eb1",
   "metadata": {},
   "source": [
    "## 6. RAG 체인 만들기"
   ]
  },
  {
   "cell_type": "code",
   "execution_count": 21,
   "id": "d363701d",
   "metadata": {},
   "outputs": [],
   "source": [
    "# 문서 합치는 함수\n",
    "def format_docs(docs):\n",
    "    tmp_docs = []\n",
    "    for item in docs:\n",
    "        tmp_docs.append(item.page_content)\n",
    "    return \"\\n\\n---\\n\\n\".join(tmp_docs)    # join : list 내용 합치기"
   ]
  },
  {
   "cell_type": "code",
   "execution_count": 23,
   "id": "e61d6d44",
   "metadata": {},
   "outputs": [
    {
     "data": {
      "text/plain": [
       "{\n",
       "  context: VectorStoreRetriever(tags=['Chroma', 'OpenAIEmbeddings'], vectorstore=<langchain_community.vectorstores.chroma.Chroma object at 0x0000027B1D96CCD0>, search_kwargs={})\n",
       "           | RunnableLambda(format_docs),\n",
       "  question: RunnablePassthrough()\n",
       "}\n",
       "| ChatPromptTemplate(input_variables=['context', 'question'], input_types={}, partial_variables={}, messages=[SystemMessagePromptTemplate(prompt=PromptTemplate(input_variables=['context'], input_types={}, partial_variables={}, template='\\n     주어진 컨텍스트만 근거로 간결하고 정확하게 대답해라\\n     컨텍스트에 없으면 문서에 \"근거 없음\"이라고 말해라\\n\\n     [컨텍스트]\\n     {context}\\n     '), additional_kwargs={}), HumanMessagePromptTemplate(prompt=PromptTemplate(input_variables=['question'], input_types={}, partial_variables={}, template='{question}'), additional_kwargs={})])\n",
       "| ChatOpenAI(client=<openai.resources.chat.completions.completions.Completions object at 0x0000027B1F9D9550>, async_client=<openai.resources.chat.completions.completions.AsyncCompletions object at 0x0000027B1FD33350>, root_client=<openai.OpenAI object at 0x0000027B203D5590>, root_async_client=<openai.AsyncOpenAI object at 0x0000027B1FD554D0>, model_name='gpt-4.1-mini', temperature=0.0, model_kwargs={}, openai_api_key=SecretStr('**********'))\n",
       "| StrOutputParser()"
      ]
     },
     "execution_count": 23,
     "metadata": {},
     "output_type": "execute_result"
    }
   ],
   "source": [
    "# rag_chain 만들기\n",
    "rag_chain = (\n",
    "    {\n",
    "        \"context\" : retriever | RunnableLambda(format_docs),    # retriever(검색결과)를 문서합치는 함수에 넣어서 그걸 context value값으로\n",
    "        \"question\" : RunnablePassthrough()\n",
    "    }\n",
    "    | chain\n",
    ")\n",
    "rag_chain"
   ]
  },
  {
   "cell_type": "code",
   "execution_count": 25,
   "id": "3ef1ccb7",
   "metadata": {},
   "outputs": [
    {
     "name": "stdout",
     "output_type": "stream",
     "text": [
      "2024년 주요 지속 가능 경영 목표는 다음과 같습니다.\n",
      "\n",
      "- 전년 에너지 사용량 대비 10% 감축 목표 설정\n",
      "- 국내 업무용 차량을 2027년까지 무공해차(전기/수소차)로 100% 전환 계획\n",
      "- 자체 온실가스 직접배출 감축 활동 지속 (고효율 설비 교체, IoT 시스템 적용, 냉난방 설비 최적화 등)\n",
      "- 외부 온실가스 감축사업 지속 발굴 및 추진\n",
      "- 글로벌 제조법인을 대상으로 에너지 사용 절감 활동 지속\n",
      "\n",
      "(출처: 온실가스 직접배출 감축 중장기 로드맵 및 CEO 메시지)\n"
     ]
    }
   ],
   "source": [
    "result = rag_chain.invoke(\n",
    "    \"이 보고서에서 2024년 주요 지속 가능 경영 목표가 무엇인가요?\"\n",
    ")\n",
    "print(result)"
   ]
  }
 ],
 "metadata": {
  "kernelspec": {
   "display_name": "Langchain_basic",
   "language": "python",
   "name": "python3"
  },
  "language_info": {
   "codemirror_mode": {
    "name": "ipython",
    "version": 3
   },
   "file_extension": ".py",
   "mimetype": "text/x-python",
   "name": "python",
   "nbconvert_exporter": "python",
   "pygments_lexer": "ipython3",
   "version": "3.11.13"
  }
 },
 "nbformat": 4,
 "nbformat_minor": 5
}
