{
 "cells": [
  {
   "cell_type": "code",
   "execution_count": null,
   "id": "0af2bb62",
   "metadata": {},
   "outputs": [
    {
     "data": {
      "text/plain": [
       "83"
      ]
     },
     "execution_count": 1,
     "metadata": {},
     "output_type": "execute_result"
    }
   ],
   "source": [
    "from langchain_community.document_loaders import PyPDFLoader\n",
    "from langchain_text_splitters import RecursiveCharacterTextSplitter\n",
    "\n",
    "# 1. 문서 가져오기\n",
    "pdf_path = \"../data/Sustainability_report_2024_kr.pdf\"\n",
    "loader = PyPDFLoader(pdf_path)\n",
    "docs = loader.load()\n",
    "len(docs)"
   ]
  },
  {
   "cell_type": "code",
   "execution_count": null,
   "id": "1bb84d29",
   "metadata": {},
   "outputs": [
    {
     "name": "stdout",
     "output_type": "stream",
     "text": [
      "48\n"
     ]
    }
   ],
   "source": [
    "# 2. 청크 나누기\n",
    "splitter = RecursiveCharacterTextSplitter(\n",
    "    chunk_size = 1000,\n",
    "    chunk_overlap = 100\n",
    ")\n",
    "chunks = splitter.split_documents(docs[:20])\n",
    "print(len(chunks))"
   ]
  },
  {
   "cell_type": "code",
   "execution_count": null,
   "id": "33487360",
   "metadata": {},
   "outputs": [],
   "source": [
    "# 3. 벡터 스토어\n",
    "from langchain_openai import ChatOpenAI, OpenAIEmbeddings\n",
    "from langchain_chroma import Chroma\n",
    "from langchain_core.prompts import ChatPromptTemplate\n",
    "\n",
    "embeddings = OpenAIEmbeddings()\n",
    "db_path = \"../vectorStore/rag_eval_20\"\n",
    "vectorStore = Chroma.from_documents(\n",
    "    documents = chunks,\n",
    "    embedding = embeddings,\n",
    "    persist_directory = db_path,\n",
    "    collection_name = \"samsung2024_eval\"\n",
    ")"
   ]
  },
  {
   "cell_type": "code",
   "execution_count": 9,
   "id": "35dc6851",
   "metadata": {},
   "outputs": [],
   "source": [
    "# 4. retriever 구성하기\n",
    "retriever = vectorStore.as_retriever(\n",
    "    search_kwargs = {\"k\" : 5}\n",
    ")"
   ]
  },
  {
   "cell_type": "code",
   "execution_count": 5,
   "id": "6c2866d8",
   "metadata": {},
   "outputs": [],
   "source": [
    "# 5. prompt 구성하기\n",
    "from langchain_core.prompts import ChatPromptTemplate\n",
    "\n",
    "system_prompt=(\n",
    "    \"You are a helpful assistant. Answer strictly based on the provided context.\"\n",
    "    \"If the answer is not in the context, say you don't know.\"\n",
    "    \"context : {context}\"\n",
    ")\n",
    "rag_prompt = ChatPromptTemplate.from_messages([\n",
    "    (\"system\", system_prompt),\n",
    "    (\"human\", \"{question}\")\n",
    "])"
   ]
  },
  {
   "cell_type": "code",
   "execution_count": 6,
   "id": "1794c7be",
   "metadata": {},
   "outputs": [],
   "source": [
    "# 6. 모델 구성하기\n",
    "model = ChatOpenAI(\n",
    "    model = \"gpt-4.1-mini\",\n",
    "    temperature = 0\n",
    ")"
   ]
  },
  {
   "cell_type": "code",
   "execution_count": 7,
   "id": "2054a7f1",
   "metadata": {},
   "outputs": [],
   "source": [
    "# 7. outputParser\n",
    "from langchain_core.output_parsers import StrOutputParser\n",
    "outputparser = StrOutputParser()"
   ]
  },
  {
   "cell_type": "code",
   "execution_count": null,
   "id": "be398ecc",
   "metadata": {},
   "outputs": [],
   "source": [
    "# 8. chain 설정\n",
    "from langchain_core.runnables import RunnableLambda, RunnablePassthrough\n",
    "\n",
    "# 문서 합치는 함수 설정\n",
    "def format_docs(docs):\n",
    "    return \"\\n\\n---\\n\\n\".join(d.page_content for d in docs)\n",
    "\n",
    "# chain 만들기\n",
    "rag_chain = (\n",
    "    {\"context\" : RunnableLambda(lambda x : x[\"question\"]) | retriever | format_docs,\n",
    "    # {\"context\" : retriever | format_docs, -> 이렇게 하면 invoke 할때 (key-value가 아닌 value값만 넣으면 됨 -> rag_chain.invoke(\"삼성전자의 전망은?\"))\n",
    "     \"question\" : RunnablePassthrough()\n",
    "    }\n",
    "    | rag_prompt\n",
    "    | model\n",
    "    | outputparser\n",
    ")"
   ]
  },
  {
   "cell_type": "code",
   "execution_count": 12,
   "id": "5b228292",
   "metadata": {},
   "outputs": [
    {
     "data": {
      "text/plain": [
       "'삼성전자는 어려운 대내외 환경 속에서도 지속 성장의 기반 마련을 위해 역대 최고 수준의 연구개발 투자(28.3조원)와 전략적 시설투자(53.1조원)를 통해 기술 리더십을 강화하며 중장기 수요에 미리 대응하고 있습니다. 또한, 지속가능경영을 기업의 방향성과 사업경쟁력, 기술혁신의 원동력으로 삼아 새로운 도약을 모색하고 있으며, 환경, 사회, 경제적 리스크와 지정학적 불확실성 속에서도 지속가능성을 기반으로 더욱 발전하는 모습을 통해 이해관계자들의 기대에 부응하기 위해 최선을 다할 계획입니다.'"
      ]
     },
     "execution_count": 12,
     "metadata": {},
     "output_type": "execute_result"
    }
   ],
   "source": [
    "rag_chain.invoke({\"question\" : \"삼성전자의 전망은?\"})"
   ]
  },
  {
   "cell_type": "code",
   "execution_count": null,
   "id": "9ac13aaf",
   "metadata": {},
   "outputs": [
    {
     "data": {
      "text/html": [
       "<div>\n",
       "<style scoped>\n",
       "    .dataframe tbody tr th:only-of-type {\n",
       "        vertical-align: middle;\n",
       "    }\n",
       "\n",
       "    .dataframe tbody tr th {\n",
       "        vertical-align: top;\n",
       "    }\n",
       "\n",
       "    .dataframe thead th {\n",
       "        text-align: right;\n",
       "    }\n",
       "</style>\n",
       "<table border=\"1\" class=\"dataframe\">\n",
       "  <thead>\n",
       "    <tr style=\"text-align: right;\">\n",
       "      <th></th>\n",
       "      <th>user_input</th>\n",
       "      <th>reference_contexts</th>\n",
       "      <th>reference</th>\n",
       "      <th>synthesizer_name</th>\n",
       "    </tr>\n",
       "  </thead>\n",
       "  <tbody>\n",
       "    <tr>\n",
       "      <th>0</th>\n",
       "      <td>Why 독일 supply chain due diligence law importan...</td>\n",
       "      <td>['CEO 메시지\\nMessage from \\nOur CEO\\n주주, 고객, 협력회...</td>\n",
       "      <td>독일에서는 공급망의 인권과 근로환경 관리를 의무화하는 공급망실사법이 2023년 발효...</td>\n",
       "      <td>single_hop_specific_query_synthesizer</td>\n",
       "    </tr>\n",
       "    <tr>\n",
       "      <th>1</th>\n",
       "      <td>삼성전자의 지속가능경영 전략과 주요 이슈 관리는 어떻게 이루어지고 있나요?</td>\n",
       "      <td>[\"접수된 고충의 처리 원칙에 대한 기준을 수립하였고, 공급망 관리에 \\n있어서는 ...</td>\n",
       "      <td>삼성전자는 지속가능경영보고서를 통해 글로벌 공시규제 프레임워크에 맞춰 주요 지속가능...</td>\n",
       "      <td>single_hop_specific_query_synthesizer</td>\n",
       "    </tr>\n",
       "    <tr>\n",
       "      <th>2</th>\n",
       "      <td>What Samsung Global Code of Conduct mean for c...</td>\n",
       "      <td>['삼성전자 지속가능경영보고서 2024\\n05\\nOur Company Appendi...</td>\n",
       "      <td>Samsung Electronics established five core valu...</td>\n",
       "      <td>single_hop_specific_query_synthesizer</td>\n",
       "    </tr>\n",
       "    <tr>\n",
       "      <th>3</th>\n",
       "      <td>What was the global operational footprint of S...</td>\n",
       "      <td>['Our Company AppendixMateriality Assessment F...</td>\n",
       "      <td>By the end of 2023년, Samsung Electronics had a...</td>\n",
       "      <td>single_hop_specific_query_synthesizer</td>\n",
       "    </tr>\n",
       "    <tr>\n",
       "      <th>4</th>\n",
       "      <td>What are the 2023 financial results for the ma...</td>\n",
       "      <td>['주요 사업부\\n Device eXperienceDX\\nDS Device Solu...</td>\n",
       "      <td>The sales and operating profit figures for the...</td>\n",
       "      <td>single_hop_specific_query_synthesizer</td>\n",
       "    </tr>\n",
       "  </tbody>\n",
       "</table>\n",
       "</div>"
      ],
      "text/plain": [
       "                                          user_input  \\\n",
       "0  Why 독일 supply chain due diligence law importan...   \n",
       "1          삼성전자의 지속가능경영 전략과 주요 이슈 관리는 어떻게 이루어지고 있나요?   \n",
       "2  What Samsung Global Code of Conduct mean for c...   \n",
       "3  What was the global operational footprint of S...   \n",
       "4  What are the 2023 financial results for the ma...   \n",
       "\n",
       "                                  reference_contexts  \\\n",
       "0  ['CEO 메시지\\nMessage from \\nOur CEO\\n주주, 고객, 협력회...   \n",
       "1  [\"접수된 고충의 처리 원칙에 대한 기준을 수립하였고, 공급망 관리에 \\n있어서는 ...   \n",
       "2  ['삼성전자 지속가능경영보고서 2024\\n05\\nOur Company Appendi...   \n",
       "3  ['Our Company AppendixMateriality Assessment F...   \n",
       "4  ['주요 사업부\\n Device eXperienceDX\\nDS Device Solu...   \n",
       "\n",
       "                                           reference  \\\n",
       "0  독일에서는 공급망의 인권과 근로환경 관리를 의무화하는 공급망실사법이 2023년 발효...   \n",
       "1  삼성전자는 지속가능경영보고서를 통해 글로벌 공시규제 프레임워크에 맞춰 주요 지속가능...   \n",
       "2  Samsung Electronics established five core valu...   \n",
       "3  By the end of 2023년, Samsung Electronics had a...   \n",
       "4  The sales and operating profit figures for the...   \n",
       "\n",
       "                        synthesizer_name  \n",
       "0  single_hop_specific_query_synthesizer  \n",
       "1  single_hop_specific_query_synthesizer  \n",
       "2  single_hop_specific_query_synthesizer  \n",
       "3  single_hop_specific_query_synthesizer  \n",
       "4  single_hop_specific_query_synthesizer  "
      ]
     },
     "execution_count": 13,
     "metadata": {},
     "output_type": "execute_result"
    }
   ],
   "source": [
    "# 9. 평가용 데이터 불러오기\n",
    "import pandas as pd\n",
    "excel_path = \"report_2024_test.xlsx\"\n",
    "df = pd.read_excel(excel_path)\n",
    "df.head()"
   ]
  },
  {
   "cell_type": "markdown",
   "id": "92573698",
   "metadata": {},
   "source": [
    "- user_input : 질문\n",
    "- retrieved_contexts : 예상되는 답변을 만들기위해 참고한 contexts\n",
    "- reference : 예상되는 답변\n",
    "***\n",
    "- user_input : 질문\n",
    "- retrieved_contexts : 검색한 자료 -> 리스트형태\n",
    "- response : 실제 답변"
   ]
  },
  {
   "cell_type": "code",
   "execution_count": null,
   "id": "cec0c9df",
   "metadata": {},
   "outputs": [],
   "source": [
    "# for문으로 구현하기\n",
    "contexts = []\n",
    "for question in df[\"user_input\"]:\n",
    "    docs = retriever.invoke(question)\n",
    "    context_list = []\n",
    "    for d in docs:\n",
    "        context_list.append(d.page_content)\n",
    "    contexts.append(context_list)"
   ]
  },
  {
   "cell_type": "code",
   "execution_count": null,
   "id": "7f5f65e4",
   "metadata": {},
   "outputs": [],
   "source": [
    "contexts"
   ]
  },
  {
   "cell_type": "code",
   "execution_count": null,
   "id": "d79cc49b",
   "metadata": {},
   "outputs": [],
   "source": [
    "answer = []\n",
    "for question in df[\"user_input\"]:\n",
    "    an = rag_chain.invoke({\"question\" : question})\n",
    "    answer.append(an)"
   ]
  },
  {
   "cell_type": "code",
   "execution_count": 17,
   "id": "e119ac8e",
   "metadata": {},
   "outputs": [
    {
     "data": {
      "text/plain": [
       "[\"The provided context does not contain specific information about the 독일 (German) supply chain due diligence law or its importance for sustainability management in a company. Therefore, I don't know the answer based on the given context.\",\n",
       " \"삼성전자의 지속가능경영 전략과 주요 이슈 관리는 다음과 같이 이루어지고 있습니다.\\n\\n1. 최고 의사결정기구인 이사회와 지속가능경영위원회가 DX부문의 기후변화, 자원순환 등 환경 분야를 경영의 핵심 영역으로 인식하고 이를 관장합니다. 이사회는 환경경영전략과 목표를 승인하고 주요 활동을 감독합니다.\\n\\n2. 2022년에는 중장기 기후변화 대응 및 자원순환 목표를 포함하는 삼성전자 新환경경영전략이 결의되었으며, 2023년에는 '新환경경영전략 1주년 주요성과'가 보고되었습니다.\\n\\n3. DX부문 CEO가 환경경영전략 수립, 이행 과제 발굴, 투자 실시 등 주요 사안에 대한 책임과 권한을 가지고 있으며, 각 사업부장 및 기능 부서장들과 함께 전사 지속가능경영협의회를 운영합니다.\\n\\n4. 환경 분야 임원들로 구성된 환경경영TF에서는 환경경영 계획을 수립하고 이행 성과를 점검합니다.\\n\\n5. 수립된 환경경영 계획은 지속가능경영추진 센터, Global EHS 실, 지역별 환경 전담조직, 사업부 지속가능경영사무국 등이 담당하여 시행합니다.\\n\\n6. 2021년부터 온실가스 감축 실적을 조직 평가에 반영하기 시작했으며, 2023년부터는 재생에너지 전환, 고효율제품 개발, 폐기물 재활용 실적 등을 조직/임원 성과 평가에 추가했습니다. 2024년에는 수자원 관리 항목도 추가할 예정입니다.\\n\\n7. 이사회 산하 지속가능경영위원회는 사외이사들로 구성되어 분기별 1회 이상 환경경영을 포함한 지속가능경영 방향성과 이행 성과를 감독합니다.\\n\\n8. CEO 주관으로 최소 분기 1회 이상 경영진이 분야별 책임자들과 함께 지속가능경영 관련 사안을 협의하는 지속가능경영협의회도 운영되고 있습니다.\\n\\n이와 같이 삼성전자는 체계적인 조직과 절차를 통해 지속가능경영 전략을 수립하고 주요 이슈를 관리하며, 이를 경영 전반에 반영하고 있습니다.\",\n",
       " \"The Samsung Global Code of Conduct reflects the company's management philosophy through five core values, which are further detailed into specific principles and behavioral guidelines. It serves as a standard that all Samsung Electronics employees must adhere to globally. By internalizing these five core values and using the Global Code of Conduct as the basis for all management activities, Samsung aims to continuously grow. This code helps the company maintain a strong organizational culture, ensure ethical and compliant business practices, and foster sustainable growth as a global top-tier company contributing to human society through talent and technology.\",\n",
       " 'By the end of 2023, Samsung Electronics had a global operational footprint consisting of 232 production sites, sales offices, R&D centers, and design centers worldwide.',\n",
       " \"The 2023 financial results for the main business divisions excluding SDC and Harman are as follows:\\n\\n- Overall sales: 169.9923 trillion KRW\\n- Overall operating profit: 14.3847 trillion KRW\\n\\nFor the Device eXperience (DX) division:\\n- Sales: 66.5945 trillion KRW\\n- Operating profit: -14.8795 trillion KRW (a loss)\\n\\nThe Device Solutions (DS) division's specific financial figures are not separately provided in the context, but it includes the memory semiconductor business, Foundry business, and System LSI business.\"]"
      ]
     },
     "execution_count": 17,
     "metadata": {},
     "output_type": "execute_result"
    }
   ],
   "source": [
    "answer[:5]"
   ]
  },
  {
   "cell_type": "code",
   "execution_count": 37,
   "id": "fdf0fae3",
   "metadata": {},
   "outputs": [
    {
     "data": {
      "text/html": [
       "<div>\n",
       "<style scoped>\n",
       "    .dataframe tbody tr th:only-of-type {\n",
       "        vertical-align: middle;\n",
       "    }\n",
       "\n",
       "    .dataframe tbody tr th {\n",
       "        vertical-align: top;\n",
       "    }\n",
       "\n",
       "    .dataframe thead th {\n",
       "        text-align: right;\n",
       "    }\n",
       "</style>\n",
       "<table border=\"1\" class=\"dataframe\">\n",
       "  <thead>\n",
       "    <tr style=\"text-align: right;\">\n",
       "      <th></th>\n",
       "      <th>user_input</th>\n",
       "      <th>reference_contexts</th>\n",
       "      <th>reference</th>\n",
       "      <th>synthesizer_name</th>\n",
       "      <th>response</th>\n",
       "      <th>retrieved_contexts</th>\n",
       "    </tr>\n",
       "  </thead>\n",
       "  <tbody>\n",
       "    <tr>\n",
       "      <th>0</th>\n",
       "      <td>Why 독일 supply chain due diligence law importan...</td>\n",
       "      <td>[CEO 메시지\\nMessage from \\nOur CEO\\n주주, 고객, 협력회사...</td>\n",
       "      <td>독일에서는 공급망의 인권과 근로환경 관리를 의무화하는 공급망실사법이 2023년 발효...</td>\n",
       "      <td>single_hop_specific_query_synthesizer</td>\n",
       "      <td>The provided context does not contain specific...</td>\n",
       "      <td>[삼성전자 지속가능경영보고서 2024\\n18\\nOur Company Appendix...</td>\n",
       "    </tr>\n",
       "    <tr>\n",
       "      <th>1</th>\n",
       "      <td>삼성전자의 지속가능경영 전략과 주요 이슈 관리는 어떻게 이루어지고 있나요?</td>\n",
       "      <td>[접수된 고충의 처리 원칙에 대한 기준을 수립하였고, 공급망 관리에 \\n있어서는 비...</td>\n",
       "      <td>삼성전자는 지속가능경영보고서를 통해 글로벌 공시규제 프레임워크에 맞춰 주요 지속가능...</td>\n",
       "      <td>single_hop_specific_query_synthesizer</td>\n",
       "      <td>삼성전자의 지속가능경영 전략과 주요 이슈 관리는 다음과 같이 이루어지고 있습니다.\\...</td>\n",
       "      <td>[삼성전자 지속가능경영보고서 2024\\n04\\nOur Company Appendix...</td>\n",
       "    </tr>\n",
       "    <tr>\n",
       "      <th>2</th>\n",
       "      <td>What Samsung Global Code of Conduct mean for c...</td>\n",
       "      <td>[삼성전자 지속가능경영보고서 2024\\n05\\nOur Company Appendix...</td>\n",
       "      <td>Samsung Electronics established five core valu...</td>\n",
       "      <td>single_hop_specific_query_synthesizer</td>\n",
       "      <td>The Samsung Global Code of Conduct reflects th...</td>\n",
       "      <td>[Our Company\\n04    CEO 메시지\\n05    회사 소개 \\n06 ...</td>\n",
       "    </tr>\n",
       "    <tr>\n",
       "      <th>3</th>\n",
       "      <td>What was the global operational footprint of S...</td>\n",
       "      <td>[Our Company AppendixMateriality Assessment Fa...</td>\n",
       "      <td>By the end of 2023년, Samsung Electronics had a...</td>\n",
       "      <td>single_hop_specific_query_synthesizer</td>\n",
       "      <td>By the end of 2023, Samsung Electronics had a ...</td>\n",
       "      <td>[삼성전자 지속가능경영보고서 2024\\n05\\nOur Company Appendix...</td>\n",
       "    </tr>\n",
       "    <tr>\n",
       "      <th>4</th>\n",
       "      <td>What are the 2023 financial results for the ma...</td>\n",
       "      <td>[주요 사업부\\n Device eXperienceDX\\nDS Device Solut...</td>\n",
       "      <td>The sales and operating profit figures for the...</td>\n",
       "      <td>single_hop_specific_query_synthesizer</td>\n",
       "      <td>The 2023 financial results for the main busine...</td>\n",
       "      <td>[DS Device Solutions\\n메모리\\n※ 상기 매출과 영업이익은 2023...</td>\n",
       "    </tr>\n",
       "  </tbody>\n",
       "</table>\n",
       "</div>"
      ],
      "text/plain": [
       "                                          user_input  \\\n",
       "0  Why 독일 supply chain due diligence law importan...   \n",
       "1          삼성전자의 지속가능경영 전략과 주요 이슈 관리는 어떻게 이루어지고 있나요?   \n",
       "2  What Samsung Global Code of Conduct mean for c...   \n",
       "3  What was the global operational footprint of S...   \n",
       "4  What are the 2023 financial results for the ma...   \n",
       "\n",
       "                                  reference_contexts  \\\n",
       "0  [CEO 메시지\\nMessage from \\nOur CEO\\n주주, 고객, 협력회사...   \n",
       "1  [접수된 고충의 처리 원칙에 대한 기준을 수립하였고, 공급망 관리에 \\n있어서는 비...   \n",
       "2  [삼성전자 지속가능경영보고서 2024\\n05\\nOur Company Appendix...   \n",
       "3  [Our Company AppendixMateriality Assessment Fa...   \n",
       "4  [주요 사업부\\n Device eXperienceDX\\nDS Device Solut...   \n",
       "\n",
       "                                           reference  \\\n",
       "0  독일에서는 공급망의 인권과 근로환경 관리를 의무화하는 공급망실사법이 2023년 발효...   \n",
       "1  삼성전자는 지속가능경영보고서를 통해 글로벌 공시규제 프레임워크에 맞춰 주요 지속가능...   \n",
       "2  Samsung Electronics established five core valu...   \n",
       "3  By the end of 2023년, Samsung Electronics had a...   \n",
       "4  The sales and operating profit figures for the...   \n",
       "\n",
       "                        synthesizer_name  \\\n",
       "0  single_hop_specific_query_synthesizer   \n",
       "1  single_hop_specific_query_synthesizer   \n",
       "2  single_hop_specific_query_synthesizer   \n",
       "3  single_hop_specific_query_synthesizer   \n",
       "4  single_hop_specific_query_synthesizer   \n",
       "\n",
       "                                            response  \\\n",
       "0  The provided context does not contain specific...   \n",
       "1  삼성전자의 지속가능경영 전략과 주요 이슈 관리는 다음과 같이 이루어지고 있습니다.\\...   \n",
       "2  The Samsung Global Code of Conduct reflects th...   \n",
       "3  By the end of 2023, Samsung Electronics had a ...   \n",
       "4  The 2023 financial results for the main busine...   \n",
       "\n",
       "                                  retrieved_contexts  \n",
       "0  [삼성전자 지속가능경영보고서 2024\\n18\\nOur Company Appendix...  \n",
       "1  [삼성전자 지속가능경영보고서 2024\\n04\\nOur Company Appendix...  \n",
       "2  [Our Company\\n04    CEO 메시지\\n05    회사 소개 \\n06 ...  \n",
       "3  [삼성전자 지속가능경영보고서 2024\\n05\\nOur Company Appendix...  \n",
       "4  [DS Device Solutions\\n메모리\\n※ 상기 매출과 영업이익은 2023...  "
      ]
     },
     "execution_count": 37,
     "metadata": {},
     "output_type": "execute_result"
    }
   ],
   "source": [
    "df[\"response\"] = answer\n",
    "df[\"retrieved_contexts\"] = contexts\n",
    "df.head()"
   ]
  },
  {
   "cell_type": "code",
   "execution_count": null,
   "id": "5a4e4415",
   "metadata": {},
   "outputs": [],
   "source": [
    "# df.to_csv(\"report_2024_test.csv\", index=False, encoding=\"utf-8-sig\")"
   ]
  },
  {
   "cell_type": "code",
   "execution_count": 39,
   "id": "68cf9fbf",
   "metadata": {},
   "outputs": [
    {
     "name": "stdout",
     "output_type": "stream",
     "text": [
      "<class 'pandas.core.frame.DataFrame'>\n",
      "RangeIndex: 99 entries, 0 to 98\n",
      "Data columns (total 6 columns):\n",
      " #   Column              Non-Null Count  Dtype \n",
      "---  ------              --------------  ----- \n",
      " 0   user_input          99 non-null     object\n",
      " 1   reference_contexts  99 non-null     object\n",
      " 2   reference           99 non-null     object\n",
      " 3   synthesizer_name    99 non-null     object\n",
      " 4   response            99 non-null     object\n",
      " 5   retrieved_contexts  99 non-null     object\n",
      "dtypes: object(6)\n",
      "memory usage: 4.8+ KB\n"
     ]
    }
   ],
   "source": [
    "df.info()"
   ]
  },
  {
   "cell_type": "code",
   "execution_count": null,
   "id": "2f242faa",
   "metadata": {},
   "outputs": [],
   "source": [
    "# 데이터타입을 리스트로 변경해야함 (지금은 리스트모양의 str)\n",
    "import ast\n",
    "df[\"reference_contexts\"] = df[\"reference_contexts\"].apply(lambda x : ast.literal_eval(x))"
   ]
  },
  {
   "cell_type": "code",
   "execution_count": 41,
   "id": "fc680377",
   "metadata": {},
   "outputs": [
    {
     "name": "stderr",
     "output_type": "stream",
     "text": [
      "C:\\Users\\user\\AppData\\Local\\Temp\\ipykernel_41104\\3001053187.py:6: DeprecationWarning: LangchainLLMWrapper is deprecated and will be removed in a future version. Use the modern LLM providers instead: from ragas.llms.base import llm_factory; llm = llm_factory('gpt-4o-mini') or from ragas.llms.base import instructor_llm_factory; llm = instructor_llm_factory('openai', client=openai_client)\n",
      "  eval_llm = LangchainLLMWrapper(model)\n"
     ]
    },
    {
     "data": {
      "text/plain": [
       "EvaluationDataset(features=['user_input', 'retrieved_contexts', 'reference_contexts', 'response', 'reference'], len=99)"
      ]
     },
     "execution_count": 41,
     "metadata": {},
     "output_type": "execute_result"
    }
   ],
   "source": [
    "from ragas import EvaluationDataset, evaluate\n",
    "from ragas.metrics import Faithfulness, LLMContextRecall, FactualCorrectness\n",
    "from ragas.llms import LangchainLLMWrapper\n",
    "\n",
    "# ragas 평가\n",
    "eval_llm = LangchainLLMWrapper(model)\n",
    "dataset = EvaluationDataset.from_pandas(df)\n",
    "dataset"
   ]
  },
  {
   "cell_type": "code",
   "execution_count": 43,
   "id": "37a7efe8",
   "metadata": {},
   "outputs": [
    {
     "data": {
      "application/vnd.jupyter.widget-view+json": {
       "model_id": "02eb694e911c4cdeac85bb0a64520a2e",
       "version_major": 2,
       "version_minor": 0
      },
      "text/plain": [
       "Evaluating:   0%|          | 0/297 [00:00<?, ?it/s]"
      ]
     },
     "metadata": {},
     "output_type": "display_data"
    },
    {
     "name": "stderr",
     "output_type": "stream",
     "text": [
      "Exception raised in Job[132]: TimeoutError()\n"
     ]
    }
   ],
   "source": [
    "scores = evaluate(\n",
    "    dataset,\n",
    "    metrics = [Faithfulness(), LLMContextRecall(), FactualCorrectness()],\n",
    "    llm = eval_llm\n",
    ")\n",
    "\n",
    "# Faithfulness() 높으면 할루시네이션 없다\n",
    "# LLMContextRecall() : Retriever 수정\n",
    "# FactualCorrectness() : Prompt 수정"
   ]
  },
  {
   "cell_type": "code",
   "execution_count": 44,
   "id": "4565d4b1",
   "metadata": {},
   "outputs": [
    {
     "data": {
      "text/plain": [
       "{'faithfulness': 0.9187, 'context_recall': 0.8883, 'factual_correctness(mode=f1)': 0.5448}"
      ]
     },
     "execution_count": 44,
     "metadata": {},
     "output_type": "execute_result"
    }
   ],
   "source": [
    "scores"
   ]
  }
 ],
 "metadata": {
  "kernelspec": {
   "display_name": "Langchain_basic",
   "language": "python",
   "name": "python3"
  },
  "language_info": {
   "codemirror_mode": {
    "name": "ipython",
    "version": 3
   },
   "file_extension": ".py",
   "mimetype": "text/x-python",
   "name": "python",
   "nbconvert_exporter": "python",
   "pygments_lexer": "ipython3",
   "version": "3.11.13"
  }
 },
 "nbformat": 4,
 "nbformat_minor": 5
}
