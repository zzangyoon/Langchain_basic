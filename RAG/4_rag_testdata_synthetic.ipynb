{
 "cells": [
  {
   "cell_type": "markdown",
   "id": "06d93ed6",
   "metadata": {},
   "source": [
    "# RAG 품질 평가"
   ]
  },
  {
   "cell_type": "markdown",
   "id": "98a0f5f6",
   "metadata": {},
   "source": [
    "- faithfulness : 답변이 컨텍스트에 사실적으로 답을 했는가?\n",
    "- answer_relevancy : 질문과 답변이 잘 맞는가?\n",
    "- context_precision : 가져온 문맥 중에서 필요한 부분이 얼마나 잘 포함됐나?\n",
    "- context_call : 정답에 필요한 문맥을 얼마나 빠짐없이 가져왔나?"
   ]
  },
  {
   "cell_type": "markdown",
   "id": "54a27f0f",
   "metadata": {},
   "source": [
    "## 품질 평가 단계\n",
    "1. 테스트 데이터셋 만들기\n",
    "2. RAG 구축\n",
    "3. 평가\n",
    "4. 개선 반복"
   ]
  },
  {
   "cell_type": "markdown",
   "id": "5f0fee85",
   "metadata": {},
   "source": [
    "```\n",
    "uv add ragas\n",
    "```"
   ]
  },
  {
   "cell_type": "markdown",
   "id": "e2655af6",
   "metadata": {},
   "source": [
    "## 테스트 데이터셋 만드는 컨셉\n",
    "1. 페르소나\n",
    "    1) 데이터셋에 맞는 페르소나\n",
    "    2) 내가 넣고싶은 페르소나\n",
    "2. 시나리오\n",
    "    1) 각 청킹(docs)를 1개 참고해서 답변을 만들것인지\n",
    "    2) 각 청킹(docs)를 여러개 참고해서 답변을 만들것인지\n",
    "3. 평가 요소 가중치 설정\n",
    "    1) 5 : 2.5 : 2 의 기본값\n",
    "    2) 4 : 3 : 3"
   ]
  },
  {
   "cell_type": "code",
   "execution_count": 1,
   "id": "84b2a6b4",
   "metadata": {},
   "outputs": [],
   "source": [
    "# 1. 문서 로드\n",
    "# 문서 로드를 위한 모듈\n",
    "from langchain_community.document_loaders import PyPDFLoader\n",
    "from langchain_text_splitters import RecursiveCharacterTextSplitter\n",
    "# 언어 모델 및 임베딩 모델 사용을 위한 모듈\n",
    "from langchain_openai import ChatOpenAI, OpenAIEmbeddings"
   ]
  },
  {
   "cell_type": "code",
   "execution_count": 2,
   "id": "9d923848",
   "metadata": {},
   "outputs": [
    {
     "name": "stdout",
     "output_type": "stream",
     "text": [
      "83\n"
     ]
    }
   ],
   "source": [
    "pdf_path = \"../data/Sustainability_report_2024_kr.pdf\"\n",
    "loader = PyPDFLoader(pdf_path)\n",
    "docs = loader.load()\n",
    "print(len(docs))"
   ]
  },
  {
   "cell_type": "code",
   "execution_count": 3,
   "id": "8445874a",
   "metadata": {},
   "outputs": [
    {
     "name": "stdout",
     "output_type": "stream",
     "text": [
      "48\n"
     ]
    }
   ],
   "source": [
    "# 2. 문서 청킹\n",
    "splitter = RecursiveCharacterTextSplitter(\n",
    "    chunk_size = 1000,\n",
    "    chunk_overlap = 100\n",
    ")\n",
    "chunks = splitter.split_documents(docs[:20])\n",
    "print(len(chunks))"
   ]
  },
  {
   "cell_type": "code",
   "execution_count": 4,
   "id": "14a93bd3",
   "metadata": {},
   "outputs": [
    {
     "name": "stderr",
     "output_type": "stream",
     "text": [
      "C:\\Users\\user\\AppData\\Local\\Temp\\ipykernel_32324\\3468339237.py:6: DeprecationWarning: LangchainLLMWrapper is deprecated and will be removed in a future version. Use the modern LLM providers instead: from ragas.llms.base import llm_factory; llm = llm_factory('gpt-4o-mini') or from ragas.llms.base import instructor_llm_factory; llm = instructor_llm_factory('openai', client=openai_client)\n",
      "  gen_llm = LangchainLLMWrapper(ChatOpenAI(model = \"gpt-4.1-mini\"))\n"
     ]
    }
   ],
   "source": [
    "# 3. 시나리오 설정 및 페르소나 생성\n",
    "from ragas.llms import LangchainLLMWrapper\n",
    "from ragas.embeddings import OpenAIEmbeddings\n",
    "import openai\n",
    "\n",
    "gen_llm = LangchainLLMWrapper(ChatOpenAI(model = \"gpt-4.1-mini\"))\n",
    "openai_client = openai.OpenAI()\n",
    "gen_embeddings = OpenAIEmbeddings(client=openai_client)"
   ]
  },
  {
   "cell_type": "code",
   "execution_count": 5,
   "id": "54638889",
   "metadata": {},
   "outputs": [],
   "source": [
    "from ragas.testset import TestsetGenerator\n",
    "\n",
    "generator = TestsetGenerator(\n",
    "    llm = gen_llm,\n",
    "    embedding_model = gen_embeddings\n",
    ")"
   ]
  },
  {
   "cell_type": "code",
   "execution_count": 6,
   "id": "e62d674d",
   "metadata": {},
   "outputs": [],
   "source": [
    "generator.persona_list"
   ]
  },
  {
   "cell_type": "markdown",
   "id": "5fe0ae98",
   "metadata": {},
   "source": [
    "## 자동생성 페르소나 + 커스텀 페르소나"
   ]
  },
  {
   "cell_type": "markdown",
   "id": "55a75360",
   "metadata": {},
   "source": [
    "1. 우선 testset 하나를 만들어야\n",
    "2. 자동 생성 페르소나\n",
    "3. 커스텀 페르소나를 추가"
   ]
  },
  {
   "cell_type": "code",
   "execution_count": 7,
   "id": "2dfc13fa",
   "metadata": {},
   "outputs": [
    {
     "data": {
      "application/vnd.jupyter.widget-view+json": {
       "model_id": "335e9351ede74627865b1057cd55bede",
       "version_major": 2,
       "version_minor": 0
      },
      "text/plain": [
       "Applying HeadlinesExtractor:   0%|          | 0/39 [00:00<?, ?it/s]"
      ]
     },
     "metadata": {},
     "output_type": "display_data"
    },
    {
     "data": {
      "application/vnd.jupyter.widget-view+json": {
       "model_id": "adf6c2a9fa6846d2bbb650a0b440f0c9",
       "version_major": 2,
       "version_minor": 0
      },
      "text/plain": [
       "Applying HeadlineSplitter:   0%|          | 0/48 [00:00<?, ?it/s]"
      ]
     },
     "metadata": {},
     "output_type": "display_data"
    },
    {
     "data": {
      "application/vnd.jupyter.widget-view+json": {
       "model_id": "460a530919094a3daa5e7a84b3b80e73",
       "version_major": 2,
       "version_minor": 0
      },
      "text/plain": [
       "Applying SummaryExtractor:   0%|          | 0/46 [00:00<?, ?it/s]"
      ]
     },
     "metadata": {},
     "output_type": "display_data"
    },
    {
     "name": "stderr",
     "output_type": "stream",
     "text": [
      "Property 'summary' already exists in node '714ba2'. Skipping!\n",
      "Property 'summary' already exists in node '6e78e4'. Skipping!\n",
      "Property 'summary' already exists in node '2aebe5'. Skipping!\n",
      "Property 'summary' already exists in node 'e8235d'. Skipping!\n",
      "Property 'summary' already exists in node '88729d'. Skipping!\n",
      "Property 'summary' already exists in node '03ebf0'. Skipping!\n",
      "Property 'summary' already exists in node 'b6dd84'. Skipping!\n"
     ]
    },
    {
     "data": {
      "application/vnd.jupyter.widget-view+json": {
       "model_id": "d8db235cd0b942adaffbe6411a256ce9",
       "version_major": 2,
       "version_minor": 0
      },
      "text/plain": [
       "Applying CustomNodeFilter:   0%|          | 0/75 [00:00<?, ?it/s]"
      ]
     },
     "metadata": {},
     "output_type": "display_data"
    },
    {
     "data": {
      "application/vnd.jupyter.widget-view+json": {
       "model_id": "db62ae55c39a4575a4ff554693e2a80d",
       "version_major": 2,
       "version_minor": 0
      },
      "text/plain": [
       "Applying EmbeddingExtractor:   0%|          | 0/46 [00:00<?, ?it/s]"
      ]
     },
     "metadata": {},
     "output_type": "display_data"
    },
    {
     "name": "stderr",
     "output_type": "stream",
     "text": [
      "c:\\Langchain_basic\\.venv\\Lib\\site-packages\\ragas\\testset\\transforms\\base.py:188: UserWarning: Using sync embedding model OpenAIEmbeddings in async context. This may impact performance. Consider using an async-compatible embedding model for better performance.\n",
      "  property_name, property_value = await self.extract(node)\n",
      "Property 'summary_embedding' already exists in node '03ebf0'. Skipping!\n",
      "Property 'summary_embedding' already exists in node '2aebe5'. Skipping!\n",
      "Property 'summary_embedding' already exists in node '6e78e4'. Skipping!\n",
      "Property 'summary_embedding' already exists in node '714ba2'. Skipping!\n",
      "Property 'summary_embedding' already exists in node 'b6dd84'. Skipping!\n",
      "Property 'summary_embedding' already exists in node '88729d'. Skipping!\n",
      "Property 'summary_embedding' already exists in node 'e8235d'. Skipping!\n"
     ]
    },
    {
     "data": {
      "application/vnd.jupyter.widget-view+json": {
       "model_id": "f721040e8a76463dbf0488febf4e2be2",
       "version_major": 2,
       "version_minor": 0
      },
      "text/plain": [
       "Applying ThemesExtractor:   0%|          | 0/66 [00:00<?, ?it/s]"
      ]
     },
     "metadata": {},
     "output_type": "display_data"
    },
    {
     "data": {
      "application/vnd.jupyter.widget-view+json": {
       "model_id": "6343f804f0db453cbac70d72e9935f15",
       "version_major": 2,
       "version_minor": 0
      },
      "text/plain": [
       "Applying NERExtractor:   0%|          | 0/66 [00:00<?, ?it/s]"
      ]
     },
     "metadata": {},
     "output_type": "display_data"
    },
    {
     "data": {
      "application/vnd.jupyter.widget-view+json": {
       "model_id": "b09b1921887a49d281ae101315c6fbbd",
       "version_major": 2,
       "version_minor": 0
      },
      "text/plain": [
       "Applying CosineSimilarityBuilder:   0%|          | 0/1 [00:00<?, ?it/s]"
      ]
     },
     "metadata": {},
     "output_type": "display_data"
    },
    {
     "data": {
      "application/vnd.jupyter.widget-view+json": {
       "model_id": "c512b0045b5a4ed1ad52538e46a7d3ad",
       "version_major": 2,
       "version_minor": 0
      },
      "text/plain": [
       "Applying OverlapScoreBuilder:   0%|          | 0/1 [00:00<?, ?it/s]"
      ]
     },
     "metadata": {},
     "output_type": "display_data"
    },
    {
     "data": {
      "application/vnd.jupyter.widget-view+json": {
       "model_id": "1e0475265f794f60ac32939157d51440",
       "version_major": 2,
       "version_minor": 0
      },
      "text/plain": [
       "Generating personas:   0%|          | 0/3 [00:00<?, ?it/s]"
      ]
     },
     "metadata": {},
     "output_type": "display_data"
    },
    {
     "data": {
      "application/vnd.jupyter.widget-view+json": {
       "model_id": "3e67b845aace476fb78d8c0182837eed",
       "version_major": 2,
       "version_minor": 0
      },
      "text/plain": [
       "Generating Scenarios:   0%|          | 0/3 [00:00<?, ?it/s]"
      ]
     },
     "metadata": {},
     "output_type": "display_data"
    },
    {
     "data": {
      "application/vnd.jupyter.widget-view+json": {
       "model_id": "9018cc1617e745a49fc4ffc96b7c0bda",
       "version_major": 2,
       "version_minor": 0
      },
      "text/plain": [
       "Generating Samples:   0%|          | 0/3 [00:00<?, ?it/s]"
      ]
     },
     "metadata": {},
     "output_type": "display_data"
    }
   ],
   "source": [
    "dataset_test = generator.generate_with_langchain_docs(\n",
    "    documents = chunks,\n",
    "    testset_size = 1\n",
    ")"
   ]
  },
  {
   "cell_type": "code",
   "execution_count": 8,
   "id": "a906fbc5",
   "metadata": {},
   "outputs": [
    {
     "data": {
      "text/plain": [
       "[Persona(name='Sustainability Manager', role_description='Oversees and integrates environmental, social, and governance (ESG) topics within company operations to meet stakeholder expectations and regulatory requirements.'),\n",
       " Persona(name='Global Technology Business Analyst', role_description=\"Analyzes Samsung Electronics' global operations, financial performance, and organizational strategy to inform business decisions and growth opportunities.\"),\n",
       " Persona(name='Sustainability Manager', role_description='Oversees the identification and management of environmental, social, and governance (ESG) topics to align company operations with stakeholder expectations and regulatory requirements.')]"
      ]
     },
     "execution_count": 8,
     "metadata": {},
     "output_type": "execute_result"
    }
   ],
   "source": [
    "generator.persona_list"
   ]
  },
  {
   "cell_type": "code",
   "execution_count": null,
   "id": "735d6b66",
   "metadata": {},
   "outputs": [],
   "source": [
    "# Gemini 질문\n",
    "# 이 페르소나 내용 한글로 적어줘.\n",
    "# 그러면 나는 다른 페르소나를 추가하려고 해.\n",
    "# 3개정도 추가해볼게\n",
    "# - 주식투자자\n",
    "# - 취준생\n",
    "# - 협력사 관계자\n",
    "# 로 위 영어로 된 형식에 맞춰서 작성해봐"
   ]
  },
  {
   "cell_type": "code",
   "execution_count": 9,
   "id": "100b0805",
   "metadata": {},
   "outputs": [
    {
     "data": {
      "text/html": [
       "<div>\n",
       "<style scoped>\n",
       "    .dataframe tbody tr th:only-of-type {\n",
       "        vertical-align: middle;\n",
       "    }\n",
       "\n",
       "    .dataframe tbody tr th {\n",
       "        vertical-align: top;\n",
       "    }\n",
       "\n",
       "    .dataframe thead th {\n",
       "        text-align: right;\n",
       "    }\n",
       "</style>\n",
       "<table border=\"1\" class=\"dataframe\">\n",
       "  <thead>\n",
       "    <tr style=\"text-align: right;\">\n",
       "      <th></th>\n",
       "      <th>user_input</th>\n",
       "      <th>reference_contexts</th>\n",
       "      <th>reference</th>\n",
       "      <th>synthesizer_name</th>\n",
       "    </tr>\n",
       "  </thead>\n",
       "  <tbody>\n",
       "    <tr>\n",
       "      <th>0</th>\n",
       "      <td>삼성전자는 글로벌 비재무정보 공시 제도의 확산에 대응하여 지속가능성 보고지침 관련 ...</td>\n",
       "      <td>[CEO 메시지\\nMessage from \\nOur CEO\\n주주, 고객, 협력회사...</td>\n",
       "      <td>삼성전자는 글로벌 비재무정보 공시 제도의 확산에 맞춰 기업의 지속가능경영 활동 정보...</td>\n",
       "      <td>single_hop_specific_query_synthesizer</td>\n",
       "    </tr>\n",
       "    <tr>\n",
       "      <th>1</th>\n",
       "      <td>How does Samsung Electronics integrate 폐전자제품(e...</td>\n",
       "      <td>[&lt;1-hop&gt;\\n\\n삼성전자 지속가능경영보고서 2024\\n15\\nOur Compa...</td>\n",
       "      <td>Samsung Electronics pursues a Circular economy...</td>\n",
       "      <td>multi_hop_abstract_query_synthesizer</td>\n",
       "    </tr>\n",
       "    <tr>\n",
       "      <th>2</th>\n",
       "      <td>What were Samsung Electronics' key initiatives...</td>\n",
       "      <td>[&lt;1-hop&gt;\\n\\n제품군별 자원순환형 포장재 사용 사례\\n디스플레이/가전 모바일...</td>\n",
       "      <td>In 2022, Samsung Electronics implemented sever...</td>\n",
       "      <td>multi_hop_specific_query_synthesizer</td>\n",
       "    </tr>\n",
       "  </tbody>\n",
       "</table>\n",
       "</div>"
      ],
      "text/plain": [
       "                                          user_input  ...                       synthesizer_name\n",
       "0  삼성전자는 글로벌 비재무정보 공시 제도의 확산에 대응하여 지속가능성 보고지침 관련 ...  ...  single_hop_specific_query_synthesizer\n",
       "1  How does Samsung Electronics integrate 폐전자제품(e...  ...   multi_hop_abstract_query_synthesizer\n",
       "2  What were Samsung Electronics' key initiatives...  ...   multi_hop_specific_query_synthesizer\n",
       "\n",
       "[3 rows x 4 columns]"
      ]
     },
     "execution_count": 9,
     "metadata": {},
     "output_type": "execute_result"
    }
   ],
   "source": [
    "test_df = dataset_test.to_pandas()\n",
    "test_df"
   ]
  },
  {
   "cell_type": "code",
   "execution_count": 10,
   "id": "d39fa943",
   "metadata": {},
   "outputs": [],
   "source": [
    "# 커스텀 페르소나 만들기\n",
    "from ragas.testset.persona import Persona\n",
    "custom_personas = [\n",
    "    Persona(name='Stock Investor', role_description='Analyzes the company\\'s financial statements, market position, growth potential, and corporate governance structure to evaluate its investment attractiveness and maximize shareholder return.'),\n",
    "    Persona(name='Job Seeker', role_description='Researches the company\\'s organizational culture, employee benefits, career development programs, and recruitment process to determine potential employment fit.'),\n",
    "    Persona(name='Supplier/Partner Company Representative', role_description='Focuses on long-term partnership strategies, compliance with ethical sourcing policies, efficiency of procurement processes, and fairness of payment terms.')\n",
    "]"
   ]
  },
  {
   "cell_type": "code",
   "execution_count": 11,
   "id": "2fc58258",
   "metadata": {},
   "outputs": [
    {
     "data": {
      "text/plain": [
       "[Persona(name='Sustainability Manager', role_description='Oversees and integrates environmental, social, and governance (ESG) topics within company operations to meet stakeholder expectations and regulatory requirements.'),\n",
       " Persona(name='Global Technology Business Analyst', role_description=\"Analyzes Samsung Electronics' global operations, financial performance, and organizational strategy to inform business decisions and growth opportunities.\"),\n",
       " Persona(name='Sustainability Manager', role_description='Oversees the identification and management of environmental, social, and governance (ESG) topics to align company operations with stakeholder expectations and regulatory requirements.')]"
      ]
     },
     "execution_count": 11,
     "metadata": {},
     "output_type": "execute_result"
    }
   ],
   "source": [
    "auto_persona = generator.persona_list\n",
    "auto_persona"
   ]
  },
  {
   "cell_type": "code",
   "execution_count": 12,
   "id": "3c2b87d9",
   "metadata": {},
   "outputs": [
    {
     "data": {
      "text/plain": [
       "[Persona(name='Sustainability Manager', role_description='Oversees and integrates environmental, social, and governance (ESG) topics within company operations to meet stakeholder expectations and regulatory requirements.'),\n",
       " Persona(name='Global Technology Business Analyst', role_description=\"Analyzes Samsung Electronics' global operations, financial performance, and organizational strategy to inform business decisions and growth opportunities.\"),\n",
       " Persona(name='Sustainability Manager', role_description='Oversees the identification and management of environmental, social, and governance (ESG) topics to align company operations with stakeholder expectations and regulatory requirements.'),\n",
       " Persona(name='Stock Investor', role_description=\"Analyzes the company's financial statements, market position, growth potential, and corporate governance structure to evaluate its investment attractiveness and maximize shareholder return.\"),\n",
       " Persona(name='Job Seeker', role_description=\"Researches the company's organizational culture, employee benefits, career development programs, and recruitment process to determine potential employment fit.\"),\n",
       " Persona(name='Supplier/Partner Company Representative', role_description='Focuses on long-term partnership strategies, compliance with ethical sourcing policies, efficiency of procurement processes, and fairness of payment terms.')]"
      ]
     },
     "execution_count": 12,
     "metadata": {},
     "output_type": "execute_result"
    }
   ],
   "source": [
    "generator.persona_list = auto_persona + custom_personas\n",
    "generator.persona_list"
   ]
  },
  {
   "cell_type": "code",
   "execution_count": 13,
   "id": "1e40a818",
   "metadata": {},
   "outputs": [],
   "source": [
    "# 비율 조정\n",
    "from ragas.testset.synthesizers.multi_hop import (\n",
    "    MultiHopAbstractQuerySynthesizer,\n",
    "    MultiHopSpecificQuerySynthesizer,\n",
    ")\n",
    "from ragas.testset.synthesizers.single_hop.specific import (\n",
    "    SingleHopSpecificQuerySynthesizer,\n",
    ")\n",
    "from ragas.llms.base import llm_factory\n",
    "\n",
    "ragas_llm = llm_factory(model = \"gpt-4.1-mini\")\n",
    "\n",
    "scenarios = [\n",
    "    (SingleHopSpecificQuerySynthesizer(llm=ragas_llm), 0.4),\n",
    "    (MultiHopAbstractQuerySynthesizer(llm=ragas_llm), 0.3),\n",
    "    (MultiHopSpecificQuerySynthesizer(llm=ragas_llm), 0.3)\n",
    "]"
   ]
  },
  {
   "cell_type": "code",
   "execution_count": 15,
   "id": "942405f2",
   "metadata": {},
   "outputs": [
    {
     "data": {
      "application/vnd.jupyter.widget-view+json": {
       "model_id": "665c7ce288ea47838e6a995cdfc00496",
       "version_major": 2,
       "version_minor": 0
      },
      "text/plain": [
       "Generating Scenarios:   0%|          | 0/3 [00:00<?, ?it/s]"
      ]
     },
     "metadata": {},
     "output_type": "display_data"
    },
    {
     "data": {
      "application/vnd.jupyter.widget-view+json": {
       "model_id": "ac4a57be5f924e6fb0c82dca1780b7f0",
       "version_major": 2,
       "version_minor": 0
      },
      "text/plain": [
       "Generating Samples:   0%|          | 0/99 [00:00<?, ?it/s]"
      ]
     },
     "metadata": {},
     "output_type": "display_data"
    }
   ],
   "source": [
    "dataset = generator.generate(\n",
    "    testset_size = 100,\n",
    "    query_distribution = scenarios\n",
    ")"
   ]
  },
  {
   "cell_type": "code",
   "execution_count": 16,
   "id": "93598956",
   "metadata": {},
   "outputs": [
    {
     "data": {
      "text/html": [
       "<div>\n",
       "<style scoped>\n",
       "    .dataframe tbody tr th:only-of-type {\n",
       "        vertical-align: middle;\n",
       "    }\n",
       "\n",
       "    .dataframe tbody tr th {\n",
       "        vertical-align: top;\n",
       "    }\n",
       "\n",
       "    .dataframe thead th {\n",
       "        text-align: right;\n",
       "    }\n",
       "</style>\n",
       "<table border=\"1\" class=\"dataframe\">\n",
       "  <thead>\n",
       "    <tr style=\"text-align: right;\">\n",
       "      <th></th>\n",
       "      <th>user_input</th>\n",
       "      <th>reference_contexts</th>\n",
       "      <th>reference</th>\n",
       "      <th>synthesizer_name</th>\n",
       "    </tr>\n",
       "  </thead>\n",
       "  <tbody>\n",
       "    <tr>\n",
       "      <th>0</th>\n",
       "      <td>Why 독일 supply chain due diligence law importan...</td>\n",
       "      <td>[CEO 메시지\\nMessage from \\nOur CEO\\n주주, 고객, 협력회사...</td>\n",
       "      <td>독일에서는 공급망의 인권과 근로환경 관리를 의무화하는 공급망실사법이 2023년 발효...</td>\n",
       "      <td>single_hop_specific_query_synthesizer</td>\n",
       "    </tr>\n",
       "    <tr>\n",
       "      <th>1</th>\n",
       "      <td>삼성전자의 지속가능경영 전략과 주요 이슈 관리는 어떻게 이루어지고 있나요?</td>\n",
       "      <td>[접수된 고충의 처리 원칙에 대한 기준을 수립하였고, 공급망 관리에 \\n있어서는 비...</td>\n",
       "      <td>삼성전자는 지속가능경영보고서를 통해 글로벌 공시규제 프레임워크에 맞춰 주요 지속가능...</td>\n",
       "      <td>single_hop_specific_query_synthesizer</td>\n",
       "    </tr>\n",
       "    <tr>\n",
       "      <th>2</th>\n",
       "      <td>What Samsung Global Code of Conduct mean for c...</td>\n",
       "      <td>[삼성전자 지속가능경영보고서 2024\\n05\\nOur Company Appendix...</td>\n",
       "      <td>Samsung Electronics established five core valu...</td>\n",
       "      <td>single_hop_specific_query_synthesizer</td>\n",
       "    </tr>\n",
       "    <tr>\n",
       "      <th>3</th>\n",
       "      <td>What was the global operational footprint of S...</td>\n",
       "      <td>[Our Company AppendixMateriality Assessment Fa...</td>\n",
       "      <td>By the end of 2023년, Samsung Electronics had a...</td>\n",
       "      <td>single_hop_specific_query_synthesizer</td>\n",
       "    </tr>\n",
       "    <tr>\n",
       "      <th>4</th>\n",
       "      <td>What are the 2023 financial results for the ma...</td>\n",
       "      <td>[주요 사업부\\n Device eXperienceDX\\nDS Device Solut...</td>\n",
       "      <td>The sales and operating profit figures for the...</td>\n",
       "      <td>single_hop_specific_query_synthesizer</td>\n",
       "    </tr>\n",
       "  </tbody>\n",
       "</table>\n",
       "</div>"
      ],
      "text/plain": [
       "                                          user_input  ...                       synthesizer_name\n",
       "0  Why 독일 supply chain due diligence law importan...  ...  single_hop_specific_query_synthesizer\n",
       "1          삼성전자의 지속가능경영 전략과 주요 이슈 관리는 어떻게 이루어지고 있나요?  ...  single_hop_specific_query_synthesizer\n",
       "2  What Samsung Global Code of Conduct mean for c...  ...  single_hop_specific_query_synthesizer\n",
       "3  What was the global operational footprint of S...  ...  single_hop_specific_query_synthesizer\n",
       "4  What are the 2023 financial results for the ma...  ...  single_hop_specific_query_synthesizer\n",
       "\n",
       "[5 rows x 4 columns]"
      ]
     },
     "execution_count": 16,
     "metadata": {},
     "output_type": "execute_result"
    }
   ],
   "source": [
    "dataset_df = dataset.to_pandas()\n",
    "dataset_df.head()"
   ]
  },
  {
   "cell_type": "code",
   "execution_count": 17,
   "id": "149c7b6c",
   "metadata": {},
   "outputs": [],
   "source": [
    "dataset_df.to_excel(\"report_2024_test.xlsx\",\n",
    "                    index = False)"
   ]
  }
 ],
 "metadata": {
  "kernelspec": {
   "display_name": "Langchain_basic",
   "language": "python",
   "name": "python3"
  },
  "language_info": {
   "codemirror_mode": {
    "name": "ipython",
    "version": 3
   },
   "file_extension": ".py",
   "mimetype": "text/x-python",
   "name": "python",
   "nbconvert_exporter": "python",
   "pygments_lexer": "ipython3",
   "version": "3.11.13"
  }
 },
 "nbformat": 4,
 "nbformat_minor": 5
}
