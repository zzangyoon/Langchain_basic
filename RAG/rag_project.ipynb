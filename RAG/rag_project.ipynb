{
 "cells": [
  {
   "cell_type": "markdown",
   "id": "1d34ef0a",
   "metadata": {},
   "source": [
    "# RAG 과제"
   ]
  },
  {
   "cell_type": "markdown",
   "id": "679158e8",
   "metadata": {},
   "source": [
    "## 1. 문서 로드"
   ]
  },
  {
   "cell_type": "code",
   "execution_count": 1,
   "id": "59380014",
   "metadata": {},
   "outputs": [
    {
     "name": "stdout",
     "output_type": "stream",
     "text": [
      "문서 로드중\n"
     ]
    },
    {
     "data": {
      "text/plain": [
       "[Document(metadata={'producer': 'PyPDF', 'creator': 'PyPDF', 'creationdate': '2025-06-17T12:11:08+09:00', 'moddate': '2025-06-17T12:11:08+09:00', 'source': '../data/CN7N_2026_ko_KR.pdf', 'total_pages': 436, 'page': 0, 'page_label': '1'}, page_content='주 의\\n차량이 고장나거나 손상될 우려가 있는 경우의 주의 표\\n시입니다.\\n 경 고\\n사람이 다치거나 사망의 우려가 있는 경우의 경고 표시\\n입니다.\\ni  알아두기\\n차량 용어 또는 추가 설명이 필요한 정보 표시입니다.\\n안전을 위해 반드시 지켜야 하는 금지 표시입니다.\\n본 취급설명서는 고객 및 차량의 안전과 관련한 심각한 위험과 제품 사용에 대한 올바른 정보를 사\\n전에 알리는 안전경고 표시입니다. 지시사항은 반드시 숙지하여 지켜주십시오.\\n경고, 주의표시\\n안전 및 차량 손상 경고\\n경고, 주의가 있는 문장 및 진하게 표시되어 있는 부분은 \\n특히 유념하십시오.\\n선택 또는 미장착 사양표시 \\n< >\\n본 취급설명서에는 모든 트림모델 및 선택사양을 포함\\n하여 설명하고 있습니다.\\n따라서 고객님 차량에 장착되지 않은 사양이 설명될 수 \\n있습니다.'),\n",
       " Document(metadata={'producer': 'PyPDF', 'creator': 'PyPDF', 'creationdate': '2025-06-17T12:11:08+09:00', 'moddate': '2025-06-17T12:11:08+09:00', 'source': '../data/CN7N_2026_ko_KR.pdf', 'total_pages': 436, 'page': 1, 'page_label': '2'}, page_content='내용 찾기 방법 설명\\n에어컨\\n사용방법이\\n어디지...\\n이 스위치가\\n뭐지?\\n점검방법이\\n어느 장에 있지\\n목차를 활용하세요.\\n그림 목차 (내관도 I ) 를 활용하세요.\\n색인(명칭) 목차 활용하세요.\\n내용으로 찾을 때\\n명칭을 모를 때\\n명칭으로 찾을 때'),\n",
       " Document(metadata={'producer': 'PyPDF', 'creator': 'PyPDF', 'creationdate': '2025-06-17T12:11:08+09:00', 'moddate': '2025-06-17T12:11:08+09:00', 'source': '../data/CN7N_2026_ko_KR.pdf', 'total_pages': 436, 'page': 2, 'page_label': '3'}, page_content='제작결함 안내\\n제작결함 안내 \\n(제50조 관련)\\n자동차제작자등(부품제작자등) : 현대자동차(주)\\n주 소 : 서울특별시 서초구 헌릉로 12(양재동)\\n연락처 : 080-600-6000\\n귀하의 자동차 또는 자동차부품에 잦은 고장 등의 문제\\n로 교통사고를 유발할 수 있는 결함이 있다고 판단되면, \\n자기 및 다른 사람의 안전을 위하여 즉시 현대자동차(주)\\n와 제작결함조사를 시행하는 한국교통안전공단 자동차\\n안전연구원에 연락하여 주시기 바랍니다.\\n한국교통안전공단 자동차안전연구원은 소비자 불만사\\n항 등을 접수하여 분석한 후 해당 자동차 또는 자동차부\\n품에 제작결함의 가능성이 있다고 판단되는 경우 제작\\n결함조사를 실시하여 해당 제작사에게 제작결함시정\\n(recall) 등의 조치를 취할 것입니다. \\n한국교통안전공단 자동차안전연구원의 자동차 또는 자\\n동차부품 결함 등 소비자 불만 접수창구는 다음과 같습\\n니다.\\n • 한국교통안전공단 자동차안전연구원 \\n • 전화 : 080-357-2500\\n • 인터넷 홈페이지 :  자동차리콜센터 \\n www.car.go.kr')]"
      ]
     },
     "execution_count": 1,
     "metadata": {},
     "output_type": "execute_result"
    }
   ],
   "source": [
    "from langchain_community.document_loaders import PyPDFLoader\n",
    "\n",
    "file_path = \"../data/CN7N_2026_ko_KR.pdf\"\n",
    "\n",
    "print(\"문서 로드중\")\n",
    "\n",
    "loader = PyPDFLoader(file_path)\n",
    "docs = loader.load()\n",
    "docs[:3]"
   ]
  },
  {
   "cell_type": "code",
   "execution_count": 2,
   "id": "5bcfaafe",
   "metadata": {},
   "outputs": [],
   "source": [
    "import tiktoken\n",
    "\n",
    "encoding = tiktoken.get_encoding(\"cl100k_base\")"
   ]
  },
  {
   "cell_type": "code",
   "execution_count": 3,
   "id": "28cd0f7f",
   "metadata": {},
   "outputs": [],
   "source": [
    "def tiktoken_len(text):\n",
    "    return len(encoding.encode(text))"
   ]
  },
  {
   "cell_type": "markdown",
   "id": "a91b9d62",
   "metadata": {},
   "source": [
    "## 2. splitter"
   ]
  },
  {
   "cell_type": "code",
   "execution_count": 4,
   "id": "96f190ea",
   "metadata": {},
   "outputs": [
    {
     "name": "stdout",
     "output_type": "stream",
     "text": [
      "총 chunk 수: 588\n"
     ]
    }
   ],
   "source": [
    "from langchain_text_splitters import RecursiveCharacterTextSplitter\n",
    "splitter = RecursiveCharacterTextSplitter(\n",
    "    chunk_size=1000,               # 토큰 단위\n",
    "    chunk_overlap=100,\n",
    "    length_function=tiktoken_len  # 토큰 수로 길이 측정\n",
    ")\n",
    "chunks = splitter.split_documents(docs)\n",
    "print(f\"총 chunk 수: {len(chunks)}\")"
   ]
  },
  {
   "cell_type": "markdown",
   "id": "a8317366",
   "metadata": {},
   "source": [
    "## 3. vectorDB 저장 및 불러오기"
   ]
  },
  {
   "cell_type": "code",
   "execution_count": 5,
   "id": "f1ca0ef2",
   "metadata": {},
   "outputs": [],
   "source": [
    "from langchain_openai import OpenAIEmbeddings, ChatOpenAI\n",
    "from langchain_chroma import Chroma\n",
    "\n",
    "embedding = OpenAIEmbeddings(model = \"text-embedding-3-small\")\n",
    "persist_directory = \"../vectorStore/hyundai_car\"\n",
    "collection_name = \"hyundai_car\""
   ]
  },
  {
   "cell_type": "code",
   "execution_count": null,
   "id": "a02c1fc8",
   "metadata": {},
   "outputs": [],
   "source": [
    "# # 빈 벡터스토어 생성\n",
    "# vectorstore = Chroma(\n",
    "#     collection_name=collection_name,\n",
    "#     persist_directory=persist_directory,\n",
    "#     embedding_function=embedding\n",
    "# )\n",
    "\n",
    "# # 안전하게 나눠서 임베딩 생성 및 저장\n",
    "# batch_size = 100  # 또는 50~200 사이 적당히\n",
    "# for i in range(0, len(chunks), batch_size):\n",
    "#     batch = chunks[i:i+batch_size]\n",
    "#     vectorstore.add_documents(batch)"
   ]
  },
  {
   "cell_type": "code",
   "execution_count": 9,
   "id": "5d48bca9",
   "metadata": {},
   "outputs": [],
   "source": [
    "load_vectorStore = Chroma(\n",
    "    persist_directory = persist_directory,\n",
    "    collection_name = collection_name,\n",
    "    embedding_function = embedding\n",
    ")"
   ]
  },
  {
   "cell_type": "code",
   "execution_count": 10,
   "id": "133eefbc",
   "metadata": {},
   "outputs": [
    {
     "data": {
      "text/plain": [
       "<langchain_chroma.vectorstores.Chroma at 0x1b171f7d690>"
      ]
     },
     "execution_count": 10,
     "metadata": {},
     "output_type": "execute_result"
    }
   ],
   "source": [
    "load_vectorStore"
   ]
  },
  {
   "cell_type": "markdown",
   "id": "926d68fb",
   "metadata": {},
   "source": [
    "## 4. Retriever"
   ]
  },
  {
   "cell_type": "code",
   "execution_count": 11,
   "id": "901424cc",
   "metadata": {},
   "outputs": [],
   "source": [
    "retriever = load_vectorStore.as_retriever(\n",
    "    search_type = \"similarity\",\n",
    "    search_kwargs = {\"k\" : 30}\n",
    ")"
   ]
  },
  {
   "cell_type": "markdown",
   "id": "1d3827d1",
   "metadata": {},
   "source": [
    "## 5. Reranker"
   ]
  },
  {
   "cell_type": "code",
   "execution_count": 12,
   "id": "e249c987",
   "metadata": {},
   "outputs": [],
   "source": [
    "from langchain_community.cross_encoders.huggingface import HuggingFaceCrossEncoder\n",
    "from langchain.retrievers.document_compressors import CrossEncoderReranker\n",
    "\n",
    "hf_ce = HuggingFaceCrossEncoder(\n",
    "    model_name = \"cross-encoder/ms-marco-MiniLM-L6-v2\",\n",
    "    model_kwargs = {\n",
    "        \"device\" : \"cuda\",\n",
    "        \"max_length\" : 512\n",
    "    }\n",
    ")\n",
    "\n",
    "reranker = CrossEncoderReranker(\n",
    "    model = hf_ce,\n",
    "    top_n = 10\n",
    ")"
   ]
  },
  {
   "cell_type": "markdown",
   "id": "19c720d7",
   "metadata": {},
   "source": [
    "## 6. Retriever -> Reranker"
   ]
  },
  {
   "cell_type": "code",
   "execution_count": 13,
   "id": "b08fec59",
   "metadata": {},
   "outputs": [],
   "source": [
    "from langchain.retrievers import ContextualCompressionRetriever\n",
    "\n",
    "comp_retriever = ContextualCompressionRetriever(\n",
    "    base_retriever = retriever,\n",
    "    base_compressor = reranker\n",
    ")"
   ]
  },
  {
   "cell_type": "markdown",
   "id": "ac7abc1a",
   "metadata": {},
   "source": [
    "## 7. Reorder"
   ]
  },
  {
   "cell_type": "code",
   "execution_count": 14,
   "id": "6004b7c4",
   "metadata": {},
   "outputs": [],
   "source": [
    "from langchain_community.document_transformers import LongContextReorder\n",
    "\n",
    "reorder = LongContextReorder()"
   ]
  },
  {
   "cell_type": "code",
   "execution_count": 15,
   "id": "f026277d",
   "metadata": {},
   "outputs": [],
   "source": [
    "def format_docs(docs):\n",
    "    result = []\n",
    "    for item in docs:\n",
    "        result.append(item.page_content)\n",
    "    return \"\\n\\n---\\n\\n\".join(result)"
   ]
  },
  {
   "cell_type": "markdown",
   "id": "0b33c63d",
   "metadata": {},
   "source": [
    "## 8. chain 만들기"
   ]
  },
  {
   "cell_type": "code",
   "execution_count": 25,
   "id": "20c9311a",
   "metadata": {},
   "outputs": [
    {
     "data": {
      "text/plain": [
       "ChatPromptTemplate(input_variables=['context', 'question'], input_types={}, partial_variables={}, messages=[SystemMessagePromptTemplate(prompt=PromptTemplate(input_variables=['context'], input_types={}, partial_variables={}, template='\\n        주어진 컨텍스트에 근거해 간결하고 정확하게 답하라.\\n        특정 문제 사항에 대한 해결책을 단계별로 안내하도록 해라.\\n        정보 누락이 없도록 특정 주제 요약 및 정리해라.\\n        답변 출처를 꼭 표시 하도록 해라. 페이지도 같이 표시해라.\\n\\n        [컨텍스트]\\n        {context}\\n    '), additional_kwargs={}), HumanMessagePromptTemplate(prompt=PromptTemplate(input_variables=['question'], input_types={}, partial_variables={}, template='{question}'), additional_kwargs={})])\n",
       "| ChatOpenAI(client=<openai.resources.chat.completions.completions.Completions object at 0x000001B12744AE50>, async_client=<openai.resources.chat.completions.completions.AsyncCompletions object at 0x000001B18A789790>, root_client=<openai.OpenAI object at 0x000001B18A7656D0>, root_async_client=<openai.AsyncOpenAI object at 0x000001B18A788110>, model_name='gpt-4.1-mini', temperature=0.0, model_kwargs={}, openai_api_key=SecretStr('**********'), stream_usage=True)\n",
       "| StrOutputParser()"
      ]
     },
     "execution_count": 25,
     "metadata": {},
     "output_type": "execute_result"
    }
   ],
   "source": [
    "from langchain_core.prompts import ChatPromptTemplate\n",
    "from langchain_core.output_parsers import StrOutputParser\n",
    "\n",
    "# 1. 프롬프트 설정\n",
    "rag_prompt = ChatPromptTemplate.from_messages([\n",
    "    (\"system\", \"\"\"\n",
    "        주어진 컨텍스트에 근거해 간결하고 정확하게 답하라.\n",
    "        특정 문제 사항에 대한 해결책을 단계별로 안내하도록 해라.\n",
    "        정보 누락이 없도록 특정 주제 요약 및 정리해라.\n",
    "        답변 출처를 꼭 표시 하도록 해라. 페이지도 같이 표시해라.\n",
    "     \n",
    "        [컨텍스트]\n",
    "        {context}\n",
    "    \"\"\"),\n",
    "    (\"human\", \"{question}\")\n",
    "])\n",
    "\n",
    "# 2. 모델 설정\n",
    "model = ChatOpenAI(\n",
    "    model = \"gpt-4.1-mini\",\n",
    "    temperature = 0\n",
    ")\n",
    "\n",
    "# 3. outputparser\n",
    "outputparser = StrOutputParser()\n",
    "\n",
    "# 4. 체인 설정\n",
    "chain = rag_prompt | model | outputparser\n",
    "chain"
   ]
  },
  {
   "cell_type": "code",
   "execution_count": 26,
   "id": "c3464368",
   "metadata": {},
   "outputs": [
    {
     "data": {
      "text/plain": [
       "{\n",
       "  docs: RunnableLambda(...),\n",
       "  question: RunnablePassthrough()\n",
       "}\n",
       "| RunnableLambda(...)\n",
       "| ChatPromptTemplate(input_variables=['context', 'question'], input_types={}, partial_variables={}, messages=[SystemMessagePromptTemplate(prompt=PromptTemplate(input_variables=['context'], input_types={}, partial_variables={}, template='\\n        주어진 컨텍스트에 근거해 간결하고 정확하게 답하라.\\n        특정 문제 사항에 대한 해결책을 단계별로 안내하도록 해라.\\n        정보 누락이 없도록 특정 주제 요약 및 정리해라.\\n        답변 출처를 꼭 표시 하도록 해라. 페이지도 같이 표시해라.\\n\\n        [컨텍스트]\\n        {context}\\n    '), additional_kwargs={}), HumanMessagePromptTemplate(prompt=PromptTemplate(input_variables=['question'], input_types={}, partial_variables={}, template='{question}'), additional_kwargs={})])\n",
       "| ChatOpenAI(client=<openai.resources.chat.completions.completions.Completions object at 0x000001B12744AE50>, async_client=<openai.resources.chat.completions.completions.AsyncCompletions object at 0x000001B18A789790>, root_client=<openai.OpenAI object at 0x000001B18A7656D0>, root_async_client=<openai.AsyncOpenAI object at 0x000001B18A788110>, model_name='gpt-4.1-mini', temperature=0.0, model_kwargs={}, openai_api_key=SecretStr('**********'), stream_usage=True)\n",
       "| StrOutputParser()"
      ]
     },
     "execution_count": 26,
     "metadata": {},
     "output_type": "execute_result"
    }
   ],
   "source": [
    "from langchain_core.runnables import RunnableLambda, RunnablePassthrough\n",
    "\n",
    "rag_chain = (\n",
    "    {\n",
    "        \"docs\" : RunnableLambda(lambda x: comp_retriever.invoke(x[\"question\"])),\n",
    "        \"question\" : RunnablePassthrough()\n",
    "    }\n",
    "    | RunnableLambda(lambda x : {\n",
    "        \"context\" : format_docs(reorder.transform_documents(x[\"docs\"])),\n",
    "        \"question\" : x[\"question\"]\n",
    "    })\n",
    "    | chain\n",
    ")\n",
    "rag_chain"
   ]
  },
  {
   "cell_type": "code",
   "execution_count": 27,
   "id": "ad5ee7cc",
   "metadata": {},
   "outputs": [],
   "source": [
    "question = \"차의 결함은 어떻게 확인하나요?\""
   ]
  },
  {
   "cell_type": "code",
   "execution_count": 28,
   "id": "16d001c0",
   "metadata": {},
   "outputs": [],
   "source": [
    "result = rag_chain.invoke({\n",
    "    \"question\" : question\n",
    "})"
   ]
  },
  {
   "cell_type": "code",
   "execution_count": 31,
   "id": "fc7b5cd0",
   "metadata": {},
   "outputs": [
    {
     "name": "stdout",
     "output_type": "stream",
     "text": [
      "질문 : 차의 결함은 어떻게 확인하나요?\n",
      "답변 : 차의 결함 확인 방법은 다음과 같습니다:\n",
      "\n",
      "1. **경고등 및 경고문 확인**  \n",
      "   - 차량 계기판에 경고등이 켜지거나 경고문이 표시되면 즉시 확인하십시오.  \n",
      "   - 경고등이 켜지면 당사 직영 하이테크센터나 블루핸즈에서 점검을 받는 것이 안전합니다.  \n",
      "   (출처: 안전 및 차량 손상 경고, 페이지 7-28, 7-37)\n",
      "\n",
      "2. **운행 중 이상 증상 관찰**  \n",
      "   - 가속 페달 조작 시 차량이 갑자기 빠르게 출발하거나, 브레이크 작동이 원활하지 않을 경우 주의하십시오.  \n",
      "   - 자동 정차 기능(Auto Hold) 작동 이상 시 해제 후 주행하십시오.  \n",
      "   (출처: 안전 및 차량 손상 경고, 페이지 7-28)\n",
      "\n",
      "3. **주기적 정기 점검**  \n",
      "   - 차량 하체, 휠, 브레이크액 및 패드 상태를 정기적으로 점검하여 이상 유무를 확인하십시오.  \n",
      "   - 특히 겨울철 염화칼슘 도포 지역 주행 후에는 부식 여부를 점검해야 합니다.  \n",
      "   (출처: 정기 점검, 페이지 9-42)\n",
      "\n",
      "4. **센서 및 보조장치 이상 확인**  \n",
      "   - 후측방 충돌방지 보조, 후방 주차 충돌방지 보조 등 운전자 보조 시스템이 정상 작동하지 않거나 경고음이 울릴 경우 점검이 필요합니다.  \n",
      "   - 강한 전자파나 충격으로 센서가 오작동할 수 있으니 센서 상태를 확인하십시오.  \n",
      "   (출처: 운전자 보조, 페이지 7-37, 7-99)\n",
      "\n",
      "5. **차량 외관 및 부품 손상 점검**  \n",
      "   - 차체 표면에 깊은 흠집이나 금속 노출 부위가 있으면 빠르게 녹이 슬 수 있으므로 신속히 수리하십시오.  \n",
      "   - 무광 컬러 차량은 부분 수리가 어려우니 전문 정비소 방문을 권장합니다.  \n",
      "   (출처: 표면 손상의 정비, 페이지 7-99)\n",
      "\n",
      "요약: 차량 결함은 경고등 및 경고문 확인, 운행 중 이상 증상 관찰, 정기 점검, 센서 및 보조장치 이상 확인, 외관 손상 점검을 통해 확인하며, 이상 발견 시 반드시 당사 직영 하이테크센터나 블루핸즈에서 점검 및 수리를 받으십시오.\n",
      "\n",
      "출처: 차량 취급설명서 안전 및 차량 손상 경고, 운전자 보조, 정기 점검, 표면 손상의 정비 (페이지 7-28, 7-37, 7-99, 9-42)\n"
     ]
    }
   ],
   "source": [
    "print(f\"질문 : {question}\")\n",
    "print(f\"답변 : {result}\")"
   ]
  }
 ],
 "metadata": {
  "kernelspec": {
   "display_name": "Langchain_basic",
   "language": "python",
   "name": "python3"
  },
  "language_info": {
   "codemirror_mode": {
    "name": "ipython",
    "version": 3
   },
   "file_extension": ".py",
   "mimetype": "text/x-python",
   "name": "python",
   "nbconvert_exporter": "python",
   "pygments_lexer": "ipython3",
   "version": "3.11.13"
  }
 },
 "nbformat": 4,
 "nbformat_minor": 5
}
