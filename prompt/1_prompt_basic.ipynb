{
 "cells": [
  {
   "cell_type": "code",
   "execution_count": 1,
   "id": "d9127ebe",
   "metadata": {},
   "outputs": [],
   "source": [
    "from dotenv import load_dotenv\n",
    "load_dotenv()\n",
    "\n",
    "import os\n",
    "project_name = \"wanted_2nd_langchain_prompt_basic\"\n",
    "os.environ[\"LANGSMITH_PROJECT\"] = project_name"
   ]
  },
  {
   "cell_type": "code",
   "execution_count": 2,
   "id": "3e74356a",
   "metadata": {},
   "outputs": [],
   "source": [
    "from langchain_openai import ChatOpenAI\n",
    "\n",
    "model = ChatOpenAI(\n",
    "    temperature=0.1,\n",
    "    model=\"gpt-4.1-mini\",\n",
    "    verbose=True\n",
    ")"
   ]
  },
  {
   "cell_type": "code",
   "execution_count": 4,
   "id": "f22b7d0f",
   "metadata": {},
   "outputs": [
    {
     "data": {
      "text/plain": [
       "PromptTemplate(input_variables=['field', 'year'], input_types={}, partial_variables={}, template='\\n최근 {year}년 간 {field} 분야의 기술 발전에 대해서 알려줘\\n')"
      ]
     },
     "execution_count": 4,
     "metadata": {},
     "output_type": "execute_result"
    }
   ],
   "source": [
    "from langchain_core.prompts import PromptTemplate\n",
    "\n",
    "# 프롬프트 템플릿 설정\n",
    "template = \"\"\"\n",
    "최근 {year}년 간 {field} 분야의 기술 발전에 대해서 알려줘\n",
    "\"\"\"\n",
    "prompt_template = PromptTemplate.from_template(template)\n",
    "prompt_template"
   ]
  },
  {
   "cell_type": "code",
   "execution_count": 5,
   "id": "a44934c7",
   "metadata": {},
   "outputs": [
    {
     "name": "stdout",
     "output_type": "stream",
     "text": [
      "content='최근 3년 간(2021년~2024년) AI 분야에서는 여러 중요한 기술 발전과 혁신이 이루어졌습니다. 주요 트렌드와 발전 내용을 정리하면 다음과 같습니다.\\n\\n1. **대규모 언어 모델(LLM)의 발전**\\n   - OpenAI의 GPT-3(2020년 출시) 이후, GPT-4(2023년 출시) 등 더욱 정교하고 강력한 대규모 언어 모델이 등장했습니다.\\n   - 멀티모달 모델(텍스트, 이미지, 음성 등 다양한 입력을 동시에 처리하는 모델)이 발전하여, 예를 들어 GPT-4는 텍스트와 이미지를 함께 이해하고 생성할 수 있습니다.\\n   - 이러한 모델들은 자연어 이해, 생성, 번역, 요약, 코드 작성 등 다양한 분야에서 활용도가 크게 증가했습니다.\\n\\n2. **생성형 AI(Generative AI)의 확산**\\n   - 텍스트뿐 아니라 이미지, 음악, 영상 생성 AI가 크게 발전했습니다.\\n   - 대표적으로 DALL·E 2, Stable Diffusion, Midjourney 같은 이미지 생성 AI가 대중화되었고, 사용자가 간단한 텍스트 프롬프트만으로 고품질 이미지를 생성할 수 있게 되었습니다.\\n   - 음악 생성 AI, 영상 생성 AI도 연구 및 상용화가 활발히 진행 중입니다.\\n\\n3. **멀티모달 AI와 통합 AI 시스템**\\n   - 텍스트, 이미지, 음성, 영상 등 여러 형태의 데이터를 동시에 처리하는 멀티모달 AI가 주목받고 있습니다.\\n   - 예를 들어, OpenAI의 GPT-4, Google의 PaLM 2 등은 멀티모달 입력을 지원하며, 보다 자연스럽고 풍부한 상호작용이 가능해졌습니다.\\n\\n4. **AI의 효율성 및 친환경적 접근**\\n   - 대규모 모델의 높은 연산 비용과 에너지 소비 문제를 해결하기 위해 경량화, 지식 증류, 효율적인 학습 알고리즘 개발이 활발히 이루어졌습니다.\\n   - 하드웨어 측면에서도 AI 전용 칩과 가속기 개발이 가속화되어 AI 연산 효율이 크게 향상되었습니다.\\n\\n5. **AI 윤리 및 규제 강화**\\n   - AI의 사회적 영향이 커지면서, 공정성, 투명성, 개인정보 보호, 편향성 문제에 대한 연구와 규제 논의가 활발해졌습니다.\\n   - 여러 국가와 국제기구에서 AI 윤리 가이드라인과 법적 규제를 마련하는 움직임이 강화되었습니다.\\n\\n6. **산업별 AI 적용 확대**\\n   - 의료, 금융, 제조, 자율주행, 로보틱스 등 다양한 산업에서 AI 기술이 본격적으로 도입되고 있습니다.\\n   - 특히 의료 분야에서는 AI 기반 진단, 신약 개발, 맞춤형 치료 등이 빠르게 발전하고 있습니다.\\n\\n7. **자율 AI 및 강화학습 발전**\\n   - 강화학습과 자율 에이전트 연구가 진전되어, 복잡한 환경에서 스스로 학습하고 의사결정하는 AI 시스템이 발전했습니다.\\n   - 예를 들어, 게임, 로보틱스, 자율주행차 등에서 자율 AI 기술이 상용화 단계에 접어들고 있습니다.\\n\\n요약하자면, 최근 3년간 AI는 대규모 언어 모델과 생성형 AI의 비약적 발전, 멀티모달 AI의 등장, 효율성 개선, 윤리적 고려 강화, 산업별 실용화 확대 등 다방면에서 큰 진전을 이루었습니다. 앞으로도 AI 기술은 더욱 고도화되고 일상생활과 산업 전반에 깊숙이 통합될 것으로 예상됩니다.' additional_kwargs={'refusal': None} response_metadata={'token_usage': {'completion_tokens': 813, 'prompt_tokens': 23, 'total_tokens': 836, 'completion_tokens_details': {'accepted_prediction_tokens': 0, 'audio_tokens': 0, 'reasoning_tokens': 0, 'rejected_prediction_tokens': 0}, 'prompt_tokens_details': {'audio_tokens': 0, 'cached_tokens': 0}}, 'model_name': 'gpt-4.1-mini-2025-04-14', 'system_fingerprint': 'fp_4fce0778af', 'id': 'chatcmpl-CLMy7bJabIKZlBb6eTWIYAYrwk6lQ', 'service_tier': 'default', 'finish_reason': 'stop', 'logprobs': None} id='run--4939dbfe-93d7-4daf-a50f-645fd2d1aa00-0' usage_metadata={'input_tokens': 23, 'output_tokens': 813, 'total_tokens': 836, 'input_token_details': {'audio': 0, 'cache_read': 0}, 'output_token_details': {'audio': 0, 'reasoning': 0}}\n"
     ]
    }
   ],
   "source": [
    "chain = prompt_template | model\n",
    "result = chain.invoke({\"year\": 3, \"field\": \"AI\"})\n",
    "print(result)"
   ]
  },
  {
   "cell_type": "code",
   "execution_count": 9,
   "id": "402f0c9d",
   "metadata": {},
   "outputs": [
    {
     "data": {
      "text/plain": [
       "PromptTemplate(input_variables=['year'], input_types={}, partial_variables={'field': 'AI'}, template='\\n최근 {year}년 간 {field} 분야의 기술 발전에 대해서 알려줘\\n')"
      ]
     },
     "execution_count": 9,
     "metadata": {},
     "output_type": "execute_result"
    }
   ],
   "source": [
    "prompt_template_fixed = PromptTemplate(\n",
    "    template=template, \n",
    "    input_variables=[\"year\"],\n",
    "    partial_variables={\n",
    "        \"field\": \"AI\"\n",
    "    }\n",
    ")\n",
    "prompt_template_fixed"
   ]
  },
  {
   "cell_type": "code",
   "execution_count": 10,
   "id": "7052c257",
   "metadata": {},
   "outputs": [
    {
     "name": "stdout",
     "output_type": "stream",
     "text": [
      "최근 3년 간(2021년~2024년) AI 분야에서는 여러 중요한 기술 발전과 혁신이 이루어졌습니다. 주요 트렌드와 기술 발전을 아래와 같이 정리할 수 있습니다.\n",
      "\n",
      "1. **대규모 언어 모델(LLM)의 발전**\n",
      "   - OpenAI의 GPT-3(2020년 출시) 이후, GPT-4(2023년 출시)와 같은 더욱 정교하고 강력한 대규모 언어 모델이 등장했습니다.\n",
      "   - 이러한 모델들은 자연어 이해, 생성, 번역, 요약, 코드 작성 등 다양한 작업에서 인간 수준에 가까운 성능을 보여주고 있습니다.\n",
      "   - 멀티모달 모델(예: 텍스트와 이미지 입력을 동시에 처리하는 모델)도 활발히 연구되고 있습니다.\n",
      "\n",
      "2. **멀티모달 AI**\n",
      "   - 텍스트, 이미지, 음성, 비디오 등 다양한 형태의 데이터를 동시에 처리하는 AI 모델이 발전했습니다.\n",
      "   - 예를 들어, OpenAI의 DALL·E 2, Google의 Imagen 등은 텍스트 설명을 바탕으로 고해상도 이미지를 생성하는 기술을 선보였습니다.\n",
      "   - 멀티모달 AI는 의료 영상 분석, 자율주행, 로봇공학 등 다양한 분야에 응용되고 있습니다.\n",
      "\n",
      "3. **자기지도학습(Self-supervised Learning)과 제로샷 학습**\n",
      "   - 대량의 비라벨 데이터에서 의미 있는 표현을 학습하는 자기지도학습 기법이 크게 발전했습니다.\n",
      "   - 이를 통해 라벨링 비용을 줄이고, 적은 데이터로도 높은 성능을 내는 제로샷(zero-shot) 및 몇 샷(few-shot) 학습이 가능해졌습니다.\n",
      "\n",
      "4. **AI의 효율성 및 친환경성 개선**\n",
      "   - 대규모 모델의 높은 연산 비용과 에너지 소비 문제를 해결하기 위해 경량화, 지식 증류, 양자화, 스파스 모델링 등 효율적인 AI 모델 설계 기술이 발전했습니다.\n",
      "   - 하드웨어 측면에서도 AI 전용 칩과 가속기 개발이 활발히 이루어지고 있습니다.\n",
      "\n",
      "5. **생성형 AI(Generative AI)의 상용화**\n",
      "   - 텍스트, 이미지, 음악, 영상 등 다양한 콘텐츠를 자동으로 생성하는 AI가 상용화되어 창작, 마케팅, 게임, 교육 등 여러 산업에 혁신을 가져왔습니다.\n",
      "   - AI 기반 챗봇, 가상 비서, 콘텐츠 제작 도구 등이 대중화되었습니다.\n",
      "\n",
      "6. **AI 윤리 및 규제 강화**\n",
      "   - AI의 사회적 영향력 확대에 따라 공정성, 투명성, 프라이버시, 책임성 문제에 대한 논의가 활발해졌습니다.\n",
      "   - 각국 정부와 국제기구에서 AI 규제 및 가이드라인을 마련하고 있으며, 기업들도 윤리적 AI 개발에 힘쓰고 있습니다.\n",
      "\n",
      "7. **특화 AI 및 응용 분야 확대**\n",
      "   - 의료, 금융, 자율주행, 로보틱스, 교육 등 특정 도메인에 최적화된 AI 솔루션이 발전했습니다.\n",
      "   - 예를 들어, AI 기반 신약 개발, 맞춤형 의료 진단, 자동화된 금융 분석 등이 상용화되고 있습니다.\n",
      "\n",
      "요약하면, 최근 3년간 AI는 대규모 언어 모델과 멀티모달 AI의 발전을 중심으로, 효율성 개선과 윤리적 고려가 병행되면서 다양한 산업에 깊숙이 침투하고 있습니다.\n"
     ]
    }
   ],
   "source": [
    "fixed_chain = prompt_template_fixed | model\n",
    "result = fixed_chain.invoke({\"year\": 3})\n",
    "print(result.content)"
   ]
  },
  {
   "cell_type": "markdown",
   "id": "33004e94",
   "metadata": {},
   "source": [
    "### Partial variable 좀 더 해보기"
   ]
  },
  {
   "cell_type": "code",
   "execution_count": 11,
   "id": "d11c687b",
   "metadata": {},
   "outputs": [],
   "source": [
    "from datetime import datetime"
   ]
  },
  {
   "cell_type": "code",
   "execution_count": 15,
   "id": "f9049c9e",
   "metadata": {},
   "outputs": [
    {
     "data": {
      "text/plain": [
       "'2025/09/30 14:26'"
      ]
     },
     "execution_count": 15,
     "metadata": {},
     "output_type": "execute_result"
    }
   ],
   "source": [
    "# 현재 시간 출력\n",
    "datetime.now().strftime(\"%Y/%m/%d %H:%M\")"
   ]
  },
  {
   "cell_type": "code",
   "execution_count": 16,
   "id": "8a9b4118",
   "metadata": {},
   "outputs": [],
   "source": [
    "# 날짜를 변환하는 함수\n",
    "def get_today():\n",
    "    return datetime.now().strftime(\"%Y-%m-%d %H:%M\")"
   ]
  },
  {
   "cell_type": "code",
   "execution_count": 19,
   "id": "6bb2d271",
   "metadata": {},
   "outputs": [],
   "source": [
    "# 예\n",
    "template = \"현재 시간은 {today} 입니다. 이 시간대에 사람들이 가장 많이 하는 활동을 {number} 가지 알려주세요\"\n",
    "prompt_template = PromptTemplate(\n",
    "    template=template,\n",
    "    input_variables=[\"number\"],\n",
    "    partial_variables={\n",
    "        \"today\" : get_today\n",
    "    }\n",
    ")"
   ]
  },
  {
   "cell_type": "code",
   "execution_count": 18,
   "id": "2f950298",
   "metadata": {},
   "outputs": [
    {
     "data": {
      "text/plain": [
       "PromptTemplate(input_variables=['number'], input_types={}, partial_variables={'today': <function get_today at 0x0000021E54991800>}, template='현재 시간은 {today} 입니다. 이 시간대에 사람들이 가장 많이 하는 활동을 {number} 가지 알려주세요')"
      ]
     },
     "execution_count": 18,
     "metadata": {},
     "output_type": "execute_result"
    }
   ],
   "source": [
    "prompt_template"
   ]
  },
  {
   "cell_type": "code",
   "execution_count": 21,
   "id": "c7d5eee4",
   "metadata": {},
   "outputs": [
    {
     "name": "stdout",
     "output_type": "stream",
     "text": [
      "죄송하지만, 제 지식은 2024년 6월까지 업데이트되어 있어서 2025년 9월 30일의 구체적인 활동 데이터를 제공할 수 없습니다. 다만, 일반적으로 오후 2시 30분경(14:30~15:00) 사람들이 많이 하는 활동을 알려드릴 수 있습니다.\n",
      "\n",
      "1. **업무 및 학업 활동**  \n",
      "   많은 사람들이 직장이나 학교에서 오후 업무나 수업을 진행하는 시간대입니다. 집중해서 일하거나 공부하는 경우가 많습니다.\n",
      "\n",
      "2. **간식 또는 휴식 시간**  \n",
      "   점심 식사 후 어느 정도 시간이 지나면서 간단한 간식이나 커피를 마시며 잠시 휴식을 취하는 사람들이 많습니다.\n",
      "\n",
      "3. **회의 및 협업**  \n",
      "   오후 시간대에는 팀 미팅이나 프로젝트 관련 회의가 자주 잡히는 시간입니다.\n",
      "\n",
      "이 시간대의 활동은 개인의 생활 패턴, 직업, 지역 등에 따라 다를 수 있습니다.\n"
     ]
    }
   ],
   "source": [
    "chain = prompt_template | model\n",
    "result = chain.invoke({\"number\": 3})\n",
    "print(result.content)"
   ]
  },
  {
   "cell_type": "markdown",
   "id": "6a6a002c",
   "metadata": {},
   "source": [
    "### 프롬프트 템플릿 저장 및 로드"
   ]
  },
  {
   "cell_type": "code",
   "execution_count": 34,
   "id": "f09b2b2e",
   "metadata": {},
   "outputs": [],
   "source": [
    "# 예\n",
    "template = \"현재 시간은 {today} 입니다. 이 시간대에 사람들이 가장 많이 하는 활동을 {number} 가지 알려주세요\"\n",
    "prompt_template = PromptTemplate(\n",
    "    template=template\n",
    ")"
   ]
  },
  {
   "cell_type": "code",
   "execution_count": 35,
   "id": "5a817e34",
   "metadata": {},
   "outputs": [],
   "source": [
    "encoding = \"utf-8\"\n",
    "prompt_template.save(\"best_template.yaml\")"
   ]
  },
  {
   "cell_type": "code",
   "execution_count": null,
   "id": "9181dc57",
   "metadata": {},
   "outputs": [],
   "source": [
    "import yaml\n",
    "with open(\"best_template.yaml\", \"r\", encoding=encoding) as file:\n",
    "    config = yaml.safe_load(file)"
   ]
  },
  {
   "cell_type": "code",
   "execution_count": 32,
   "id": "a147ed92",
   "metadata": {},
   "outputs": [
    {
     "data": {
      "text/plain": [
       "{'_type': 'prompt',\n",
       " 'input_variables': ['number', 'today'],\n",
       " 'template': '현재 시간은 {today} 입니다. 이 시간대에 사람들이 가장 많이 하는 활동을 {number} 가지 알려주세요',\n",
       " 'template_format': 'f-string'}"
      ]
     },
     "execution_count": 32,
     "metadata": {},
     "output_type": "execute_result"
    }
   ],
   "source": [
    "config"
   ]
  },
  {
   "cell_type": "code",
   "execution_count": 33,
   "id": "10174449",
   "metadata": {},
   "outputs": [
    {
     "data": {
      "text/plain": [
       "PromptTemplate(input_variables=['number', 'today'], input_types={}, partial_variables={}, template='현재 시간은 {today} 입니다. 이 시간대에 사람들이 가장 많이 하는 활동을 {number} 가지 알려주세요')"
      ]
     },
     "execution_count": 33,
     "metadata": {},
     "output_type": "execute_result"
    }
   ],
   "source": [
    "# 로드한 템플릿 적용해서 체인 만들기\n",
    "from langchain_core.prompts import loading\n",
    "\n",
    "load_prompt = loading.load_prompt_from_config(config)\n",
    "load_prompt"
   ]
  },
  {
   "cell_type": "code",
   "execution_count": null,
   "id": "104cd34e",
   "metadata": {},
   "outputs": [],
   "source": []
  }
 ],
 "metadata": {
  "kernelspec": {
   "display_name": "2025_10_LLM",
   "language": "python",
   "name": "python3"
  },
  "language_info": {
   "codemirror_mode": {
    "name": "ipython",
    "version": 3
   },
   "file_extension": ".py",
   "mimetype": "text/x-python",
   "name": "python",
   "nbconvert_exporter": "python",
   "pygments_lexer": "ipython3",
   "version": "3.11.9"
  }
 },
 "nbformat": 4,
 "nbformat_minor": 5
}
