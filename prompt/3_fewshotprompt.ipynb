{
 "cells": [
  {
   "cell_type": "code",
   "execution_count": 1,
   "id": "ef87abb8",
   "metadata": {},
   "outputs": [],
   "source": [
    "from dotenv import load_dotenv\n",
    "load_dotenv()\n",
    "\n",
    "import os\n",
    "project_name = \"wanted_2nd_langchain_prompt_basic\"\n",
    "os.environ[\"LANGSMITH_PROJECT\"] = project_name"
   ]
  },
  {
   "cell_type": "code",
   "execution_count": 2,
   "id": "37bad5dd",
   "metadata": {},
   "outputs": [],
   "source": [
    "from langchain_openai import ChatOpenAI\n",
    "\n",
    "model = ChatOpenAI(\n",
    "    temperature=0.1,\n",
    "    model=\"gpt-4.1-mini\",\n",
    "    verbose=True\n",
    ")"
   ]
  },
  {
   "cell_type": "code",
   "execution_count": 3,
   "id": "b04f6e45",
   "metadata": {},
   "outputs": [],
   "source": [
    "from langchain_core.prompts.few_shot import FewShotPromptTemplate\n",
    "from langchain_core.prompts import PromptTemplate"
   ]
  },
  {
   "cell_type": "code",
   "execution_count": 5,
   "id": "5e476cb7",
   "metadata": {},
   "outputs": [],
   "source": [
    "examples = [\n",
    "    {\"question\" : \"안녕하세요\",\n",
    "     \"answer\" : \"잘 지내나\"},\n",
    "    {\"question\" : \"맛있게 먹어\",\n",
    "     \"answer\" : \"마이 무라\"},\n",
    "    {\"question\" : \"지금 뭐하고 있어?\",\n",
    "     \"answer\" : \"지금 뭐하노?\"},\n",
    "    {\"question\" : \"지금 뭐라고 하는거야?\",\n",
    "     \"answer\" : \"뭐라카노\"},\n",
    "]"
   ]
  },
  {
   "cell_type": "code",
   "execution_count": 6,
   "id": "64e1219c",
   "metadata": {},
   "outputs": [
    {
     "data": {
      "text/plain": [
       "PromptTemplate(input_variables=['answer', 'question'], input_types={}, partial_variables={}, template='\\n[질문 내용]\\n{question} 을/를 경상도 사투리로 어떻게 말하나요?\\n\\n[사투리]\\n{answer}\\n')"
      ]
     },
     "execution_count": 6,
     "metadata": {},
     "output_type": "execute_result"
    }
   ],
   "source": [
    "example_prompt = PromptTemplate.from_template(\n",
    "\"\"\"\n",
    "[질문 내용]\n",
    "{question} 을/를 경상도 사투리로 어떻게 말하나요?\n",
    "\n",
    "[사투리]\n",
    "{answer}\n",
    "\"\"\"\n",
    ")\n",
    "example_prompt"
   ]
  },
  {
   "cell_type": "code",
   "execution_count": 13,
   "id": "e02b7418",
   "metadata": {},
   "outputs": [],
   "source": [
    "prompt_template = FewShotPromptTemplate(\n",
    "    examples = examples,\n",
    "    example_prompt = example_prompt,\n",
    "    suffix=\"\"\"질문 내용:\n",
    "    {question}\\n\n",
    "    \n",
    "    사투리 :\n",
    "    \"\"\",\n",
    "    input_variables=[\"question\"]\n",
    ")"
   ]
  },
  {
   "cell_type": "code",
   "execution_count": 14,
   "id": "214f9f67",
   "metadata": {},
   "outputs": [
    {
     "name": "stdout",
     "output_type": "stream",
     "text": [
      "\n",
      "[질문 내용]\n",
      "안녕하세요 을/를 경상도 사투리로 어떻게 말하나요?\n",
      "\n",
      "[사투리]\n",
      "잘 지내나\n",
      "\n",
      "\n",
      "\n",
      "[질문 내용]\n",
      "맛있게 먹어 을/를 경상도 사투리로 어떻게 말하나요?\n",
      "\n",
      "[사투리]\n",
      "마이 무라\n",
      "\n",
      "\n",
      "\n",
      "[질문 내용]\n",
      "지금 뭐하고 있어? 을/를 경상도 사투리로 어떻게 말하나요?\n",
      "\n",
      "[사투리]\n",
      "지금 뭐하노?\n",
      "\n",
      "\n",
      "\n",
      "[질문 내용]\n",
      "지금 뭐라고 하는거야? 을/를 경상도 사투리로 어떻게 말하나요?\n",
      "\n",
      "[사투리]\n",
      "뭐라카노\n",
      "\n",
      "\n",
      "질문 내용:\n",
      "    안녕하세요 지금 뭐하고 있어요?\n",
      "\n",
      "\n",
      "    사투리 :\n",
      "    \n"
     ]
    }
   ],
   "source": [
    "question = \"안녕하세요 지금 뭐하고 있어요?\"\n",
    "q_prompt = prompt_template.format(question=question)\n",
    "print(q_prompt)"
   ]
  },
  {
   "cell_type": "code",
   "execution_count": 15,
   "id": "0de9609e",
   "metadata": {},
   "outputs": [
    {
     "name": "stdout",
     "output_type": "stream",
     "text": [
      "안녕하세요 지금 뭐하고 있어요?  \n",
      "경상도 사투리:  \n",
      "잘 있나? 지금 뭐하노?\n"
     ]
    }
   ],
   "source": [
    "question = \"안녕하세요 지금 뭐하고 있어요?\"\n",
    "\n",
    "chain = prompt_template | model\n",
    "result = chain.invoke({'question' : question})\n",
    "print(result.content)"
   ]
  }
 ],
 "metadata": {
  "kernelspec": {
   "display_name": "2025_10_LLM",
   "language": "python",
   "name": "python3"
  },
  "language_info": {
   "codemirror_mode": {
    "name": "ipython",
    "version": 3
   },
   "file_extension": ".py",
   "mimetype": "text/x-python",
   "name": "python",
   "nbconvert_exporter": "python",
   "pygments_lexer": "ipython3",
   "version": "3.11.9"
  }
 },
 "nbformat": 4,
 "nbformat_minor": 5
}
