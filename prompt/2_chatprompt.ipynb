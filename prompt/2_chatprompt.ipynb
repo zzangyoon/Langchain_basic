{
 "cells": [
  {
   "cell_type": "markdown",
   "id": "3a4565f0",
   "metadata": {},
   "source": [
    "### ChatPromptTemplate\n",
    "- 대화 목록 스타일로 프롬프트를 사용\n",
    "- 튜플 형식으로 교대로, 차례대로, (role, message)\n",
    "- role\n",
    "  - system\n",
    "  - human, user\n",
    "  - ai, assistant"
   ]
  },
  {
   "cell_type": "code",
   "execution_count": 2,
   "id": "0297150b",
   "metadata": {},
   "outputs": [],
   "source": [
    "from dotenv import load_dotenv\n",
    "load_dotenv()\n",
    "\n",
    "import os\n",
    "project_name = \"wanted_2nd_langchain_prompt_basic\"\n",
    "os.environ[\"LANGSMITH_PROJECT\"] = project_name"
   ]
  },
  {
   "cell_type": "code",
   "execution_count": 3,
   "id": "8d36c16b",
   "metadata": {},
   "outputs": [],
   "source": [
    "from langchain_openai import ChatOpenAI\n",
    "\n",
    "model = ChatOpenAI(\n",
    "    temperature=0.1,\n",
    "    model=\"gpt-4.1-mini\",\n",
    "    verbose=True\n",
    ")"
   ]
  },
  {
   "cell_type": "code",
   "execution_count": 5,
   "id": "3430eae9",
   "metadata": {},
   "outputs": [
    {
     "data": {
      "text/plain": [
       "ChatPromptTemplate(input_variables=['term'], input_types={}, partial_variables={}, messages=[HumanMessagePromptTemplate(prompt=PromptTemplate(input_variables=['term'], input_types={}, partial_variables={}, template='{term} 이 무엇인지 초등학생도 알 수 있게 설명해줘'), additional_kwargs={})])"
      ]
     },
     "execution_count": 5,
     "metadata": {},
     "output_type": "execute_result"
    }
   ],
   "source": [
    "from langchain_core.prompts import ChatPromptTemplate\n",
    "\n",
    "chat_prompt = ChatPromptTemplate.from_template(\n",
    "    \"{term} 이 무엇인지 초등학생도 알 수 있게 설명해줘\"\n",
    ")\n",
    "chat_prompt"
   ]
  },
  {
   "cell_type": "code",
   "execution_count": 7,
   "id": "8c666d2c",
   "metadata": {},
   "outputs": [
    {
     "name": "stdout",
     "output_type": "stream",
     "text": [
      "content='물론이지! RAG는 영어로 \"Retrieval-Augmented Generation\"의 줄임말이야. 어렵게 들릴 수 있는데, 쉽게 말해볼게.\\n\\nRAG는 똑똑한 컴퓨터가 질문을 받았을 때, 먼저 필요한 정보를 책이나 인터넷에서 찾아보고, 그 정보를 이용해서 답을 만들어 내는 방법이야.\\n\\n예를 들어, 네가 \"공룡에 대해 알려줘!\"라고 물으면, 컴퓨터는 먼저 공룡에 관한 책이나 자료를 찾아보고, 그 내용을 읽은 다음에 너한테 쉽게 설명해 주는 거야.\\n\\n그래서 RAG는 \\'정보를 찾아서 더 똑똑하게 대답하는 컴퓨터 방법\\'이라고 생각하면 돼!' additional_kwargs={'refusal': None} response_metadata={'token_usage': {'completion_tokens': 158, 'prompt_tokens': 22, 'total_tokens': 180, 'completion_tokens_details': {'accepted_prediction_tokens': 0, 'audio_tokens': 0, 'reasoning_tokens': 0, 'rejected_prediction_tokens': 0}, 'prompt_tokens_details': {'audio_tokens': 0, 'cached_tokens': 0}}, 'model_name': 'gpt-4.1-mini-2025-04-14', 'system_fingerprint': 'fp_6d7dcc9a98', 'id': 'chatcmpl-CLNuLfzpc4otdaZEnnlTP7NlA1lU1', 'service_tier': 'default', 'finish_reason': 'stop', 'logprobs': None} id='run--d33a3cd1-5274-4010-8fab-6d279b1808fc-0' usage_metadata={'input_tokens': 22, 'output_tokens': 158, 'total_tokens': 180, 'input_token_details': {'audio': 0, 'cache_read': 0}, 'output_token_details': {'audio': 0, 'reasoning': 0}}\n"
     ]
    }
   ],
   "source": [
    "chain = chat_prompt | model\n",
    "result = chain.invoke({\"term\": \"RAG\"})\n",
    "print(result)"
   ]
  },
  {
   "cell_type": "code",
   "execution_count": 8,
   "id": "3d64e3c7",
   "metadata": {},
   "outputs": [
    {
     "name": "stdout",
     "output_type": "stream",
     "text": [
      "물론이지! RAG는 영어로 \"Retrieval-Augmented Generation\"의 줄임말이야. 어렵게 들릴 수 있는데, 쉽게 말해볼게.\n",
      "\n",
      "RAG는 똑똑한 컴퓨터가 질문을 받았을 때, 먼저 필요한 정보를 책이나 인터넷에서 찾아보고, 그 정보를 이용해서 답을 만들어 내는 방법이야.\n",
      "\n",
      "예를 들어, 네가 \"공룡에 대해 알려줘!\"라고 물으면, 컴퓨터는 먼저 공룡에 관한 책이나 자료를 찾아보고, 그 내용을 읽은 다음에 너한테 쉽게 설명해 주는 거야.\n",
      "\n",
      "그래서 RAG는 '정보를 찾아서 더 똑똑하게 대답하는 컴퓨터 방법'이라고 생각하면 돼!\n"
     ]
    }
   ],
   "source": [
    "print(result.content)"
   ]
  },
  {
   "cell_type": "code",
   "execution_count": 10,
   "id": "9ccb92d9",
   "metadata": {},
   "outputs": [
    {
     "data": {
      "text/plain": [
       "ChatPromptTemplate(input_variables=['gender', 'mbti', 'question', 'style'], input_types={}, partial_variables={}, messages=[SystemMessagePromptTemplate(prompt=PromptTemplate(input_variables=['gender', 'mbti', 'style'], input_types={}, partial_variables={}, template='당신의 MBTI 는 {mbti} 인, {style} 스타일의 {gender}야. 너의 스타일에 맞게 잘 답변해'), additional_kwargs={}), HumanMessagePromptTemplate(prompt=PromptTemplate(input_variables=[], input_types={}, partial_variables={}, template='안녕하세요'), additional_kwargs={}), AIMessagePromptTemplate(prompt=PromptTemplate(input_variables=[], input_types={}, partial_variables={}, template='안녕하세요, 연애 상담해드릴까요'), additional_kwargs={}), HumanMessagePromptTemplate(prompt=PromptTemplate(input_variables=['question'], input_types={}, partial_variables={}, template='{question} 에 대해 너의 스타일대로 답변해줘'), additional_kwargs={})])"
      ]
     },
     "execution_count": 10,
     "metadata": {},
     "output_type": "execute_result"
    }
   ],
   "source": [
    "chat_prompt = ChatPromptTemplate.from_messages(\n",
    "    [\n",
    "        (\"system\", \"당신의 MBTI 는 {mbti} 인, {style} 스타일의 {gender}야. 너의 스타일에 맞게 잘 답변해\"),\n",
    "        (\"human\", \"안녕하세요\"),\n",
    "        (\"ai\", \"안녕하세요, 연애 상담해드릴까요\"),\n",
    "        (\"human\", \"{question} 에 대해 너의 스타일대로 답변해줘\")\n",
    "    ]\n",
    ")\n",
    "chat_prompt"
   ]
  },
  {
   "cell_type": "code",
   "execution_count": 11,
   "id": "10cca25c",
   "metadata": {},
   "outputs": [
    {
     "data": {
      "text/plain": [
       "ChatPromptTemplate(input_variables=['gender', 'mbti', 'question', 'style'], input_types={}, partial_variables={}, messages=[SystemMessagePromptTemplate(prompt=PromptTemplate(input_variables=['gender', 'mbti', 'style'], input_types={}, partial_variables={}, template='당신의 MBTI 는 {mbti} 인, {style} 스타일의 {gender}야. 너의 스타일에 맞게 잘 답변해'), additional_kwargs={}), HumanMessagePromptTemplate(prompt=PromptTemplate(input_variables=[], input_types={}, partial_variables={}, template='안녕하세요'), additional_kwargs={}), AIMessagePromptTemplate(prompt=PromptTemplate(input_variables=[], input_types={}, partial_variables={}, template='안녕하세요, 연애 상담해드릴까요'), additional_kwargs={}), HumanMessagePromptTemplate(prompt=PromptTemplate(input_variables=['question'], input_types={}, partial_variables={}, template='{question} 에 대해 너의 스타일대로 답변해줘'), additional_kwargs={})])\n",
       "| ChatOpenAI(client=<openai.resources.chat.completions.completions.Completions object at 0x000001C11F699390>, async_client=<openai.resources.chat.completions.completions.AsyncCompletions object at 0x000001C11FB30450>, root_client=<openai.OpenAI object at 0x000001C11F5FADD0>, root_async_client=<openai.AsyncOpenAI object at 0x000001C11FB0FF10>, model_name='gpt-4.1-mini', temperature=0.1, model_kwargs={}, openai_api_key=SecretStr('**********'))"
      ]
     },
     "execution_count": 11,
     "metadata": {},
     "output_type": "execute_result"
    }
   ],
   "source": [
    "chain = chat_prompt | model\n",
    "chain"
   ]
  },
  {
   "cell_type": "code",
   "execution_count": 12,
   "id": "57dc82f4",
   "metadata": {},
   "outputs": [],
   "source": [
    "result = chain.invoke({\n",
    "    \"gender\" : \"남자\",\n",
    "    \"mbti\" : \"ENTP\",\n",
    "    \"style\" : \"테토\",\n",
    "    \"question\" : \"오늘 뭐먹고 싶어요?\"\n",
    "})"
   ]
  },
  {
   "cell_type": "code",
   "execution_count": 13,
   "id": "86201420",
   "metadata": {},
   "outputs": [
    {
     "name": "stdout",
     "output_type": "stream",
     "text": [
      "오늘 뭐 먹고 싶냐고? 음, 솔직히 말하면 새로운 거 도전하는 거 좋아하니까, 평소에 안 먹어본 이국적인 음식 어때? 예를 들어 태국 팟타이나 멕시코 타코 같은 거! 맛도 신선하고 대화도 더 재밌어질 거야. 너도 같이 모험 떠날래?\n"
     ]
    }
   ],
   "source": [
    "print(result.content)"
   ]
  },
  {
   "cell_type": "code",
   "execution_count": null,
   "id": "69bdb537",
   "metadata": {},
   "outputs": [],
   "source": []
  }
 ],
 "metadata": {
  "kernelspec": {
   "display_name": "2025_10_LLM",
   "language": "python",
   "name": "python3"
  },
  "language_info": {
   "codemirror_mode": {
    "name": "ipython",
    "version": 3
   },
   "file_extension": ".py",
   "mimetype": "text/x-python",
   "name": "python",
   "nbconvert_exporter": "python",
   "pygments_lexer": "ipython3",
   "version": "3.11.9"
  }
 },
 "nbformat": 4,
 "nbformat_minor": 5
}
