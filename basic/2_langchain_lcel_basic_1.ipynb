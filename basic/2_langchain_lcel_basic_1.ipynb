{
 "cells": [
  {
   "cell_type": "markdown",
   "id": "6dec89cb",
   "metadata": {},
   "source": [
    "### 1. LCEL 의 기본 구조를 배워봅시다\n",
    "1. 프롬프트 템플릿\n",
    "2. 모델\n",
    "3. 출력 형태"
   ]
  },
  {
   "cell_type": "code",
   "execution_count": 1,
   "id": "17214760",
   "metadata": {},
   "outputs": [],
   "source": [
    "from dotenv import load_dotenv\n",
    "load_dotenv()\n",
    "\n",
    "import os\n",
    "project_name = \"wanted_2nd_langchain_basic\"\n",
    "os.environ[\"LANGSMITH_PROJECT\"] = project_name"
   ]
  },
  {
   "cell_type": "markdown",
   "id": "56d8d115",
   "metadata": {},
   "source": [
    "### 1. 프롬프트 템플릿 설정하기"
   ]
  },
  {
   "cell_type": "code",
   "execution_count": 2,
   "id": "c24516e9",
   "metadata": {},
   "outputs": [
    {
     "data": {
      "text/plain": [
       "PromptTemplate(input_variables=['year'], input_types={}, partial_variables={}, template='최근 {year}년 동안 한국에 오는 관광객 수는?')"
      ]
     },
     "execution_count": 2,
     "metadata": {},
     "output_type": "execute_result"
    }
   ],
   "source": [
    "from langchain_core.prompts import PromptTemplate\n",
    "\n",
    "template = \"최근 {year}년 동안 한국에 오는 관광객 수는?\"\n",
    "prompt_template = PromptTemplate.from_template(template)\n",
    "prompt_template"
   ]
  },
  {
   "cell_type": "code",
   "execution_count": 3,
   "id": "ce09d019",
   "metadata": {},
   "outputs": [
    {
     "data": {
      "text/plain": [
       "'최근 5년 동안 한국에 오는 관광객 수는?'"
      ]
     },
     "execution_count": 3,
     "metadata": {},
     "output_type": "execute_result"
    }
   ],
   "source": [
    "prompt_template.format(year=5)"
   ]
  },
  {
   "cell_type": "markdown",
   "id": "520fc2e2",
   "metadata": {},
   "source": [
    "### 2. 모델 선택하기"
   ]
  },
  {
   "cell_type": "code",
   "execution_count": 4,
   "id": "6382176a",
   "metadata": {},
   "outputs": [],
   "source": [
    "from langchain_openai import ChatOpenAI\n",
    "\n",
    "model = ChatOpenAI(\n",
    "    temperature=0.1,\n",
    "    model=\"gpt-4.1-mini\",\n",
    "    verbose=True\n",
    ")"
   ]
  },
  {
   "cell_type": "code",
   "execution_count": 5,
   "id": "6e7055df",
   "metadata": {},
   "outputs": [
    {
     "data": {
      "text/plain": [
       "PromptTemplate(input_variables=['year'], input_types={}, partial_variables={}, template='최근 {year}년 동안 한국에 오는 관광객 수는?')\n",
       "| ChatOpenAI(client=<openai.resources.chat.completions.completions.Completions object at 0x00000222F2999A10>, async_client=<openai.resources.chat.completions.completions.AsyncCompletions object at 0x00000222F2A93650>, root_client=<openai.OpenAI object at 0x00000222F259C150>, root_async_client=<openai.AsyncOpenAI object at 0x00000222F2A931D0>, model_name='gpt-4.1-mini', temperature=0.1, model_kwargs={}, openai_api_key=SecretStr('**********'))"
      ]
     },
     "execution_count": 5,
     "metadata": {},
     "output_type": "execute_result"
    }
   ],
   "source": [
    "chain = prompt_template | model\n",
    "chain"
   ]
  },
  {
   "cell_type": "code",
   "execution_count": 6,
   "id": "d01b38d1",
   "metadata": {},
   "outputs": [
    {
     "name": "stdout",
     "output_type": "stream",
     "text": [
      "최근 3년 동안 한국에 방문한 관광객 수에 대한 정확한 통계는 연도별로 다르며, 특히 코로나19 팬데믹의 영향으로 큰 변동이 있었습니다. 아래는 대략적인 추세와 주요 통계입니다.\n",
      "\n",
      "1. **2019년**  \n",
      "   - 코로나19 이전 마지막 정상적인 해로, 한국을 방문한 외국인 관광객 수는 약 **1,740만 명** 정도였습니다.  \n",
      "   - 중국, 일본, 동남아시아 국가 등에서 많은 관광객이 방문했습니다.\n",
      "\n",
      "2. **2020년**  \n",
      "   - 코로나19 팬데믹으로 인해 국제 여행이 급격히 감소하면서 관광객 수가 크게 줄었습니다.  \n",
      "   - 약 **250만 명** 내외로 추산됩니다.\n",
      "\n",
      "3. **2021년**  \n",
      "   - 팬데믹 상황이 지속되면서 관광객 수는 여전히 매우 낮았습니다.  \n",
      "   - 약 **100만 명 이하**로 추정됩니다.\n",
      "\n",
      "4. **2022년**  \n",
      "   - 백신 접종 확대와 방역 완화 조치로 인해 관광객 수가 점차 회복되기 시작했습니다.  \n",
      "   - 약 **300만 명 이상**으로 증가했으나, 팬데믹 이전 수준에는 미치지 못했습니다.\n",
      "\n",
      "정확한 최신 통계는 한국관광공사(KTO)나 통계청의 공식 발표 자료를 참고하는 것이 좋습니다. 필요하시면 해당 기관의 최신 보고서 링크도 안내해 드릴 수 있습니다.\n"
     ]
    }
   ],
   "source": [
    "input = {\"year\" : 3}\n",
    "answer = chain.invoke(input)\n",
    "print(answer.content)"
   ]
  },
  {
   "cell_type": "code",
   "execution_count": 7,
   "id": "3a524c1c",
   "metadata": {},
   "outputs": [
    {
     "data": {
      "text/plain": [
       "AIMessage(content='최근 3년 동안 한국에 방문한 관광객 수에 대한 정확한 통계는 연도별로 다르며, 특히 코로나19 팬데믹의 영향으로 큰 변동이 있었습니다. 아래는 대략적인 추세와 주요 통계입니다.\\n\\n1. **2019년**  \\n   - 코로나19 이전 마지막 정상적인 해로, 한국을 방문한 외국인 관광객 수는 약 **1,740만 명** 정도였습니다.  \\n   - 중국, 일본, 동남아시아 국가 등에서 많은 관광객이 방문했습니다.\\n\\n2. **2020년**  \\n   - 코로나19 팬데믹으로 인해 국제 여행이 급격히 감소하면서 관광객 수가 크게 줄었습니다.  \\n   - 약 **250만 명** 내외로 추산됩니다.\\n\\n3. **2021년**  \\n   - 팬데믹 상황이 지속되면서 관광객 수는 여전히 매우 낮았습니다.  \\n   - 약 **100만 명 이하**로 추정됩니다.\\n\\n4. **2022년**  \\n   - 백신 접종 확대와 방역 완화 조치로 인해 관광객 수가 점차 회복되기 시작했습니다.  \\n   - 약 **300만 명 이상**으로 증가했으나, 팬데믹 이전 수준에는 미치지 못했습니다.\\n\\n정확한 최신 통계는 한국관광공사(KTO)나 통계청의 공식 발표 자료를 참고하는 것이 좋습니다. 필요하시면 해당 기관의 최신 보고서 링크도 안내해 드릴 수 있습니다.', additional_kwargs={'refusal': None}, response_metadata={'token_usage': {'completion_tokens': 327, 'prompt_tokens': 20, 'total_tokens': 347, 'completion_tokens_details': {'accepted_prediction_tokens': 0, 'audio_tokens': 0, 'reasoning_tokens': 0, 'rejected_prediction_tokens': 0}, 'prompt_tokens_details': {'audio_tokens': 0, 'cached_tokens': 0}}, 'model_name': 'gpt-4.1-mini-2025-04-14', 'system_fingerprint': 'fp_6d7dcc9a98', 'id': 'chatcmpl-CLKZBZi3ytidp1RsLdCveUKVX9qIX', 'service_tier': 'default', 'finish_reason': 'stop', 'logprobs': None}, id='run--87030d64-93cf-4436-9e9e-d6fe1c986b8d-0', usage_metadata={'input_tokens': 20, 'output_tokens': 327, 'total_tokens': 347, 'input_token_details': {'audio': 0, 'cache_read': 0}, 'output_token_details': {'audio': 0, 'reasoning': 0}})"
      ]
     },
     "execution_count": 7,
     "metadata": {},
     "output_type": "execute_result"
    }
   ],
   "source": [
    "answer"
   ]
  },
  {
   "cell_type": "markdown",
   "id": "614dd96a",
   "metadata": {},
   "source": [
    "### 3. 출력 양식 정해보기\n",
    "- Stroutputparser\n",
    "- jsonoutputparser\n",
    "- pydanticoutputparser\n",
    "- commaseperateoutputparser"
   ]
  },
  {
   "cell_type": "code",
   "execution_count": 8,
   "id": "4db42cbf",
   "metadata": {},
   "outputs": [
    {
     "name": "stdout",
     "output_type": "stream",
     "text": [
      "최근 2년 동안 한국을 방문한 관광객 수에 대한 최신 통계는 2022년과 2023년 데이터를 참고해야 합니다. \n",
      "\n",
      "- 2022년: 코로나19 팬데믹 이후 방역 완화와 국제 여행 재개로 인해 관광객 수가 크게 증가했습니다. 한국관광공사에 따르면 2022년 외국인 관광객 수는 약 1,000만 명 수준으로 회복되었습니다.\n",
      "- 2023년: 2023년에는 관광 수요가 더욱 회복되어 1,500만 명 이상으로 증가한 것으로 추정됩니다.\n",
      "\n",
      "정확한 수치는 한국관광공사나 통계청의 공식 발표 자료를 참고하는 것이 좋습니다. 필요하시면 최신 공식 통계 링크나 자료를 찾아드릴 수 있습니다.\n"
     ]
    }
   ],
   "source": [
    "from langchain_core.output_parsers import StrOutputParser\n",
    "\n",
    "outputparser = StrOutputParser()\n",
    "\n",
    "chain = prompt_template | model | outputparser\n",
    "\n",
    "input = {\"year\" : 2}\n",
    "answer = chain.invoke(input)\n",
    "print(answer)"
   ]
  },
  {
   "cell_type": "markdown",
   "id": "8c023148",
   "metadata": {},
   "source": [
    "# 실습\n",
    "- 각자 알아서 질문 주제 정하고\n",
    "- 프롬프트 템플릿을 좀 더 자세하게 작성해보기"
   ]
  },
  {
   "cell_type": "code",
   "execution_count": null,
   "id": "d5f5ce0d",
   "metadata": {},
   "outputs": [],
   "source": [
    "# 템플릿을 좀 더 자세하게 설정해보기 - 1\n",
    "template = \"\"\"\n",
    "당신은 영어를 가르치는 10년차 영어 선생님입니다. \n",
    "학생들을 위한 영어 연습 자료를 만들어주세요\n",
    "주어진 상황에 맞게 영어 지문을 작성해주세요\n",
    "양식은 [FORMAT]을 참고하여 작성해주세요\n",
    "\n",
    "#상황:\n",
    "{situation}\n",
    "\n",
    "#FORMAT:\n",
    "- 영어 지문:\n",
    "- 영어 문제:\n",
    "- 한글 해석:\n",
    "- 정답:\n",
    "\"\"\"\n",
    "\n",
    "prompt = PromptTemplate.from_template(template)\n",
    "\n",
    "en_chain = prompt | model | outputparser\n",
    "answer = en_chain.invoke({\"situation\": \"학교 친구들끼리 주먹질하며 싸웠다\"})\n",
    "print(answer)"
   ]
  }
 ],
 "metadata": {
  "kernelspec": {
   "display_name": "2025_10_LLM",
   "language": "python",
   "name": "python3"
  },
  "language_info": {
   "codemirror_mode": {
    "name": "ipython",
    "version": 3
   },
   "file_extension": ".py",
   "mimetype": "text/x-python",
   "name": "python",
   "nbconvert_exporter": "python",
   "pygments_lexer": "ipython3",
   "version": "3.11.9"
  }
 },
 "nbformat": 4,
 "nbformat_minor": 5
}
