{
 "cells": [
  {
   "cell_type": "markdown",
   "id": "e4fedee7",
   "metadata": {},
   "source": [
    "### 랭스미스 추적 설정"
   ]
  },
  {
   "cell_type": "code",
   "execution_count": 3,
   "id": "cdafe411",
   "metadata": {},
   "outputs": [],
   "source": [
    "from dotenv import load_dotenv\n",
    "load_dotenv()\n",
    "\n",
    "import os\n",
    "project_name = \"wanted_2nd_langchain_basic\"\n",
    "os.environ[\"LANGSMITH_PROJECT\"] = project_name"
   ]
  },
  {
   "cell_type": "markdown",
   "id": "41784c01",
   "metadata": {},
   "source": [
    "### 연결 확인"
   ]
  },
  {
   "cell_type": "code",
   "execution_count": 4,
   "id": "56d11505",
   "metadata": {},
   "outputs": [],
   "source": [
    "from langchain_openai import ChatOpenAI\n",
    "\n",
    "model = ChatOpenAI(\n",
    "    temperature=0.1,\n",
    "    model=\"gpt-4.1-mini\",\n",
    "    verbose=True\n",
    ")"
   ]
  },
  {
   "cell_type": "code",
   "execution_count": 5,
   "id": "d6d8538e",
   "metadata": {},
   "outputs": [],
   "source": [
    "question = \"일년에 한국에 오는 관광객 수는?\"\n",
    "\n",
    "response = model.invoke(question)"
   ]
  },
  {
   "cell_type": "code",
   "execution_count": 7,
   "id": "d50d6065",
   "metadata": {},
   "outputs": [
    {
     "name": "stdout",
     "output_type": "stream",
     "text": [
      "한국을 방문하는 연간 관광객 수는 해마다 변동이 있지만, 최근 몇 년간의 데이터를 참고하면 대략적인 추정을 할 수 있습니다.\n",
      "\n",
      "- 2019년: 약 1,750만 명의 외국인 관광객이 한국을 방문했습니다. 이는 코로나19 팬데믹 이전의 최고 기록 중 하나입니다.\n",
      "- 2020년~2021년: 코로나19 팬데믹으로 인해 관광객 수가 급감하여 수백만 명 수준으로 떨어졌습니다.\n",
      "- 2022년 이후: 방역 완화와 국제 여행 재개로 관광객 수가 점차 회복되고 있습니다.\n",
      "\n",
      "정확한 최신 수치는 한국관광공사(KTO)나 통계청의 공식 발표 자료를 참고하는 것이 좋습니다.\n"
     ]
    }
   ],
   "source": [
    "print(response.content)"
   ]
  },
  {
   "cell_type": "code",
   "execution_count": 9,
   "id": "08b3229a",
   "metadata": {},
   "outputs": [
    {
     "data": {
      "text/plain": [
       "{'token_usage': {'completion_tokens': 166,\n",
       "  'prompt_tokens': 17,\n",
       "  'total_tokens': 183,\n",
       "  'completion_tokens_details': {'accepted_prediction_tokens': 0,\n",
       "   'audio_tokens': 0,\n",
       "   'reasoning_tokens': 0,\n",
       "   'rejected_prediction_tokens': 0},\n",
       "  'prompt_tokens_details': {'audio_tokens': 0, 'cached_tokens': 0}},\n",
       " 'model_name': 'gpt-4.1-mini-2025-04-14',\n",
       " 'system_fingerprint': 'fp_6d7dcc9a98',\n",
       " 'id': 'chatcmpl-CLKAC2iaVL8xsq0Ob0SiO6245u1pd',\n",
       " 'service_tier': 'default',\n",
       " 'finish_reason': 'stop',\n",
       " 'logprobs': None}"
      ]
     },
     "execution_count": 9,
     "metadata": {},
     "output_type": "execute_result"
    }
   ],
   "source": [
    "response.response_metadata"
   ]
  },
  {
   "cell_type": "markdown",
   "id": "928aad43",
   "metadata": {},
   "source": [
    "### 스트리밍 출력"
   ]
  },
  {
   "cell_type": "code",
   "execution_count": 10,
   "id": "37deb4ee",
   "metadata": {},
   "outputs": [
    {
     "name": "stdout",
     "output_type": "stream",
     "text": [
      "2023년 기준으로, 한국을 방문하는 연간 관광객 수는 약 2,000만 명 내외로 추정됩니다. 다만, 코로나19 팬데믹 이전인 2019년에는 약 1,700만 명 이상의 외국인 관광객이 한국을 방문했으며, 팬데믹 이후 점차 회복세를 보이고 있습니다.\n",
      "\n",
      "정확한 최신 통계는 한국관광공사(KTO)나 통계청의 공식 자료를 참고하는 것이 좋습니다. 필요하시면 최신 자료를 찾아드릴 수도 있습니다."
     ]
    }
   ],
   "source": [
    "answer = model.stream(question)\n",
    "\n",
    "for token in answer:\n",
    "    print(token.content, end=\"\", flush=True)"
   ]
  },
  {
   "cell_type": "code",
   "execution_count": null,
   "id": "0b26e748",
   "metadata": {},
   "outputs": [],
   "source": []
  }
 ],
 "metadata": {
  "kernelspec": {
   "display_name": "2025_10_LLM",
   "language": "python",
   "name": "python3"
  },
  "language_info": {
   "codemirror_mode": {
    "name": "ipython",
    "version": 3
   },
   "file_extension": ".py",
   "mimetype": "text/x-python",
   "name": "python",
   "nbconvert_exporter": "python",
   "pygments_lexer": "ipython3",
   "version": "3.11.9"
  }
 },
 "nbformat": 4,
 "nbformat_minor": 5
}
