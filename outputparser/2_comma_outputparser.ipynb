{
 "cells": [
  {
   "cell_type": "code",
   "execution_count": 3,
   "id": "a272c27e",
   "metadata": {},
   "outputs": [],
   "source": [
    "from dotenv import load_dotenv\n",
    "load_dotenv()\n",
    "\n",
    "import os\n",
    "project_name = \"wanted_2nd_langchain_outputparser_basic\"\n",
    "os.environ[\"LANGSMITH_PROJECT\"] = project_name"
   ]
  },
  {
   "cell_type": "code",
   "execution_count": 4,
   "id": "03b05c99",
   "metadata": {},
   "outputs": [],
   "source": [
    "from langchain_openai import ChatOpenAI\n",
    "\n",
    "model = ChatOpenAI(\n",
    "    temperature=0.1,\n",
    "    model=\"gpt-4.1-mini\",\n",
    "    verbose=True\n",
    ")"
   ]
  },
  {
   "cell_type": "code",
   "execution_count": null,
   "id": "37d28faf",
   "metadata": {},
   "outputs": [],
   "source": [
    "from langchain_core.output_parsers import CommaSeparatedListOutputParser\n",
    "from langchain_core.prompts import ChatPromptTemplate\n",
    "parser = CommaSeparatedListOutputParser()\n",
    "prompt = ChatPromptTemplate.from_template(\n",
    "    template=\"\"\"\n",
    "        제품 리뷰 내용 중에서 핵심 키워드를 5가지 정도 뽑아서 콤마로 구분해서 나열하라\n",
    "        {text}    \n",
    "    \"\"\"\n",
    ")\n",
    "\n",
    "text = \"\"\"\n",
    "    버튼 하나로 부드럽고 쫀쫀한 거품\n",
    "\n",
    "    디자인&컬러 깔끔하고 간편한 조작으로 사용하기는 쉽네요.\n",
    "    거품기 부품 스프링까지 쉽게 분리되어 세척이 간편하고 위생적이다.\n",
    "    우유는 눈금선까지 넣을 경우 100ml 사용된다.\n",
    "\n",
    "    사실 밀크프로더 사용 경험이 없어서 많이 설레였는데,\n",
    "    정말 단순.\n",
    "    중앙 버튼을 1초 누르면 따뜻한 거품,\n",
    "    3초 누르면 차가운 거품을 만들 수 있어요.\n",
    "\n",
    "    거품 만들기 시작을 누른 후에 자동 정지는 없고 적당한 선에서 다시 시작 버튼을 눌러줘야 되네요.\n",
    "\n",
    "    설명서가 초간단이라서 조금 아쉽네요.\n",
    "    시작 누르고 몇 초 후 정지를 눌러야 할지 반복적인 사용으로 터득해야 할 것 같네요.\n",
    "    거품은 쫀쫀하고 실키해요~bb\n",
    "\n",
    "    라떼고 자동 머신에서 카푸치노 만들어 마시다가\n",
    "    직접 만들었더니 조금 번거롭지만\n",
    "    요 이쁜놈 장식품되지 않게 자주 사용해보고\n",
    "    좋은 TIP 터득하면 한 달 후기 써볼까?\n",
    "    생각 중...\n",
    "\n",
    "    타브랜드에 비해 가격은 좀 비싸지만\n",
    "    성능이 중요하지!\n",
    "    디자인도 이쁨!\n",
    "\n",
    "    별 한 개 뺀 것은,\n",
    "    사용방법 설명이 자세하지 않고,\n",
    "    택배 걸 포장이 비닐이라서 안전 배송에 염려 됨.\n",
    "\n",
    "    가성비 성능에 비해 비싸요\n",
    "    성능 기대 이상 뛰어났어요\n",
    "    조작 편리성 조작이 직관적이에요\n",
    "\"\"\""
   ]
  },
  {
   "cell_type": "code",
   "execution_count": 5,
   "id": "fb24b611",
   "metadata": {},
   "outputs": [],
   "source": [
    "chain = prompt | model | parser\n",
    "result = chain.invoke({\"text\" : text})"
   ]
  },
  {
   "cell_type": "code",
   "execution_count": 6,
   "id": "69029da4",
   "metadata": {},
   "outputs": [
    {
     "data": {
      "text/plain": [
       "['부드러운 거품', '간편한 조작', '세척 용이', '디자인 깔끔', '성능 우수']"
      ]
     },
     "execution_count": 6,
     "metadata": {},
     "output_type": "execute_result"
    }
   ],
   "source": [
    "result"
   ]
  }
 ],
 "metadata": {
  "kernelspec": {
   "display_name": "Langchain_basic",
   "language": "python",
   "name": "python3"
  },
  "language_info": {
   "codemirror_mode": {
    "name": "ipython",
    "version": 3
   },
   "file_extension": ".py",
   "mimetype": "text/x-python",
   "name": "python",
   "nbconvert_exporter": "python",
   "pygments_lexer": "ipython3",
   "version": "3.11.13"
  }
 },
 "nbformat": 4,
 "nbformat_minor": 5
}
