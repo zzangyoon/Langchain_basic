{
 "cells": [
  {
   "cell_type": "code",
   "execution_count": null,
   "id": "2e88ee7a",
   "metadata": {},
   "outputs": [],
   "source": [
    "from dotenv import load_dotenv\n",
    "load_dotenv()\n",
    "\n",
    "import os\n",
    "project_name = \"wanted_2nd_langchain_outputparser_basic\"\n",
    "os.environ[\"LANGSMITH_PROJECT\"] = project_name"
   ]
  },
  {
   "cell_type": "code",
   "execution_count": 2,
   "id": "2c1b32e5",
   "metadata": {},
   "outputs": [],
   "source": [
    "from langchain_openai import ChatOpenAI\n",
    "\n",
    "model = ChatOpenAI(\n",
    "    temperature=0.1,\n",
    "    model=\"gpt-4.1-mini\",\n",
    "    verbose=True\n",
    ")"
   ]
  },
  {
   "cell_type": "code",
   "execution_count": null,
   "id": "d8d80bc9",
   "metadata": {},
   "outputs": [
    {
     "data": {
      "text/plain": [
       "ChatPromptTemplate(input_variables=['text'], input_types={}, partial_variables={}, messages=[HumanMessagePromptTemplate(prompt=PromptTemplate(input_variables=['text'], input_types={}, partial_variables={}, template='\\n    오직 JSON 문자열만 출력 해라. 코드블록 금지\\n    키 : {{\"title\" : str, \"bullets\" : list[str], \"tone\" : \"neutral | positive | negative\"}}\\n    {text}\\n'), additional_kwargs={})])\n",
       "| ChatOpenAI(client=<openai.resources.chat.completions.completions.Completions object at 0x000001D4EF7BB250>, async_client=<openai.resources.chat.completions.completions.AsyncCompletions object at 0x000001D4EFC23F90>, root_client=<openai.OpenAI object at 0x000001D4EF708790>, root_async_client=<openai.AsyncOpenAI object at 0x000001D4EFC23A90>, model_name='gpt-4.1-mini', temperature=0.1, model_kwargs={}, openai_api_key=SecretStr('**********'))\n",
       "| JsonOutputParser()"
      ]
     },
     "execution_count": 3,
     "metadata": {},
     "output_type": "execute_result"
    }
   ],
   "source": [
    "from langchain_core.output_parsers import JsonOutputParser\n",
    "from langchain_core.prompts import ChatPromptTemplate\n",
    "\n",
    "json_parser = JsonOutputParser()\n",
    "\n",
    "template = \"\"\"\n",
    "    오직 JSON 문자열만 출력 해라. 코드블록 금지\n",
    "    키 : {{\"title\" : str, \"bullets\" : list[str], \"tone\" : \"neutral | positive | negative\"}}\n",
    "    {text}\n",
    "\"\"\"\n",
    "\n",
    "prompt_template = ChatPromptTemplate.from_template(\n",
    "    template = template\n",
    ")\n",
    "\n",
    "chain = prompt_template | model | json_parser\n",
    "chain"
   ]
  },
  {
   "cell_type": "code",
   "execution_count": 4,
   "id": "559c7f6d",
   "metadata": {},
   "outputs": [],
   "source": [
    "text = \"\"\"\n",
    "오늘 아침에 프로젝트 마감이 임박했는데도 불구하고 팀원들과의 긴밀한 협력 덕분에 무사히 작업을 완료할 수 있었습니다. 특히 김 대리님의 자료 분석 능력이 빛을 발했고, 모두가 어려운 상황 속에서도 긍정적인 태도를 잃지 않았습니다. 이 성과를 바탕으로 다음 프로젝트도 성공적으로 이끌어낼 수 있을 거라는 확신이 듭니다\n",
    "\"\"\"\n",
    "result = chain.invoke({\"text\" : text})"
   ]
  },
  {
   "cell_type": "code",
   "execution_count": 5,
   "id": "1c1b6be2",
   "metadata": {},
   "outputs": [
    {
     "data": {
      "text/plain": [
       "{'title': '프로젝트 마감 성공',\n",
       " 'bullets': ['프로젝트 마감 임박 상황에서도 팀원들과 긴밀히 협력함',\n",
       "  '김 대리님의 뛰어난 자료 분석 능력 발휘',\n",
       "  '어려운 상황 속에서도 긍정적인 태도 유지',\n",
       "  '이번 성과를 바탕으로 다음 프로젝트 성공 기대'],\n",
       " 'tone': 'positive'}"
      ]
     },
     "execution_count": 5,
     "metadata": {},
     "output_type": "execute_result"
    }
   ],
   "source": [
    "result"
   ]
  },
  {
   "cell_type": "code",
   "execution_count": 6,
   "id": "3a64935a",
   "metadata": {},
   "outputs": [
    {
     "name": "stdout",
     "output_type": "stream",
     "text": [
      "<class 'dict'>\n"
     ]
    }
   ],
   "source": [
    "print(type(result))"
   ]
  }
 ],
 "metadata": {
  "kernelspec": {
   "display_name": "Langchain_basic",
   "language": "python",
   "name": "python3"
  },
  "language_info": {
   "codemirror_mode": {
    "name": "ipython",
    "version": 3
   },
   "file_extension": ".py",
   "mimetype": "text/x-python",
   "name": "python",
   "nbconvert_exporter": "python",
   "pygments_lexer": "ipython3",
   "version": "3.11.13"
  }
 },
 "nbformat": 4,
 "nbformat_minor": 5
}
